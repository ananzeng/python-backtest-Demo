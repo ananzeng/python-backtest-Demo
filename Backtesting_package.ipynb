{
 "cells": [
  {
   "cell_type": "code",
   "execution_count": null,
   "metadata": {},
   "outputs": [
    {
     "name": "stderr",
     "output_type": "stream",
     "text": [
      "/Users/liantseng/Desktop/udemy/venv/lib/python3.13/site-packages/backtesting/_plotting.py:55: UserWarning: Jupyter Notebook detected. Setting Bokeh output to notebook. This may not work in Jupyter clients without JavaScript support, such as old IDEs. Reset with `backtesting.set_bokeh_output(notebook=False)`.\n",
      "  warnings.warn('Jupyter Notebook detected. '\n"
     ]
    },
    {
     "data": {
      "text/html": [
       "    <style>\n",
       "        .bk-notebook-logo {\n",
       "            display: block;\n",
       "            width: 20px;\n",
       "            height: 20px;\n",
       "            background-image: url(data:image/png;base64,iVBORw0KGgoAAAANSUhEUgAAABQAAAAUCAYAAACNiR0NAAAABHNCSVQICAgIfAhkiAAAAAlwSFlzAAALEgAACxIB0t1+/AAAABx0RVh0U29mdHdhcmUAQWRvYmUgRmlyZXdvcmtzIENTNui8sowAAAOkSURBVDiNjZRtaJVlGMd/1/08zzln5zjP1LWcU9N0NkN8m2CYjpgQYQXqSs0I84OLIC0hkEKoPtiH3gmKoiJDU7QpLgoLjLIQCpEsNJ1vqUOdO7ppbuec5+V+rj4ctwzd8IIbbi6u+8f1539dt3A78eXC7QizUF7gyV1fD1Yqg4JWz84yffhm0qkFqBogB9rM8tZdtwVsPUhWhGcFJngGeWrPzHm5oaMmkfEg1usvLFyc8jLRqDOMru7AyC8saQr7GG7f5fvDeH7Ej8CM66nIF+8yngt6HWaKh7k49Soy9nXurCi1o3qUbS3zWfrYeQDTB/Qj6kX6Ybhw4B+bOYoLKCC9H3Nu/leUTZ1JdRWkkn2ldcCamzrcf47KKXdAJllSlxAOkRgyHsGC/zRday5Qld9DyoM4/q/rUoy/CXh3jzOu3bHUVZeU+DEn8FInkPBFlu3+nW3Nw0mk6vCDiWg8CeJaxEwuHS3+z5RgY+YBR6V1Z1nxSOfoaPa4LASWxxdNp+VWTk7+4vzaou8v8PN+xo+KY2xsw6une2frhw05CTYOmQvsEhjhWjn0bmXPjpE1+kplmmkP3suftwTubK9Vq22qKmrBhpY4jvd5afdRA3wGjFAgcnTK2s4hY0/GPNIb0nErGMCRxWOOX64Z8RAC4oCXdklmEvcL8o0BfkNK4lUg9HTl+oPlQxdNo3Mg4Nv175e/1LDGzZen30MEjRUtmXSfiTVu1kK8W4txyV6BMKlbgk3lMwYCiusNy9fVfvvwMxv8Ynl6vxoByANLTWplvuj/nF9m2+PDtt1eiHPBr1oIfhCChQMBw6Aw0UulqTKZdfVvfG7VcfIqLG9bcldL/+pdWTLxLUy8Qq38heUIjh4XlzZxzQm19lLFlr8vdQ97rjZVOLf8nclzckbcD4wxXMidpX30sFd37Fv/GtwwhzhxGVAprjbg0gCAEeIgwCZyTV2Z1REEW8O4py0wsjeloKoMr6iCY6dP92H6Vw/oTyICIthibxjm/DfN9lVz8IqtqKYLUXfoKVMVQVVJOElGjrnnUt9T9wbgp8AyYKaGlqingHZU/uG2NTZSVqwHQTWkx9hxjkpWDaCg6Ckj5qebgBVbT3V3NNXMSiWSDdGV3hrtzla7J+duwPOToIg42ChPQOQjspnSlp1V+Gjdged7+8UN5CRAV7a5EdFNwCjEaBR27b3W890TE7g24NAP/mMDXRWrGoFPQI9ls/MWO2dWFAar/xcOIImbbpA3zgAAAABJRU5ErkJggg==);\n",
       "        }\n",
       "    </style>\n",
       "    <div>\n",
       "        <a href=\"https://bokeh.org\" target=\"_blank\" class=\"bk-notebook-logo\"></a>\n",
       "        <span id=\"cb56e211-074d-49ce-9c86-d0e7568d90c3\">Loading BokehJS ...</span>\n",
       "    </div>\n"
      ]
     },
     "metadata": {},
     "output_type": "display_data"
    },
    {
     "data": {
      "application/javascript": "'use strict';\n(function(root) {\n  function now() {\n    return new Date();\n  }\n\n  const force = true;\n\n  if (typeof root._bokeh_onload_callbacks === \"undefined\" || force === true) {\n    root._bokeh_onload_callbacks = [];\n    root._bokeh_is_loading = undefined;\n  }\n\nconst JS_MIME_TYPE = 'application/javascript';\n  const HTML_MIME_TYPE = 'text/html';\n  const EXEC_MIME_TYPE = 'application/vnd.bokehjs_exec.v0+json';\n  const CLASS_NAME = 'output_bokeh rendered_html';\n\n  /**\n   * Render data to the DOM node\n   */\n  function render(props, node) {\n    const script = document.createElement(\"script\");\n    node.appendChild(script);\n  }\n\n  /**\n   * Handle when an output is cleared or removed\n   */\n  function handleClearOutput(event, handle) {\n    function drop(id) {\n      const view = Bokeh.index.get_by_id(id)\n      if (view != null) {\n        view.model.document.clear()\n        Bokeh.index.delete(view)\n      }\n    }\n\n    const cell = handle.cell;\n\n    const id = cell.output_area._bokeh_element_id;\n    const server_id = cell.output_area._bokeh_server_id;\n\n    // Clean up Bokeh references\n    if (id != null) {\n      drop(id)\n    }\n\n    if (server_id !== undefined) {\n      // Clean up Bokeh references\n      const cmd_clean = \"from bokeh.io.state import curstate; print(curstate().uuid_to_server['\" + server_id + \"'].get_sessions()[0].document.roots[0]._id)\";\n      cell.notebook.kernel.execute(cmd_clean, {\n        iopub: {\n          output: function(msg) {\n            const id = msg.content.text.trim()\n            drop(id)\n          }\n        }\n      });\n      // Destroy server and session\n      const cmd_destroy = \"import bokeh.io.notebook as ion; ion.destroy_server('\" + server_id + \"')\";\n      cell.notebook.kernel.execute(cmd_destroy);\n    }\n  }\n\n  /**\n   * Handle when a new output is added\n   */\n  function handleAddOutput(event, handle) {\n    const output_area = handle.output_area;\n    const output = handle.output;\n\n    // limit handleAddOutput to display_data with EXEC_MIME_TYPE content only\n    if ((output.output_type != \"display_data\") || (!Object.prototype.hasOwnProperty.call(output.data, EXEC_MIME_TYPE))) {\n      return\n    }\n\n    const toinsert = output_area.element.find(\".\" + CLASS_NAME.split(' ')[0]);\n\n    if (output.metadata[EXEC_MIME_TYPE][\"id\"] !== undefined) {\n      toinsert[toinsert.length - 1].firstChild.textContent = output.data[JS_MIME_TYPE];\n      // store reference to embed id on output_area\n      output_area._bokeh_element_id = output.metadata[EXEC_MIME_TYPE][\"id\"];\n    }\n    if (output.metadata[EXEC_MIME_TYPE][\"server_id\"] !== undefined) {\n      const bk_div = document.createElement(\"div\");\n      bk_div.innerHTML = output.data[HTML_MIME_TYPE];\n      const script_attrs = bk_div.children[0].attributes;\n      for (let i = 0; i < script_attrs.length; i++) {\n        toinsert[toinsert.length - 1].firstChild.setAttribute(script_attrs[i].name, script_attrs[i].value);\n        toinsert[toinsert.length - 1].firstChild.textContent = bk_div.children[0].textContent\n      }\n      // store reference to server id on output_area\n      output_area._bokeh_server_id = output.metadata[EXEC_MIME_TYPE][\"server_id\"];\n    }\n  }\n\n  function register_renderer(events, OutputArea) {\n\n    function append_mime(data, metadata, element) {\n      // create a DOM node to render to\n      const toinsert = this.create_output_subarea(\n        metadata,\n        CLASS_NAME,\n        EXEC_MIME_TYPE\n      );\n      this.keyboard_manager.register_events(toinsert);\n      // Render to node\n      const props = {data: data, metadata: metadata[EXEC_MIME_TYPE]};\n      render(props, toinsert[toinsert.length - 1]);\n      element.append(toinsert);\n      return toinsert\n    }\n\n    /* Handle when an output is cleared or removed */\n    events.on('clear_output.CodeCell', handleClearOutput);\n    events.on('delete.Cell', handleClearOutput);\n\n    /* Handle when a new output is added */\n    events.on('output_added.OutputArea', handleAddOutput);\n\n    /**\n     * Register the mime type and append_mime function with output_area\n     */\n    OutputArea.prototype.register_mime_type(EXEC_MIME_TYPE, append_mime, {\n      /* Is output safe? */\n      safe: true,\n      /* Index of renderer in `output_area.display_order` */\n      index: 0\n    });\n  }\n\n  // register the mime type if in Jupyter Notebook environment and previously unregistered\n  if (root.Jupyter !== undefined) {\n    const events = require('base/js/events');\n    const OutputArea = require('notebook/js/outputarea').OutputArea;\n\n    if (OutputArea.prototype.mime_types().indexOf(EXEC_MIME_TYPE) == -1) {\n      register_renderer(events, OutputArea);\n    }\n  }\n  if (typeof (root._bokeh_timeout) === \"undefined\" || force === true) {\n    root._bokeh_timeout = Date.now() + 5000;\n    root._bokeh_failed_load = false;\n  }\n\n  const NB_LOAD_WARNING = {'data': {'text/html':\n     \"<div style='background-color: #fdd'>\\n\"+\n     \"<p>\\n\"+\n     \"BokehJS does not appear to have successfully loaded. If loading BokehJS from CDN, this \\n\"+\n     \"may be due to a slow or bad network connection. Possible fixes:\\n\"+\n     \"</p>\\n\"+\n     \"<ul>\\n\"+\n     \"<li>re-rerun `output_notebook()` to attempt to load from CDN again, or</li>\\n\"+\n     \"<li>use INLINE resources instead, as so:</li>\\n\"+\n     \"</ul>\\n\"+\n     \"<code>\\n\"+\n     \"from bokeh.resources import INLINE\\n\"+\n     \"output_notebook(resources=INLINE)\\n\"+\n     \"</code>\\n\"+\n     \"</div>\"}};\n\n  function display_loaded(error = null) {\n    const el = document.getElementById(\"cb56e211-074d-49ce-9c86-d0e7568d90c3\");\n    if (el != null) {\n      const html = (() => {\n        if (typeof root.Bokeh === \"undefined\") {\n          if (error == null) {\n            return \"BokehJS is loading ...\";\n          } else {\n            return \"BokehJS failed to load.\";\n          }\n        } else {\n          const prefix = `BokehJS ${root.Bokeh.version}`;\n          if (error == null) {\n            return `${prefix} successfully loaded.`;\n          } else {\n            return `${prefix} <b>encountered errors</b> while loading and may not function as expected.`;\n          }\n        }\n      })();\n      el.innerHTML = html;\n\n      if (error != null) {\n        const wrapper = document.createElement(\"div\");\n        wrapper.style.overflow = \"auto\";\n        wrapper.style.height = \"5em\";\n        wrapper.style.resize = \"vertical\";\n        const content = document.createElement(\"div\");\n        content.style.fontFamily = \"monospace\";\n        content.style.whiteSpace = \"pre-wrap\";\n        content.style.backgroundColor = \"rgb(255, 221, 221)\";\n        content.textContent = error.stack ?? error.toString();\n        wrapper.append(content);\n        el.append(wrapper);\n      }\n    } else if (Date.now() < root._bokeh_timeout) {\n      setTimeout(() => display_loaded(error), 100);\n    }\n  }\n\n  function run_callbacks() {\n    try {\n      root._bokeh_onload_callbacks.forEach(function(callback) {\n        if (callback != null)\n          callback();\n      });\n    } finally {\n      delete root._bokeh_onload_callbacks\n    }\n    console.debug(\"Bokeh: all callbacks have finished\");\n  }\n\n  function load_libs(css_urls, js_urls, callback) {\n    if (css_urls == null) css_urls = [];\n    if (js_urls == null) js_urls = [];\n\n    root._bokeh_onload_callbacks.push(callback);\n    if (root._bokeh_is_loading > 0) {\n      console.debug(\"Bokeh: BokehJS is being loaded, scheduling callback at\", now());\n      return null;\n    }\n    if (js_urls == null || js_urls.length === 0) {\n      run_callbacks();\n      return null;\n    }\n    console.debug(\"Bokeh: BokehJS not loaded, scheduling load and callback at\", now());\n    root._bokeh_is_loading = css_urls.length + js_urls.length;\n\n    function on_load() {\n      root._bokeh_is_loading--;\n      if (root._bokeh_is_loading === 0) {\n        console.debug(\"Bokeh: all BokehJS libraries/stylesheets loaded\");\n        run_callbacks()\n      }\n    }\n\n    function on_error(url) {\n      console.error(\"failed to load \" + url);\n    }\n\n    for (let i = 0; i < css_urls.length; i++) {\n      const url = css_urls[i];\n      const element = document.createElement(\"link\");\n      element.onload = on_load;\n      element.onerror = on_error.bind(null, url);\n      element.rel = \"stylesheet\";\n      element.type = \"text/css\";\n      element.href = url;\n      console.debug(\"Bokeh: injecting link tag for BokehJS stylesheet: \", url);\n      document.body.appendChild(element);\n    }\n\n    for (let i = 0; i < js_urls.length; i++) {\n      const url = js_urls[i];\n      const element = document.createElement('script');\n      element.onload = on_load;\n      element.onerror = on_error.bind(null, url);\n      element.async = false;\n      element.src = url;\n      console.debug(\"Bokeh: injecting script tag for BokehJS library: \", url);\n      document.head.appendChild(element);\n    }\n  };\n\n  function inject_raw_css(css) {\n    const element = document.createElement(\"style\");\n    element.appendChild(document.createTextNode(css));\n    document.body.appendChild(element);\n  }\n\n  const js_urls = [\"https://cdn.bokeh.org/bokeh/release/bokeh-3.7.3.min.js\", \"https://cdn.bokeh.org/bokeh/release/bokeh-gl-3.7.3.min.js\", \"https://cdn.bokeh.org/bokeh/release/bokeh-widgets-3.7.3.min.js\", \"https://cdn.bokeh.org/bokeh/release/bokeh-tables-3.7.3.min.js\", \"https://cdn.bokeh.org/bokeh/release/bokeh-mathjax-3.7.3.min.js\"];\n  const css_urls = [];\n\n  const inline_js = [    function(Bokeh) {\n      Bokeh.set_log_level(\"info\");\n    },\nfunction(Bokeh) {\n    }\n  ];\n\n  function run_inline_js() {\n    if (root.Bokeh !== undefined || force === true) {\n      try {\n            for (let i = 0; i < inline_js.length; i++) {\n      inline_js[i].call(root, root.Bokeh);\n    }\n\n      } catch (error) {display_loaded(error);throw error;\n      }if (force === true) {\n        display_loaded();\n      }} else if (Date.now() < root._bokeh_timeout) {\n      setTimeout(run_inline_js, 100);\n    } else if (!root._bokeh_failed_load) {\n      console.log(\"Bokeh: BokehJS failed to load within specified timeout.\");\n      root._bokeh_failed_load = true;\n    } else if (force !== true) {\n      const cell = $(document.getElementById(\"cb56e211-074d-49ce-9c86-d0e7568d90c3\")).parents('.cell').data().cell;\n      cell.output_area.append_execute_result(NB_LOAD_WARNING)\n    }\n  }\n\n  if (root._bokeh_is_loading === 0) {\n    console.debug(\"Bokeh: BokehJS loaded, going straight to plotting\");\n    run_inline_js();\n  } else {\n    load_libs(css_urls, js_urls, function() {\n      console.debug(\"Bokeh: BokehJS plotting callback run at\", now());\n      run_inline_js();\n    });\n  }\n}(window));",
      "application/vnd.bokehjs_load.v0+json": ""
     },
     "metadata": {},
     "output_type": "display_data"
    }
   ],
   "source": [
    "import pandas as pd\n",
    "from backtesting import Backtest, Strategy\n",
    "from backtesting.lib import crossover\n",
    "\n",
    "# Simple Moving Average function\n",
    "def SMA(values, n):\n",
    "    \"\"\"\n",
    "    Return simple moving average of `values`, at\n",
    "    each step taking into account `n` previous values.\n",
    "    \"\"\"\n",
    "    return pd.Series(values).rolling(n).mean()\n",
    "\n",
    "# SMA Cross Strategy class\n",
    "class SmaCross(Strategy):\n",
    "    n1 = 30\n",
    "    n2 = 100\n",
    "\n",
    "    def init(self):\n",
    "        # Precompute the two moving averages\n",
    "        self.sma1 = self.I(SMA, self.data.Close, self.n1)\n",
    "        self.sma2 = self.I(SMA, self.data.Close, self.n2)\n",
    "\n",
    "    def next(self):\n",
    "        # If sma1 crosses above sma2, close any existing\n",
    "        # short trades, and buy the asset\n",
    "        if crossover(self.sma1, self.sma2):\n",
    "            self.position.close()\n",
    "            self.buy()\n",
    "\n",
    "        # Else, if sma1 crosses below sma2, close any existing\n",
    "        # long trades, and sell the asset\n",
    "        elif crossover(self.sma2, self.sma1):\n",
    "            self.position.close()\n",
    "            self.sell()\n",
    "\n"
   ]
  },
  {
   "cell_type": "code",
   "execution_count": null,
   "metadata": {},
   "outputs": [
    {
     "name": "stdout",
     "output_type": "stream",
     "text": [
      "YF.download() has changed argument auto_adjust default to True\n"
     ]
    },
    {
     "name": "stderr",
     "output_type": "stream",
     "text": [
      "[*********************100%***********************]  1 of 1 completed\n",
      "/var/folders/3x/gvlk_pqx3px5mcf8byl_s4vw0000gn/T/ipykernel_53282/1662273915.py:9: UserWarning: Some prices are larger than initial cash value. Note that fractional trading is not supported. If you want to trade Bitcoin, increase initial cash, or trade μBTC or satoshis instead (GH-134).\n",
      "  bt = Backtest(data, SmaCross)\n"
     ]
    },
    {
     "data": {
      "application/vnd.jupyter.widget-view+json": {
       "model_id": "8fecbdf632694f05933b5b7432c9ac92",
       "version_major": 2,
       "version_minor": 0
      },
      "text/plain": [
       "Backtest.run:   0%|          | 0/3813 [00:00<?, ?bar/s]"
      ]
     },
     "metadata": {},
     "output_type": "display_data"
    }
   ],
   "source": [
    "import yfinance as yf\n",
    "\n",
    "# Get BTC-USD data from yfinance\n",
    "data = yf.download('BTC-USD')\n",
    "if isinstance(data.columns, pd.MultiIndex):\n",
    "    data.columns = data.columns.droplevel(1)  # 移除第二層索引(ticker名稱)\n",
    "# Code for running the backtest.\n",
    "# Assumes the existence of `data` variable containing backtest data.\n",
    "bt = Backtest(data, SmaCross)\n",
    "stats = bt.run()\n"
   ]
  },
  {
   "cell_type": "code",
   "execution_count": 3,
   "metadata": {},
   "outputs": [
    {
     "data": {
      "text/plain": [
       "Start                     2014-09-17 00:00:00\n",
       "End                       2025-06-03 00:00:00\n",
       "Duration                   3912 days 00:00:00\n",
       "Exposure Time [%]                    94.60772\n",
       "Equity Final [$]                 618054.49741\n",
       "Equity Peak [$]                  861468.18491\n",
       "Return [%]                         6080.54497\n",
       "Buy & Hold Return [%]             33105.61364\n",
       "Return (Ann.) [%]                    46.91456\n",
       "Volatility (Ann.) [%]               122.78773\n",
       "CAGR [%]                             46.92901\n",
       "Sharpe Ratio                          0.38208\n",
       "Sortino Ratio                         0.98196\n",
       "Calmar Ratio                           0.4979\n",
       "Alpha [%]                         -4490.16231\n",
       "Beta                                   0.3193\n",
       "Max. Drawdown [%]                    -94.2255\n",
       "Avg. Drawdown [%]                   -13.85563\n",
       "Max. Drawdown Duration      727 days 00:00:00\n",
       "Avg. Drawdown Duration       66 days 00:00:00\n",
       "# Trades                                   34\n",
       "Win Rate [%]                         47.05882\n",
       "Best Trade [%]                      1113.5341\n",
       "Worst Trade [%]                     -64.72543\n",
       "Avg. Trade [%]                        13.2215\n",
       "Max. Trade Duration         479 days 00:00:00\n",
       "Avg. Trade Duration         109 days 00:00:00\n",
       "Profit Factor                         6.53027\n",
       "Expectancy [%]                       51.08753\n",
       "SQN                                   0.96958\n",
       "Kelly Criterion                       0.19794\n",
       "_strategy                            SmaCross\n",
       "_equity_curve                             ...\n",
       "_trades                       Size  EntryB...\n",
       "dtype: object"
      ]
     },
     "execution_count": 3,
     "metadata": {},
     "output_type": "execute_result"
    }
   ],
   "source": [
    "#print(stats['_trades'].to_string())\n",
    "stats\n"
   ]
  },
  {
   "cell_type": "markdown",
   "metadata": {},
   "source": [
    "## 基本時間信息\n",
    "\n",
    "- __Start__: 2014-09-17 00:00:00 - 回測開始日期\n",
    "- __End__: 2025-06-04 00:00:00 - 回測結束日期\n",
    "- __Duration__: 3913 days 00:00:00 - 回測總時長（約10.7年）\n",
    "\n",
    "## 收益與風險指標\n",
    "\n",
    "- __Exposure Time [%]__: 94.60772 - 資金在市場中的暴露時間百分比，表示有94.6%的時間有持倉\n",
    "- **Equity Final []∗∗:616413.79428−最終資金（假設初始資金為100,000）\n",
    "- __Equity Peak [$]__: 861468.18491 - 資金最高峰值\n",
    "- __Return [%]__: 6064.13794 - 總回報率（約60.6倍）\n",
    "- __Buy & Hold Return [%]__: 33002.75082 - 買入並持有策略的回報率（約330倍），這表明簡單持有比您的策略表現更好\n",
    "- __Return (Ann.) [%]__: 46.87814 - 年化回報率\n",
    "- __Volatility (Ann.) [%]__: 122.7576 - 年化波動率，表明策略風險較高\n",
    "- __CAGR [%]__: 46.87814 - 複合年增長率，與年化回報率相同\n",
    "\n",
    "## 風險調整回報指標\n",
    "\n",
    "- __Sharpe Ratio__: 0.38188 - 夏普比率（回報與風險的比值），低於1表示風險調整後回報不佳\n",
    "- __Sortino Ratio__: 0.9812 - 索提諾比率（只考慮下行風險），接近1表示相對較好\n",
    "- __Calmar Ratio__: 0.49751 - 卡爾馬比率（年化回報與最大回撤的比值），低於1表示風險較高\n",
    "- __Alpha [%]__: -4473.77617 - 相對於買入持有策略的超額收益，負值表示表現不如基準\n",
    "- __Beta__: 0.3193 - 相對於市場的波動性，低於1表示波動性低於市場\n",
    "\n",
    "## 回撤指標\n",
    "\n",
    "- __Max. Drawdown [%]__: -94.2255 - 最大回撤（從峰值到谷值的最大損失），非常高\n",
    "- __Avg. Drawdown [%]__: -13.85563 - 平均回撤\n",
    "- __Max. Drawdown Duration__: 727 days 00:00:00 - 最長回撤持續時間（約2年）\n",
    "- __Avg. Drawdown Duration__: 66 days 00:00:00 - 平均回撤持續時間\n",
    "\n",
    "## 交易統計\n",
    "\n",
    "- __# Trades__: 34 - 總交易次數\n",
    "- __Win Rate [%]__: 47.05882 - 勝率（約47%）\n",
    "- __Best Trade [%]__: 1113.5341 - 最佳交易收益（約11倍）\n",
    "- __Worst Trade [%]__: -64.72543 - 最差交易損失\n",
    "- __Avg. Trade [%]__: 13.2215 - 平均每筆交易收益\n",
    "- __Max. Trade Duration__: 479 days 00:00:00 - 最長持倉時間（約1.3年）\n",
    "- __Avg. Trade Duration__: 109 days 00:00:00 - 平均持倉時間\n",
    "\n",
    "## 高級指標\n",
    "\n",
    "- __Profit Factor__: 6.53027 - 總盈利除以總虧損，大於1表示策略有利可圖\n",
    "- __Expectancy [%]__: 51.08753 - 每筆交易的期望收益\n",
    "- __SQN__: 0.96958 - 系統質量數（System Quality Number），接近1表示系統質量一般\n",
    "- __Kelly Criterion__: 0.19794 - 凱利準則，建議的最佳資金分配比例\n",
    "\n",
    "## 其他信息\n",
    "\n",
    "- ___strategy__: SmaCross - 使用的策略名稱\n",
    "- ___equity_curve__: ... - 資金曲線數據（被截斷）\n",
    "- ___trades__: Size EntryB... - 交易詳情（被截斷）\n"
   ]
  },
  {
   "cell_type": "code",
   "execution_count": 5,
   "metadata": {},
   "outputs": [
    {
     "name": "stderr",
     "output_type": "stream",
     "text": [
      "/Users/liantseng/Desktop/udemy/venv/lib/python3.13/site-packages/backtesting/backtesting.py:1606: RuntimeWarning: If you want to use multi-process optimization with `multiprocessing.get_start_method() == 'spawn'` (e.g. on Windows),set `backtesting.Pool = multiprocessing.Pool` (or of the desired context) and hide `bt.optimize()` call behind a `if __name__ == '__main__'` guard. Currently using thread-based paralellism, which might be slightly slower for non-numpy / non-GIL-releasing code. See https://github.com/kernc/backtesting.py/issues/1256\n",
      "  output = _optimize_grid()\n"
     ]
    },
    {
     "data": {
      "application/vnd.jupyter.widget-view+json": {
       "model_id": "b0e7831e95ae4eb48f27da6a37bd8f4d",
       "version_major": 2,
       "version_minor": 0
      },
      "text/plain": [
       "Backtest.optimize:   0%|          | 0/176 [00:00<?, ?it/s]"
      ]
     },
     "metadata": {},
     "output_type": "display_data"
    },
    {
     "data": {
      "application/vnd.jupyter.widget-view+json": {
       "model_id": "361f8d6c72754a44b7f329a679e3216d",
       "version_major": 2,
       "version_minor": 0
      },
      "text/plain": [
       "Backtest.run:   0%|          | 0/3903 [00:00<?, ?bar/s]"
      ]
     },
     "metadata": {},
     "output_type": "display_data"
    },
    {
     "name": "stderr",
     "output_type": "stream",
     "text": [
      "/Users/liantseng/Desktop/udemy/venv/lib/python3.13/site-packages/backtesting/backtesting.py:954: UserWarning: time=3479: Broker canceled the relative-sized order due to insufficient margin.\n",
      "  warnings.warn(\n",
      "/Users/liantseng/Desktop/udemy/venv/lib/python3.13/site-packages/backtesting/backtesting.py:954: UserWarning: time=3492: Broker canceled the relative-sized order due to insufficient margin.\n",
      "  warnings.warn(\n",
      "/Users/liantseng/Desktop/udemy/venv/lib/python3.13/site-packages/backtesting/backtesting.py:954: UserWarning: time=3497: Broker canceled the relative-sized order due to insufficient margin.\n",
      "  warnings.warn(\n",
      "/Users/liantseng/Desktop/udemy/venv/lib/python3.13/site-packages/backtesting/backtesting.py:954: UserWarning: time=3506: Broker canceled the relative-sized order due to insufficient margin.\n",
      "  warnings.warn(\n",
      "/Users/liantseng/Desktop/udemy/venv/lib/python3.13/site-packages/backtesting/backtesting.py:954: UserWarning: time=3511: Broker canceled the relative-sized order due to insufficient margin.\n",
      "  warnings.warn(\n",
      "/Users/liantseng/Desktop/udemy/venv/lib/python3.13/site-packages/backtesting/backtesting.py:954: UserWarning: time=3520: Broker canceled the relative-sized order due to insufficient margin.\n",
      "  warnings.warn(\n",
      "/Users/liantseng/Desktop/udemy/venv/lib/python3.13/site-packages/backtesting/backtesting.py:954: UserWarning: time=3529: Broker canceled the relative-sized order due to insufficient margin.\n",
      "  warnings.warn(\n",
      "/Users/liantseng/Desktop/udemy/venv/lib/python3.13/site-packages/backtesting/backtesting.py:954: UserWarning: time=3541: Broker canceled the relative-sized order due to insufficient margin.\n",
      "  warnings.warn(\n",
      "/Users/liantseng/Desktop/udemy/venv/lib/python3.13/site-packages/backtesting/backtesting.py:954: UserWarning: time=3549: Broker canceled the relative-sized order due to insufficient margin.\n",
      "  warnings.warn(\n",
      "/Users/liantseng/Desktop/udemy/venv/lib/python3.13/site-packages/backtesting/backtesting.py:954: UserWarning: time=3556: Broker canceled the relative-sized order due to insufficient margin.\n",
      "  warnings.warn(\n",
      "/Users/liantseng/Desktop/udemy/venv/lib/python3.13/site-packages/backtesting/backtesting.py:954: UserWarning: time=3577: Broker canceled the relative-sized order due to insufficient margin.\n",
      "  warnings.warn(\n",
      "/Users/liantseng/Desktop/udemy/venv/lib/python3.13/site-packages/backtesting/backtesting.py:954: UserWarning: time=3579: Broker canceled the relative-sized order due to insufficient margin.\n",
      "  warnings.warn(\n",
      "/Users/liantseng/Desktop/udemy/venv/lib/python3.13/site-packages/backtesting/backtesting.py:954: UserWarning: time=3588: Broker canceled the relative-sized order due to insufficient margin.\n",
      "  warnings.warn(\n",
      "/Users/liantseng/Desktop/udemy/venv/lib/python3.13/site-packages/backtesting/backtesting.py:954: UserWarning: time=3602: Broker canceled the relative-sized order due to insufficient margin.\n",
      "  warnings.warn(\n",
      "/Users/liantseng/Desktop/udemy/venv/lib/python3.13/site-packages/backtesting/backtesting.py:954: UserWarning: time=3604: Broker canceled the relative-sized order due to insufficient margin.\n",
      "  warnings.warn(\n",
      "/Users/liantseng/Desktop/udemy/venv/lib/python3.13/site-packages/backtesting/backtesting.py:954: UserWarning: time=3607: Broker canceled the relative-sized order due to insufficient margin.\n",
      "  warnings.warn(\n",
      "/Users/liantseng/Desktop/udemy/venv/lib/python3.13/site-packages/backtesting/backtesting.py:954: UserWarning: time=3617: Broker canceled the relative-sized order due to insufficient margin.\n",
      "  warnings.warn(\n",
      "/Users/liantseng/Desktop/udemy/venv/lib/python3.13/site-packages/backtesting/backtesting.py:954: UserWarning: time=3622: Broker canceled the relative-sized order due to insufficient margin.\n",
      "  warnings.warn(\n",
      "/Users/liantseng/Desktop/udemy/venv/lib/python3.13/site-packages/backtesting/backtesting.py:954: UserWarning: time=3626: Broker canceled the relative-sized order due to insufficient margin.\n",
      "  warnings.warn(\n",
      "/Users/liantseng/Desktop/udemy/venv/lib/python3.13/site-packages/backtesting/backtesting.py:954: UserWarning: time=3635: Broker canceled the relative-sized order due to insufficient margin.\n",
      "  warnings.warn(\n",
      "/Users/liantseng/Desktop/udemy/venv/lib/python3.13/site-packages/backtesting/backtesting.py:954: UserWarning: time=3649: Broker canceled the relative-sized order due to insufficient margin.\n",
      "  warnings.warn(\n",
      "/Users/liantseng/Desktop/udemy/venv/lib/python3.13/site-packages/backtesting/backtesting.py:954: UserWarning: time=3669: Broker canceled the relative-sized order due to insufficient margin.\n",
      "  warnings.warn(\n",
      "/Users/liantseng/Desktop/udemy/venv/lib/python3.13/site-packages/backtesting/backtesting.py:954: UserWarning: time=3675: Broker canceled the relative-sized order due to insufficient margin.\n",
      "  warnings.warn(\n",
      "/Users/liantseng/Desktop/udemy/venv/lib/python3.13/site-packages/backtesting/backtesting.py:954: UserWarning: time=3678: Broker canceled the relative-sized order due to insufficient margin.\n",
      "  warnings.warn(\n",
      "/Users/liantseng/Desktop/udemy/venv/lib/python3.13/site-packages/backtesting/backtesting.py:954: UserWarning: time=3681: Broker canceled the relative-sized order due to insufficient margin.\n",
      "  warnings.warn(\n",
      "/Users/liantseng/Desktop/udemy/venv/lib/python3.13/site-packages/backtesting/backtesting.py:954: UserWarning: time=3691: Broker canceled the relative-sized order due to insufficient margin.\n",
      "  warnings.warn(\n",
      "/Users/liantseng/Desktop/udemy/venv/lib/python3.13/site-packages/backtesting/backtesting.py:954: UserWarning: time=3695: Broker canceled the relative-sized order due to insufficient margin.\n",
      "  warnings.warn(\n",
      "/Users/liantseng/Desktop/udemy/venv/lib/python3.13/site-packages/backtesting/backtesting.py:954: UserWarning: time=3702: Broker canceled the relative-sized order due to insufficient margin.\n",
      "  warnings.warn(\n",
      "/Users/liantseng/Desktop/udemy/venv/lib/python3.13/site-packages/backtesting/backtesting.py:954: UserWarning: time=3705: Broker canceled the relative-sized order due to insufficient margin.\n",
      "  warnings.warn(\n",
      "/Users/liantseng/Desktop/udemy/venv/lib/python3.13/site-packages/backtesting/backtesting.py:954: UserWarning: time=3726: Broker canceled the relative-sized order due to insufficient margin.\n",
      "  warnings.warn(\n",
      "/Users/liantseng/Desktop/udemy/venv/lib/python3.13/site-packages/backtesting/backtesting.py:954: UserWarning: time=3729: Broker canceled the relative-sized order due to insufficient margin.\n",
      "  warnings.warn(\n",
      "/Users/liantseng/Desktop/udemy/venv/lib/python3.13/site-packages/backtesting/backtesting.py:954: UserWarning: time=3748: Broker canceled the relative-sized order due to insufficient margin.\n",
      "  warnings.warn(\n",
      "/Users/liantseng/Desktop/udemy/venv/lib/python3.13/site-packages/backtesting/backtesting.py:954: UserWarning: time=3756: Broker canceled the relative-sized order due to insufficient margin.\n",
      "  warnings.warn(\n",
      "/Users/liantseng/Desktop/udemy/venv/lib/python3.13/site-packages/backtesting/backtesting.py:954: UserWarning: time=3757: Broker canceled the relative-sized order due to insufficient margin.\n",
      "  warnings.warn(\n",
      "/Users/liantseng/Desktop/udemy/venv/lib/python3.13/site-packages/backtesting/backtesting.py:954: UserWarning: time=3763: Broker canceled the relative-sized order due to insufficient margin.\n",
      "  warnings.warn(\n",
      "/Users/liantseng/Desktop/udemy/venv/lib/python3.13/site-packages/backtesting/backtesting.py:954: UserWarning: time=3769: Broker canceled the relative-sized order due to insufficient margin.\n",
      "  warnings.warn(\n",
      "/Users/liantseng/Desktop/udemy/venv/lib/python3.13/site-packages/backtesting/backtesting.py:954: UserWarning: time=3775: Broker canceled the relative-sized order due to insufficient margin.\n",
      "  warnings.warn(\n",
      "/Users/liantseng/Desktop/udemy/venv/lib/python3.13/site-packages/backtesting/backtesting.py:954: UserWarning: time=3787: Broker canceled the relative-sized order due to insufficient margin.\n",
      "  warnings.warn(\n",
      "/Users/liantseng/Desktop/udemy/venv/lib/python3.13/site-packages/backtesting/backtesting.py:954: UserWarning: time=3803: Broker canceled the relative-sized order due to insufficient margin.\n",
      "  warnings.warn(\n",
      "/Users/liantseng/Desktop/udemy/venv/lib/python3.13/site-packages/backtesting/backtesting.py:954: UserWarning: time=3807: Broker canceled the relative-sized order due to insufficient margin.\n",
      "  warnings.warn(\n",
      "/Users/liantseng/Desktop/udemy/venv/lib/python3.13/site-packages/backtesting/backtesting.py:954: UserWarning: time=3813: Broker canceled the relative-sized order due to insufficient margin.\n",
      "  warnings.warn(\n",
      "/Users/liantseng/Desktop/udemy/venv/lib/python3.13/site-packages/backtesting/backtesting.py:954: UserWarning: time=3814: Broker canceled the relative-sized order due to insufficient margin.\n",
      "  warnings.warn(\n",
      "/Users/liantseng/Desktop/udemy/venv/lib/python3.13/site-packages/backtesting/backtesting.py:954: UserWarning: time=3823: Broker canceled the relative-sized order due to insufficient margin.\n",
      "  warnings.warn(\n",
      "/Users/liantseng/Desktop/udemy/venv/lib/python3.13/site-packages/backtesting/backtesting.py:954: UserWarning: time=3827: Broker canceled the relative-sized order due to insufficient margin.\n",
      "  warnings.warn(\n",
      "/Users/liantseng/Desktop/udemy/venv/lib/python3.13/site-packages/backtesting/backtesting.py:954: UserWarning: time=3834: Broker canceled the relative-sized order due to insufficient margin.\n",
      "  warnings.warn(\n",
      "/Users/liantseng/Desktop/udemy/venv/lib/python3.13/site-packages/backtesting/backtesting.py:954: UserWarning: time=3848: Broker canceled the relative-sized order due to insufficient margin.\n",
      "  warnings.warn(\n",
      "/Users/liantseng/Desktop/udemy/venv/lib/python3.13/site-packages/backtesting/backtesting.py:954: UserWarning: time=3862: Broker canceled the relative-sized order due to insufficient margin.\n",
      "  warnings.warn(\n",
      "/Users/liantseng/Desktop/udemy/venv/lib/python3.13/site-packages/backtesting/backtesting.py:954: UserWarning: time=3908: Broker canceled the relative-sized order due to insufficient margin.\n",
      "  warnings.warn(\n"
     ]
    },
    {
     "data": {
      "application/vnd.jupyter.widget-view+json": {
       "model_id": "057f021e5453494c8f1c58d289b220b3",
       "version_major": 2,
       "version_minor": 0
      },
      "text/plain": [
       "Backtest.run:   0%|          | 0/3898 [00:00<?, ?bar/s]"
      ]
     },
     "metadata": {},
     "output_type": "display_data"
    },
    {
     "data": {
      "application/vnd.jupyter.widget-view+json": {
       "model_id": "c4ebe0e390964abeac01c8c8a60bc01b",
       "version_major": 2,
       "version_minor": 0
      },
      "text/plain": [
       "Backtest.run:   0%|          | 0/3893 [00:00<?, ?bar/s]"
      ]
     },
     "metadata": {},
     "output_type": "display_data"
    },
    {
     "data": {
      "application/vnd.jupyter.widget-view+json": {
       "model_id": "91aa2b29ef1840afa70d35df249197bd",
       "version_major": 2,
       "version_minor": 0
      },
      "text/plain": [
       "Backtest.run:   0%|          | 0/3888 [00:00<?, ?bar/s]"
      ]
     },
     "metadata": {},
     "output_type": "display_data"
    },
    {
     "data": {
      "application/vnd.jupyter.widget-view+json": {
       "model_id": "6597c8088d2349cb8782f44044fec76d",
       "version_major": 2,
       "version_minor": 0
      },
      "text/plain": [
       "Backtest.run:   0%|          | 0/3898 [00:00<?, ?bar/s]"
      ]
     },
     "metadata": {},
     "output_type": "display_data"
    },
    {
     "name": "stderr",
     "output_type": "stream",
     "text": [
      "/Users/liantseng/Desktop/udemy/venv/lib/python3.13/site-packages/backtesting/backtesting.py:954: UserWarning: time=3534: Broker canceled the relative-sized order due to insufficient margin.\n",
      "  warnings.warn(\n",
      "/Users/liantseng/Desktop/udemy/venv/lib/python3.13/site-packages/backtesting/backtesting.py:954: UserWarning: time=3659: Broker canceled the relative-sized order due to insufficient margin.\n",
      "  warnings.warn(\n",
      "/Users/liantseng/Desktop/udemy/venv/lib/python3.13/site-packages/backtesting/backtesting.py:954: UserWarning: time=3679: Broker canceled the relative-sized order due to insufficient margin.\n",
      "  warnings.warn(\n",
      "/Users/liantseng/Desktop/udemy/venv/lib/python3.13/site-packages/backtesting/backtesting.py:954: UserWarning: time=3689: Broker canceled the relative-sized order due to insufficient margin.\n",
      "  warnings.warn(\n",
      "/Users/liantseng/Desktop/udemy/venv/lib/python3.13/site-packages/backtesting/backtesting.py:954: UserWarning: time=3756: Broker canceled the relative-sized order due to insufficient margin.\n",
      "  warnings.warn(\n",
      "/Users/liantseng/Desktop/udemy/venv/lib/python3.13/site-packages/backtesting/backtesting.py:954: UserWarning: time=3777: Broker canceled the relative-sized order due to insufficient margin.\n",
      "  warnings.warn(\n",
      "/Users/liantseng/Desktop/udemy/venv/lib/python3.13/site-packages/backtesting/backtesting.py:954: UserWarning: time=3798: Broker canceled the relative-sized order due to insufficient margin.\n",
      "  warnings.warn(\n",
      "/Users/liantseng/Desktop/udemy/venv/lib/python3.13/site-packages/backtesting/backtesting.py:954: UserWarning: time=3848: Broker canceled the relative-sized order due to insufficient margin.\n",
      "  warnings.warn(\n",
      "/Users/liantseng/Desktop/udemy/venv/lib/python3.13/site-packages/backtesting/backtesting.py:954: UserWarning: time=3857: Broker canceled the relative-sized order due to insufficient margin.\n",
      "  warnings.warn(\n",
      "/Users/liantseng/Desktop/udemy/venv/lib/python3.13/site-packages/backtesting/backtesting.py:954: UserWarning: time=3871: Broker canceled the relative-sized order due to insufficient margin.\n",
      "  warnings.warn(\n"
     ]
    },
    {
     "data": {
      "application/vnd.jupyter.widget-view+json": {
       "model_id": "61ae041175ee4e188747ed4d6e3d6461",
       "version_major": 2,
       "version_minor": 0
      },
      "text/plain": [
       "Backtest.run:   0%|          | 0/3883 [00:00<?, ?bar/s]"
      ]
     },
     "metadata": {},
     "output_type": "display_data"
    },
    {
     "data": {
      "application/vnd.jupyter.widget-view+json": {
       "model_id": "86322b531c004370b2fd73bea649c30f",
       "version_major": 2,
       "version_minor": 0
      },
      "text/plain": [
       "Backtest.run:   0%|          | 0/3878 [00:00<?, ?bar/s]"
      ]
     },
     "metadata": {},
     "output_type": "display_data"
    },
    {
     "data": {
      "application/vnd.jupyter.widget-view+json": {
       "model_id": "255293a3676840798f11d14124fa041e",
       "version_major": 2,
       "version_minor": 0
      },
      "text/plain": [
       "Backtest.run:   0%|          | 0/3893 [00:00<?, ?bar/s]"
      ]
     },
     "metadata": {},
     "output_type": "display_data"
    },
    {
     "data": {
      "application/vnd.jupyter.widget-view+json": {
       "model_id": "ee2d267f4812476eaecb13ee7db1a6c5",
       "version_major": 2,
       "version_minor": 0
      },
      "text/plain": [
       "Backtest.run:   0%|          | 0/3868 [00:00<?, ?bar/s]"
      ]
     },
     "metadata": {},
     "output_type": "display_data"
    },
    {
     "data": {
      "application/vnd.jupyter.widget-view+json": {
       "model_id": "d4a6c1193b49473a82b14bb423da1f18",
       "version_major": 2,
       "version_minor": 0
      },
      "text/plain": [
       "Backtest.run:   0%|          | 0/3873 [00:00<?, ?bar/s]"
      ]
     },
     "metadata": {},
     "output_type": "display_data"
    },
    {
     "name": "stderr",
     "output_type": "stream",
     "text": [
      "/Users/liantseng/Desktop/udemy/venv/lib/python3.13/site-packages/backtesting/backtesting.py:954: UserWarning: time=2144: Broker canceled the relative-sized order due to insufficient margin.\n",
      "  warnings.warn(\n",
      "/Users/liantseng/Desktop/udemy/venv/lib/python3.13/site-packages/backtesting/backtesting.py:954: UserWarning: time=2190: Broker canceled the relative-sized order due to insufficient margin.\n",
      "  warnings.warn(\n",
      "/Users/liantseng/Desktop/udemy/venv/lib/python3.13/site-packages/backtesting/backtesting.py:954: UserWarning: time=2222: Broker canceled the relative-sized order due to insufficient margin.\n",
      "  warnings.warn(\n",
      "/Users/liantseng/Desktop/udemy/venv/lib/python3.13/site-packages/backtesting/backtesting.py:954: UserWarning: time=2390: Broker canceled the relative-sized order due to insufficient margin.\n",
      "  warnings.warn(\n",
      "/Users/liantseng/Desktop/udemy/venv/lib/python3.13/site-packages/backtesting/backtesting.py:954: UserWarning: time=2393: Broker canceled the relative-sized order due to insufficient margin.\n",
      "  warnings.warn(\n",
      "/Users/liantseng/Desktop/udemy/venv/lib/python3.13/site-packages/backtesting/backtesting.py:954: UserWarning: time=2411: Broker canceled the relative-sized order due to insufficient margin.\n",
      "  warnings.warn(\n",
      "/Users/liantseng/Desktop/udemy/venv/lib/python3.13/site-packages/backtesting/backtesting.py:954: UserWarning: time=2420: Broker canceled the relative-sized order due to insufficient margin.\n",
      "  warnings.warn(\n",
      "/Users/liantseng/Desktop/udemy/venv/lib/python3.13/site-packages/backtesting/backtesting.py:954: UserWarning: time=2428: Broker canceled the relative-sized order due to insufficient margin.\n",
      "  warnings.warn(\n",
      "/Users/liantseng/Desktop/udemy/venv/lib/python3.13/site-packages/backtesting/backtesting.py:954: UserWarning: time=2511: Broker canceled the relative-sized order due to insufficient margin.\n",
      "  warnings.warn(\n",
      "/Users/liantseng/Desktop/udemy/venv/lib/python3.13/site-packages/backtesting/backtesting.py:954: UserWarning: time=2571: Broker canceled the relative-sized order due to insufficient margin.\n",
      "  warnings.warn(\n",
      "/Users/liantseng/Desktop/udemy/venv/lib/python3.13/site-packages/backtesting/backtesting.py:954: UserWarning: time=2590: Broker canceled the relative-sized order due to insufficient margin.\n",
      "  warnings.warn(\n",
      "/Users/liantseng/Desktop/udemy/venv/lib/python3.13/site-packages/backtesting/backtesting.py:954: UserWarning: time=2630: Broker canceled the relative-sized order due to insufficient margin.\n",
      "  warnings.warn(\n",
      "/Users/liantseng/Desktop/udemy/venv/lib/python3.13/site-packages/backtesting/backtesting.py:954: UserWarning: time=2725: Broker canceled the relative-sized order due to insufficient margin.\n",
      "  warnings.warn(\n",
      "/Users/liantseng/Desktop/udemy/venv/lib/python3.13/site-packages/backtesting/backtesting.py:954: UserWarning: time=2741: Broker canceled the relative-sized order due to insufficient margin.\n",
      "  warnings.warn(\n",
      "/Users/liantseng/Desktop/udemy/venv/lib/python3.13/site-packages/backtesting/backtesting.py:954: UserWarning: time=2754: Broker canceled the relative-sized order due to insufficient margin.\n",
      "  warnings.warn(\n",
      "/Users/liantseng/Desktop/udemy/venv/lib/python3.13/site-packages/backtesting/backtesting.py:954: UserWarning: time=2766: Broker canceled the relative-sized order due to insufficient margin.\n",
      "  warnings.warn(\n",
      "/Users/liantseng/Desktop/udemy/venv/lib/python3.13/site-packages/backtesting/backtesting.py:954: UserWarning: time=2767: Broker canceled the relative-sized order due to insufficient margin.\n",
      "  warnings.warn(\n",
      "/Users/liantseng/Desktop/udemy/venv/lib/python3.13/site-packages/backtesting/backtesting.py:954: UserWarning: time=2786: Broker canceled the relative-sized order due to insufficient margin.\n",
      "  warnings.warn(\n",
      "/Users/liantseng/Desktop/udemy/venv/lib/python3.13/site-packages/backtesting/backtesting.py:954: UserWarning: time=2872: Broker canceled the relative-sized order due to insufficient margin.\n",
      "  warnings.warn(\n",
      "/Users/liantseng/Desktop/udemy/venv/lib/python3.13/site-packages/backtesting/backtesting.py:954: UserWarning: time=2905: Broker canceled the relative-sized order due to insufficient margin.\n",
      "  warnings.warn(\n",
      "/Users/liantseng/Desktop/udemy/venv/lib/python3.13/site-packages/backtesting/backtesting.py:954: UserWarning: time=2910: Broker canceled the relative-sized order due to insufficient margin.\n",
      "  warnings.warn(\n",
      "/Users/liantseng/Desktop/udemy/venv/lib/python3.13/site-packages/backtesting/backtesting.py:954: UserWarning: time=2912: Broker canceled the relative-sized order due to insufficient margin.\n",
      "  warnings.warn(\n",
      "/Users/liantseng/Desktop/udemy/venv/lib/python3.13/site-packages/backtesting/backtesting.py:954: UserWarning: time=2953: Broker canceled the relative-sized order due to insufficient margin.\n",
      "  warnings.warn(\n",
      "/Users/liantseng/Desktop/udemy/venv/lib/python3.13/site-packages/backtesting/backtesting.py:954: UserWarning: time=2955: Broker canceled the relative-sized order due to insufficient margin.\n",
      "  warnings.warn(\n",
      "/Users/liantseng/Desktop/udemy/venv/lib/python3.13/site-packages/backtesting/backtesting.py:954: UserWarning: time=2967: Broker canceled the relative-sized order due to insufficient margin.\n",
      "  warnings.warn(\n",
      "/Users/liantseng/Desktop/udemy/venv/lib/python3.13/site-packages/backtesting/backtesting.py:954: UserWarning: time=2980: Broker canceled the relative-sized order due to insufficient margin.\n",
      "  warnings.warn(\n",
      "/Users/liantseng/Desktop/udemy/venv/lib/python3.13/site-packages/backtesting/backtesting.py:954: UserWarning: time=3020: Broker canceled the relative-sized order due to insufficient margin.\n",
      "  warnings.warn(\n",
      "/Users/liantseng/Desktop/udemy/venv/lib/python3.13/site-packages/backtesting/backtesting.py:954: UserWarning: time=3021: Broker canceled the relative-sized order due to insufficient margin.\n",
      "  warnings.warn(\n",
      "/Users/liantseng/Desktop/udemy/venv/lib/python3.13/site-packages/backtesting/backtesting.py:954: UserWarning: time=3022: Broker canceled the relative-sized order due to insufficient margin.\n",
      "  warnings.warn(\n",
      "/Users/liantseng/Desktop/udemy/venv/lib/python3.13/site-packages/backtesting/backtesting.py:954: UserWarning: time=3097: Broker canceled the relative-sized order due to insufficient margin.\n",
      "  warnings.warn(\n",
      "/Users/liantseng/Desktop/udemy/venv/lib/python3.13/site-packages/backtesting/backtesting.py:954: UserWarning: time=3105: Broker canceled the relative-sized order due to insufficient margin.\n",
      "  warnings.warn(\n",
      "/Users/liantseng/Desktop/udemy/venv/lib/python3.13/site-packages/backtesting/backtesting.py:954: UserWarning: time=3169: Broker canceled the relative-sized order due to insufficient margin.\n",
      "  warnings.warn(\n",
      "/Users/liantseng/Desktop/udemy/venv/lib/python3.13/site-packages/backtesting/backtesting.py:954: UserWarning: time=3182: Broker canceled the relative-sized order due to insufficient margin.\n",
      "  warnings.warn(\n",
      "/Users/liantseng/Desktop/udemy/venv/lib/python3.13/site-packages/backtesting/backtesting.py:954: UserWarning: time=3183: Broker canceled the relative-sized order due to insufficient margin.\n",
      "  warnings.warn(\n",
      "/Users/liantseng/Desktop/udemy/venv/lib/python3.13/site-packages/backtesting/backtesting.py:954: UserWarning: time=3203: Broker canceled the relative-sized order due to insufficient margin.\n",
      "  warnings.warn(\n",
      "/Users/liantseng/Desktop/udemy/venv/lib/python3.13/site-packages/backtesting/backtesting.py:954: UserWarning: time=3244: Broker canceled the relative-sized order due to insufficient margin.\n",
      "  warnings.warn(\n",
      "/Users/liantseng/Desktop/udemy/venv/lib/python3.13/site-packages/backtesting/backtesting.py:954: UserWarning: time=3301: Broker canceled the relative-sized order due to insufficient margin.\n",
      "  warnings.warn(\n",
      "/Users/liantseng/Desktop/udemy/venv/lib/python3.13/site-packages/backtesting/backtesting.py:954: UserWarning: time=3310: Broker canceled the relative-sized order due to insufficient margin.\n",
      "  warnings.warn(\n",
      "/Users/liantseng/Desktop/udemy/venv/lib/python3.13/site-packages/backtesting/backtesting.py:954: UserWarning: time=3311: Broker canceled the relative-sized order due to insufficient margin.\n",
      "  warnings.warn(\n",
      "/Users/liantseng/Desktop/udemy/venv/lib/python3.13/site-packages/backtesting/backtesting.py:954: UserWarning: time=3410: Broker canceled the relative-sized order due to insufficient margin.\n",
      "  warnings.warn(\n",
      "/Users/liantseng/Desktop/udemy/venv/lib/python3.13/site-packages/backtesting/backtesting.py:954: UserWarning: time=3414: Broker canceled the relative-sized order due to insufficient margin.\n",
      "  warnings.warn(\n",
      "/Users/liantseng/Desktop/udemy/venv/lib/python3.13/site-packages/backtesting/backtesting.py:954: UserWarning: time=3424: Broker canceled the relative-sized order due to insufficient margin.\n",
      "  warnings.warn(\n",
      "/Users/liantseng/Desktop/udemy/venv/lib/python3.13/site-packages/backtesting/backtesting.py:954: UserWarning: time=3431: Broker canceled the relative-sized order due to insufficient margin.\n",
      "  warnings.warn(\n",
      "/Users/liantseng/Desktop/udemy/venv/lib/python3.13/site-packages/backtesting/backtesting.py:954: UserWarning: time=3437: Broker canceled the relative-sized order due to insufficient margin.\n",
      "  warnings.warn(\n",
      "/Users/liantseng/Desktop/udemy/venv/lib/python3.13/site-packages/backtesting/backtesting.py:954: UserWarning: time=3440: Broker canceled the relative-sized order due to insufficient margin.\n",
      "  warnings.warn(\n",
      "/Users/liantseng/Desktop/udemy/venv/lib/python3.13/site-packages/backtesting/backtesting.py:954: UserWarning: time=3441: Broker canceled the relative-sized order due to insufficient margin.\n",
      "  warnings.warn(\n",
      "/Users/liantseng/Desktop/udemy/venv/lib/python3.13/site-packages/backtesting/backtesting.py:954: UserWarning: time=3446: Broker canceled the relative-sized order due to insufficient margin.\n",
      "  warnings.warn(\n",
      "/Users/liantseng/Desktop/udemy/venv/lib/python3.13/site-packages/backtesting/backtesting.py:954: UserWarning: time=3503: Broker canceled the relative-sized order due to insufficient margin.\n",
      "  warnings.warn(\n",
      "/Users/liantseng/Desktop/udemy/venv/lib/python3.13/site-packages/backtesting/backtesting.py:954: UserWarning: time=3512: Broker canceled the relative-sized order due to insufficient margin.\n",
      "  warnings.warn(\n",
      "/Users/liantseng/Desktop/udemy/venv/lib/python3.13/site-packages/backtesting/backtesting.py:954: UserWarning: time=3518: Broker canceled the relative-sized order due to insufficient margin.\n",
      "  warnings.warn(\n",
      "/Users/liantseng/Desktop/udemy/venv/lib/python3.13/site-packages/backtesting/backtesting.py:954: UserWarning: time=3541: Broker canceled the relative-sized order due to insufficient margin.\n",
      "  warnings.warn(\n",
      "/Users/liantseng/Desktop/udemy/venv/lib/python3.13/site-packages/backtesting/backtesting.py:954: UserWarning: time=3547: Broker canceled the relative-sized order due to insufficient margin.\n",
      "  warnings.warn(\n",
      "/Users/liantseng/Desktop/udemy/venv/lib/python3.13/site-packages/backtesting/backtesting.py:954: UserWarning: time=3550: Broker canceled the relative-sized order due to insufficient margin.\n",
      "  warnings.warn(\n",
      "/Users/liantseng/Desktop/udemy/venv/lib/python3.13/site-packages/backtesting/backtesting.py:954: UserWarning: time=3574: Broker canceled the relative-sized order due to insufficient margin.\n",
      "  warnings.warn(\n",
      "/Users/liantseng/Desktop/udemy/venv/lib/python3.13/site-packages/backtesting/backtesting.py:954: UserWarning: time=3611: Broker canceled the relative-sized order due to insufficient margin.\n",
      "  warnings.warn(\n",
      "/Users/liantseng/Desktop/udemy/venv/lib/python3.13/site-packages/backtesting/backtesting.py:954: UserWarning: time=3632: Broker canceled the relative-sized order due to insufficient margin.\n",
      "  warnings.warn(\n",
      "/Users/liantseng/Desktop/udemy/venv/lib/python3.13/site-packages/backtesting/backtesting.py:954: UserWarning: time=3652: Broker canceled the relative-sized order due to insufficient margin.\n",
      "  warnings.warn(\n",
      "/Users/liantseng/Desktop/udemy/venv/lib/python3.13/site-packages/backtesting/backtesting.py:954: UserWarning: time=3657: Broker canceled the relative-sized order due to insufficient margin.\n",
      "  warnings.warn(\n",
      "/Users/liantseng/Desktop/udemy/venv/lib/python3.13/site-packages/backtesting/backtesting.py:954: UserWarning: time=3661: Broker canceled the relative-sized order due to insufficient margin.\n",
      "  warnings.warn(\n",
      "/Users/liantseng/Desktop/udemy/venv/lib/python3.13/site-packages/backtesting/backtesting.py:954: UserWarning: time=3669: Broker canceled the relative-sized order due to insufficient margin.\n",
      "  warnings.warn(\n",
      "/Users/liantseng/Desktop/udemy/venv/lib/python3.13/site-packages/backtesting/backtesting.py:954: UserWarning: time=3676: Broker canceled the relative-sized order due to insufficient margin.\n",
      "  warnings.warn(\n",
      "/Users/liantseng/Desktop/udemy/venv/lib/python3.13/site-packages/backtesting/backtesting.py:954: UserWarning: time=3775: Broker canceled the relative-sized order due to insufficient margin.\n",
      "  warnings.warn(\n",
      "/Users/liantseng/Desktop/udemy/venv/lib/python3.13/site-packages/backtesting/backtesting.py:954: UserWarning: time=3790: Broker canceled the relative-sized order due to insufficient margin.\n",
      "  warnings.warn(\n",
      "/Users/liantseng/Desktop/udemy/venv/lib/python3.13/site-packages/backtesting/backtesting.py:954: UserWarning: time=3816: Broker canceled the relative-sized order due to insufficient margin.\n",
      "  warnings.warn(\n",
      "/Users/liantseng/Desktop/udemy/venv/lib/python3.13/site-packages/backtesting/backtesting.py:954: UserWarning: time=3869: Broker canceled the relative-sized order due to insufficient margin.\n",
      "  warnings.warn(\n"
     ]
    },
    {
     "data": {
      "application/vnd.jupyter.widget-view+json": {
       "model_id": "67bf3b46edc34e0381f91af650fdda6d",
       "version_major": 2,
       "version_minor": 0
      },
      "text/plain": [
       "Backtest.run:   0%|          | 0/3863 [00:00<?, ?bar/s]"
      ]
     },
     "metadata": {},
     "output_type": "display_data"
    },
    {
     "data": {
      "application/vnd.jupyter.widget-view+json": {
       "model_id": "26735ed6280b460086107699398200a9",
       "version_major": 2,
       "version_minor": 0
      },
      "text/plain": [
       "Backtest.run:   0%|          | 0/3888 [00:00<?, ?bar/s]"
      ]
     },
     "metadata": {},
     "output_type": "display_data"
    },
    {
     "name": "stderr",
     "output_type": "stream",
     "text": [
      "/Users/liantseng/Desktop/udemy/venv/lib/python3.13/site-packages/backtesting/backtesting.py:954: UserWarning: time=3630: Broker canceled the relative-sized order due to insufficient margin.\n",
      "  warnings.warn(\n",
      "/Users/liantseng/Desktop/udemy/venv/lib/python3.13/site-packages/backtesting/backtesting.py:954: UserWarning: time=3644: Broker canceled the relative-sized order due to insufficient margin.\n",
      "  warnings.warn(\n",
      "/Users/liantseng/Desktop/udemy/venv/lib/python3.13/site-packages/backtesting/backtesting.py:954: UserWarning: time=3657: Broker canceled the relative-sized order due to insufficient margin.\n",
      "  warnings.warn(\n",
      "/Users/liantseng/Desktop/udemy/venv/lib/python3.13/site-packages/backtesting/backtesting.py:954: UserWarning: time=3678: Broker canceled the relative-sized order due to insufficient margin.\n",
      "  warnings.warn(\n",
      "/Users/liantseng/Desktop/udemy/venv/lib/python3.13/site-packages/backtesting/backtesting.py:954: UserWarning: time=3685: Broker canceled the relative-sized order due to insufficient margin.\n",
      "  warnings.warn(\n",
      "/Users/liantseng/Desktop/udemy/venv/lib/python3.13/site-packages/backtesting/backtesting.py:954: UserWarning: time=3756: Broker canceled the relative-sized order due to insufficient margin.\n",
      "  warnings.warn(\n",
      "/Users/liantseng/Desktop/udemy/venv/lib/python3.13/site-packages/backtesting/backtesting.py:954: UserWarning: time=3773: Broker canceled the relative-sized order due to insufficient margin.\n",
      "  warnings.warn(\n",
      "/Users/liantseng/Desktop/udemy/venv/lib/python3.13/site-packages/backtesting/backtesting.py:954: UserWarning: time=3797: Broker canceled the relative-sized order due to insufficient margin.\n",
      "  warnings.warn(\n",
      "/Users/liantseng/Desktop/udemy/venv/lib/python3.13/site-packages/backtesting/backtesting.py:954: UserWarning: time=3846: Broker canceled the relative-sized order due to insufficient margin.\n",
      "  warnings.warn(\n",
      "/Users/liantseng/Desktop/udemy/venv/lib/python3.13/site-packages/backtesting/backtesting.py:954: UserWarning: time=3856: Broker canceled the relative-sized order due to insufficient margin.\n",
      "  warnings.warn(\n",
      "/Users/liantseng/Desktop/udemy/venv/lib/python3.13/site-packages/backtesting/backtesting.py:954: UserWarning: time=3870: Broker canceled the relative-sized order due to insufficient margin.\n",
      "  warnings.warn(\n"
     ]
    },
    {
     "data": {
      "application/vnd.jupyter.widget-view+json": {
       "model_id": "06f18dafdb9f46b0988837e65de9953a",
       "version_major": 2,
       "version_minor": 0
      },
      "text/plain": [
       "Backtest.run:   0%|          | 0/3858 [00:00<?, ?bar/s]"
      ]
     },
     "metadata": {},
     "output_type": "display_data"
    },
    {
     "data": {
      "application/vnd.jupyter.widget-view+json": {
       "model_id": "5c40397f38da4288a5e6848536abe167",
       "version_major": 2,
       "version_minor": 0
      },
      "text/plain": [
       "Backtest.run:   0%|          | 0/3883 [00:00<?, ?bar/s]"
      ]
     },
     "metadata": {},
     "output_type": "display_data"
    },
    {
     "data": {
      "application/vnd.jupyter.widget-view+json": {
       "model_id": "0e0c343d068642c5b856b45e0d69db27",
       "version_major": 2,
       "version_minor": 0
      },
      "text/plain": [
       "Backtest.run:   0%|          | 0/3893 [00:00<?, ?bar/s]"
      ]
     },
     "metadata": {},
     "output_type": "display_data"
    },
    {
     "name": "stderr",
     "output_type": "stream",
     "text": [
      "/Users/liantseng/Desktop/udemy/venv/lib/python3.13/site-packages/backtesting/backtesting.py:954: UserWarning: time=2520: Broker canceled the relative-sized order due to insufficient margin.\n",
      "  warnings.warn(\n",
      "/Users/liantseng/Desktop/udemy/venv/lib/python3.13/site-packages/backtesting/backtesting.py:954: UserWarning: time=2582: Broker canceled the relative-sized order due to insufficient margin.\n",
      "  warnings.warn(\n",
      "/Users/liantseng/Desktop/udemy/venv/lib/python3.13/site-packages/backtesting/backtesting.py:954: UserWarning: time=2586: Broker canceled the relative-sized order due to insufficient margin.\n",
      "  warnings.warn(\n",
      "/Users/liantseng/Desktop/udemy/venv/lib/python3.13/site-packages/backtesting/backtesting.py:954: UserWarning: time=2639: Broker canceled the relative-sized order due to insufficient margin.\n",
      "  warnings.warn(\n"
     ]
    },
    {
     "data": {
      "application/vnd.jupyter.widget-view+json": {
       "model_id": "491b4bd8199e48709e43ba591f2d2f8c",
       "version_major": 2,
       "version_minor": 0
      },
      "text/plain": [
       "Backtest.run:   0%|          | 0/3878 [00:00<?, ?bar/s]"
      ]
     },
     "metadata": {},
     "output_type": "display_data"
    },
    {
     "data": {
      "application/vnd.jupyter.widget-view+json": {
       "model_id": "1cddb2e378a940d590c822d910210cc0",
       "version_major": 2,
       "version_minor": 0
      },
      "text/plain": [
       "Backtest.run:   0%|          | 0/3873 [00:00<?, ?bar/s]"
      ]
     },
     "metadata": {},
     "output_type": "display_data"
    },
    {
     "data": {
      "application/vnd.jupyter.widget-view+json": {
       "model_id": "3dfc29ad35674397b8234a694dc4fa86",
       "version_major": 2,
       "version_minor": 0
      },
      "text/plain": [
       "Backtest.run:   0%|          | 0/3888 [00:00<?, ?bar/s]"
      ]
     },
     "metadata": {},
     "output_type": "display_data"
    },
    {
     "data": {
      "application/vnd.jupyter.widget-view+json": {
       "model_id": "b219a806bb1a4162b1341cfa9a100c87",
       "version_major": 2,
       "version_minor": 0
      },
      "text/plain": [
       "Backtest.run:   0%|          | 0/3868 [00:00<?, ?bar/s]"
      ]
     },
     "metadata": {},
     "output_type": "display_data"
    },
    {
     "data": {
      "application/vnd.jupyter.widget-view+json": {
       "model_id": "ef3e0a2f30644014b3da78d264810a99",
       "version_major": 2,
       "version_minor": 0
      },
      "text/plain": [
       "Backtest.run:   0%|          | 0/3883 [00:00<?, ?bar/s]"
      ]
     },
     "metadata": {},
     "output_type": "display_data"
    },
    {
     "data": {
      "application/vnd.jupyter.widget-view+json": {
       "model_id": "1c7314d4709a4eb9be048cd5930d25ab",
       "version_major": 2,
       "version_minor": 0
      },
      "text/plain": [
       "Backtest.run:   0%|          | 0/3858 [00:00<?, ?bar/s]"
      ]
     },
     "metadata": {},
     "output_type": "display_data"
    },
    {
     "data": {
      "application/vnd.jupyter.widget-view+json": {
       "model_id": "de42777fb0f3408cb4cd04d6d964731f",
       "version_major": 2,
       "version_minor": 0
      },
      "text/plain": [
       "Backtest.run:   0%|          | 0/3863 [00:00<?, ?bar/s]"
      ]
     },
     "metadata": {},
     "output_type": "display_data"
    },
    {
     "data": {
      "application/vnd.jupyter.widget-view+json": {
       "model_id": "ec6ceed4edba43aea887eda52bf6aa10",
       "version_major": 2,
       "version_minor": 0
      },
      "text/plain": [
       "Backtest.run:   0%|          | 0/3853 [00:00<?, ?bar/s]"
      ]
     },
     "metadata": {},
     "output_type": "display_data"
    },
    {
     "data": {
      "application/vnd.jupyter.widget-view+json": {
       "model_id": "72408b34da33438bad3d8d6137fdc37d",
       "version_major": 2,
       "version_minor": 0
      },
      "text/plain": [
       "Backtest.run:   0%|          | 0/3888 [00:00<?, ?bar/s]"
      ]
     },
     "metadata": {},
     "output_type": "display_data"
    },
    {
     "name": "stderr",
     "output_type": "stream",
     "text": [
      "/Users/liantseng/Desktop/udemy/venv/lib/python3.13/site-packages/backtesting/backtesting.py:954: UserWarning: time=2147: Broker canceled the relative-sized order due to insufficient margin.\n",
      "  warnings.warn(\n",
      "/Users/liantseng/Desktop/udemy/venv/lib/python3.13/site-packages/backtesting/backtesting.py:954: UserWarning: time=3873: Broker canceled the relative-sized order due to insufficient margin.\n",
      "  warnings.warn(\n",
      "/Users/liantseng/Desktop/udemy/venv/lib/python3.13/site-packages/backtesting/backtesting.py:954: UserWarning: time=2196: Broker canceled the relative-sized order due to insufficient margin.\n",
      "  warnings.warn(\n",
      "/Users/liantseng/Desktop/udemy/venv/lib/python3.13/site-packages/backtesting/backtesting.py:954: UserWarning: time=2229: Broker canceled the relative-sized order due to insufficient margin.\n",
      "  warnings.warn(\n",
      "/Users/liantseng/Desktop/udemy/venv/lib/python3.13/site-packages/backtesting/backtesting.py:954: UserWarning: time=2419: Broker canceled the relative-sized order due to insufficient margin.\n",
      "  warnings.warn(\n",
      "/Users/liantseng/Desktop/udemy/venv/lib/python3.13/site-packages/backtesting/backtesting.py:954: UserWarning: time=2426: Broker canceled the relative-sized order due to insufficient margin.\n",
      "  warnings.warn(\n",
      "/Users/liantseng/Desktop/udemy/venv/lib/python3.13/site-packages/backtesting/backtesting.py:954: UserWarning: time=2435: Broker canceled the relative-sized order due to insufficient margin.\n",
      "  warnings.warn(\n",
      "/Users/liantseng/Desktop/udemy/venv/lib/python3.13/site-packages/backtesting/backtesting.py:954: UserWarning: time=2519: Broker canceled the relative-sized order due to insufficient margin.\n",
      "  warnings.warn(\n",
      "/Users/liantseng/Desktop/udemy/venv/lib/python3.13/site-packages/backtesting/backtesting.py:954: UserWarning: time=2577: Broker canceled the relative-sized order due to insufficient margin.\n",
      "  warnings.warn(\n",
      "/Users/liantseng/Desktop/udemy/venv/lib/python3.13/site-packages/backtesting/backtesting.py:954: UserWarning: time=2586: Broker canceled the relative-sized order due to insufficient margin.\n",
      "  warnings.warn(\n",
      "/Users/liantseng/Desktop/udemy/venv/lib/python3.13/site-packages/backtesting/backtesting.py:954: UserWarning: time=2636: Broker canceled the relative-sized order due to insufficient margin.\n",
      "  warnings.warn(\n",
      "/Users/liantseng/Desktop/udemy/venv/lib/python3.13/site-packages/backtesting/backtesting.py:954: UserWarning: time=2732: Broker canceled the relative-sized order due to insufficient margin.\n",
      "  warnings.warn(\n",
      "/Users/liantseng/Desktop/udemy/venv/lib/python3.13/site-packages/backtesting/backtesting.py:954: UserWarning: time=2748: Broker canceled the relative-sized order due to insufficient margin.\n",
      "  warnings.warn(\n",
      "/Users/liantseng/Desktop/udemy/venv/lib/python3.13/site-packages/backtesting/backtesting.py:954: UserWarning: time=2759: Broker canceled the relative-sized order due to insufficient margin.\n",
      "  warnings.warn(\n",
      "/Users/liantseng/Desktop/udemy/venv/lib/python3.13/site-packages/backtesting/backtesting.py:954: UserWarning: time=2791: Broker canceled the relative-sized order due to insufficient margin.\n",
      "  warnings.warn(\n",
      "/Users/liantseng/Desktop/udemy/venv/lib/python3.13/site-packages/backtesting/backtesting.py:954: UserWarning: time=2881: Broker canceled the relative-sized order due to insufficient margin.\n",
      "  warnings.warn(\n",
      "/Users/liantseng/Desktop/udemy/venv/lib/python3.13/site-packages/backtesting/backtesting.py:954: UserWarning: time=2913: Broker canceled the relative-sized order due to insufficient margin.\n",
      "  warnings.warn(\n",
      "/Users/liantseng/Desktop/udemy/venv/lib/python3.13/site-packages/backtesting/backtesting.py:954: UserWarning: time=2973: Broker canceled the relative-sized order due to insufficient margin.\n",
      "  warnings.warn(\n",
      "/Users/liantseng/Desktop/udemy/venv/lib/python3.13/site-packages/backtesting/backtesting.py:954: UserWarning: time=2984: Broker canceled the relative-sized order due to insufficient margin.\n",
      "  warnings.warn(\n",
      "/Users/liantseng/Desktop/udemy/venv/lib/python3.13/site-packages/backtesting/backtesting.py:954: UserWarning: time=3030: Broker canceled the relative-sized order due to insufficient margin.\n",
      "  warnings.warn(\n",
      "/Users/liantseng/Desktop/udemy/venv/lib/python3.13/site-packages/backtesting/backtesting.py:954: UserWarning: time=3031: Broker canceled the relative-sized order due to insufficient margin.\n",
      "  warnings.warn(\n",
      "/Users/liantseng/Desktop/udemy/venv/lib/python3.13/site-packages/backtesting/backtesting.py:954: UserWarning: time=3032: Broker canceled the relative-sized order due to insufficient margin.\n",
      "  warnings.warn(\n",
      "/Users/liantseng/Desktop/udemy/venv/lib/python3.13/site-packages/backtesting/backtesting.py:954: UserWarning: time=3173: Broker canceled the relative-sized order due to insufficient margin.\n",
      "  warnings.warn(\n",
      "/Users/liantseng/Desktop/udemy/venv/lib/python3.13/site-packages/backtesting/backtesting.py:954: UserWarning: time=3209: Broker canceled the relative-sized order due to insufficient margin.\n",
      "  warnings.warn(\n",
      "/Users/liantseng/Desktop/udemy/venv/lib/python3.13/site-packages/backtesting/backtesting.py:954: UserWarning: time=3253: Broker canceled the relative-sized order due to insufficient margin.\n",
      "  warnings.warn(\n",
      "/Users/liantseng/Desktop/udemy/venv/lib/python3.13/site-packages/backtesting/backtesting.py:954: UserWarning: time=3310: Broker canceled the relative-sized order due to insufficient margin.\n",
      "  warnings.warn(\n",
      "/Users/liantseng/Desktop/udemy/venv/lib/python3.13/site-packages/backtesting/backtesting.py:954: UserWarning: time=3420: Broker canceled the relative-sized order due to insufficient margin.\n",
      "  warnings.warn(\n",
      "/Users/liantseng/Desktop/udemy/venv/lib/python3.13/site-packages/backtesting/backtesting.py:954: UserWarning: time=3423: Broker canceled the relative-sized order due to insufficient margin.\n",
      "  warnings.warn(\n",
      "/Users/liantseng/Desktop/udemy/venv/lib/python3.13/site-packages/backtesting/backtesting.py:954: UserWarning: time=3432: Broker canceled the relative-sized order due to insufficient margin.\n",
      "  warnings.warn(\n",
      "/Users/liantseng/Desktop/udemy/venv/lib/python3.13/site-packages/backtesting/backtesting.py:954: UserWarning: time=3435: Broker canceled the relative-sized order due to insufficient margin.\n",
      "  warnings.warn(\n",
      "/Users/liantseng/Desktop/udemy/venv/lib/python3.13/site-packages/backtesting/backtesting.py:954: UserWarning: time=3510: Broker canceled the relative-sized order due to insufficient margin.\n",
      "  warnings.warn(\n",
      "/Users/liantseng/Desktop/udemy/venv/lib/python3.13/site-packages/backtesting/backtesting.py:954: UserWarning: time=3549: Broker canceled the relative-sized order due to insufficient margin.\n",
      "  warnings.warn(\n",
      "/Users/liantseng/Desktop/udemy/venv/lib/python3.13/site-packages/backtesting/backtesting.py:954: UserWarning: time=3580: Broker canceled the relative-sized order due to insufficient margin.\n",
      "  warnings.warn(\n",
      "/Users/liantseng/Desktop/udemy/venv/lib/python3.13/site-packages/backtesting/backtesting.py:954: UserWarning: time=3623: Broker canceled the relative-sized order due to insufficient margin.\n",
      "  warnings.warn(\n",
      "/Users/liantseng/Desktop/udemy/venv/lib/python3.13/site-packages/backtesting/backtesting.py:954: UserWarning: time=3639: Broker canceled the relative-sized order due to insufficient margin.\n",
      "  warnings.warn(\n",
      "/Users/liantseng/Desktop/udemy/venv/lib/python3.13/site-packages/backtesting/backtesting.py:954: UserWarning: time=3661: Broker canceled the relative-sized order due to insufficient margin.\n",
      "  warnings.warn(\n",
      "/Users/liantseng/Desktop/udemy/venv/lib/python3.13/site-packages/backtesting/backtesting.py:954: UserWarning: time=3676: Broker canceled the relative-sized order due to insufficient margin.\n",
      "  warnings.warn(\n",
      "/Users/liantseng/Desktop/udemy/venv/lib/python3.13/site-packages/backtesting/backtesting.py:954: UserWarning: time=3683: Broker canceled the relative-sized order due to insufficient margin.\n",
      "  warnings.warn(\n",
      "/Users/liantseng/Desktop/udemy/venv/lib/python3.13/site-packages/backtesting/backtesting.py:954: UserWarning: time=3786: Broker canceled the relative-sized order due to insufficient margin.\n",
      "  warnings.warn(\n",
      "/Users/liantseng/Desktop/udemy/venv/lib/python3.13/site-packages/backtesting/backtesting.py:954: UserWarning: time=3799: Broker canceled the relative-sized order due to insufficient margin.\n",
      "  warnings.warn(\n",
      "/Users/liantseng/Desktop/udemy/venv/lib/python3.13/site-packages/backtesting/backtesting.py:954: UserWarning: time=3822: Broker canceled the relative-sized order due to insufficient margin.\n",
      "  warnings.warn(\n",
      "/Users/liantseng/Desktop/udemy/venv/lib/python3.13/site-packages/backtesting/backtesting.py:954: UserWarning: time=3876: Broker canceled the relative-sized order due to insufficient margin.\n",
      "  warnings.warn(\n"
     ]
    },
    {
     "data": {
      "application/vnd.jupyter.widget-view+json": {
       "model_id": "e607bd4ee1624491a8ef91b9566e0596",
       "version_major": 2,
       "version_minor": 0
      },
      "text/plain": [
       "Backtest.run:   0%|          | 0/3878 [00:00<?, ?bar/s]"
      ]
     },
     "metadata": {},
     "output_type": "display_data"
    },
    {
     "data": {
      "application/vnd.jupyter.widget-view+json": {
       "model_id": "80bd5512b7bb48cd89385d70798cb204",
       "version_major": 2,
       "version_minor": 0
      },
      "text/plain": [
       "Backtest.run:   0%|          | 0/3873 [00:00<?, ?bar/s]"
      ]
     },
     "metadata": {},
     "output_type": "display_data"
    },
    {
     "data": {
      "application/vnd.jupyter.widget-view+json": {
       "model_id": "66b94a018ad54f98a6287c920c2d29b2",
       "version_major": 2,
       "version_minor": 0
      },
      "text/plain": [
       "Backtest.run:   0%|          | 0/3883 [00:00<?, ?bar/s]"
      ]
     },
     "metadata": {},
     "output_type": "display_data"
    },
    {
     "data": {
      "application/vnd.jupyter.widget-view+json": {
       "model_id": "5ab28d66d99f4f72a6204262efc389b9",
       "version_major": 2,
       "version_minor": 0
      },
      "text/plain": [
       "Backtest.run:   0%|          | 0/3868 [00:00<?, ?bar/s]"
      ]
     },
     "metadata": {},
     "output_type": "display_data"
    },
    {
     "data": {
      "application/vnd.jupyter.widget-view+json": {
       "model_id": "777e5293b4634ad08d47cf8fbcba165f",
       "version_major": 2,
       "version_minor": 0
      },
      "text/plain": [
       "Backtest.run:   0%|          | 0/3878 [00:00<?, ?bar/s]"
      ]
     },
     "metadata": {},
     "output_type": "display_data"
    },
    {
     "data": {
      "application/vnd.jupyter.widget-view+json": {
       "model_id": "f1adef53e9a74ef2ad09df6eb0979f5e",
       "version_major": 2,
       "version_minor": 0
      },
      "text/plain": [
       "Backtest.run:   0%|          | 0/3858 [00:00<?, ?bar/s]"
      ]
     },
     "metadata": {},
     "output_type": "display_data"
    },
    {
     "data": {
      "application/vnd.jupyter.widget-view+json": {
       "model_id": "5250ef7692a045acb880cb0c2f3fd45d",
       "version_major": 2,
       "version_minor": 0
      },
      "text/plain": [
       "Backtest.run:   0%|          | 0/3883 [00:00<?, ?bar/s]"
      ]
     },
     "metadata": {},
     "output_type": "display_data"
    },
    {
     "data": {
      "application/vnd.jupyter.widget-view+json": {
       "model_id": "d5ac221ee2514c5cbc120af53b6867b8",
       "version_major": 2,
       "version_minor": 0
      },
      "text/plain": [
       "Backtest.run:   0%|          | 0/3853 [00:00<?, ?bar/s]"
      ]
     },
     "metadata": {},
     "output_type": "display_data"
    },
    {
     "data": {
      "application/vnd.jupyter.widget-view+json": {
       "model_id": "48dda656a12d48f8a261c73c7f77e70b",
       "version_major": 2,
       "version_minor": 0
      },
      "text/plain": [
       "Backtest.run:   0%|          | 0/3863 [00:00<?, ?bar/s]"
      ]
     },
     "metadata": {},
     "output_type": "display_data"
    },
    {
     "data": {
      "application/vnd.jupyter.widget-view+json": {
       "model_id": "edc5d8c16a084ddab3730f7caeb942cf",
       "version_major": 2,
       "version_minor": 0
      },
      "text/plain": [
       "Backtest.run:   0%|          | 0/3848 [00:00<?, ?bar/s]"
      ]
     },
     "metadata": {},
     "output_type": "display_data"
    },
    {
     "data": {
      "application/vnd.jupyter.widget-view+json": {
       "model_id": "47ea637db1484bf994ccfee254f02f7d",
       "version_major": 2,
       "version_minor": 0
      },
      "text/plain": [
       "Backtest.run:   0%|          | 0/3873 [00:00<?, ?bar/s]"
      ]
     },
     "metadata": {},
     "output_type": "display_data"
    },
    {
     "data": {
      "application/vnd.jupyter.widget-view+json": {
       "model_id": "09a9000edce542eca48f18fed91f6954",
       "version_major": 2,
       "version_minor": 0
      },
      "text/plain": [
       "Backtest.run:   0%|          | 0/3868 [00:00<?, ?bar/s]"
      ]
     },
     "metadata": {},
     "output_type": "display_data"
    },
    {
     "name": "stderr",
     "output_type": "stream",
     "text": [
      "/Users/liantseng/Desktop/udemy/venv/lib/python3.13/site-packages/backtesting/backtesting.py:954: UserWarning: time=2233: Broker canceled the relative-sized order due to insufficient margin.\n",
      "  warnings.warn(\n",
      "/Users/liantseng/Desktop/udemy/venv/lib/python3.13/site-packages/backtesting/backtesting.py:954: UserWarning: time=2428: Broker canceled the relative-sized order due to insufficient margin.\n",
      "  warnings.warn(\n",
      "/Users/liantseng/Desktop/udemy/venv/lib/python3.13/site-packages/backtesting/backtesting.py:954: UserWarning: time=2523: Broker canceled the relative-sized order due to insufficient margin.\n",
      "  warnings.warn(\n",
      "/Users/liantseng/Desktop/udemy/venv/lib/python3.13/site-packages/backtesting/backtesting.py:954: UserWarning: time=2642: Broker canceled the relative-sized order due to insufficient margin.\n",
      "  warnings.warn(\n",
      "/Users/liantseng/Desktop/udemy/venv/lib/python3.13/site-packages/backtesting/backtesting.py:954: UserWarning: time=2739: Broker canceled the relative-sized order due to insufficient margin.\n",
      "  warnings.warn(\n",
      "/Users/liantseng/Desktop/udemy/venv/lib/python3.13/site-packages/backtesting/backtesting.py:954: UserWarning: time=2759: Broker canceled the relative-sized order due to insufficient margin.\n",
      "  warnings.warn(\n",
      "/Users/liantseng/Desktop/udemy/venv/lib/python3.13/site-packages/backtesting/backtesting.py:954: UserWarning: time=2766: Broker canceled the relative-sized order due to insufficient margin.\n",
      "  warnings.warn(\n",
      "/Users/liantseng/Desktop/udemy/venv/lib/python3.13/site-packages/backtesting/backtesting.py:954: UserWarning: time=2795: Broker canceled the relative-sized order due to insufficient margin.\n",
      "  warnings.warn(\n",
      "/Users/liantseng/Desktop/udemy/venv/lib/python3.13/site-packages/backtesting/backtesting.py:954: UserWarning: time=2889: Broker canceled the relative-sized order due to insufficient margin.\n",
      "  warnings.warn(\n",
      "/Users/liantseng/Desktop/udemy/venv/lib/python3.13/site-packages/backtesting/backtesting.py:954: UserWarning: time=2921: Broker canceled the relative-sized order due to insufficient margin.\n",
      "  warnings.warn(\n",
      "/Users/liantseng/Desktop/udemy/venv/lib/python3.13/site-packages/backtesting/backtesting.py:954: UserWarning: time=3039: Broker canceled the relative-sized order due to insufficient margin.\n",
      "  warnings.warn(\n",
      "/Users/liantseng/Desktop/udemy/venv/lib/python3.13/site-packages/backtesting/backtesting.py:954: UserWarning: time=3179: Broker canceled the relative-sized order due to insufficient margin.\n",
      "  warnings.warn(\n",
      "/Users/liantseng/Desktop/udemy/venv/lib/python3.13/site-packages/backtesting/backtesting.py:954: UserWarning: time=3215: Broker canceled the relative-sized order due to insufficient margin.\n",
      "  warnings.warn(\n",
      "/Users/liantseng/Desktop/udemy/venv/lib/python3.13/site-packages/backtesting/backtesting.py:954: UserWarning: time=3261: Broker canceled the relative-sized order due to insufficient margin.\n",
      "  warnings.warn(\n",
      "/Users/liantseng/Desktop/udemy/venv/lib/python3.13/site-packages/backtesting/backtesting.py:954: UserWarning: time=3318: Broker canceled the relative-sized order due to insufficient margin.\n",
      "  warnings.warn(\n",
      "/Users/liantseng/Desktop/udemy/venv/lib/python3.13/site-packages/backtesting/backtesting.py:954: UserWarning: time=3516: Broker canceled the relative-sized order due to insufficient margin.\n",
      "  warnings.warn(\n",
      "/Users/liantseng/Desktop/udemy/venv/lib/python3.13/site-packages/backtesting/backtesting.py:954: UserWarning: time=3557: Broker canceled the relative-sized order due to insufficient margin.\n",
      "  warnings.warn(\n",
      "/Users/liantseng/Desktop/udemy/venv/lib/python3.13/site-packages/backtesting/backtesting.py:954: UserWarning: time=3586: Broker canceled the relative-sized order due to insufficient margin.\n",
      "  warnings.warn(\n",
      "/Users/liantseng/Desktop/udemy/venv/lib/python3.13/site-packages/backtesting/backtesting.py:954: UserWarning: time=3630: Broker canceled the relative-sized order due to insufficient margin.\n",
      "  warnings.warn(\n",
      "/Users/liantseng/Desktop/udemy/venv/lib/python3.13/site-packages/backtesting/backtesting.py:954: UserWarning: time=3645: Broker canceled the relative-sized order due to insufficient margin.\n",
      "  warnings.warn(\n",
      "/Users/liantseng/Desktop/udemy/venv/lib/python3.13/site-packages/backtesting/backtesting.py:954: UserWarning: time=3669: Broker canceled the relative-sized order due to insufficient margin.\n",
      "  warnings.warn(\n",
      "/Users/liantseng/Desktop/udemy/venv/lib/python3.13/site-packages/backtesting/backtesting.py:954: UserWarning: time=3793: Broker canceled the relative-sized order due to insufficient margin.\n",
      "  warnings.warn(\n",
      "/Users/liantseng/Desktop/udemy/venv/lib/python3.13/site-packages/backtesting/backtesting.py:954: UserWarning: time=3807: Broker canceled the relative-sized order due to insufficient margin.\n",
      "  warnings.warn(\n",
      "/Users/liantseng/Desktop/udemy/venv/lib/python3.13/site-packages/backtesting/backtesting.py:954: UserWarning: time=3825: Broker canceled the relative-sized order due to insufficient margin.\n",
      "  warnings.warn(\n",
      "/Users/liantseng/Desktop/udemy/venv/lib/python3.13/site-packages/backtesting/backtesting.py:954: UserWarning: time=3880: Broker canceled the relative-sized order due to insufficient margin.\n",
      "  warnings.warn(\n",
      "/Users/liantseng/Desktop/udemy/venv/lib/python3.13/site-packages/backtesting/backtesting.py:954: UserWarning: time=2055: Broker canceled the relative-sized order due to insufficient margin.\n",
      "  warnings.warn(\n",
      "/Users/liantseng/Desktop/udemy/venv/lib/python3.13/site-packages/backtesting/backtesting.py:954: UserWarning: time=2118: Broker canceled the relative-sized order due to insufficient margin.\n",
      "  warnings.warn(\n",
      "/Users/liantseng/Desktop/udemy/venv/lib/python3.13/site-packages/backtesting/backtesting.py:954: UserWarning: time=2120: Broker canceled the relative-sized order due to insufficient margin.\n",
      "  warnings.warn(\n",
      "/Users/liantseng/Desktop/udemy/venv/lib/python3.13/site-packages/backtesting/backtesting.py:954: UserWarning: time=2133: Broker canceled the relative-sized order due to insufficient margin.\n",
      "  warnings.warn(\n",
      "/Users/liantseng/Desktop/udemy/venv/lib/python3.13/site-packages/backtesting/backtesting.py:954: UserWarning: time=2148: Broker canceled the relative-sized order due to insufficient margin.\n",
      "  warnings.warn(\n",
      "/Users/liantseng/Desktop/udemy/venv/lib/python3.13/site-packages/backtesting/backtesting.py:954: UserWarning: time=2199: Broker canceled the relative-sized order due to insufficient margin.\n",
      "  warnings.warn(\n",
      "/Users/liantseng/Desktop/udemy/venv/lib/python3.13/site-packages/backtesting/backtesting.py:954: UserWarning: time=2230: Broker canceled the relative-sized order due to insufficient margin.\n",
      "  warnings.warn(\n",
      "/Users/liantseng/Desktop/udemy/venv/lib/python3.13/site-packages/backtesting/backtesting.py:954: UserWarning: time=2423: Broker canceled the relative-sized order due to insufficient margin.\n",
      "  warnings.warn(\n",
      "/Users/liantseng/Desktop/udemy/venv/lib/python3.13/site-packages/backtesting/backtesting.py:954: UserWarning: time=2427: Broker canceled the relative-sized order due to insufficient margin.\n",
      "  warnings.warn(\n",
      "/Users/liantseng/Desktop/udemy/venv/lib/python3.13/site-packages/backtesting/backtesting.py:954: UserWarning: time=2433: Broker canceled the relative-sized order due to insufficient margin.\n",
      "  warnings.warn(\n",
      "/Users/liantseng/Desktop/udemy/venv/lib/python3.13/site-packages/backtesting/backtesting.py:954: UserWarning: time=2520: Broker canceled the relative-sized order due to insufficient margin.\n",
      "  warnings.warn(\n",
      "/Users/liantseng/Desktop/udemy/venv/lib/python3.13/site-packages/backtesting/backtesting.py:954: UserWarning: time=2639: Broker canceled the relative-sized order due to insufficient margin.\n",
      "  warnings.warn(\n",
      "/Users/liantseng/Desktop/udemy/venv/lib/python3.13/site-packages/backtesting/backtesting.py:954: UserWarning: time=2734: Broker canceled the relative-sized order due to insufficient margin.\n",
      "  warnings.warn(\n",
      "/Users/liantseng/Desktop/udemy/venv/lib/python3.13/site-packages/backtesting/backtesting.py:954: UserWarning: time=2753: Broker canceled the relative-sized order due to insufficient margin.\n",
      "  warnings.warn(\n",
      "/Users/liantseng/Desktop/udemy/venv/lib/python3.13/site-packages/backtesting/backtesting.py:954: UserWarning: time=2760: Broker canceled the relative-sized order due to insufficient margin.\n",
      "  warnings.warn(\n",
      "/Users/liantseng/Desktop/udemy/venv/lib/python3.13/site-packages/backtesting/backtesting.py:954: UserWarning: time=2792: Broker canceled the relative-sized order due to insufficient margin.\n",
      "  warnings.warn(\n",
      "/Users/liantseng/Desktop/udemy/venv/lib/python3.13/site-packages/backtesting/backtesting.py:954: UserWarning: time=2885: Broker canceled the relative-sized order due to insufficient margin.\n",
      "  warnings.warn(\n",
      "/Users/liantseng/Desktop/udemy/venv/lib/python3.13/site-packages/backtesting/backtesting.py:954: UserWarning: time=2917: Broker canceled the relative-sized order due to insufficient margin.\n",
      "  warnings.warn(\n",
      "/Users/liantseng/Desktop/udemy/venv/lib/python3.13/site-packages/backtesting/backtesting.py:954: UserWarning: time=2978: Broker canceled the relative-sized order due to insufficient margin.\n",
      "  warnings.warn(\n",
      "/Users/liantseng/Desktop/udemy/venv/lib/python3.13/site-packages/backtesting/backtesting.py:954: UserWarning: time=2985: Broker canceled the relative-sized order due to insufficient margin.\n",
      "  warnings.warn(\n",
      "/Users/liantseng/Desktop/udemy/venv/lib/python3.13/site-packages/backtesting/backtesting.py:954: UserWarning: time=3034: Broker canceled the relative-sized order due to insufficient margin.\n",
      "  warnings.warn(\n",
      "/Users/liantseng/Desktop/udemy/venv/lib/python3.13/site-packages/backtesting/backtesting.py:954: UserWarning: time=3174: Broker canceled the relative-sized order due to insufficient margin.\n",
      "  warnings.warn(\n",
      "/Users/liantseng/Desktop/udemy/venv/lib/python3.13/site-packages/backtesting/backtesting.py:954: UserWarning: time=3211: Broker canceled the relative-sized order due to insufficient margin.\n",
      "  warnings.warn(\n",
      "/Users/liantseng/Desktop/udemy/venv/lib/python3.13/site-packages/backtesting/backtesting.py:954: UserWarning: time=3256: Broker canceled the relative-sized order due to insufficient margin.\n",
      "  warnings.warn(\n",
      "/Users/liantseng/Desktop/udemy/venv/lib/python3.13/site-packages/backtesting/backtesting.py:954: UserWarning: time=3314: Broker canceled the relative-sized order due to insufficient margin.\n",
      "  warnings.warn(\n",
      "/Users/liantseng/Desktop/udemy/venv/lib/python3.13/site-packages/backtesting/backtesting.py:954: UserWarning: time=3512: Broker canceled the relative-sized order due to insufficient margin.\n",
      "  warnings.warn(\n",
      "/Users/liantseng/Desktop/udemy/venv/lib/python3.13/site-packages/backtesting/backtesting.py:954: UserWarning: time=3553: Broker canceled the relative-sized order due to insufficient margin.\n",
      "  warnings.warn(\n",
      "/Users/liantseng/Desktop/udemy/venv/lib/python3.13/site-packages/backtesting/backtesting.py:954: UserWarning: time=3582: Broker canceled the relative-sized order due to insufficient margin.\n",
      "  warnings.warn(\n",
      "/Users/liantseng/Desktop/udemy/venv/lib/python3.13/site-packages/backtesting/backtesting.py:954: UserWarning: time=3625: Broker canceled the relative-sized order due to insufficient margin.\n",
      "  warnings.warn(\n",
      "/Users/liantseng/Desktop/udemy/venv/lib/python3.13/site-packages/backtesting/backtesting.py:954: UserWarning: time=3641: Broker canceled the relative-sized order due to insufficient margin.\n",
      "  warnings.warn(\n",
      "/Users/liantseng/Desktop/udemy/venv/lib/python3.13/site-packages/backtesting/backtesting.py:954: UserWarning: time=3665: Broker canceled the relative-sized order due to insufficient margin.\n",
      "  warnings.warn(\n",
      "/Users/liantseng/Desktop/udemy/venv/lib/python3.13/site-packages/backtesting/backtesting.py:954: UserWarning: time=3677: Broker canceled the relative-sized order due to insufficient margin.\n",
      "  warnings.warn(\n",
      "/Users/liantseng/Desktop/udemy/venv/lib/python3.13/site-packages/backtesting/backtesting.py:954: UserWarning: time=3679: Broker canceled the relative-sized order due to insufficient margin.\n",
      "  warnings.warn(\n",
      "/Users/liantseng/Desktop/udemy/venv/lib/python3.13/site-packages/backtesting/backtesting.py:954: UserWarning: time=3788: Broker canceled the relative-sized order due to insufficient margin.\n",
      "  warnings.warn(\n",
      "/Users/liantseng/Desktop/udemy/venv/lib/python3.13/site-packages/backtesting/backtesting.py:954: UserWarning: time=3801: Broker canceled the relative-sized order due to insufficient margin.\n",
      "  warnings.warn(\n",
      "/Users/liantseng/Desktop/udemy/venv/lib/python3.13/site-packages/backtesting/backtesting.py:954: UserWarning: time=3822: Broker canceled the relative-sized order due to insufficient margin.\n",
      "  warnings.warn(\n",
      "/Users/liantseng/Desktop/udemy/venv/lib/python3.13/site-packages/backtesting/backtesting.py:954: UserWarning: time=3878: Broker canceled the relative-sized order due to insufficient margin.\n",
      "  warnings.warn(\n",
      "/Users/liantseng/Desktop/udemy/venv/lib/python3.13/site-packages/backtesting/backtesting.py:954: UserWarning: time=2586: Broker canceled the relative-sized order due to insufficient margin.\n",
      "  warnings.warn(\n",
      "/Users/liantseng/Desktop/udemy/venv/lib/python3.13/site-packages/backtesting/backtesting.py:954: UserWarning: time=2631: Broker canceled the relative-sized order due to insufficient margin.\n",
      "  warnings.warn(\n",
      "/Users/liantseng/Desktop/udemy/venv/lib/python3.13/site-packages/backtesting/backtesting.py:954: UserWarning: time=2752: Broker canceled the relative-sized order due to insufficient margin.\n",
      "  warnings.warn(\n",
      "/Users/liantseng/Desktop/udemy/venv/lib/python3.13/site-packages/backtesting/backtesting.py:954: UserWarning: time=3205: Broker canceled the relative-sized order due to insufficient margin.\n",
      "  warnings.warn(\n",
      "/Users/liantseng/Desktop/udemy/venv/lib/python3.13/site-packages/backtesting/backtesting.py:954: UserWarning: time=3247: Broker canceled the relative-sized order due to insufficient margin.\n",
      "  warnings.warn(\n",
      "/Users/liantseng/Desktop/udemy/venv/lib/python3.13/site-packages/backtesting/backtesting.py:954: UserWarning: time=3306: Broker canceled the relative-sized order due to insufficient margin.\n",
      "  warnings.warn(\n",
      "/Users/liantseng/Desktop/udemy/venv/lib/python3.13/site-packages/backtesting/backtesting.py:954: UserWarning: time=3424: Broker canceled the relative-sized order due to insufficient margin.\n",
      "  warnings.warn(\n",
      "/Users/liantseng/Desktop/udemy/venv/lib/python3.13/site-packages/backtesting/backtesting.py:954: UserWarning: time=3426: Broker canceled the relative-sized order due to insufficient margin.\n",
      "  warnings.warn(\n",
      "/Users/liantseng/Desktop/udemy/venv/lib/python3.13/site-packages/backtesting/backtesting.py:954: UserWarning: time=3429: Broker canceled the relative-sized order due to insufficient margin.\n",
      "  warnings.warn(\n",
      "/Users/liantseng/Desktop/udemy/venv/lib/python3.13/site-packages/backtesting/backtesting.py:954: UserWarning: time=3442: Broker canceled the relative-sized order due to insufficient margin.\n",
      "  warnings.warn(\n",
      "/Users/liantseng/Desktop/udemy/venv/lib/python3.13/site-packages/backtesting/backtesting.py:954: UserWarning: time=3503: Broker canceled the relative-sized order due to insufficient margin.\n",
      "  warnings.warn(\n",
      "/Users/liantseng/Desktop/udemy/venv/lib/python3.13/site-packages/backtesting/backtesting.py:954: UserWarning: time=3545: Broker canceled the relative-sized order due to insufficient margin.\n",
      "  warnings.warn(\n",
      "/Users/liantseng/Desktop/udemy/venv/lib/python3.13/site-packages/backtesting/backtesting.py:954: UserWarning: time=3575: Broker canceled the relative-sized order due to insufficient margin.\n",
      "  warnings.warn(\n",
      "/Users/liantseng/Desktop/udemy/venv/lib/python3.13/site-packages/backtesting/backtesting.py:954: UserWarning: time=3614: Broker canceled the relative-sized order due to insufficient margin.\n",
      "  warnings.warn(\n",
      "/Users/liantseng/Desktop/udemy/venv/lib/python3.13/site-packages/backtesting/backtesting.py:954: UserWarning: time=3632: Broker canceled the relative-sized order due to insufficient margin.\n",
      "  warnings.warn(\n",
      "/Users/liantseng/Desktop/udemy/venv/lib/python3.13/site-packages/backtesting/backtesting.py:954: UserWarning: time=3657: Broker canceled the relative-sized order due to insufficient margin.\n",
      "  warnings.warn(\n",
      "/Users/liantseng/Desktop/udemy/venv/lib/python3.13/site-packages/backtesting/backtesting.py:954: UserWarning: time=3666: Broker canceled the relative-sized order due to insufficient margin.\n",
      "  warnings.warn(\n",
      "/Users/liantseng/Desktop/udemy/venv/lib/python3.13/site-packages/backtesting/backtesting.py:954: UserWarning: time=3673: Broker canceled the relative-sized order due to insufficient margin.\n",
      "  warnings.warn(\n",
      "/Users/liantseng/Desktop/udemy/venv/lib/python3.13/site-packages/backtesting/backtesting.py:954: UserWarning: time=3774: Broker canceled the relative-sized order due to insufficient margin.\n",
      "  warnings.warn(\n",
      "/Users/liantseng/Desktop/udemy/venv/lib/python3.13/site-packages/backtesting/backtesting.py:954: UserWarning: time=3791: Broker canceled the relative-sized order due to insufficient margin.\n",
      "  warnings.warn(\n",
      "/Users/liantseng/Desktop/udemy/venv/lib/python3.13/site-packages/backtesting/backtesting.py:954: UserWarning: time=3816: Broker canceled the relative-sized order due to insufficient margin.\n",
      "  warnings.warn(\n",
      "/Users/liantseng/Desktop/udemy/venv/lib/python3.13/site-packages/backtesting/backtesting.py:954: UserWarning: time=3872: Broker canceled the relative-sized order due to insufficient margin.\n",
      "  warnings.warn(\n"
     ]
    },
    {
     "data": {
      "application/vnd.jupyter.widget-view+json": {
       "model_id": "c87780fe9d4c4bd78a72d1cd82e8fc14",
       "version_major": 2,
       "version_minor": 0
      },
      "text/plain": [
       "Backtest.run:   0%|          | 0/3873 [00:00<?, ?bar/s]"
      ]
     },
     "metadata": {},
     "output_type": "display_data"
    },
    {
     "data": {
      "application/vnd.jupyter.widget-view+json": {
       "model_id": "5da9e1078b324b63acfc8af4238eacb3",
       "version_major": 2,
       "version_minor": 0
      },
      "text/plain": [
       "Backtest.run:   0%|          | 0/3863 [00:00<?, ?bar/s]"
      ]
     },
     "metadata": {},
     "output_type": "display_data"
    },
    {
     "data": {
      "application/vnd.jupyter.widget-view+json": {
       "model_id": "45c94907fc114ddda2e72710d5eb3e4e",
       "version_major": 2,
       "version_minor": 0
      },
      "text/plain": [
       "Backtest.run:   0%|          | 0/3853 [00:00<?, ?bar/s]"
      ]
     },
     "metadata": {},
     "output_type": "display_data"
    },
    {
     "data": {
      "application/vnd.jupyter.widget-view+json": {
       "model_id": "f63936d0d7a941669b3808b43accb440",
       "version_major": 2,
       "version_minor": 0
      },
      "text/plain": [
       "Backtest.run:   0%|          | 0/3878 [00:00<?, ?bar/s]"
      ]
     },
     "metadata": {},
     "output_type": "display_data"
    },
    {
     "data": {
      "application/vnd.jupyter.widget-view+json": {
       "model_id": "45ebb2f0dde14ce992a419260e297039",
       "version_major": 2,
       "version_minor": 0
      },
      "text/plain": [
       "Backtest.run:   0%|          | 0/3843 [00:00<?, ?bar/s]"
      ]
     },
     "metadata": {},
     "output_type": "display_data"
    },
    {
     "data": {
      "application/vnd.jupyter.widget-view+json": {
       "model_id": "8190129c83f2415eb851489e5fb555cf",
       "version_major": 2,
       "version_minor": 0
      },
      "text/plain": [
       "Backtest.run:   0%|          | 0/3858 [00:00<?, ?bar/s]"
      ]
     },
     "metadata": {},
     "output_type": "display_data"
    },
    {
     "data": {
      "application/vnd.jupyter.widget-view+json": {
       "model_id": "88b78cd245f24f17a21447984242ad4a",
       "version_major": 2,
       "version_minor": 0
      },
      "text/plain": [
       "Backtest.run:   0%|          | 0/3848 [00:00<?, ?bar/s]"
      ]
     },
     "metadata": {},
     "output_type": "display_data"
    },
    {
     "data": {
      "application/vnd.jupyter.widget-view+json": {
       "model_id": "59ee669185ac48fd82e57b778c1d1cf3",
       "version_major": 2,
       "version_minor": 0
      },
      "text/plain": [
       "Backtest.run:   0%|          | 0/3863 [00:00<?, ?bar/s]"
      ]
     },
     "metadata": {},
     "output_type": "display_data"
    },
    {
     "data": {
      "application/vnd.jupyter.widget-view+json": {
       "model_id": "38fd32c1e88846f09a47d10418576ca3",
       "version_major": 2,
       "version_minor": 0
      },
      "text/plain": [
       "Backtest.run:   0%|          | 0/3878 [00:00<?, ?bar/s]"
      ]
     },
     "metadata": {},
     "output_type": "display_data"
    },
    {
     "data": {
      "application/vnd.jupyter.widget-view+json": {
       "model_id": "3bc9761901404ed9af547d6bd6909402",
       "version_major": 2,
       "version_minor": 0
      },
      "text/plain": [
       "Backtest.run:   0%|          | 0/3868 [00:00<?, ?bar/s]"
      ]
     },
     "metadata": {},
     "output_type": "display_data"
    },
    {
     "name": "stderr",
     "output_type": "stream",
     "text": [
      "/Users/liantseng/Desktop/udemy/venv/lib/python3.13/site-packages/backtesting/backtesting.py:954: UserWarning: time=2586: Broker canceled the relative-sized order due to insufficient margin.\n",
      "  warnings.warn(\n",
      "/Users/liantseng/Desktop/udemy/venv/lib/python3.13/site-packages/backtesting/backtesting.py:954: UserWarning: time=3665: Broker canceled the relative-sized order due to insufficient margin.\n",
      "  warnings.warn(\n",
      "/Users/liantseng/Desktop/udemy/venv/lib/python3.13/site-packages/backtesting/backtesting.py:954: UserWarning: time=3767: Broker canceled the relative-sized order due to insufficient margin.\n",
      "  warnings.warn(\n",
      "/Users/liantseng/Desktop/udemy/venv/lib/python3.13/site-packages/backtesting/backtesting.py:954: UserWarning: time=3783: Broker canceled the relative-sized order due to insufficient margin.\n",
      "  warnings.warn(\n",
      "/Users/liantseng/Desktop/udemy/venv/lib/python3.13/site-packages/backtesting/backtesting.py:954: UserWarning: time=3809: Broker canceled the relative-sized order due to insufficient margin.\n",
      "  warnings.warn(\n",
      "/Users/liantseng/Desktop/udemy/venv/lib/python3.13/site-packages/backtesting/backtesting.py:954: UserWarning: time=3874: Broker canceled the relative-sized order due to insufficient margin.\n",
      "  warnings.warn(\n",
      "/Users/liantseng/Desktop/udemy/venv/lib/python3.13/site-packages/backtesting/backtesting.py:954: UserWarning: time=2146: Broker canceled the relative-sized order due to insufficient margin.\n",
      "  warnings.warn(\n",
      "/Users/liantseng/Desktop/udemy/venv/lib/python3.13/site-packages/backtesting/backtesting.py:954: UserWarning: time=3632: Broker canceled the relative-sized order due to insufficient margin.\n",
      "  warnings.warn(\n",
      "/Users/liantseng/Desktop/udemy/venv/lib/python3.13/site-packages/backtesting/backtesting.py:954: UserWarning: time=3673: Broker canceled the relative-sized order due to insufficient margin.\n",
      "  warnings.warn(\n",
      "/Users/liantseng/Desktop/udemy/venv/lib/python3.13/site-packages/backtesting/backtesting.py:954: UserWarning: time=3794: Broker canceled the relative-sized order due to insufficient margin.\n",
      "  warnings.warn(\n",
      "/Users/liantseng/Desktop/udemy/venv/lib/python3.13/site-packages/backtesting/backtesting.py:954: UserWarning: time=3807: Broker canceled the relative-sized order due to insufficient margin.\n",
      "  warnings.warn(\n",
      "/Users/liantseng/Desktop/udemy/venv/lib/python3.13/site-packages/backtesting/backtesting.py:954: UserWarning: time=3826: Broker canceled the relative-sized order due to insufficient margin.\n",
      "  warnings.warn(\n",
      "/Users/liantseng/Desktop/udemy/venv/lib/python3.13/site-packages/backtesting/backtesting.py:954: UserWarning: time=3882: Broker canceled the relative-sized order due to insufficient margin.\n",
      "  warnings.warn(\n",
      "/Users/liantseng/Desktop/udemy/venv/lib/python3.13/site-packages/backtesting/backtesting.py:954: UserWarning: time=2228: Broker canceled the relative-sized order due to insufficient margin.\n",
      "  warnings.warn(\n",
      "/Users/liantseng/Desktop/udemy/venv/lib/python3.13/site-packages/backtesting/backtesting.py:954: UserWarning: time=2430: Broker canceled the relative-sized order due to insufficient margin.\n",
      "  warnings.warn(\n",
      "/Users/liantseng/Desktop/udemy/venv/lib/python3.13/site-packages/backtesting/backtesting.py:954: UserWarning: time=2518: Broker canceled the relative-sized order due to insufficient margin.\n",
      "  warnings.warn(\n",
      "/Users/liantseng/Desktop/udemy/venv/lib/python3.13/site-packages/backtesting/backtesting.py:954: UserWarning: time=2575: Broker canceled the relative-sized order due to insufficient margin.\n",
      "  warnings.warn(\n",
      "/Users/liantseng/Desktop/udemy/venv/lib/python3.13/site-packages/backtesting/backtesting.py:954: UserWarning: time=2584: Broker canceled the relative-sized order due to insufficient margin.\n",
      "  warnings.warn(\n",
      "/Users/liantseng/Desktop/udemy/venv/lib/python3.13/site-packages/backtesting/backtesting.py:954: UserWarning: time=2588: Broker canceled the relative-sized order due to insufficient margin.\n",
      "  warnings.warn(\n",
      "/Users/liantseng/Desktop/udemy/venv/lib/python3.13/site-packages/backtesting/backtesting.py:954: UserWarning: time=2638: Broker canceled the relative-sized order due to insufficient margin.\n",
      "  warnings.warn(\n",
      "/Users/liantseng/Desktop/udemy/venv/lib/python3.13/site-packages/backtesting/backtesting.py:954: UserWarning: time=2730: Broker canceled the relative-sized order due to insufficient margin.\n",
      "  warnings.warn(\n",
      "/Users/liantseng/Desktop/udemy/venv/lib/python3.13/site-packages/backtesting/backtesting.py:954: UserWarning: time=2749: Broker canceled the relative-sized order due to insufficient margin.\n",
      "  warnings.warn(\n",
      "/Users/liantseng/Desktop/udemy/venv/lib/python3.13/site-packages/backtesting/backtesting.py:954: UserWarning: time=2755: Broker canceled the relative-sized order due to insufficient margin.\n",
      "  warnings.warn(\n",
      "/Users/liantseng/Desktop/udemy/venv/lib/python3.13/site-packages/backtesting/backtesting.py:954: UserWarning: time=2790: Broker canceled the relative-sized order due to insufficient margin.\n",
      "  warnings.warn(\n",
      "/Users/liantseng/Desktop/udemy/venv/lib/python3.13/site-packages/backtesting/backtesting.py:954: UserWarning: time=2884: Broker canceled the relative-sized order due to insufficient margin.\n",
      "  warnings.warn(\n",
      "/Users/liantseng/Desktop/udemy/venv/lib/python3.13/site-packages/backtesting/backtesting.py:954: UserWarning: time=2914: Broker canceled the relative-sized order due to insufficient margin.\n",
      "  warnings.warn(\n",
      "/Users/liantseng/Desktop/udemy/venv/lib/python3.13/site-packages/backtesting/backtesting.py:954: UserWarning: time=2976: Broker canceled the relative-sized order due to insufficient margin.\n",
      "  warnings.warn(\n",
      "/Users/liantseng/Desktop/udemy/venv/lib/python3.13/site-packages/backtesting/backtesting.py:954: UserWarning: time=2981: Broker canceled the relative-sized order due to insufficient margin.\n",
      "  warnings.warn(\n",
      "/Users/liantseng/Desktop/udemy/venv/lib/python3.13/site-packages/backtesting/backtesting.py:954: UserWarning: time=3033: Broker canceled the relative-sized order due to insufficient margin.\n",
      "  warnings.warn(\n",
      "/Users/liantseng/Desktop/udemy/venv/lib/python3.13/site-packages/backtesting/backtesting.py:954: UserWarning: time=3171: Broker canceled the relative-sized order due to insufficient margin.\n",
      "  warnings.warn(\n",
      "/Users/liantseng/Desktop/udemy/venv/lib/python3.13/site-packages/backtesting/backtesting.py:954: UserWarning: time=3210: Broker canceled the relative-sized order due to insufficient margin.\n",
      "  warnings.warn(\n",
      "/Users/liantseng/Desktop/udemy/venv/lib/python3.13/site-packages/backtesting/backtesting.py:954: UserWarning: time=3255: Broker canceled the relative-sized order due to insufficient margin.\n",
      "  warnings.warn(\n",
      "/Users/liantseng/Desktop/udemy/venv/lib/python3.13/site-packages/backtesting/backtesting.py:954: UserWarning: time=3313: Broker canceled the relative-sized order due to insufficient margin.\n",
      "  warnings.warn(\n",
      "/Users/liantseng/Desktop/udemy/venv/lib/python3.13/site-packages/backtesting/backtesting.py:954: UserWarning: time=3425: Broker canceled the relative-sized order due to insufficient margin.\n",
      "  warnings.warn(\n",
      "/Users/liantseng/Desktop/udemy/venv/lib/python3.13/site-packages/backtesting/backtesting.py:954: UserWarning: time=3430: Broker canceled the relative-sized order due to insufficient margin.\n",
      "  warnings.warn(\n",
      "/Users/liantseng/Desktop/udemy/venv/lib/python3.13/site-packages/backtesting/backtesting.py:954: UserWarning: time=3511: Broker canceled the relative-sized order due to insufficient margin.\n",
      "  warnings.warn(\n",
      "/Users/liantseng/Desktop/udemy/venv/lib/python3.13/site-packages/backtesting/backtesting.py:954: UserWarning: time=3551: Broker canceled the relative-sized order due to insufficient margin.\n",
      "  warnings.warn(\n",
      "/Users/liantseng/Desktop/udemy/venv/lib/python3.13/site-packages/backtesting/backtesting.py:954: UserWarning: time=3580: Broker canceled the relative-sized order due to insufficient margin.\n",
      "  warnings.warn(\n",
      "/Users/liantseng/Desktop/udemy/venv/lib/python3.13/site-packages/backtesting/backtesting.py:954: UserWarning: time=3621: Broker canceled the relative-sized order due to insufficient margin.\n",
      "  warnings.warn(\n",
      "/Users/liantseng/Desktop/udemy/venv/lib/python3.13/site-packages/backtesting/backtesting.py:954: UserWarning: time=3638: Broker canceled the relative-sized order due to insufficient margin.\n",
      "  warnings.warn(\n",
      "/Users/liantseng/Desktop/udemy/venv/lib/python3.13/site-packages/backtesting/backtesting.py:954: UserWarning: time=3664: Broker canceled the relative-sized order due to insufficient margin.\n",
      "  warnings.warn(\n",
      "/Users/liantseng/Desktop/udemy/venv/lib/python3.13/site-packages/backtesting/backtesting.py:954: UserWarning: time=3674: Broker canceled the relative-sized order due to insufficient margin.\n",
      "  warnings.warn(\n",
      "/Users/liantseng/Desktop/udemy/venv/lib/python3.13/site-packages/backtesting/backtesting.py:954: UserWarning: time=3784: Broker canceled the relative-sized order due to insufficient margin.\n",
      "  warnings.warn(\n",
      "/Users/liantseng/Desktop/udemy/venv/lib/python3.13/site-packages/backtesting/backtesting.py:954: UserWarning: time=3796: Broker canceled the relative-sized order due to insufficient margin.\n",
      "  warnings.warn(\n",
      "/Users/liantseng/Desktop/udemy/venv/lib/python3.13/site-packages/backtesting/backtesting.py:954: UserWarning: time=3819: Broker canceled the relative-sized order due to insufficient margin.\n",
      "  warnings.warn(\n",
      "/Users/liantseng/Desktop/udemy/venv/lib/python3.13/site-packages/backtesting/backtesting.py:954: UserWarning: time=3875: Broker canceled the relative-sized order due to insufficient margin.\n",
      "  warnings.warn(\n"
     ]
    },
    {
     "data": {
      "application/vnd.jupyter.widget-view+json": {
       "model_id": "363ffcee3ca643d08ba8e710788c313e",
       "version_major": 2,
       "version_minor": 0
      },
      "text/plain": [
       "Backtest.run:   0%|          | 0/3858 [00:00<?, ?bar/s]"
      ]
     },
     "metadata": {},
     "output_type": "display_data"
    },
    {
     "data": {
      "application/vnd.jupyter.widget-view+json": {
       "model_id": "11e603b450e44ca28deb5caba87cf089",
       "version_major": 2,
       "version_minor": 0
      },
      "text/plain": [
       "Backtest.run:   0%|          | 0/3843 [00:00<?, ?bar/s]"
      ]
     },
     "metadata": {},
     "output_type": "display_data"
    },
    {
     "data": {
      "application/vnd.jupyter.widget-view+json": {
       "model_id": "13f7ddb43a5f4a2bb3e61fe25ac5913d",
       "version_major": 2,
       "version_minor": 0
      },
      "text/plain": [
       "Backtest.run:   0%|          | 0/3848 [00:00<?, ?bar/s]"
      ]
     },
     "metadata": {},
     "output_type": "display_data"
    },
    {
     "data": {
      "application/vnd.jupyter.widget-view+json": {
       "model_id": "b2a2f1b47c4f4d1989a04584987b58b9",
       "version_major": 2,
       "version_minor": 0
      },
      "text/plain": [
       "Backtest.run:   0%|          | 0/3863 [00:00<?, ?bar/s]"
      ]
     },
     "metadata": {},
     "output_type": "display_data"
    },
    {
     "data": {
      "application/vnd.jupyter.widget-view+json": {
       "model_id": "9f63d7789f4f437b97de6be47989afdb",
       "version_major": 2,
       "version_minor": 0
      },
      "text/plain": [
       "Backtest.run:   0%|          | 0/3873 [00:00<?, ?bar/s]"
      ]
     },
     "metadata": {},
     "output_type": "display_data"
    },
    {
     "data": {
      "application/vnd.jupyter.widget-view+json": {
       "model_id": "174d2d835a9b46f3a65776f4c328188a",
       "version_major": 2,
       "version_minor": 0
      },
      "text/plain": [
       "Backtest.run:   0%|          | 0/3853 [00:00<?, ?bar/s]"
      ]
     },
     "metadata": {},
     "output_type": "display_data"
    },
    {
     "data": {
      "application/vnd.jupyter.widget-view+json": {
       "model_id": "6e39c12e7c44414685a69bfa1aff1869",
       "version_major": 2,
       "version_minor": 0
      },
      "text/plain": [
       "Backtest.run:   0%|          | 0/3868 [00:00<?, ?bar/s]"
      ]
     },
     "metadata": {},
     "output_type": "display_data"
    },
    {
     "data": {
      "application/vnd.jupyter.widget-view+json": {
       "model_id": "b153467533b94b49a19580f7241dffd0",
       "version_major": 2,
       "version_minor": 0
      },
      "text/plain": [
       "Backtest.run:   0%|          | 0/3838 [00:00<?, ?bar/s]"
      ]
     },
     "metadata": {},
     "output_type": "display_data"
    },
    {
     "data": {
      "application/vnd.jupyter.widget-view+json": {
       "model_id": "ff0a655289824b59b230b76c164a1f33",
       "version_major": 2,
       "version_minor": 0
      },
      "text/plain": [
       "Backtest.run:   0%|          | 0/3858 [00:00<?, ?bar/s]"
      ]
     },
     "metadata": {},
     "output_type": "display_data"
    },
    {
     "data": {
      "application/vnd.jupyter.widget-view+json": {
       "model_id": "86d7f68a4d1b4280a9ed36d3504734d6",
       "version_major": 2,
       "version_minor": 0
      },
      "text/plain": [
       "Backtest.run:   0%|          | 0/3873 [00:00<?, ?bar/s]"
      ]
     },
     "metadata": {},
     "output_type": "display_data"
    },
    {
     "name": "stderr",
     "output_type": "stream",
     "text": [
      "/Users/liantseng/Desktop/udemy/venv/lib/python3.13/site-packages/backtesting/backtesting.py:954: UserWarning: time=3629: Broker canceled the relative-sized order due to insufficient margin.\n",
      "  warnings.warn(\n",
      "/Users/liantseng/Desktop/udemy/venv/lib/python3.13/site-packages/backtesting/backtesting.py:954: UserWarning: time=3875: Broker canceled the relative-sized order due to insufficient margin.\n",
      "  warnings.warn(\n",
      "/Users/liantseng/Desktop/udemy/venv/lib/python3.13/site-packages/backtesting/backtesting.py:954: UserWarning: time=3672: Broker canceled the relative-sized order due to insufficient margin.\n",
      "  warnings.warn(\n",
      "/Users/liantseng/Desktop/udemy/venv/lib/python3.13/site-packages/backtesting/backtesting.py:954: UserWarning: time=3793: Broker canceled the relative-sized order due to insufficient margin.\n",
      "  warnings.warn(\n",
      "/Users/liantseng/Desktop/udemy/venv/lib/python3.13/site-packages/backtesting/backtesting.py:954: UserWarning: time=3802: Broker canceled the relative-sized order due to insufficient margin.\n",
      "  warnings.warn(\n",
      "/Users/liantseng/Desktop/udemy/venv/lib/python3.13/site-packages/backtesting/backtesting.py:954: UserWarning: time=3823: Broker canceled the relative-sized order due to insufficient margin.\n",
      "  warnings.warn(\n",
      "/Users/liantseng/Desktop/udemy/venv/lib/python3.13/site-packages/backtesting/backtesting.py:954: UserWarning: time=3881: Broker canceled the relative-sized order due to insufficient margin.\n",
      "  warnings.warn(\n",
      "/Users/liantseng/Desktop/udemy/venv/lib/python3.13/site-packages/backtesting/backtesting.py:954: UserWarning: time=2143: Broker canceled the relative-sized order due to insufficient margin.\n",
      "  warnings.warn(\n",
      "/Users/liantseng/Desktop/udemy/venv/lib/python3.13/site-packages/backtesting/backtesting.py:954: UserWarning: time=2191: Broker canceled the relative-sized order due to insufficient margin.\n",
      "  warnings.warn(\n",
      "/Users/liantseng/Desktop/udemy/venv/lib/python3.13/site-packages/backtesting/backtesting.py:954: UserWarning: time=2223: Broker canceled the relative-sized order due to insufficient margin.\n",
      "  warnings.warn(\n",
      "/Users/liantseng/Desktop/udemy/venv/lib/python3.13/site-packages/backtesting/backtesting.py:954: UserWarning: time=2421: Broker canceled the relative-sized order due to insufficient margin.\n",
      "  warnings.warn(\n",
      "/Users/liantseng/Desktop/udemy/venv/lib/python3.13/site-packages/backtesting/backtesting.py:954: UserWarning: time=2515: Broker canceled the relative-sized order due to insufficient margin.\n",
      "  warnings.warn(\n",
      "/Users/liantseng/Desktop/udemy/venv/lib/python3.13/site-packages/backtesting/backtesting.py:954: UserWarning: time=2569: Broker canceled the relative-sized order due to insufficient margin.\n",
      "  warnings.warn(\n",
      "/Users/liantseng/Desktop/udemy/venv/lib/python3.13/site-packages/backtesting/backtesting.py:954: UserWarning: time=2585: Broker canceled the relative-sized order due to insufficient margin.\n",
      "  warnings.warn(\n",
      "/Users/liantseng/Desktop/udemy/venv/lib/python3.13/site-packages/backtesting/backtesting.py:954: UserWarning: time=2634: Broker canceled the relative-sized order due to insufficient margin.\n",
      "  warnings.warn(\n",
      "/Users/liantseng/Desktop/udemy/venv/lib/python3.13/site-packages/backtesting/backtesting.py:954: UserWarning: time=2722: Broker canceled the relative-sized order due to insufficient margin.\n",
      "  warnings.warn(\n",
      "/Users/liantseng/Desktop/udemy/venv/lib/python3.13/site-packages/backtesting/backtesting.py:954: UserWarning: time=2739: Broker canceled the relative-sized order due to insufficient margin.\n",
      "  warnings.warn(\n",
      "/Users/liantseng/Desktop/udemy/venv/lib/python3.13/site-packages/backtesting/backtesting.py:954: UserWarning: time=2748: Broker canceled the relative-sized order due to insufficient margin.\n",
      "  warnings.warn(\n",
      "/Users/liantseng/Desktop/udemy/venv/lib/python3.13/site-packages/backtesting/backtesting.py:954: UserWarning: time=2782: Broker canceled the relative-sized order due to insufficient margin.\n",
      "  warnings.warn(\n",
      "/Users/liantseng/Desktop/udemy/venv/lib/python3.13/site-packages/backtesting/backtesting.py:954: UserWarning: time=2878: Broker canceled the relative-sized order due to insufficient margin.\n",
      "  warnings.warn(\n",
      "/Users/liantseng/Desktop/udemy/venv/lib/python3.13/site-packages/backtesting/backtesting.py:954: UserWarning: time=2909: Broker canceled the relative-sized order due to insufficient margin.\n",
      "  warnings.warn(\n",
      "/Users/liantseng/Desktop/udemy/venv/lib/python3.13/site-packages/backtesting/backtesting.py:954: UserWarning: time=2971: Broker canceled the relative-sized order due to insufficient margin.\n",
      "  warnings.warn(\n",
      "/Users/liantseng/Desktop/udemy/venv/lib/python3.13/site-packages/backtesting/backtesting.py:954: UserWarning: time=2982: Broker canceled the relative-sized order due to insufficient margin.\n",
      "  warnings.warn(\n",
      "/Users/liantseng/Desktop/udemy/venv/lib/python3.13/site-packages/backtesting/backtesting.py:954: UserWarning: time=3028: Broker canceled the relative-sized order due to insufficient margin.\n",
      "  warnings.warn(\n",
      "/Users/liantseng/Desktop/udemy/venv/lib/python3.13/site-packages/backtesting/backtesting.py:954: UserWarning: time=3163: Broker canceled the relative-sized order due to insufficient margin.\n",
      "  warnings.warn(\n",
      "/Users/liantseng/Desktop/udemy/venv/lib/python3.13/site-packages/backtesting/backtesting.py:954: UserWarning: time=3205: Broker canceled the relative-sized order due to insufficient margin.\n",
      "  warnings.warn(\n",
      "/Users/liantseng/Desktop/udemy/venv/lib/python3.13/site-packages/backtesting/backtesting.py:954: UserWarning: time=3249: Broker canceled the relative-sized order due to insufficient margin.\n",
      "  warnings.warn(\n",
      "/Users/liantseng/Desktop/udemy/venv/lib/python3.13/site-packages/backtesting/backtesting.py:954: UserWarning: time=3307: Broker canceled the relative-sized order due to insufficient margin.\n",
      "  warnings.warn(\n",
      "/Users/liantseng/Desktop/udemy/venv/lib/python3.13/site-packages/backtesting/backtesting.py:954: UserWarning: time=3420: Broker canceled the relative-sized order due to insufficient margin.\n",
      "  warnings.warn(\n",
      "/Users/liantseng/Desktop/udemy/venv/lib/python3.13/site-packages/backtesting/backtesting.py:954: UserWarning: time=3422: Broker canceled the relative-sized order due to insufficient margin.\n",
      "  warnings.warn(\n",
      "/Users/liantseng/Desktop/udemy/venv/lib/python3.13/site-packages/backtesting/backtesting.py:954: UserWarning: time=3425: Broker canceled the relative-sized order due to insufficient margin.\n",
      "  warnings.warn(\n",
      "/Users/liantseng/Desktop/udemy/venv/lib/python3.13/site-packages/backtesting/backtesting.py:954: UserWarning: time=3439: Broker canceled the relative-sized order due to insufficient margin.\n",
      "  warnings.warn(\n",
      "/Users/liantseng/Desktop/udemy/venv/lib/python3.13/site-packages/backtesting/backtesting.py:954: UserWarning: time=3509: Broker canceled the relative-sized order due to insufficient margin.\n",
      "  warnings.warn(\n",
      "/Users/liantseng/Desktop/udemy/venv/lib/python3.13/site-packages/backtesting/backtesting.py:954: UserWarning: time=3545: Broker canceled the relative-sized order due to insufficient margin.\n",
      "  warnings.warn(\n",
      "/Users/liantseng/Desktop/udemy/venv/lib/python3.13/site-packages/backtesting/backtesting.py:954: UserWarning: time=3575: Broker canceled the relative-sized order due to insufficient margin.\n",
      "  warnings.warn(\n",
      "/Users/liantseng/Desktop/udemy/venv/lib/python3.13/site-packages/backtesting/backtesting.py:954: UserWarning: time=3611: Broker canceled the relative-sized order due to insufficient margin.\n",
      "  warnings.warn(\n",
      "/Users/liantseng/Desktop/udemy/venv/lib/python3.13/site-packages/backtesting/backtesting.py:954: UserWarning: time=3628: Broker canceled the relative-sized order due to insufficient margin.\n",
      "  warnings.warn(\n",
      "/Users/liantseng/Desktop/udemy/venv/lib/python3.13/site-packages/backtesting/backtesting.py:954: UserWarning: time=3664: Broker canceled the relative-sized order due to insufficient margin.\n",
      "  warnings.warn(\n",
      "/Users/liantseng/Desktop/udemy/venv/lib/python3.13/site-packages/backtesting/backtesting.py:954: UserWarning: time=3771: Broker canceled the relative-sized order due to insufficient margin.\n",
      "  warnings.warn(\n",
      "/Users/liantseng/Desktop/udemy/venv/lib/python3.13/site-packages/backtesting/backtesting.py:954: UserWarning: time=3787: Broker canceled the relative-sized order due to insufficient margin.\n",
      "  warnings.warn(\n",
      "/Users/liantseng/Desktop/udemy/venv/lib/python3.13/site-packages/backtesting/backtesting.py:954: UserWarning: time=3813: Broker canceled the relative-sized order due to insufficient margin.\n",
      "  warnings.warn(\n",
      "/Users/liantseng/Desktop/udemy/venv/lib/python3.13/site-packages/backtesting/backtesting.py:954: UserWarning: time=3876: Broker canceled the relative-sized order due to insufficient margin.\n",
      "  warnings.warn(\n",
      "/Users/liantseng/Desktop/udemy/venv/lib/python3.13/site-packages/backtesting/backtesting.py:954: UserWarning: time=3885: Broker canceled the relative-sized order due to insufficient margin.\n",
      "  warnings.warn(\n"
     ]
    },
    {
     "data": {
      "application/vnd.jupyter.widget-view+json": {
       "model_id": "f365685cbb7c47be887f03a827759db2",
       "version_major": 2,
       "version_minor": 0
      },
      "text/plain": [
       "Backtest.run:   0%|          | 0/3853 [00:00<?, ?bar/s]"
      ]
     },
     "metadata": {},
     "output_type": "display_data"
    },
    {
     "data": {
      "application/vnd.jupyter.widget-view+json": {
       "model_id": "af749df5fd1f409b820bedcc990e7d30",
       "version_major": 2,
       "version_minor": 0
      },
      "text/plain": [
       "Backtest.run:   0%|          | 0/3868 [00:00<?, ?bar/s]"
      ]
     },
     "metadata": {},
     "output_type": "display_data"
    },
    {
     "data": {
      "application/vnd.jupyter.widget-view+json": {
       "model_id": "76469508cdd046bdac4aff7234e20b25",
       "version_major": 2,
       "version_minor": 0
      },
      "text/plain": [
       "Backtest.run:   0%|          | 0/3833 [00:00<?, ?bar/s]"
      ]
     },
     "metadata": {},
     "output_type": "display_data"
    },
    {
     "data": {
      "application/vnd.jupyter.widget-view+json": {
       "model_id": "38e2d991f0854bad97e77cc8d76d56f6",
       "version_major": 2,
       "version_minor": 0
      },
      "text/plain": [
       "Backtest.run:   0%|          | 0/3868 [00:00<?, ?bar/s]"
      ]
     },
     "metadata": {},
     "output_type": "display_data"
    },
    {
     "data": {
      "application/vnd.jupyter.widget-view+json": {
       "model_id": "fe57f2f3604c490c8b6c44e28be893a5",
       "version_major": 2,
       "version_minor": 0
      },
      "text/plain": [
       "Backtest.run:   0%|          | 0/3858 [00:00<?, ?bar/s]"
      ]
     },
     "metadata": {},
     "output_type": "display_data"
    },
    {
     "data": {
      "application/vnd.jupyter.widget-view+json": {
       "model_id": "69a5f176ebbd4374aa7a65e2f712e55b",
       "version_major": 2,
       "version_minor": 0
      },
      "text/plain": [
       "Backtest.run:   0%|          | 0/3863 [00:00<?, ?bar/s]"
      ]
     },
     "metadata": {},
     "output_type": "display_data"
    },
    {
     "data": {
      "application/vnd.jupyter.widget-view+json": {
       "model_id": "bd43f569c15845b3a82a4e962fd9cf86",
       "version_major": 2,
       "version_minor": 0
      },
      "text/plain": [
       "Backtest.run:   0%|          | 0/3838 [00:00<?, ?bar/s]"
      ]
     },
     "metadata": {},
     "output_type": "display_data"
    },
    {
     "data": {
      "application/vnd.jupyter.widget-view+json": {
       "model_id": "1c931581ba4644cbb6e5807ce8c32c4b",
       "version_major": 2,
       "version_minor": 0
      },
      "text/plain": [
       "Backtest.run:   0%|          | 0/3853 [00:00<?, ?bar/s]"
      ]
     },
     "metadata": {},
     "output_type": "display_data"
    },
    {
     "data": {
      "application/vnd.jupyter.widget-view+json": {
       "model_id": "edd5fe9c796a4e41b91272b58711f891",
       "version_major": 2,
       "version_minor": 0
      },
      "text/plain": [
       "Backtest.run:   0%|          | 0/3843 [00:00<?, ?bar/s]"
      ]
     },
     "metadata": {},
     "output_type": "display_data"
    },
    {
     "data": {
      "application/vnd.jupyter.widget-view+json": {
       "model_id": "63cbb7d0fe3e49ba912a07db53ab56e8",
       "version_major": 2,
       "version_minor": 0
      },
      "text/plain": [
       "Backtest.run:   0%|          | 0/3848 [00:00<?, ?bar/s]"
      ]
     },
     "metadata": {},
     "output_type": "display_data"
    },
    {
     "name": "stderr",
     "output_type": "stream",
     "text": [
      "/Users/liantseng/Desktop/udemy/venv/lib/python3.13/site-packages/backtesting/backtesting.py:954: UserWarning: time=3877: Broker canceled the relative-sized order due to insufficient margin.\n",
      "  warnings.warn(\n",
      "/Users/liantseng/Desktop/udemy/venv/lib/python3.13/site-packages/backtesting/backtesting.py:954: UserWarning: time=3887: Broker canceled the relative-sized order due to insufficient margin.\n",
      "  warnings.warn(\n",
      "/Users/liantseng/Desktop/udemy/venv/lib/python3.13/site-packages/backtesting/backtesting.py:954: UserWarning: time=3878: Broker canceled the relative-sized order due to insufficient margin.\n",
      "  warnings.warn(\n"
     ]
    },
    {
     "data": {
      "application/vnd.jupyter.widget-view+json": {
       "model_id": "10fb68edef9949cab45cdb2f645b5a56",
       "version_major": 2,
       "version_minor": 0
      },
      "text/plain": [
       "Backtest.run:   0%|          | 0/3863 [00:00<?, ?bar/s]"
      ]
     },
     "metadata": {},
     "output_type": "display_data"
    },
    {
     "data": {
      "application/vnd.jupyter.widget-view+json": {
       "model_id": "4becf9acbb5b4871b00e3572b6f5bf2e",
       "version_major": 2,
       "version_minor": 0
      },
      "text/plain": [
       "Backtest.run:   0%|          | 0/3838 [00:00<?, ?bar/s]"
      ]
     },
     "metadata": {},
     "output_type": "display_data"
    },
    {
     "data": {
      "application/vnd.jupyter.widget-view+json": {
       "model_id": "e49319cad0ae460e99e6eb3fae912cd4",
       "version_major": 2,
       "version_minor": 0
      },
      "text/plain": [
       "Backtest.run:   0%|          | 0/3843 [00:00<?, ?bar/s]"
      ]
     },
     "metadata": {},
     "output_type": "display_data"
    },
    {
     "data": {
      "application/vnd.jupyter.widget-view+json": {
       "model_id": "a5c44a6b2e364373bb55cda36a43ec0b",
       "version_major": 2,
       "version_minor": 0
      },
      "text/plain": [
       "Backtest.run:   0%|          | 0/3848 [00:00<?, ?bar/s]"
      ]
     },
     "metadata": {},
     "output_type": "display_data"
    },
    {
     "data": {
      "application/vnd.jupyter.widget-view+json": {
       "model_id": "e317f71df1fb47c68571d73896fa1a25",
       "version_major": 2,
       "version_minor": 0
      },
      "text/plain": [
       "Backtest.run:   0%|          | 0/3863 [00:00<?, ?bar/s]"
      ]
     },
     "metadata": {},
     "output_type": "display_data"
    },
    {
     "data": {
      "application/vnd.jupyter.widget-view+json": {
       "model_id": "4d18ca8247e74df2bfcd4a8cbc1782d9",
       "version_major": 2,
       "version_minor": 0
      },
      "text/plain": [
       "Backtest.run:   0%|          | 0/3833 [00:00<?, ?bar/s]"
      ]
     },
     "metadata": {},
     "output_type": "display_data"
    },
    {
     "data": {
      "application/vnd.jupyter.widget-view+json": {
       "model_id": "314caf157689418b9cf4d167ca9478ad",
       "version_major": 2,
       "version_minor": 0
      },
      "text/plain": [
       "Backtest.run:   0%|          | 0/3858 [00:00<?, ?bar/s]"
      ]
     },
     "metadata": {},
     "output_type": "display_data"
    },
    {
     "data": {
      "application/vnd.jupyter.widget-view+json": {
       "model_id": "ae95e3c70e4b4e9d8222c3ab9f1551e4",
       "version_major": 2,
       "version_minor": 0
      },
      "text/plain": [
       "Backtest.run:   0%|          | 0/3853 [00:00<?, ?bar/s]"
      ]
     },
     "metadata": {},
     "output_type": "display_data"
    },
    {
     "data": {
      "application/vnd.jupyter.widget-view+json": {
       "model_id": "eb1c4e8ccdbe41cb8578a8a33809fd25",
       "version_major": 2,
       "version_minor": 0
      },
      "text/plain": [
       "Backtest.run:   0%|          | 0/3848 [00:00<?, ?bar/s]"
      ]
     },
     "metadata": {},
     "output_type": "display_data"
    },
    {
     "data": {
      "application/vnd.jupyter.widget-view+json": {
       "model_id": "b196343b737246aaba0fd5754ee56a55",
       "version_major": 2,
       "version_minor": 0
      },
      "text/plain": [
       "Backtest.run:   0%|          | 0/3828 [00:00<?, ?bar/s]"
      ]
     },
     "metadata": {},
     "output_type": "display_data"
    },
    {
     "name": "stderr",
     "output_type": "stream",
     "text": [
      "/Users/liantseng/Desktop/udemy/venv/lib/python3.13/site-packages/backtesting/backtesting.py:954: UserWarning: time=3878: Broker canceled the relative-sized order due to insufficient margin.\n",
      "  warnings.warn(\n",
      "/Users/liantseng/Desktop/udemy/venv/lib/python3.13/site-packages/backtesting/backtesting.py:954: UserWarning: time=3628: Broker canceled the relative-sized order due to insufficient margin.\n",
      "  warnings.warn(\n",
      "/Users/liantseng/Desktop/udemy/venv/lib/python3.13/site-packages/backtesting/backtesting.py:954: UserWarning: time=3636: Broker canceled the relative-sized order due to insufficient margin.\n",
      "  warnings.warn(\n",
      "/Users/liantseng/Desktop/udemy/venv/lib/python3.13/site-packages/backtesting/backtesting.py:954: UserWarning: time=3678: Broker canceled the relative-sized order due to insufficient margin.\n",
      "  warnings.warn(\n",
      "/Users/liantseng/Desktop/udemy/venv/lib/python3.13/site-packages/backtesting/backtesting.py:954: UserWarning: time=3819: Broker canceled the relative-sized order due to insufficient margin.\n",
      "  warnings.warn(\n",
      "/Users/liantseng/Desktop/udemy/venv/lib/python3.13/site-packages/backtesting/backtesting.py:954: UserWarning: time=3884: Broker canceled the relative-sized order due to insufficient margin.\n",
      "  warnings.warn(\n"
     ]
    },
    {
     "data": {
      "application/vnd.jupyter.widget-view+json": {
       "model_id": "0759a8b3df28425cb3b4887a87a52133",
       "version_major": 2,
       "version_minor": 0
      },
      "text/plain": [
       "Backtest.run:   0%|          | 0/3833 [00:00<?, ?bar/s]"
      ]
     },
     "metadata": {},
     "output_type": "display_data"
    },
    {
     "data": {
      "application/vnd.jupyter.widget-view+json": {
       "model_id": "e836dbd0d1b746f9b729938dec4b98c0",
       "version_major": 2,
       "version_minor": 0
      },
      "text/plain": [
       "Backtest.run:   0%|          | 0/3858 [00:00<?, ?bar/s]"
      ]
     },
     "metadata": {},
     "output_type": "display_data"
    },
    {
     "data": {
      "application/vnd.jupyter.widget-view+json": {
       "model_id": "f1856d0442d34577aac41349d88d7dc1",
       "version_major": 2,
       "version_minor": 0
      },
      "text/plain": [
       "Backtest.run:   0%|          | 0/3853 [00:00<?, ?bar/s]"
      ]
     },
     "metadata": {},
     "output_type": "display_data"
    },
    {
     "data": {
      "application/vnd.jupyter.widget-view+json": {
       "model_id": "ce79d94220224ed4989859fcd28f7fb8",
       "version_major": 2,
       "version_minor": 0
      },
      "text/plain": [
       "Backtest.run:   0%|          | 0/3848 [00:00<?, ?bar/s]"
      ]
     },
     "metadata": {},
     "output_type": "display_data"
    },
    {
     "data": {
      "application/vnd.jupyter.widget-view+json": {
       "model_id": "b071a1247cd2412a9eb575473d58f6bb",
       "version_major": 2,
       "version_minor": 0
      },
      "text/plain": [
       "Backtest.run:   0%|          | 0/3858 [00:00<?, ?bar/s]"
      ]
     },
     "metadata": {},
     "output_type": "display_data"
    },
    {
     "data": {
      "application/vnd.jupyter.widget-view+json": {
       "model_id": "1887a52b986d48b29bb8baaf4f8f061e",
       "version_major": 2,
       "version_minor": 0
      },
      "text/plain": [
       "Backtest.run:   0%|          | 0/3838 [00:00<?, ?bar/s]"
      ]
     },
     "metadata": {},
     "output_type": "display_data"
    },
    {
     "data": {
      "application/vnd.jupyter.widget-view+json": {
       "model_id": "10c747d1953e4b26a20ce229df960aa2",
       "version_major": 2,
       "version_minor": 0
      },
      "text/plain": [
       "Backtest.run:   0%|          | 0/3843 [00:00<?, ?bar/s]"
      ]
     },
     "metadata": {},
     "output_type": "display_data"
    },
    {
     "data": {
      "application/vnd.jupyter.widget-view+json": {
       "model_id": "4dcbac63bb074984aad87ee095ef04f9",
       "version_major": 2,
       "version_minor": 0
      },
      "text/plain": [
       "Backtest.run:   0%|          | 0/3858 [00:00<?, ?bar/s]"
      ]
     },
     "metadata": {},
     "output_type": "display_data"
    },
    {
     "data": {
      "application/vnd.jupyter.widget-view+json": {
       "model_id": "49556ba5edff4177b9229ad43b5c3f47",
       "version_major": 2,
       "version_minor": 0
      },
      "text/plain": [
       "Backtest.run:   0%|          | 0/3843 [00:00<?, ?bar/s]"
      ]
     },
     "metadata": {},
     "output_type": "display_data"
    },
    {
     "data": {
      "application/vnd.jupyter.widget-view+json": {
       "model_id": "9743bc9caf1e49d691fe3090b93cd667",
       "version_major": 2,
       "version_minor": 0
      },
      "text/plain": [
       "Backtest.run:   0%|          | 0/3828 [00:00<?, ?bar/s]"
      ]
     },
     "metadata": {},
     "output_type": "display_data"
    },
    {
     "name": "stderr",
     "output_type": "stream",
     "text": [
      "/Users/liantseng/Desktop/udemy/venv/lib/python3.13/site-packages/backtesting/backtesting.py:954: UserWarning: time=3438: Broker canceled the relative-sized order due to insufficient margin.\n",
      "  warnings.warn(\n",
      "/Users/liantseng/Desktop/udemy/venv/lib/python3.13/site-packages/backtesting/backtesting.py:954: UserWarning: time=3516: Broker canceled the relative-sized order due to insufficient margin.\n",
      "  warnings.warn(\n",
      "/Users/liantseng/Desktop/udemy/venv/lib/python3.13/site-packages/backtesting/backtesting.py:954: UserWarning: time=3548: Broker canceled the relative-sized order due to insufficient margin.\n",
      "  warnings.warn(\n",
      "/Users/liantseng/Desktop/udemy/venv/lib/python3.13/site-packages/backtesting/backtesting.py:954: UserWarning: time=3579: Broker canceled the relative-sized order due to insufficient margin.\n",
      "  warnings.warn(\n",
      "/Users/liantseng/Desktop/udemy/venv/lib/python3.13/site-packages/backtesting/backtesting.py:954: UserWarning: time=3618: Broker canceled the relative-sized order due to insufficient margin.\n",
      "  warnings.warn(\n",
      "/Users/liantseng/Desktop/udemy/venv/lib/python3.13/site-packages/backtesting/backtesting.py:954: UserWarning: time=3624: Broker canceled the relative-sized order due to insufficient margin.\n",
      "  warnings.warn(\n",
      "/Users/liantseng/Desktop/udemy/venv/lib/python3.13/site-packages/backtesting/backtesting.py:954: UserWarning: time=3671: Broker canceled the relative-sized order due to insufficient margin.\n",
      "  warnings.warn(\n",
      "/Users/liantseng/Desktop/udemy/venv/lib/python3.13/site-packages/backtesting/backtesting.py:954: UserWarning: time=3814: Broker canceled the relative-sized order due to insufficient margin.\n",
      "  warnings.warn(\n",
      "/Users/liantseng/Desktop/udemy/venv/lib/python3.13/site-packages/backtesting/backtesting.py:954: UserWarning: time=3880: Broker canceled the relative-sized order due to insufficient margin.\n",
      "  warnings.warn(\n",
      "/Users/liantseng/Desktop/udemy/venv/lib/python3.13/site-packages/backtesting/backtesting.py:954: UserWarning: time=3888: Broker canceled the relative-sized order due to insufficient margin.\n",
      "  warnings.warn(\n",
      "/Users/liantseng/Desktop/udemy/venv/lib/python3.13/site-packages/backtesting/_stats.py:155: RuntimeWarning: divide by zero encountered in log\n",
      "  equity_log_returns = np.log(equity[1:] / equity[:-1])\n"
     ]
    },
    {
     "data": {
      "application/vnd.jupyter.widget-view+json": {
       "model_id": "efa3f139e5d648b19bd82e5180b0dda2",
       "version_major": 2,
       "version_minor": 0
      },
      "text/plain": [
       "Backtest.run:   0%|          | 0/3828 [00:00<?, ?bar/s]"
      ]
     },
     "metadata": {},
     "output_type": "display_data"
    },
    {
     "data": {
      "application/vnd.jupyter.widget-view+json": {
       "model_id": "aeadcbd2988c4dbbb66a55d2c6650edc",
       "version_major": 2,
       "version_minor": 0
      },
      "text/plain": [
       "Backtest.run:   0%|          | 0/3843 [00:00<?, ?bar/s]"
      ]
     },
     "metadata": {},
     "output_type": "display_data"
    },
    {
     "data": {
      "application/vnd.jupyter.widget-view+json": {
       "model_id": "3e51e5e3bd614585bdba864ceef15f22",
       "version_major": 2,
       "version_minor": 0
      },
      "text/plain": [
       "Backtest.run:   0%|          | 0/3833 [00:00<?, ?bar/s]"
      ]
     },
     "metadata": {},
     "output_type": "display_data"
    },
    {
     "data": {
      "application/vnd.jupyter.widget-view+json": {
       "model_id": "ba88e4c81aff4c07aec3b8901aac5b0e",
       "version_major": 2,
       "version_minor": 0
      },
      "text/plain": [
       "Backtest.run:   0%|          | 0/3853 [00:00<?, ?bar/s]"
      ]
     },
     "metadata": {},
     "output_type": "display_data"
    },
    {
     "data": {
      "application/vnd.jupyter.widget-view+json": {
       "model_id": "05ec6ab97f9a4ac6b55bfcb009bcc481",
       "version_major": 2,
       "version_minor": 0
      },
      "text/plain": [
       "Backtest.run:   0%|          | 0/3838 [00:00<?, ?bar/s]"
      ]
     },
     "metadata": {},
     "output_type": "display_data"
    },
    {
     "data": {
      "application/vnd.jupyter.widget-view+json": {
       "model_id": "5b5be1e8edcb4a40a12f7aa9d7244ae5",
       "version_major": 2,
       "version_minor": 0
      },
      "text/plain": [
       "Backtest.run:   0%|          | 0/3848 [00:00<?, ?bar/s]"
      ]
     },
     "metadata": {},
     "output_type": "display_data"
    },
    {
     "data": {
      "application/vnd.jupyter.widget-view+json": {
       "model_id": "1ba6ad56341d4b3b9edbc0ecc1321771",
       "version_major": 2,
       "version_minor": 0
      },
      "text/plain": [
       "Backtest.run:   0%|          | 0/3858 [00:00<?, ?bar/s]"
      ]
     },
     "metadata": {},
     "output_type": "display_data"
    },
    {
     "data": {
      "application/vnd.jupyter.widget-view+json": {
       "model_id": "eb2c3aef392b45678c3bd20f3f231c8f",
       "version_major": 2,
       "version_minor": 0
      },
      "text/plain": [
       "Backtest.run:   0%|          | 0/3863 [00:00<?, ?bar/s]"
      ]
     },
     "metadata": {},
     "output_type": "display_data"
    },
    {
     "data": {
      "application/vnd.jupyter.widget-view+json": {
       "model_id": "61747de2240f4a47a4422fed9951268f",
       "version_major": 2,
       "version_minor": 0
      },
      "text/plain": [
       "Backtest.run:   0%|          | 0/3853 [00:00<?, ?bar/s]"
      ]
     },
     "metadata": {},
     "output_type": "display_data"
    },
    {
     "data": {
      "application/vnd.jupyter.widget-view+json": {
       "model_id": "1fecb84a3ca246d7a7fdceecff8aa19e",
       "version_major": 2,
       "version_minor": 0
      },
      "text/plain": [
       "Backtest.run:   0%|          | 0/3838 [00:00<?, ?bar/s]"
      ]
     },
     "metadata": {},
     "output_type": "display_data"
    },
    {
     "name": "stderr",
     "output_type": "stream",
     "text": [
      "/Users/liantseng/Desktop/udemy/venv/lib/python3.13/site-packages/backtesting/backtesting.py:954: UserWarning: time=919: Broker canceled the relative-sized order due to insufficient margin.\n",
      "  warnings.warn(\n",
      "/Users/liantseng/Desktop/udemy/venv/lib/python3.13/site-packages/backtesting/backtesting.py:954: UserWarning: time=922: Broker canceled the relative-sized order due to insufficient margin.\n",
      "  warnings.warn(\n",
      "/Users/liantseng/Desktop/udemy/venv/lib/python3.13/site-packages/backtesting/backtesting.py:954: UserWarning: time=939: Broker canceled the relative-sized order due to insufficient margin.\n",
      "  warnings.warn(\n",
      "/Users/liantseng/Desktop/udemy/venv/lib/python3.13/site-packages/backtesting/backtesting.py:954: UserWarning: time=1031: Broker canceled the relative-sized order due to insufficient margin.\n",
      "  warnings.warn(\n",
      "/Users/liantseng/Desktop/udemy/venv/lib/python3.13/site-packages/backtesting/backtesting.py:954: UserWarning: time=1049: Broker canceled the relative-sized order due to insufficient margin.\n",
      "  warnings.warn(\n",
      "/Users/liantseng/Desktop/udemy/venv/lib/python3.13/site-packages/backtesting/backtesting.py:954: UserWarning: time=1102: Broker canceled the relative-sized order due to insufficient margin.\n",
      "  warnings.warn(\n",
      "/Users/liantseng/Desktop/udemy/venv/lib/python3.13/site-packages/backtesting/backtesting.py:954: UserWarning: time=1118: Broker canceled the relative-sized order due to insufficient margin.\n",
      "  warnings.warn(\n",
      "/Users/liantseng/Desktop/udemy/venv/lib/python3.13/site-packages/backtesting/backtesting.py:954: UserWarning: time=1220: Broker canceled the relative-sized order due to insufficient margin.\n",
      "  warnings.warn(\n",
      "/Users/liantseng/Desktop/udemy/venv/lib/python3.13/site-packages/backtesting/backtesting.py:954: UserWarning: time=1266: Broker canceled the relative-sized order due to insufficient margin.\n",
      "  warnings.warn(\n",
      "/Users/liantseng/Desktop/udemy/venv/lib/python3.13/site-packages/backtesting/backtesting.py:954: UserWarning: time=1276: Broker canceled the relative-sized order due to insufficient margin.\n",
      "  warnings.warn(\n",
      "/Users/liantseng/Desktop/udemy/venv/lib/python3.13/site-packages/backtesting/backtesting.py:954: UserWarning: time=1318: Broker canceled the relative-sized order due to insufficient margin.\n",
      "  warnings.warn(\n",
      "/Users/liantseng/Desktop/udemy/venv/lib/python3.13/site-packages/backtesting/backtesting.py:954: UserWarning: time=1347: Broker canceled the relative-sized order due to insufficient margin.\n",
      "  warnings.warn(\n",
      "/Users/liantseng/Desktop/udemy/venv/lib/python3.13/site-packages/backtesting/backtesting.py:954: UserWarning: time=1405: Broker canceled the relative-sized order due to insufficient margin.\n",
      "  warnings.warn(\n",
      "/Users/liantseng/Desktop/udemy/venv/lib/python3.13/site-packages/backtesting/backtesting.py:954: UserWarning: time=1428: Broker canceled the relative-sized order due to insufficient margin.\n",
      "  warnings.warn(\n",
      "/Users/liantseng/Desktop/udemy/venv/lib/python3.13/site-packages/backtesting/backtesting.py:954: UserWarning: time=1479: Broker canceled the relative-sized order due to insufficient margin.\n",
      "  warnings.warn(\n",
      "/Users/liantseng/Desktop/udemy/venv/lib/python3.13/site-packages/backtesting/backtesting.py:954: UserWarning: time=1481: Broker canceled the relative-sized order due to insufficient margin.\n",
      "  warnings.warn(\n",
      "/Users/liantseng/Desktop/udemy/venv/lib/python3.13/site-packages/backtesting/backtesting.py:954: UserWarning: time=1579: Broker canceled the relative-sized order due to insufficient margin.\n",
      "  warnings.warn(\n",
      "/Users/liantseng/Desktop/udemy/venv/lib/python3.13/site-packages/backtesting/backtesting.py:954: UserWarning: time=1587: Broker canceled the relative-sized order due to insufficient margin.\n",
      "  warnings.warn(\n",
      "/Users/liantseng/Desktop/udemy/venv/lib/python3.13/site-packages/backtesting/backtesting.py:954: UserWarning: time=1619: Broker canceled the relative-sized order due to insufficient margin.\n",
      "  warnings.warn(\n",
      "/Users/liantseng/Desktop/udemy/venv/lib/python3.13/site-packages/backtesting/backtesting.py:954: UserWarning: time=936: Broker canceled the relative-sized order due to insufficient margin.\n",
      "  warnings.warn(\n",
      "/Users/liantseng/Desktop/udemy/venv/lib/python3.13/site-packages/backtesting/backtesting.py:954: UserWarning: time=1028: Broker canceled the relative-sized order due to insufficient margin.\n",
      "  warnings.warn(\n",
      "/Users/liantseng/Desktop/udemy/venv/lib/python3.13/site-packages/backtesting/backtesting.py:954: UserWarning: time=1044: Broker canceled the relative-sized order due to insufficient margin.\n",
      "  warnings.warn(\n",
      "/Users/liantseng/Desktop/udemy/venv/lib/python3.13/site-packages/backtesting/backtesting.py:954: UserWarning: time=1097: Broker canceled the relative-sized order due to insufficient margin.\n",
      "  warnings.warn(\n",
      "/Users/liantseng/Desktop/udemy/venv/lib/python3.13/site-packages/backtesting/backtesting.py:954: UserWarning: time=1114: Broker canceled the relative-sized order due to insufficient margin.\n",
      "  warnings.warn(\n",
      "/Users/liantseng/Desktop/udemy/venv/lib/python3.13/site-packages/backtesting/backtesting.py:954: UserWarning: time=1218: Broker canceled the relative-sized order due to insufficient margin.\n",
      "  warnings.warn(\n",
      "/Users/liantseng/Desktop/udemy/venv/lib/python3.13/site-packages/backtesting/backtesting.py:954: UserWarning: time=1264: Broker canceled the relative-sized order due to insufficient margin.\n",
      "  warnings.warn(\n",
      "/Users/liantseng/Desktop/udemy/venv/lib/python3.13/site-packages/backtesting/backtesting.py:954: UserWarning: time=1274: Broker canceled the relative-sized order due to insufficient margin.\n",
      "  warnings.warn(\n",
      "/Users/liantseng/Desktop/udemy/venv/lib/python3.13/site-packages/backtesting/backtesting.py:954: UserWarning: time=1314: Broker canceled the relative-sized order due to insufficient margin.\n",
      "  warnings.warn(\n",
      "/Users/liantseng/Desktop/udemy/venv/lib/python3.13/site-packages/backtesting/backtesting.py:954: UserWarning: time=1344: Broker canceled the relative-sized order due to insufficient margin.\n",
      "  warnings.warn(\n",
      "/Users/liantseng/Desktop/udemy/venv/lib/python3.13/site-packages/backtesting/backtesting.py:954: UserWarning: time=1403: Broker canceled the relative-sized order due to insufficient margin.\n",
      "  warnings.warn(\n",
      "/Users/liantseng/Desktop/udemy/venv/lib/python3.13/site-packages/backtesting/backtesting.py:954: UserWarning: time=1425: Broker canceled the relative-sized order due to insufficient margin.\n",
      "  warnings.warn(\n",
      "/Users/liantseng/Desktop/udemy/venv/lib/python3.13/site-packages/backtesting/backtesting.py:954: UserWarning: time=1449: Broker canceled the relative-sized order due to insufficient margin.\n",
      "  warnings.warn(\n",
      "/Users/liantseng/Desktop/udemy/venv/lib/python3.13/site-packages/backtesting/backtesting.py:954: UserWarning: time=1452: Broker canceled the relative-sized order due to insufficient margin.\n",
      "  warnings.warn(\n",
      "/Users/liantseng/Desktop/udemy/venv/lib/python3.13/site-packages/backtesting/backtesting.py:954: UserWarning: time=1473: Broker canceled the relative-sized order due to insufficient margin.\n",
      "  warnings.warn(\n",
      "/Users/liantseng/Desktop/udemy/venv/lib/python3.13/site-packages/backtesting/backtesting.py:954: UserWarning: time=1477: Broker canceled the relative-sized order due to insufficient margin.\n",
      "  warnings.warn(\n",
      "/Users/liantseng/Desktop/udemy/venv/lib/python3.13/site-packages/backtesting/backtesting.py:954: UserWarning: time=1499: Broker canceled the relative-sized order due to insufficient margin.\n",
      "  warnings.warn(\n",
      "/Users/liantseng/Desktop/udemy/venv/lib/python3.13/site-packages/backtesting/backtesting.py:954: UserWarning: time=1500: Broker canceled the relative-sized order due to insufficient margin.\n",
      "  warnings.warn(\n",
      "/Users/liantseng/Desktop/udemy/venv/lib/python3.13/site-packages/backtesting/backtesting.py:954: UserWarning: time=1574: Broker canceled the relative-sized order due to insufficient margin.\n",
      "  warnings.warn(\n",
      "/Users/liantseng/Desktop/udemy/venv/lib/python3.13/site-packages/backtesting/backtesting.py:954: UserWarning: time=1583: Broker canceled the relative-sized order due to insufficient margin.\n",
      "  warnings.warn(\n",
      "/Users/liantseng/Desktop/udemy/venv/lib/python3.13/site-packages/backtesting/backtesting.py:954: UserWarning: time=1616: Broker canceled the relative-sized order due to insufficient margin.\n",
      "  warnings.warn(\n",
      "/Users/liantseng/Desktop/udemy/venv/lib/python3.13/site-packages/backtesting/backtesting.py:954: UserWarning: time=1773: Broker canceled the relative-sized order due to insufficient margin.\n",
      "  warnings.warn(\n",
      "/Users/liantseng/Desktop/udemy/venv/lib/python3.13/site-packages/backtesting/backtesting.py:954: UserWarning: time=1787: Broker canceled the relative-sized order due to insufficient margin.\n",
      "  warnings.warn(\n",
      "/Users/liantseng/Desktop/udemy/venv/lib/python3.13/site-packages/backtesting/backtesting.py:954: UserWarning: time=1798: Broker canceled the relative-sized order due to insufficient margin.\n",
      "  warnings.warn(\n",
      "/Users/liantseng/Desktop/udemy/venv/lib/python3.13/site-packages/backtesting/backtesting.py:954: UserWarning: time=1872: Broker canceled the relative-sized order due to insufficient margin.\n",
      "  warnings.warn(\n",
      "/Users/liantseng/Desktop/udemy/venv/lib/python3.13/site-packages/backtesting/backtesting.py:954: UserWarning: time=1891: Broker canceled the relative-sized order due to insufficient margin.\n",
      "  warnings.warn(\n",
      "/Users/liantseng/Desktop/udemy/venv/lib/python3.13/site-packages/backtesting/backtesting.py:954: UserWarning: time=1939: Broker canceled the relative-sized order due to insufficient margin.\n",
      "  warnings.warn(\n",
      "/Users/liantseng/Desktop/udemy/venv/lib/python3.13/site-packages/backtesting/backtesting.py:954: UserWarning: time=1993: Broker canceled the relative-sized order due to insufficient margin.\n",
      "  warnings.warn(\n",
      "/Users/liantseng/Desktop/udemy/venv/lib/python3.13/site-packages/backtesting/backtesting.py:954: UserWarning: time=2040: Broker canceled the relative-sized order due to insufficient margin.\n",
      "  warnings.warn(\n",
      "/Users/liantseng/Desktop/udemy/venv/lib/python3.13/site-packages/backtesting/backtesting.py:954: UserWarning: time=2108: Broker canceled the relative-sized order due to insufficient margin.\n",
      "  warnings.warn(\n",
      "/Users/liantseng/Desktop/udemy/venv/lib/python3.13/site-packages/backtesting/backtesting.py:954: UserWarning: time=2140: Broker canceled the relative-sized order due to insufficient margin.\n",
      "  warnings.warn(\n",
      "/Users/liantseng/Desktop/udemy/venv/lib/python3.13/site-packages/backtesting/backtesting.py:954: UserWarning: time=2182: Broker canceled the relative-sized order due to insufficient margin.\n",
      "  warnings.warn(\n",
      "/Users/liantseng/Desktop/udemy/venv/lib/python3.13/site-packages/backtesting/backtesting.py:954: UserWarning: time=2218: Broker canceled the relative-sized order due to insufficient margin.\n",
      "  warnings.warn(\n",
      "/Users/liantseng/Desktop/udemy/venv/lib/python3.13/site-packages/backtesting/backtesting.py:954: UserWarning: time=2412: Broker canceled the relative-sized order due to insufficient margin.\n",
      "  warnings.warn(\n",
      "/Users/liantseng/Desktop/udemy/venv/lib/python3.13/site-packages/backtesting/backtesting.py:954: UserWarning: time=2427: Broker canceled the relative-sized order due to insufficient margin.\n",
      "  warnings.warn(\n",
      "/Users/liantseng/Desktop/udemy/venv/lib/python3.13/site-packages/backtesting/backtesting.py:954: UserWarning: time=2429: Broker canceled the relative-sized order due to insufficient margin.\n",
      "  warnings.warn(\n",
      "/Users/liantseng/Desktop/udemy/venv/lib/python3.13/site-packages/backtesting/backtesting.py:954: UserWarning: time=2508: Broker canceled the relative-sized order due to insufficient margin.\n",
      "  warnings.warn(\n",
      "/Users/liantseng/Desktop/udemy/venv/lib/python3.13/site-packages/backtesting/backtesting.py:954: UserWarning: time=2561: Broker canceled the relative-sized order due to insufficient margin.\n",
      "  warnings.warn(\n",
      "/Users/liantseng/Desktop/udemy/venv/lib/python3.13/site-packages/backtesting/backtesting.py:954: UserWarning: time=2578: Broker canceled the relative-sized order due to insufficient margin.\n",
      "  warnings.warn(\n",
      "/Users/liantseng/Desktop/udemy/venv/lib/python3.13/site-packages/backtesting/backtesting.py:954: UserWarning: time=1776: Broker canceled the relative-sized order due to insufficient margin.\n",
      "  warnings.warn(\n",
      "/Users/liantseng/Desktop/udemy/venv/lib/python3.13/site-packages/backtesting/backtesting.py:954: UserWarning: time=1790: Broker canceled the relative-sized order due to insufficient margin.\n",
      "  warnings.warn(\n",
      "/Users/liantseng/Desktop/udemy/venv/lib/python3.13/site-packages/backtesting/backtesting.py:954: UserWarning: time=1802: Broker canceled the relative-sized order due to insufficient margin.\n",
      "  warnings.warn(\n",
      "/Users/liantseng/Desktop/udemy/venv/lib/python3.13/site-packages/backtesting/backtesting.py:954: UserWarning: time=1876: Broker canceled the relative-sized order due to insufficient margin.\n",
      "  warnings.warn(\n",
      "/Users/liantseng/Desktop/udemy/venv/lib/python3.13/site-packages/backtesting/backtesting.py:954: UserWarning: time=1893: Broker canceled the relative-sized order due to insufficient margin.\n",
      "  warnings.warn(\n",
      "/Users/liantseng/Desktop/udemy/venv/lib/python3.13/site-packages/backtesting/backtesting.py:954: UserWarning: time=1941: Broker canceled the relative-sized order due to insufficient margin.\n",
      "  warnings.warn(\n",
      "/Users/liantseng/Desktop/udemy/venv/lib/python3.13/site-packages/backtesting/backtesting.py:954: UserWarning: time=1996: Broker canceled the relative-sized order due to insufficient margin.\n",
      "  warnings.warn(\n",
      "/Users/liantseng/Desktop/udemy/venv/lib/python3.13/site-packages/backtesting/backtesting.py:954: UserWarning: time=2043: Broker canceled the relative-sized order due to insufficient margin.\n",
      "  warnings.warn(\n",
      "/Users/liantseng/Desktop/udemy/venv/lib/python3.13/site-packages/backtesting/backtesting.py:954: UserWarning: time=2111: Broker canceled the relative-sized order due to insufficient margin.\n",
      "  warnings.warn(\n",
      "/Users/liantseng/Desktop/udemy/venv/lib/python3.13/site-packages/backtesting/backtesting.py:954: UserWarning: time=2141: Broker canceled the relative-sized order due to insufficient margin.\n",
      "  warnings.warn(\n",
      "/Users/liantseng/Desktop/udemy/venv/lib/python3.13/site-packages/backtesting/backtesting.py:954: UserWarning: time=2185: Broker canceled the relative-sized order due to insufficient margin.\n",
      "  warnings.warn(\n",
      "/Users/liantseng/Desktop/udemy/venv/lib/python3.13/site-packages/backtesting/backtesting.py:954: UserWarning: time=2220: Broker canceled the relative-sized order due to insufficient margin.\n",
      "  warnings.warn(\n",
      "/Users/liantseng/Desktop/udemy/venv/lib/python3.13/site-packages/backtesting/backtesting.py:954: UserWarning: time=2415: Broker canceled the relative-sized order due to insufficient margin.\n",
      "  warnings.warn(\n",
      "/Users/liantseng/Desktop/udemy/venv/lib/python3.13/site-packages/backtesting/backtesting.py:954: UserWarning: time=2510: Broker canceled the relative-sized order due to insufficient margin.\n",
      "  warnings.warn(\n",
      "/Users/liantseng/Desktop/udemy/venv/lib/python3.13/site-packages/backtesting/backtesting.py:954: UserWarning: time=2562: Broker canceled the relative-sized order due to insufficient margin.\n",
      "  warnings.warn(\n",
      "/Users/liantseng/Desktop/udemy/venv/lib/python3.13/site-packages/backtesting/backtesting.py:954: UserWarning: time=2580: Broker canceled the relative-sized order due to insufficient margin.\n",
      "  warnings.warn(\n",
      "/Users/liantseng/Desktop/udemy/venv/lib/python3.13/site-packages/backtesting/backtesting.py:954: UserWarning: time=2628: Broker canceled the relative-sized order due to insufficient margin.\n",
      "  warnings.warn(\n",
      "/Users/liantseng/Desktop/udemy/venv/lib/python3.13/site-packages/backtesting/backtesting.py:954: UserWarning: time=2711: Broker canceled the relative-sized order due to insufficient margin.\n",
      "  warnings.warn(\n",
      "/Users/liantseng/Desktop/udemy/venv/lib/python3.13/site-packages/backtesting/backtesting.py:954: UserWarning: time=2718: Broker canceled the relative-sized order due to insufficient margin.\n",
      "  warnings.warn(\n",
      "/Users/liantseng/Desktop/udemy/venv/lib/python3.13/site-packages/backtesting/backtesting.py:954: UserWarning: time=2732: Broker canceled the relative-sized order due to insufficient margin.\n",
      "  warnings.warn(\n",
      "/Users/liantseng/Desktop/udemy/venv/lib/python3.13/site-packages/backtesting/backtesting.py:954: UserWarning: time=2738: Broker canceled the relative-sized order due to insufficient margin.\n",
      "  warnings.warn(\n",
      "/Users/liantseng/Desktop/udemy/venv/lib/python3.13/site-packages/backtesting/backtesting.py:954: UserWarning: time=2745: Broker canceled the relative-sized order due to insufficient margin.\n",
      "  warnings.warn(\n",
      "/Users/liantseng/Desktop/udemy/venv/lib/python3.13/site-packages/backtesting/backtesting.py:954: UserWarning: time=2772: Broker canceled the relative-sized order due to insufficient margin.\n",
      "  warnings.warn(\n",
      "/Users/liantseng/Desktop/udemy/venv/lib/python3.13/site-packages/backtesting/backtesting.py:954: UserWarning: time=2874: Broker canceled the relative-sized order due to insufficient margin.\n",
      "  warnings.warn(\n",
      "/Users/liantseng/Desktop/udemy/venv/lib/python3.13/site-packages/backtesting/backtesting.py:954: UserWarning: time=2902: Broker canceled the relative-sized order due to insufficient margin.\n",
      "  warnings.warn(\n",
      "/Users/liantseng/Desktop/udemy/venv/lib/python3.13/site-packages/backtesting/backtesting.py:954: UserWarning: time=2965: Broker canceled the relative-sized order due to insufficient margin.\n",
      "  warnings.warn(\n",
      "/Users/liantseng/Desktop/udemy/venv/lib/python3.13/site-packages/backtesting/backtesting.py:954: UserWarning: time=2980: Broker canceled the relative-sized order due to insufficient margin.\n",
      "  warnings.warn(\n",
      "/Users/liantseng/Desktop/udemy/venv/lib/python3.13/site-packages/backtesting/backtesting.py:954: UserWarning: time=3039: Broker canceled the relative-sized order due to insufficient margin.\n",
      "  warnings.warn(\n",
      "/Users/liantseng/Desktop/udemy/venv/lib/python3.13/site-packages/backtesting/backtesting.py:954: UserWarning: time=2625: Broker canceled the relative-sized order due to insufficient margin.\n",
      "  warnings.warn(\n",
      "/Users/liantseng/Desktop/udemy/venv/lib/python3.13/site-packages/backtesting/backtesting.py:954: UserWarning: time=2706: Broker canceled the relative-sized order due to insufficient margin.\n",
      "  warnings.warn(\n",
      "/Users/liantseng/Desktop/udemy/venv/lib/python3.13/site-packages/backtesting/backtesting.py:954: UserWarning: time=2716: Broker canceled the relative-sized order due to insufficient margin.\n",
      "  warnings.warn(\n",
      "/Users/liantseng/Desktop/udemy/venv/lib/python3.13/site-packages/backtesting/backtesting.py:954: UserWarning: time=2725: Broker canceled the relative-sized order due to insufficient margin.\n",
      "  warnings.warn(\n",
      "/Users/liantseng/Desktop/udemy/venv/lib/python3.13/site-packages/backtesting/backtesting.py:954: UserWarning: time=2734: Broker canceled the relative-sized order due to insufficient margin.\n",
      "  warnings.warn(\n",
      "/Users/liantseng/Desktop/udemy/venv/lib/python3.13/site-packages/backtesting/backtesting.py:954: UserWarning: time=2744: Broker canceled the relative-sized order due to insufficient margin.\n",
      "  warnings.warn(\n",
      "/Users/liantseng/Desktop/udemy/venv/lib/python3.13/site-packages/backtesting/backtesting.py:954: UserWarning: time=2767: Broker canceled the relative-sized order due to insufficient margin.\n",
      "  warnings.warn(\n",
      "/Users/liantseng/Desktop/udemy/venv/lib/python3.13/site-packages/backtesting/backtesting.py:954: UserWarning: time=2869: Broker canceled the relative-sized order due to insufficient margin.\n",
      "  warnings.warn(\n",
      "/Users/liantseng/Desktop/udemy/venv/lib/python3.13/site-packages/backtesting/backtesting.py:954: UserWarning: time=2899: Broker canceled the relative-sized order due to insufficient margin.\n",
      "  warnings.warn(\n",
      "/Users/liantseng/Desktop/udemy/venv/lib/python3.13/site-packages/backtesting/backtesting.py:954: UserWarning: time=2964: Broker canceled the relative-sized order due to insufficient margin.\n",
      "  warnings.warn(\n",
      "/Users/liantseng/Desktop/udemy/venv/lib/python3.13/site-packages/backtesting/backtesting.py:954: UserWarning: time=2978: Broker canceled the relative-sized order due to insufficient margin.\n",
      "  warnings.warn(\n",
      "/Users/liantseng/Desktop/udemy/venv/lib/python3.13/site-packages/backtesting/backtesting.py:954: UserWarning: time=3037: Broker canceled the relative-sized order due to insufficient margin.\n",
      "  warnings.warn(\n",
      "/Users/liantseng/Desktop/udemy/venv/lib/python3.13/site-packages/backtesting/backtesting.py:954: UserWarning: time=3094: Broker canceled the relative-sized order due to insufficient margin.\n",
      "  warnings.warn(\n",
      "/Users/liantseng/Desktop/udemy/venv/lib/python3.13/site-packages/backtesting/backtesting.py:954: UserWarning: time=3105: Broker canceled the relative-sized order due to insufficient margin.\n",
      "  warnings.warn(\n",
      "/Users/liantseng/Desktop/udemy/venv/lib/python3.13/site-packages/backtesting/backtesting.py:954: UserWarning: time=3158: Broker canceled the relative-sized order due to insufficient margin.\n",
      "  warnings.warn(\n",
      "/Users/liantseng/Desktop/udemy/venv/lib/python3.13/site-packages/backtesting/backtesting.py:954: UserWarning: time=3202: Broker canceled the relative-sized order due to insufficient margin.\n",
      "  warnings.warn(\n",
      "/Users/liantseng/Desktop/udemy/venv/lib/python3.13/site-packages/backtesting/backtesting.py:954: UserWarning: time=3240: Broker canceled the relative-sized order due to insufficient margin.\n",
      "  warnings.warn(\n",
      "/Users/liantseng/Desktop/udemy/venv/lib/python3.13/site-packages/backtesting/backtesting.py:954: UserWarning: time=3302: Broker canceled the relative-sized order due to insufficient margin.\n",
      "  warnings.warn(\n",
      "/Users/liantseng/Desktop/udemy/venv/lib/python3.13/site-packages/backtesting/backtesting.py:954: UserWarning: time=3413: Broker canceled the relative-sized order due to insufficient margin.\n",
      "  warnings.warn(\n",
      "/Users/liantseng/Desktop/udemy/venv/lib/python3.13/site-packages/backtesting/backtesting.py:954: UserWarning: time=3431: Broker canceled the relative-sized order due to insufficient margin.\n",
      "  warnings.warn(\n",
      "/Users/liantseng/Desktop/udemy/venv/lib/python3.13/site-packages/backtesting/backtesting.py:954: UserWarning: time=3501: Broker canceled the relative-sized order due to insufficient margin.\n",
      "  warnings.warn(\n",
      "/Users/liantseng/Desktop/udemy/venv/lib/python3.13/site-packages/backtesting/backtesting.py:954: UserWarning: time=3534: Broker canceled the relative-sized order due to insufficient margin.\n",
      "  warnings.warn(\n",
      "/Users/liantseng/Desktop/udemy/venv/lib/python3.13/site-packages/backtesting/backtesting.py:954: UserWarning: time=3565: Broker canceled the relative-sized order due to insufficient margin.\n",
      "  warnings.warn(\n",
      "/Users/liantseng/Desktop/udemy/venv/lib/python3.13/site-packages/backtesting/backtesting.py:954: UserWarning: time=3596: Broker canceled the relative-sized order due to insufficient margin.\n",
      "  warnings.warn(\n",
      "/Users/liantseng/Desktop/udemy/venv/lib/python3.13/site-packages/backtesting/backtesting.py:954: UserWarning: time=3612: Broker canceled the relative-sized order due to insufficient margin.\n",
      "  warnings.warn(\n",
      "/Users/liantseng/Desktop/udemy/venv/lib/python3.13/site-packages/backtesting/backtesting.py:954: UserWarning: time=3656: Broker canceled the relative-sized order due to insufficient margin.\n",
      "  warnings.warn(\n",
      "/Users/liantseng/Desktop/udemy/venv/lib/python3.13/site-packages/backtesting/backtesting.py:954: UserWarning: time=3758: Broker canceled the relative-sized order due to insufficient margin.\n",
      "  warnings.warn(\n",
      "/Users/liantseng/Desktop/udemy/venv/lib/python3.13/site-packages/backtesting/backtesting.py:954: UserWarning: time=3778: Broker canceled the relative-sized order due to insufficient margin.\n",
      "  warnings.warn(\n",
      "/Users/liantseng/Desktop/udemy/venv/lib/python3.13/site-packages/backtesting/backtesting.py:954: UserWarning: time=3799: Broker canceled the relative-sized order due to insufficient margin.\n",
      "  warnings.warn(\n",
      "/Users/liantseng/Desktop/udemy/venv/lib/python3.13/site-packages/backtesting/backtesting.py:954: UserWarning: time=3869: Broker canceled the relative-sized order due to insufficient margin.\n",
      "  warnings.warn(\n",
      "/Users/liantseng/Desktop/udemy/venv/lib/python3.13/site-packages/backtesting/backtesting.py:954: UserWarning: time=3096: Broker canceled the relative-sized order due to insufficient margin.\n",
      "  warnings.warn(\n",
      "/Users/liantseng/Desktop/udemy/venv/lib/python3.13/site-packages/backtesting/backtesting.py:954: UserWarning: time=3106: Broker canceled the relative-sized order due to insufficient margin.\n",
      "  warnings.warn(\n",
      "/Users/liantseng/Desktop/udemy/venv/lib/python3.13/site-packages/backtesting/backtesting.py:954: UserWarning: time=3160: Broker canceled the relative-sized order due to insufficient margin.\n",
      "  warnings.warn(\n",
      "/Users/liantseng/Desktop/udemy/venv/lib/python3.13/site-packages/backtesting/backtesting.py:954: UserWarning: time=3204: Broker canceled the relative-sized order due to insufficient margin.\n",
      "  warnings.warn(\n",
      "/Users/liantseng/Desktop/udemy/venv/lib/python3.13/site-packages/backtesting/backtesting.py:954: UserWarning: time=3245: Broker canceled the relative-sized order due to insufficient margin.\n",
      "  warnings.warn(\n",
      "/Users/liantseng/Desktop/udemy/venv/lib/python3.13/site-packages/backtesting/backtesting.py:954: UserWarning: time=3303: Broker canceled the relative-sized order due to insufficient margin.\n",
      "  warnings.warn(\n",
      "/Users/liantseng/Desktop/udemy/venv/lib/python3.13/site-packages/backtesting/backtesting.py:954: UserWarning: time=3416: Broker canceled the relative-sized order due to insufficient margin.\n",
      "  warnings.warn(\n",
      "/Users/liantseng/Desktop/udemy/venv/lib/python3.13/site-packages/backtesting/backtesting.py:954: UserWarning: time=3433: Broker canceled the relative-sized order due to insufficient margin.\n",
      "  warnings.warn(\n",
      "/Users/liantseng/Desktop/udemy/venv/lib/python3.13/site-packages/backtesting/backtesting.py:954: UserWarning: time=3504: Broker canceled the relative-sized order due to insufficient margin.\n",
      "  warnings.warn(\n",
      "/Users/liantseng/Desktop/udemy/venv/lib/python3.13/site-packages/backtesting/backtesting.py:954: UserWarning: time=3537: Broker canceled the relative-sized order due to insufficient margin.\n",
      "  warnings.warn(\n",
      "/Users/liantseng/Desktop/udemy/venv/lib/python3.13/site-packages/backtesting/backtesting.py:954: UserWarning: time=3569: Broker canceled the relative-sized order due to insufficient margin.\n",
      "  warnings.warn(\n",
      "/Users/liantseng/Desktop/udemy/venv/lib/python3.13/site-packages/backtesting/backtesting.py:954: UserWarning: time=3601: Broker canceled the relative-sized order due to insufficient margin.\n",
      "  warnings.warn(\n",
      "/Users/liantseng/Desktop/udemy/venv/lib/python3.13/site-packages/backtesting/backtesting.py:954: UserWarning: time=3615: Broker canceled the relative-sized order due to insufficient margin.\n",
      "  warnings.warn(\n",
      "/Users/liantseng/Desktop/udemy/venv/lib/python3.13/site-packages/backtesting/backtesting.py:954: UserWarning: time=3659: Broker canceled the relative-sized order due to insufficient margin.\n",
      "  warnings.warn(\n",
      "/Users/liantseng/Desktop/udemy/venv/lib/python3.13/site-packages/backtesting/backtesting.py:954: UserWarning: time=3762: Broker canceled the relative-sized order due to insufficient margin.\n",
      "  warnings.warn(\n",
      "/Users/liantseng/Desktop/udemy/venv/lib/python3.13/site-packages/backtesting/backtesting.py:954: UserWarning: time=3777: Broker canceled the relative-sized order due to insufficient margin.\n",
      "  warnings.warn(\n",
      "/Users/liantseng/Desktop/udemy/venv/lib/python3.13/site-packages/backtesting/backtesting.py:954: UserWarning: time=3803: Broker canceled the relative-sized order due to insufficient margin.\n",
      "  warnings.warn(\n",
      "/Users/liantseng/Desktop/udemy/venv/lib/python3.13/site-packages/backtesting/backtesting.py:954: UserWarning: time=3872: Broker canceled the relative-sized order due to insufficient margin.\n",
      "  warnings.warn(\n",
      "/Users/liantseng/Desktop/udemy/venv/lib/python3.13/site-packages/backtesting/backtesting.py:954: UserWarning: time=2519: Broker canceled the relative-sized order due to insufficient margin.\n",
      "  warnings.warn(\n",
      "/Users/liantseng/Desktop/udemy/venv/lib/python3.13/site-packages/backtesting/backtesting.py:954: UserWarning: time=2645: Broker canceled the relative-sized order due to insufficient margin.\n",
      "  warnings.warn(\n",
      "/Users/liantseng/Desktop/udemy/venv/lib/python3.13/site-packages/backtesting/backtesting.py:954: UserWarning: time=2750: Broker canceled the relative-sized order due to insufficient margin.\n",
      "  warnings.warn(\n",
      "/Users/liantseng/Desktop/udemy/venv/lib/python3.13/site-packages/backtesting/backtesting.py:954: UserWarning: time=3887: Broker canceled the relative-sized order due to insufficient margin.\n",
      "  warnings.warn(\n",
      "/Users/liantseng/Desktop/udemy/venv/lib/python3.13/site-packages/backtesting/backtesting.py:954: UserWarning: time=3881: Broker canceled the relative-sized order due to insufficient margin.\n",
      "  warnings.warn(\n"
     ]
    },
    {
     "data": {
      "application/vnd.jupyter.widget-view+json": {
       "model_id": "d556c208e8b842829d6781fa39d11d4b",
       "version_major": 2,
       "version_minor": 0
      },
      "text/plain": [
       "Backtest.run:   0%|          | 0/3838 [00:00<?, ?bar/s]"
      ]
     },
     "metadata": {},
     "output_type": "display_data"
    },
    {
     "data": {
      "application/vnd.jupyter.widget-view+json": {
       "model_id": "26be75534f894787ac3fc2de2f43905d",
       "version_major": 2,
       "version_minor": 0
      },
      "text/plain": [
       "Backtest.run:   0%|          | 0/3843 [00:00<?, ?bar/s]"
      ]
     },
     "metadata": {},
     "output_type": "display_data"
    },
    {
     "data": {
      "application/vnd.jupyter.widget-view+json": {
       "model_id": "b203026270704218a5a73a4d8923e746",
       "version_major": 2,
       "version_minor": 0
      },
      "text/plain": [
       "Backtest.run:   0%|          | 0/3848 [00:00<?, ?bar/s]"
      ]
     },
     "metadata": {},
     "output_type": "display_data"
    },
    {
     "data": {
      "application/vnd.jupyter.widget-view+json": {
       "model_id": "e12df66397eb40ed8ebeb6e38353eab4",
       "version_major": 2,
       "version_minor": 0
      },
      "text/plain": [
       "Backtest.run:   0%|          | 0/3858 [00:00<?, ?bar/s]"
      ]
     },
     "metadata": {},
     "output_type": "display_data"
    },
    {
     "data": {
      "application/vnd.jupyter.widget-view+json": {
       "model_id": "4e97d631ff68463a8669bada56353386",
       "version_major": 2,
       "version_minor": 0
      },
      "text/plain": [
       "Backtest.run:   0%|          | 0/3863 [00:00<?, ?bar/s]"
      ]
     },
     "metadata": {},
     "output_type": "display_data"
    },
    {
     "data": {
      "application/vnd.jupyter.widget-view+json": {
       "model_id": "c148800811ed46c9999ac8f47b33268a",
       "version_major": 2,
       "version_minor": 0
      },
      "text/plain": [
       "Backtest.run:   0%|          | 0/3828 [00:00<?, ?bar/s]"
      ]
     },
     "metadata": {},
     "output_type": "display_data"
    },
    {
     "data": {
      "application/vnd.jupyter.widget-view+json": {
       "model_id": "e13689d0ab424463bd13cd5cd1c7053d",
       "version_major": 2,
       "version_minor": 0
      },
      "text/plain": [
       "Backtest.run:   0%|          | 0/3833 [00:00<?, ?bar/s]"
      ]
     },
     "metadata": {},
     "output_type": "display_data"
    },
    {
     "data": {
      "application/vnd.jupyter.widget-view+json": {
       "model_id": "f2012bb0585f48ac89f3e2a739359cee",
       "version_major": 2,
       "version_minor": 0
      },
      "text/plain": [
       "Backtest.run:   0%|          | 0/3848 [00:00<?, ?bar/s]"
      ]
     },
     "metadata": {},
     "output_type": "display_data"
    },
    {
     "data": {
      "application/vnd.jupyter.widget-view+json": {
       "model_id": "def62f4c21c14c3896997e7502f5f6b8",
       "version_major": 2,
       "version_minor": 0
      },
      "text/plain": [
       "Backtest.run:   0%|          | 0/3833 [00:00<?, ?bar/s]"
      ]
     },
     "metadata": {},
     "output_type": "display_data"
    },
    {
     "data": {
      "application/vnd.jupyter.widget-view+json": {
       "model_id": "bfb27560f288486984e4163a6d6d1e84",
       "version_major": 2,
       "version_minor": 0
      },
      "text/plain": [
       "Backtest.run:   0%|          | 0/3868 [00:00<?, ?bar/s]"
      ]
     },
     "metadata": {},
     "output_type": "display_data"
    },
    {
     "name": "stderr",
     "output_type": "stream",
     "text": [
      "/Users/liantseng/Desktop/udemy/venv/lib/python3.13/site-packages/backtesting/backtesting.py:954: UserWarning: time=860: Broker canceled the relative-sized order due to insufficient margin.\n",
      "  warnings.warn(\n",
      "/Users/liantseng/Desktop/udemy/venv/lib/python3.13/site-packages/backtesting/backtesting.py:954: UserWarning: time=864: Broker canceled the relative-sized order due to insufficient margin.\n",
      "  warnings.warn(\n",
      "/Users/liantseng/Desktop/udemy/venv/lib/python3.13/site-packages/backtesting/backtesting.py:954: UserWarning: time=921: Broker canceled the relative-sized order due to insufficient margin.\n",
      "  warnings.warn(\n",
      "/Users/liantseng/Desktop/udemy/venv/lib/python3.13/site-packages/backtesting/backtesting.py:954: UserWarning: time=940: Broker canceled the relative-sized order due to insufficient margin.\n",
      "  warnings.warn(\n",
      "/Users/liantseng/Desktop/udemy/venv/lib/python3.13/site-packages/backtesting/backtesting.py:954: UserWarning: time=1028: Broker canceled the relative-sized order due to insufficient margin.\n",
      "  warnings.warn(\n",
      "/Users/liantseng/Desktop/udemy/venv/lib/python3.13/site-packages/backtesting/backtesting.py:954: UserWarning: time=1048: Broker canceled the relative-sized order due to insufficient margin.\n",
      "  warnings.warn(\n",
      "/Users/liantseng/Desktop/udemy/venv/lib/python3.13/site-packages/backtesting/backtesting.py:954: UserWarning: time=1100: Broker canceled the relative-sized order due to insufficient margin.\n",
      "  warnings.warn(\n",
      "/Users/liantseng/Desktop/udemy/venv/lib/python3.13/site-packages/backtesting/backtesting.py:954: UserWarning: time=1117: Broker canceled the relative-sized order due to insufficient margin.\n",
      "  warnings.warn(\n",
      "/Users/liantseng/Desktop/udemy/venv/lib/python3.13/site-packages/backtesting/backtesting.py:954: UserWarning: time=1219: Broker canceled the relative-sized order due to insufficient margin.\n",
      "  warnings.warn(\n",
      "/Users/liantseng/Desktop/udemy/venv/lib/python3.13/site-packages/backtesting/backtesting.py:954: UserWarning: time=1263: Broker canceled the relative-sized order due to insufficient margin.\n",
      "  warnings.warn(\n",
      "/Users/liantseng/Desktop/udemy/venv/lib/python3.13/site-packages/backtesting/backtesting.py:954: UserWarning: time=1278: Broker canceled the relative-sized order due to insufficient margin.\n",
      "  warnings.warn(\n",
      "/Users/liantseng/Desktop/udemy/venv/lib/python3.13/site-packages/backtesting/backtesting.py:954: UserWarning: time=1316: Broker canceled the relative-sized order due to insufficient margin.\n",
      "  warnings.warn(\n",
      "/Users/liantseng/Desktop/udemy/venv/lib/python3.13/site-packages/backtesting/backtesting.py:954: UserWarning: time=1346: Broker canceled the relative-sized order due to insufficient margin.\n",
      "  warnings.warn(\n",
      "/Users/liantseng/Desktop/udemy/venv/lib/python3.13/site-packages/backtesting/backtesting.py:954: UserWarning: time=1404: Broker canceled the relative-sized order due to insufficient margin.\n",
      "  warnings.warn(\n",
      "/Users/liantseng/Desktop/udemy/venv/lib/python3.13/site-packages/backtesting/backtesting.py:954: UserWarning: time=1428: Broker canceled the relative-sized order due to insufficient margin.\n",
      "  warnings.warn(\n",
      "/Users/liantseng/Desktop/udemy/venv/lib/python3.13/site-packages/backtesting/backtesting.py:954: UserWarning: time=1574: Broker canceled the relative-sized order due to insufficient margin.\n",
      "  warnings.warn(\n",
      "/Users/liantseng/Desktop/udemy/venv/lib/python3.13/site-packages/backtesting/backtesting.py:954: UserWarning: time=1589: Broker canceled the relative-sized order due to insufficient margin.\n",
      "  warnings.warn(\n",
      "/Users/liantseng/Desktop/udemy/venv/lib/python3.13/site-packages/backtesting/backtesting.py:954: UserWarning: time=1618: Broker canceled the relative-sized order due to insufficient margin.\n",
      "  warnings.warn(\n",
      "/Users/liantseng/Desktop/udemy/venv/lib/python3.13/site-packages/backtesting/backtesting.py:954: UserWarning: time=1775: Broker canceled the relative-sized order due to insufficient margin.\n",
      "  warnings.warn(\n",
      "/Users/liantseng/Desktop/udemy/venv/lib/python3.13/site-packages/backtesting/backtesting.py:954: UserWarning: time=1791: Broker canceled the relative-sized order due to insufficient margin.\n",
      "  warnings.warn(\n",
      "/Users/liantseng/Desktop/udemy/venv/lib/python3.13/site-packages/backtesting/backtesting.py:954: UserWarning: time=1802: Broker canceled the relative-sized order due to insufficient margin.\n",
      "  warnings.warn(\n",
      "/Users/liantseng/Desktop/udemy/venv/lib/python3.13/site-packages/backtesting/backtesting.py:954: UserWarning: time=1874: Broker canceled the relative-sized order due to insufficient margin.\n",
      "  warnings.warn(\n",
      "/Users/liantseng/Desktop/udemy/venv/lib/python3.13/site-packages/backtesting/backtesting.py:954: UserWarning: time=1893: Broker canceled the relative-sized order due to insufficient margin.\n",
      "  warnings.warn(\n",
      "/Users/liantseng/Desktop/udemy/venv/lib/python3.13/site-packages/backtesting/backtesting.py:954: UserWarning: time=1939: Broker canceled the relative-sized order due to insufficient margin.\n",
      "  warnings.warn(\n",
      "/Users/liantseng/Desktop/udemy/venv/lib/python3.13/site-packages/backtesting/backtesting.py:954: UserWarning: time=1995: Broker canceled the relative-sized order due to insufficient margin.\n",
      "  warnings.warn(\n",
      "/Users/liantseng/Desktop/udemy/venv/lib/python3.13/site-packages/backtesting/backtesting.py:954: UserWarning: time=2040: Broker canceled the relative-sized order due to insufficient margin.\n",
      "  warnings.warn(\n",
      "/Users/liantseng/Desktop/udemy/venv/lib/python3.13/site-packages/backtesting/backtesting.py:954: UserWarning: time=2109: Broker canceled the relative-sized order due to insufficient margin.\n",
      "  warnings.warn(\n",
      "/Users/liantseng/Desktop/udemy/venv/lib/python3.13/site-packages/backtesting/backtesting.py:954: UserWarning: time=2141: Broker canceled the relative-sized order due to insufficient margin.\n",
      "  warnings.warn(\n",
      "/Users/liantseng/Desktop/udemy/venv/lib/python3.13/site-packages/backtesting/backtesting.py:954: UserWarning: time=2183: Broker canceled the relative-sized order due to insufficient margin.\n",
      "  warnings.warn(\n",
      "/Users/liantseng/Desktop/udemy/venv/lib/python3.13/site-packages/backtesting/backtesting.py:954: UserWarning: time=2218: Broker canceled the relative-sized order due to insufficient margin.\n",
      "  warnings.warn(\n",
      "/Users/liantseng/Desktop/udemy/venv/lib/python3.13/site-packages/backtesting/backtesting.py:954: UserWarning: time=2414: Broker canceled the relative-sized order due to insufficient margin.\n",
      "  warnings.warn(\n",
      "/Users/liantseng/Desktop/udemy/venv/lib/python3.13/site-packages/backtesting/backtesting.py:954: UserWarning: time=2509: Broker canceled the relative-sized order due to insufficient margin.\n",
      "  warnings.warn(\n",
      "/Users/liantseng/Desktop/udemy/venv/lib/python3.13/site-packages/backtesting/backtesting.py:954: UserWarning: time=2562: Broker canceled the relative-sized order due to insufficient margin.\n",
      "  warnings.warn(\n",
      "/Users/liantseng/Desktop/udemy/venv/lib/python3.13/site-packages/backtesting/backtesting.py:954: UserWarning: time=2580: Broker canceled the relative-sized order due to insufficient margin.\n",
      "  warnings.warn(\n",
      "/Users/liantseng/Desktop/udemy/venv/lib/python3.13/site-packages/backtesting/backtesting.py:954: UserWarning: time=2627: Broker canceled the relative-sized order due to insufficient margin.\n",
      "  warnings.warn(\n",
      "/Users/liantseng/Desktop/udemy/venv/lib/python3.13/site-packages/backtesting/backtesting.py:954: UserWarning: time=2709: Broker canceled the relative-sized order due to insufficient margin.\n",
      "  warnings.warn(\n",
      "/Users/liantseng/Desktop/udemy/venv/lib/python3.13/site-packages/backtesting/backtesting.py:954: UserWarning: time=2720: Broker canceled the relative-sized order due to insufficient margin.\n",
      "  warnings.warn(\n",
      "/Users/liantseng/Desktop/udemy/venv/lib/python3.13/site-packages/backtesting/backtesting.py:954: UserWarning: time=2731: Broker canceled the relative-sized order due to insufficient margin.\n",
      "  warnings.warn(\n",
      "/Users/liantseng/Desktop/udemy/venv/lib/python3.13/site-packages/backtesting/backtesting.py:954: UserWarning: time=2737: Broker canceled the relative-sized order due to insufficient margin.\n",
      "  warnings.warn(\n",
      "/Users/liantseng/Desktop/udemy/venv/lib/python3.13/site-packages/backtesting/backtesting.py:954: UserWarning: time=2747: Broker canceled the relative-sized order due to insufficient margin.\n",
      "  warnings.warn(\n",
      "/Users/liantseng/Desktop/udemy/venv/lib/python3.13/site-packages/backtesting/backtesting.py:954: UserWarning: time=2771: Broker canceled the relative-sized order due to insufficient margin.\n",
      "  warnings.warn(\n",
      "/Users/liantseng/Desktop/udemy/venv/lib/python3.13/site-packages/backtesting/backtesting.py:954: UserWarning: time=2871: Broker canceled the relative-sized order due to insufficient margin.\n",
      "  warnings.warn(\n",
      "/Users/liantseng/Desktop/udemy/venv/lib/python3.13/site-packages/backtesting/backtesting.py:954: UserWarning: time=2902: Broker canceled the relative-sized order due to insufficient margin.\n",
      "  warnings.warn(\n",
      "/Users/liantseng/Desktop/udemy/venv/lib/python3.13/site-packages/backtesting/backtesting.py:954: UserWarning: time=2965: Broker canceled the relative-sized order due to insufficient margin.\n",
      "  warnings.warn(\n",
      "/Users/liantseng/Desktop/udemy/venv/lib/python3.13/site-packages/backtesting/backtesting.py:954: UserWarning: time=2980: Broker canceled the relative-sized order due to insufficient margin.\n",
      "  warnings.warn(\n",
      "/Users/liantseng/Desktop/udemy/venv/lib/python3.13/site-packages/backtesting/backtesting.py:954: UserWarning: time=3023: Broker canceled the relative-sized order due to insufficient margin.\n",
      "  warnings.warn(\n",
      "/Users/liantseng/Desktop/udemy/venv/lib/python3.13/site-packages/backtesting/backtesting.py:954: UserWarning: time=3026: Broker canceled the relative-sized order due to insufficient margin.\n",
      "  warnings.warn(\n",
      "/Users/liantseng/Desktop/udemy/venv/lib/python3.13/site-packages/backtesting/backtesting.py:954: UserWarning: time=3039: Broker canceled the relative-sized order due to insufficient margin.\n",
      "  warnings.warn(\n",
      "/Users/liantseng/Desktop/udemy/venv/lib/python3.13/site-packages/backtesting/backtesting.py:954: UserWarning: time=3096: Broker canceled the relative-sized order due to insufficient margin.\n",
      "  warnings.warn(\n",
      "/Users/liantseng/Desktop/udemy/venv/lib/python3.13/site-packages/backtesting/backtesting.py:954: UserWarning: time=3106: Broker canceled the relative-sized order due to insufficient margin.\n",
      "  warnings.warn(\n",
      "/Users/liantseng/Desktop/udemy/venv/lib/python3.13/site-packages/backtesting/backtesting.py:954: UserWarning: time=3160: Broker canceled the relative-sized order due to insufficient margin.\n",
      "  warnings.warn(\n",
      "/Users/liantseng/Desktop/udemy/venv/lib/python3.13/site-packages/backtesting/backtesting.py:954: UserWarning: time=3203: Broker canceled the relative-sized order due to insufficient margin.\n",
      "  warnings.warn(\n",
      "/Users/liantseng/Desktop/udemy/venv/lib/python3.13/site-packages/backtesting/backtesting.py:954: UserWarning: time=3242: Broker canceled the relative-sized order due to insufficient margin.\n",
      "  warnings.warn(\n",
      "/Users/liantseng/Desktop/udemy/venv/lib/python3.13/site-packages/backtesting/backtesting.py:954: UserWarning: time=3301: Broker canceled the relative-sized order due to insufficient margin.\n",
      "  warnings.warn(\n",
      "/Users/liantseng/Desktop/udemy/venv/lib/python3.13/site-packages/backtesting/backtesting.py:954: UserWarning: time=3416: Broker canceled the relative-sized order due to insufficient margin.\n",
      "  warnings.warn(\n",
      "/Users/liantseng/Desktop/udemy/venv/lib/python3.13/site-packages/backtesting/backtesting.py:954: UserWarning: time=3433: Broker canceled the relative-sized order due to insufficient margin.\n",
      "  warnings.warn(\n",
      "/Users/liantseng/Desktop/udemy/venv/lib/python3.13/site-packages/backtesting/backtesting.py:954: UserWarning: time=3501: Broker canceled the relative-sized order due to insufficient margin.\n",
      "  warnings.warn(\n",
      "/Users/liantseng/Desktop/udemy/venv/lib/python3.13/site-packages/backtesting/backtesting.py:954: UserWarning: time=3537: Broker canceled the relative-sized order due to insufficient margin.\n",
      "  warnings.warn(\n",
      "/Users/liantseng/Desktop/udemy/venv/lib/python3.13/site-packages/backtesting/backtesting.py:954: UserWarning: time=3568: Broker canceled the relative-sized order due to insufficient margin.\n",
      "  warnings.warn(\n",
      "/Users/liantseng/Desktop/udemy/venv/lib/python3.13/site-packages/backtesting/backtesting.py:954: UserWarning: time=3600: Broker canceled the relative-sized order due to insufficient margin.\n",
      "  warnings.warn(\n",
      "/Users/liantseng/Desktop/udemy/venv/lib/python3.13/site-packages/backtesting/backtesting.py:954: UserWarning: time=3616: Broker canceled the relative-sized order due to insufficient margin.\n",
      "  warnings.warn(\n",
      "/Users/liantseng/Desktop/udemy/venv/lib/python3.13/site-packages/backtesting/backtesting.py:954: UserWarning: time=3658: Broker canceled the relative-sized order due to insufficient margin.\n",
      "  warnings.warn(\n",
      "/Users/liantseng/Desktop/udemy/venv/lib/python3.13/site-packages/backtesting/backtesting.py:954: UserWarning: time=3760: Broker canceled the relative-sized order due to insufficient margin.\n",
      "  warnings.warn(\n",
      "/Users/liantseng/Desktop/udemy/venv/lib/python3.13/site-packages/backtesting/backtesting.py:954: UserWarning: time=3779: Broker canceled the relative-sized order due to insufficient margin.\n",
      "  warnings.warn(\n",
      "/Users/liantseng/Desktop/udemy/venv/lib/python3.13/site-packages/backtesting/backtesting.py:954: UserWarning: time=3803: Broker canceled the relative-sized order due to insufficient margin.\n",
      "  warnings.warn(\n",
      "/Users/liantseng/Desktop/udemy/venv/lib/python3.13/site-packages/backtesting/backtesting.py:954: UserWarning: time=3871: Broker canceled the relative-sized order due to insufficient margin.\n",
      "  warnings.warn(\n",
      "/Users/liantseng/Desktop/udemy/venv/lib/python3.13/site-packages/backtesting/_stats.py:155: RuntimeWarning: divide by zero encountered in log\n",
      "  equity_log_returns = np.log(equity[1:] / equity[:-1])\n",
      "/Users/liantseng/Desktop/udemy/venv/lib/python3.13/site-packages/backtesting/_stats.py:155: RuntimeWarning: divide by zero encountered in log\n",
      "  equity_log_returns = np.log(equity[1:] / equity[:-1])\n"
     ]
    },
    {
     "data": {
      "application/vnd.jupyter.widget-view+json": {
       "model_id": "94cc7c0a09bf4f5bb1db5a8ae4b48d2a",
       "version_major": 2,
       "version_minor": 0
      },
      "text/plain": [
       "Backtest.run:   0%|          | 0/3863 [00:00<?, ?bar/s]"
      ]
     },
     "metadata": {},
     "output_type": "display_data"
    },
    {
     "data": {
      "application/vnd.jupyter.widget-view+json": {
       "model_id": "034adfd0427042fc91de04d06bc25767",
       "version_major": 2,
       "version_minor": 0
      },
      "text/plain": [
       "Backtest.run:   0%|          | 0/3833 [00:00<?, ?bar/s]"
      ]
     },
     "metadata": {},
     "output_type": "display_data"
    },
    {
     "data": {
      "application/vnd.jupyter.widget-view+json": {
       "model_id": "ece88602d2a84312bf85f02713496b78",
       "version_major": 2,
       "version_minor": 0
      },
      "text/plain": [
       "Backtest.run:   0%|          | 0/3828 [00:00<?, ?bar/s]"
      ]
     },
     "metadata": {},
     "output_type": "display_data"
    },
    {
     "data": {
      "application/vnd.jupyter.widget-view+json": {
       "model_id": "dae7dccff82b46e09095a62ab747766a",
       "version_major": 2,
       "version_minor": 0
      },
      "text/plain": [
       "Backtest.run:   0%|          | 0/3838 [00:00<?, ?bar/s]"
      ]
     },
     "metadata": {},
     "output_type": "display_data"
    },
    {
     "data": {
      "application/vnd.jupyter.widget-view+json": {
       "model_id": "3bb439847fb94a8e95f3bdb18e41e643",
       "version_major": 2,
       "version_minor": 0
      },
      "text/plain": [
       "Backtest.run:   0%|          | 0/3873 [00:00<?, ?bar/s]"
      ]
     },
     "metadata": {},
     "output_type": "display_data"
    },
    {
     "data": {
      "application/vnd.jupyter.widget-view+json": {
       "model_id": "4774f84e532f46f7a70d55920cb9cb0d",
       "version_major": 2,
       "version_minor": 0
      },
      "text/plain": [
       "Backtest.run:   0%|          | 0/3868 [00:00<?, ?bar/s]"
      ]
     },
     "metadata": {},
     "output_type": "display_data"
    },
    {
     "data": {
      "application/vnd.jupyter.widget-view+json": {
       "model_id": "30c12d49cd924d95bfbb24bc04f72aa4",
       "version_major": 2,
       "version_minor": 0
      },
      "text/plain": [
       "Backtest.run:   0%|          | 0/3828 [00:00<?, ?bar/s]"
      ]
     },
     "metadata": {},
     "output_type": "display_data"
    },
    {
     "data": {
      "application/vnd.jupyter.widget-view+json": {
       "model_id": "6f08f0f3aefb4ff78c785bd0dbf73d75",
       "version_major": 2,
       "version_minor": 0
      },
      "text/plain": [
       "Backtest.run:   0%|          | 0/3843 [00:00<?, ?bar/s]"
      ]
     },
     "metadata": {},
     "output_type": "display_data"
    },
    {
     "data": {
      "application/vnd.jupyter.widget-view+json": {
       "model_id": "42e1da314d00410fa50e839f0de76f3f",
       "version_major": 2,
       "version_minor": 0
      },
      "text/plain": [
       "Backtest.run:   0%|          | 0/3843 [00:00<?, ?bar/s]"
      ]
     },
     "metadata": {},
     "output_type": "display_data"
    },
    {
     "data": {
      "application/vnd.jupyter.widget-view+json": {
       "model_id": "cb56481fb9dd4e3e9d3bfb180c376c7c",
       "version_major": 2,
       "version_minor": 0
      },
      "text/plain": [
       "Backtest.run:   0%|          | 0/3858 [00:00<?, ?bar/s]"
      ]
     },
     "metadata": {},
     "output_type": "display_data"
    },
    {
     "name": "stderr",
     "output_type": "stream",
     "text": [
      "/Users/liantseng/Desktop/udemy/venv/lib/python3.13/site-packages/backtesting/backtesting.py:954: UserWarning: time=857: Broker canceled the relative-sized order due to insufficient margin.\n",
      "  warnings.warn(\n",
      "/Users/liantseng/Desktop/udemy/venv/lib/python3.13/site-packages/backtesting/backtesting.py:954: UserWarning: time=2060: Broker canceled the relative-sized order due to insufficient margin.\n",
      "  warnings.warn(\n",
      "/Users/liantseng/Desktop/udemy/venv/lib/python3.13/site-packages/backtesting/backtesting.py:954: UserWarning: time=2132: Broker canceled the relative-sized order due to insufficient margin.\n",
      "  warnings.warn(\n",
      "/Users/liantseng/Desktop/udemy/venv/lib/python3.13/site-packages/backtesting/backtesting.py:954: UserWarning: time=2143: Broker canceled the relative-sized order due to insufficient margin.\n",
      "  warnings.warn(\n",
      "/Users/liantseng/Desktop/udemy/venv/lib/python3.13/site-packages/backtesting/backtesting.py:954: UserWarning: time=2205: Broker canceled the relative-sized order due to insufficient margin.\n",
      "  warnings.warn(\n",
      "/Users/liantseng/Desktop/udemy/venv/lib/python3.13/site-packages/backtesting/backtesting.py:954: UserWarning: time=2229: Broker canceled the relative-sized order due to insufficient margin.\n",
      "  warnings.warn(\n",
      "/Users/liantseng/Desktop/udemy/venv/lib/python3.13/site-packages/backtesting/backtesting.py:954: UserWarning: time=2432: Broker canceled the relative-sized order due to insufficient margin.\n",
      "  warnings.warn(\n",
      "/Users/liantseng/Desktop/udemy/venv/lib/python3.13/site-packages/backtesting/backtesting.py:954: UserWarning: time=2518: Broker canceled the relative-sized order due to insufficient margin.\n",
      "  warnings.warn(\n",
      "/Users/liantseng/Desktop/udemy/venv/lib/python3.13/site-packages/backtesting/backtesting.py:954: UserWarning: time=2644: Broker canceled the relative-sized order due to insufficient margin.\n",
      "  warnings.warn(\n",
      "/Users/liantseng/Desktop/udemy/venv/lib/python3.13/site-packages/backtesting/backtesting.py:954: UserWarning: time=2749: Broker canceled the relative-sized order due to insufficient margin.\n",
      "  warnings.warn(\n",
      "/Users/liantseng/Desktop/udemy/venv/lib/python3.13/site-packages/backtesting/backtesting.py:954: UserWarning: time=2783: Broker canceled the relative-sized order due to insufficient margin.\n",
      "  warnings.warn(\n",
      "/Users/liantseng/Desktop/udemy/venv/lib/python3.13/site-packages/backtesting/backtesting.py:954: UserWarning: time=2899: Broker canceled the relative-sized order due to insufficient margin.\n",
      "  warnings.warn(\n",
      "/Users/liantseng/Desktop/udemy/venv/lib/python3.13/site-packages/backtesting/backtesting.py:954: UserWarning: time=2914: Broker canceled the relative-sized order due to insufficient margin.\n",
      "  warnings.warn(\n",
      "/Users/liantseng/Desktop/udemy/venv/lib/python3.13/site-packages/backtesting/backtesting.py:954: UserWarning: time=3047: Broker canceled the relative-sized order due to insufficient margin.\n",
      "  warnings.warn(\n",
      "/Users/liantseng/Desktop/udemy/venv/lib/python3.13/site-packages/backtesting/backtesting.py:954: UserWarning: time=3179: Broker canceled the relative-sized order due to insufficient margin.\n",
      "  warnings.warn(\n",
      "/Users/liantseng/Desktop/udemy/venv/lib/python3.13/site-packages/backtesting/backtesting.py:954: UserWarning: time=3212: Broker canceled the relative-sized order due to insufficient margin.\n",
      "  warnings.warn(\n",
      "/Users/liantseng/Desktop/udemy/venv/lib/python3.13/site-packages/backtesting/backtesting.py:954: UserWarning: time=3262: Broker canceled the relative-sized order due to insufficient margin.\n",
      "  warnings.warn(\n",
      "/Users/liantseng/Desktop/udemy/venv/lib/python3.13/site-packages/backtesting/backtesting.py:954: UserWarning: time=3321: Broker canceled the relative-sized order due to insufficient margin.\n",
      "  warnings.warn(\n",
      "/Users/liantseng/Desktop/udemy/venv/lib/python3.13/site-packages/backtesting/backtesting.py:954: UserWarning: time=3523: Broker canceled the relative-sized order due to insufficient margin.\n",
      "  warnings.warn(\n",
      "/Users/liantseng/Desktop/udemy/venv/lib/python3.13/site-packages/backtesting/backtesting.py:954: UserWarning: time=3550: Broker canceled the relative-sized order due to insufficient margin.\n",
      "  warnings.warn(\n",
      "/Users/liantseng/Desktop/udemy/venv/lib/python3.13/site-packages/backtesting/backtesting.py:954: UserWarning: time=3579: Broker canceled the relative-sized order due to insufficient margin.\n",
      "  warnings.warn(\n",
      "/Users/liantseng/Desktop/udemy/venv/lib/python3.13/site-packages/backtesting/backtesting.py:954: UserWarning: time=3674: Broker canceled the relative-sized order due to insufficient margin.\n",
      "  warnings.warn(\n",
      "/Users/liantseng/Desktop/udemy/venv/lib/python3.13/site-packages/backtesting/backtesting.py:954: UserWarning: time=3813: Broker canceled the relative-sized order due to insufficient margin.\n",
      "  warnings.warn(\n",
      "/Users/liantseng/Desktop/udemy/venv/lib/python3.13/site-packages/backtesting/backtesting.py:954: UserWarning: time=3884: Broker canceled the relative-sized order due to insufficient margin.\n",
      "  warnings.warn(\n",
      "/Users/liantseng/Desktop/udemy/venv/lib/python3.13/site-packages/backtesting/backtesting.py:954: UserWarning: time=867: Broker canceled the relative-sized order due to insufficient margin.\n",
      "  warnings.warn(\n",
      "/Users/liantseng/Desktop/udemy/venv/lib/python3.13/site-packages/backtesting/backtesting.py:954: UserWarning: time=920: Broker canceled the relative-sized order due to insufficient margin.\n",
      "  warnings.warn(\n",
      "/Users/liantseng/Desktop/udemy/venv/lib/python3.13/site-packages/backtesting/backtesting.py:954: UserWarning: time=940: Broker canceled the relative-sized order due to insufficient margin.\n",
      "  warnings.warn(\n",
      "/Users/liantseng/Desktop/udemy/venv/lib/python3.13/site-packages/backtesting/backtesting.py:954: UserWarning: time=1026: Broker canceled the relative-sized order due to insufficient margin.\n",
      "  warnings.warn(\n",
      "/Users/liantseng/Desktop/udemy/venv/lib/python3.13/site-packages/backtesting/backtesting.py:954: UserWarning: time=1048: Broker canceled the relative-sized order due to insufficient margin.\n",
      "  warnings.warn(\n",
      "/Users/liantseng/Desktop/udemy/venv/lib/python3.13/site-packages/backtesting/backtesting.py:954: UserWarning: time=1098: Broker canceled the relative-sized order due to insufficient margin.\n",
      "  warnings.warn(\n",
      "/Users/liantseng/Desktop/udemy/venv/lib/python3.13/site-packages/backtesting/backtesting.py:954: UserWarning: time=1118: Broker canceled the relative-sized order due to insufficient margin.\n",
      "  warnings.warn(\n",
      "/Users/liantseng/Desktop/udemy/venv/lib/python3.13/site-packages/backtesting/backtesting.py:954: UserWarning: time=1214: Broker canceled the relative-sized order due to insufficient margin.\n",
      "  warnings.warn(\n",
      "/Users/liantseng/Desktop/udemy/venv/lib/python3.13/site-packages/backtesting/backtesting.py:954: UserWarning: time=1261: Broker canceled the relative-sized order due to insufficient margin.\n",
      "  warnings.warn(\n",
      "/Users/liantseng/Desktop/udemy/venv/lib/python3.13/site-packages/backtesting/backtesting.py:954: UserWarning: time=1279: Broker canceled the relative-sized order due to insufficient margin.\n",
      "  warnings.warn(\n",
      "/Users/liantseng/Desktop/udemy/venv/lib/python3.13/site-packages/backtesting/backtesting.py:954: UserWarning: time=1315: Broker canceled the relative-sized order due to insufficient margin.\n",
      "  warnings.warn(\n",
      "/Users/liantseng/Desktop/udemy/venv/lib/python3.13/site-packages/backtesting/backtesting.py:954: UserWarning: time=1344: Broker canceled the relative-sized order due to insufficient margin.\n",
      "  warnings.warn(\n",
      "/Users/liantseng/Desktop/udemy/venv/lib/python3.13/site-packages/backtesting/backtesting.py:954: UserWarning: time=1402: Broker canceled the relative-sized order due to insufficient margin.\n",
      "  warnings.warn(\n",
      "/Users/liantseng/Desktop/udemy/venv/lib/python3.13/site-packages/backtesting/backtesting.py:954: UserWarning: time=1427: Broker canceled the relative-sized order due to insufficient margin.\n",
      "  warnings.warn(\n",
      "/Users/liantseng/Desktop/udemy/venv/lib/python3.13/site-packages/backtesting/backtesting.py:954: UserWarning: time=1455: Broker canceled the relative-sized order due to insufficient margin.\n",
      "  warnings.warn(\n",
      "/Users/liantseng/Desktop/udemy/venv/lib/python3.13/site-packages/backtesting/backtesting.py:954: UserWarning: time=1460: Broker canceled the relative-sized order due to insufficient margin.\n",
      "  warnings.warn(\n",
      "/Users/liantseng/Desktop/udemy/venv/lib/python3.13/site-packages/backtesting/backtesting.py:954: UserWarning: time=1569: Broker canceled the relative-sized order due to insufficient margin.\n",
      "  warnings.warn(\n",
      "/Users/liantseng/Desktop/udemy/venv/lib/python3.13/site-packages/backtesting/backtesting.py:954: UserWarning: time=1589: Broker canceled the relative-sized order due to insufficient margin.\n",
      "  warnings.warn(\n",
      "/Users/liantseng/Desktop/udemy/venv/lib/python3.13/site-packages/backtesting/backtesting.py:954: UserWarning: time=1618: Broker canceled the relative-sized order due to insufficient margin.\n",
      "  warnings.warn(\n",
      "/Users/liantseng/Desktop/udemy/venv/lib/python3.13/site-packages/backtesting/backtesting.py:954: UserWarning: time=1773: Broker canceled the relative-sized order due to insufficient margin.\n",
      "  warnings.warn(\n",
      "/Users/liantseng/Desktop/udemy/venv/lib/python3.13/site-packages/backtesting/backtesting.py:954: UserWarning: time=1791: Broker canceled the relative-sized order due to insufficient margin.\n",
      "  warnings.warn(\n",
      "/Users/liantseng/Desktop/udemy/venv/lib/python3.13/site-packages/backtesting/backtesting.py:954: UserWarning: time=1804: Broker canceled the relative-sized order due to insufficient margin.\n",
      "  warnings.warn(\n",
      "/Users/liantseng/Desktop/udemy/venv/lib/python3.13/site-packages/backtesting/backtesting.py:954: UserWarning: time=1873: Broker canceled the relative-sized order due to insufficient margin.\n",
      "  warnings.warn(\n",
      "/Users/liantseng/Desktop/udemy/venv/lib/python3.13/site-packages/backtesting/backtesting.py:954: UserWarning: time=1892: Broker canceled the relative-sized order due to insufficient margin.\n",
      "  warnings.warn(\n",
      "/Users/liantseng/Desktop/udemy/venv/lib/python3.13/site-packages/backtesting/backtesting.py:954: UserWarning: time=1937: Broker canceled the relative-sized order due to insufficient margin.\n",
      "  warnings.warn(\n",
      "/Users/liantseng/Desktop/udemy/venv/lib/python3.13/site-packages/backtesting/backtesting.py:954: UserWarning: time=1994: Broker canceled the relative-sized order due to insufficient margin.\n",
      "  warnings.warn(\n",
      "/Users/liantseng/Desktop/udemy/venv/lib/python3.13/site-packages/backtesting/backtesting.py:954: UserWarning: time=2037: Broker canceled the relative-sized order due to insufficient margin.\n",
      "  warnings.warn(\n",
      "/Users/liantseng/Desktop/udemy/venv/lib/python3.13/site-packages/backtesting/backtesting.py:954: UserWarning: time=2109: Broker canceled the relative-sized order due to insufficient margin.\n",
      "  warnings.warn(\n",
      "/Users/liantseng/Desktop/udemy/venv/lib/python3.13/site-packages/backtesting/backtesting.py:954: UserWarning: time=2139: Broker canceled the relative-sized order due to insufficient margin.\n",
      "  warnings.warn(\n",
      "/Users/liantseng/Desktop/udemy/venv/lib/python3.13/site-packages/backtesting/backtesting.py:954: UserWarning: time=2182: Broker canceled the relative-sized order due to insufficient margin.\n",
      "  warnings.warn(\n",
      "/Users/liantseng/Desktop/udemy/venv/lib/python3.13/site-packages/backtesting/backtesting.py:954: UserWarning: time=2217: Broker canceled the relative-sized order due to insufficient margin.\n",
      "  warnings.warn(\n",
      "/Users/liantseng/Desktop/udemy/venv/lib/python3.13/site-packages/backtesting/backtesting.py:954: UserWarning: time=2413: Broker canceled the relative-sized order due to insufficient margin.\n",
      "  warnings.warn(\n",
      "/Users/liantseng/Desktop/udemy/venv/lib/python3.13/site-packages/backtesting/backtesting.py:954: UserWarning: time=2509: Broker canceled the relative-sized order due to insufficient margin.\n",
      "  warnings.warn(\n",
      "/Users/liantseng/Desktop/udemy/venv/lib/python3.13/site-packages/backtesting/backtesting.py:954: UserWarning: time=2561: Broker canceled the relative-sized order due to insufficient margin.\n",
      "  warnings.warn(\n",
      "/Users/liantseng/Desktop/udemy/venv/lib/python3.13/site-packages/backtesting/backtesting.py:954: UserWarning: time=2580: Broker canceled the relative-sized order due to insufficient margin.\n",
      "  warnings.warn(\n",
      "/Users/liantseng/Desktop/udemy/venv/lib/python3.13/site-packages/backtesting/backtesting.py:954: UserWarning: time=2626: Broker canceled the relative-sized order due to insufficient margin.\n",
      "  warnings.warn(\n",
      "/Users/liantseng/Desktop/udemy/venv/lib/python3.13/site-packages/backtesting/backtesting.py:954: UserWarning: time=2708: Broker canceled the relative-sized order due to insufficient margin.\n",
      "  warnings.warn(\n",
      "/Users/liantseng/Desktop/udemy/venv/lib/python3.13/site-packages/backtesting/backtesting.py:954: UserWarning: time=2721: Broker canceled the relative-sized order due to insufficient margin.\n",
      "  warnings.warn(\n",
      "/Users/liantseng/Desktop/udemy/venv/lib/python3.13/site-packages/backtesting/backtesting.py:954: UserWarning: time=2723: Broker canceled the relative-sized order due to insufficient margin.\n",
      "  warnings.warn(\n",
      "/Users/liantseng/Desktop/udemy/venv/lib/python3.13/site-packages/backtesting/backtesting.py:954: UserWarning: time=2725: Broker canceled the relative-sized order due to insufficient margin.\n",
      "  warnings.warn(\n",
      "/Users/liantseng/Desktop/udemy/venv/lib/python3.13/site-packages/backtesting/backtesting.py:954: UserWarning: time=2747: Broker canceled the relative-sized order due to insufficient margin.\n",
      "  warnings.warn(\n",
      "/Users/liantseng/Desktop/udemy/venv/lib/python3.13/site-packages/backtesting/backtesting.py:954: UserWarning: time=2771: Broker canceled the relative-sized order due to insufficient margin.\n",
      "  warnings.warn(\n",
      "/Users/liantseng/Desktop/udemy/venv/lib/python3.13/site-packages/backtesting/backtesting.py:954: UserWarning: time=2868: Broker canceled the relative-sized order due to insufficient margin.\n",
      "  warnings.warn(\n",
      "/Users/liantseng/Desktop/udemy/venv/lib/python3.13/site-packages/backtesting/backtesting.py:954: UserWarning: time=2901: Broker canceled the relative-sized order due to insufficient margin.\n",
      "  warnings.warn(\n",
      "/Users/liantseng/Desktop/udemy/venv/lib/python3.13/site-packages/backtesting/backtesting.py:954: UserWarning: time=2963: Broker canceled the relative-sized order due to insufficient margin.\n",
      "  warnings.warn(\n",
      "/Users/liantseng/Desktop/udemy/venv/lib/python3.13/site-packages/backtesting/backtesting.py:954: UserWarning: time=2979: Broker canceled the relative-sized order due to insufficient margin.\n",
      "  warnings.warn(\n",
      "/Users/liantseng/Desktop/udemy/venv/lib/python3.13/site-packages/backtesting/backtesting.py:954: UserWarning: time=3017: Broker canceled the relative-sized order due to insufficient margin.\n",
      "  warnings.warn(\n",
      "/Users/liantseng/Desktop/udemy/venv/lib/python3.13/site-packages/backtesting/backtesting.py:954: UserWarning: time=3026: Broker canceled the relative-sized order due to insufficient margin.\n",
      "  warnings.warn(\n",
      "/Users/liantseng/Desktop/udemy/venv/lib/python3.13/site-packages/backtesting/backtesting.py:954: UserWarning: time=3040: Broker canceled the relative-sized order due to insufficient margin.\n",
      "  warnings.warn(\n",
      "/Users/liantseng/Desktop/udemy/venv/lib/python3.13/site-packages/backtesting/backtesting.py:954: UserWarning: time=3095: Broker canceled the relative-sized order due to insufficient margin.\n",
      "  warnings.warn(\n",
      "/Users/liantseng/Desktop/udemy/venv/lib/python3.13/site-packages/backtesting/backtesting.py:954: UserWarning: time=3106: Broker canceled the relative-sized order due to insufficient margin.\n",
      "  warnings.warn(\n",
      "/Users/liantseng/Desktop/udemy/venv/lib/python3.13/site-packages/backtesting/backtesting.py:954: UserWarning: time=3151: Broker canceled the relative-sized order due to insufficient margin.\n",
      "  warnings.warn(\n",
      "/Users/liantseng/Desktop/udemy/venv/lib/python3.13/site-packages/backtesting/backtesting.py:954: UserWarning: time=3154: Broker canceled the relative-sized order due to insufficient margin.\n",
      "  warnings.warn(\n",
      "/Users/liantseng/Desktop/udemy/venv/lib/python3.13/site-packages/backtesting/backtesting.py:954: UserWarning: time=3159: Broker canceled the relative-sized order due to insufficient margin.\n",
      "  warnings.warn(\n",
      "/Users/liantseng/Desktop/udemy/venv/lib/python3.13/site-packages/backtesting/backtesting.py:954: UserWarning: time=3202: Broker canceled the relative-sized order due to insufficient margin.\n",
      "  warnings.warn(\n",
      "/Users/liantseng/Desktop/udemy/venv/lib/python3.13/site-packages/backtesting/backtesting.py:954: UserWarning: time=3239: Broker canceled the relative-sized order due to insufficient margin.\n",
      "  warnings.warn(\n",
      "/Users/liantseng/Desktop/udemy/venv/lib/python3.13/site-packages/backtesting/backtesting.py:954: UserWarning: time=3297: Broker canceled the relative-sized order due to insufficient margin.\n",
      "  warnings.warn(\n",
      "/Users/liantseng/Desktop/udemy/venv/lib/python3.13/site-packages/backtesting/backtesting.py:954: UserWarning: time=3416: Broker canceled the relative-sized order due to insufficient margin.\n",
      "  warnings.warn(\n",
      "/Users/liantseng/Desktop/udemy/venv/lib/python3.13/site-packages/backtesting/backtesting.py:954: UserWarning: time=3433: Broker canceled the relative-sized order due to insufficient margin.\n",
      "  warnings.warn(\n",
      "/Users/liantseng/Desktop/udemy/venv/lib/python3.13/site-packages/backtesting/backtesting.py:954: UserWarning: time=3499: Broker canceled the relative-sized order due to insufficient margin.\n",
      "  warnings.warn(\n",
      "/Users/liantseng/Desktop/udemy/venv/lib/python3.13/site-packages/backtesting/backtesting.py:954: UserWarning: time=3536: Broker canceled the relative-sized order due to insufficient margin.\n",
      "  warnings.warn(\n",
      "/Users/liantseng/Desktop/udemy/venv/lib/python3.13/site-packages/backtesting/backtesting.py:954: UserWarning: time=3567: Broker canceled the relative-sized order due to insufficient margin.\n",
      "  warnings.warn(\n",
      "/Users/liantseng/Desktop/udemy/venv/lib/python3.13/site-packages/backtesting/backtesting.py:954: UserWarning: time=3599: Broker canceled the relative-sized order due to insufficient margin.\n",
      "  warnings.warn(\n",
      "/Users/liantseng/Desktop/udemy/venv/lib/python3.13/site-packages/backtesting/backtesting.py:954: UserWarning: time=3616: Broker canceled the relative-sized order due to insufficient margin.\n",
      "  warnings.warn(\n",
      "/Users/liantseng/Desktop/udemy/venv/lib/python3.13/site-packages/backtesting/backtesting.py:954: UserWarning: time=3659: Broker canceled the relative-sized order due to insufficient margin.\n",
      "  warnings.warn(\n",
      "/Users/liantseng/Desktop/udemy/venv/lib/python3.13/site-packages/backtesting/backtesting.py:954: UserWarning: time=3759: Broker canceled the relative-sized order due to insufficient margin.\n",
      "  warnings.warn(\n",
      "/Users/liantseng/Desktop/udemy/venv/lib/python3.13/site-packages/backtesting/backtesting.py:954: UserWarning: time=3779: Broker canceled the relative-sized order due to insufficient margin.\n",
      "  warnings.warn(\n",
      "/Users/liantseng/Desktop/udemy/venv/lib/python3.13/site-packages/backtesting/backtesting.py:954: UserWarning: time=3802: Broker canceled the relative-sized order due to insufficient margin.\n",
      "  warnings.warn(\n",
      "/Users/liantseng/Desktop/udemy/venv/lib/python3.13/site-packages/backtesting/backtesting.py:954: UserWarning: time=3871: Broker canceled the relative-sized order due to insufficient margin.\n",
      "  warnings.warn(\n",
      "/Users/liantseng/Desktop/udemy/venv/lib/python3.13/site-packages/backtesting/backtesting.py:954: UserWarning: time=863: Broker canceled the relative-sized order due to insufficient margin.\n",
      "  warnings.warn(\n",
      "/Users/liantseng/Desktop/udemy/venv/lib/python3.13/site-packages/backtesting/backtesting.py:954: UserWarning: time=869: Broker canceled the relative-sized order due to insufficient margin.\n",
      "  warnings.warn(\n",
      "/Users/liantseng/Desktop/udemy/venv/lib/python3.13/site-packages/backtesting/backtesting.py:954: UserWarning: time=923: Broker canceled the relative-sized order due to insufficient margin.\n",
      "  warnings.warn(\n",
      "/Users/liantseng/Desktop/udemy/venv/lib/python3.13/site-packages/backtesting/backtesting.py:954: UserWarning: time=944: Broker canceled the relative-sized order due to insufficient margin.\n",
      "  warnings.warn(\n",
      "/Users/liantseng/Desktop/udemy/venv/lib/python3.13/site-packages/backtesting/backtesting.py:954: UserWarning: time=1030: Broker canceled the relative-sized order due to insufficient margin.\n",
      "  warnings.warn(\n",
      "/Users/liantseng/Desktop/udemy/venv/lib/python3.13/site-packages/backtesting/backtesting.py:954: UserWarning: time=1051: Broker canceled the relative-sized order due to insufficient margin.\n",
      "  warnings.warn(\n",
      "/Users/liantseng/Desktop/udemy/venv/lib/python3.13/site-packages/backtesting/backtesting.py:954: UserWarning: time=1102: Broker canceled the relative-sized order due to insufficient margin.\n",
      "  warnings.warn(\n",
      "/Users/liantseng/Desktop/udemy/venv/lib/python3.13/site-packages/backtesting/backtesting.py:954: UserWarning: time=1121: Broker canceled the relative-sized order due to insufficient margin.\n",
      "  warnings.warn(\n",
      "/Users/liantseng/Desktop/udemy/venv/lib/python3.13/site-packages/backtesting/backtesting.py:954: UserWarning: time=1218: Broker canceled the relative-sized order due to insufficient margin.\n",
      "  warnings.warn(\n",
      "/Users/liantseng/Desktop/udemy/venv/lib/python3.13/site-packages/backtesting/backtesting.py:954: UserWarning: time=1265: Broker canceled the relative-sized order due to insufficient margin.\n",
      "  warnings.warn(\n",
      "/Users/liantseng/Desktop/udemy/venv/lib/python3.13/site-packages/backtesting/backtesting.py:954: UserWarning: time=1282: Broker canceled the relative-sized order due to insufficient margin.\n",
      "  warnings.warn(\n",
      "/Users/liantseng/Desktop/udemy/venv/lib/python3.13/site-packages/backtesting/backtesting.py:954: UserWarning: time=1319: Broker canceled the relative-sized order due to insufficient margin.\n",
      "  warnings.warn(\n",
      "/Users/liantseng/Desktop/udemy/venv/lib/python3.13/site-packages/backtesting/backtesting.py:954: UserWarning: time=1348: Broker canceled the relative-sized order due to insufficient margin.\n",
      "  warnings.warn(\n",
      "/Users/liantseng/Desktop/udemy/venv/lib/python3.13/site-packages/backtesting/backtesting.py:954: UserWarning: time=1405: Broker canceled the relative-sized order due to insufficient margin.\n",
      "  warnings.warn(\n",
      "/Users/liantseng/Desktop/udemy/venv/lib/python3.13/site-packages/backtesting/backtesting.py:954: UserWarning: time=1431: Broker canceled the relative-sized order due to insufficient margin.\n",
      "  warnings.warn(\n",
      "/Users/liantseng/Desktop/udemy/venv/lib/python3.13/site-packages/backtesting/backtesting.py:954: UserWarning: time=1574: Broker canceled the relative-sized order due to insufficient margin.\n",
      "  warnings.warn(\n",
      "/Users/liantseng/Desktop/udemy/venv/lib/python3.13/site-packages/backtesting/backtesting.py:954: UserWarning: time=1593: Broker canceled the relative-sized order due to insufficient margin.\n",
      "  warnings.warn(\n",
      "/Users/liantseng/Desktop/udemy/venv/lib/python3.13/site-packages/backtesting/backtesting.py:954: UserWarning: time=1620: Broker canceled the relative-sized order due to insufficient margin.\n",
      "  warnings.warn(\n",
      "/Users/liantseng/Desktop/udemy/venv/lib/python3.13/site-packages/backtesting/backtesting.py:954: UserWarning: time=1777: Broker canceled the relative-sized order due to insufficient margin.\n",
      "  warnings.warn(\n",
      "/Users/liantseng/Desktop/udemy/venv/lib/python3.13/site-packages/backtesting/backtesting.py:954: UserWarning: time=1796: Broker canceled the relative-sized order due to insufficient margin.\n",
      "  warnings.warn(\n",
      "/Users/liantseng/Desktop/udemy/venv/lib/python3.13/site-packages/backtesting/backtesting.py:954: UserWarning: time=1807: Broker canceled the relative-sized order due to insufficient margin.\n",
      "  warnings.warn(\n",
      "/Users/liantseng/Desktop/udemy/venv/lib/python3.13/site-packages/backtesting/backtesting.py:954: UserWarning: time=1876: Broker canceled the relative-sized order due to insufficient margin.\n",
      "  warnings.warn(\n",
      "/Users/liantseng/Desktop/udemy/venv/lib/python3.13/site-packages/backtesting/backtesting.py:954: UserWarning: time=1895: Broker canceled the relative-sized order due to insufficient margin.\n",
      "  warnings.warn(\n",
      "/Users/liantseng/Desktop/udemy/venv/lib/python3.13/site-packages/backtesting/backtesting.py:954: UserWarning: time=1940: Broker canceled the relative-sized order due to insufficient margin.\n",
      "  warnings.warn(\n",
      "/Users/liantseng/Desktop/udemy/venv/lib/python3.13/site-packages/backtesting/backtesting.py:954: UserWarning: time=1998: Broker canceled the relative-sized order due to insufficient margin.\n",
      "  warnings.warn(\n",
      "/Users/liantseng/Desktop/udemy/venv/lib/python3.13/site-packages/backtesting/backtesting.py:954: UserWarning: time=2042: Broker canceled the relative-sized order due to insufficient margin.\n",
      "  warnings.warn(\n",
      "/Users/liantseng/Desktop/udemy/venv/lib/python3.13/site-packages/backtesting/backtesting.py:954: UserWarning: time=2113: Broker canceled the relative-sized order due to insufficient margin.\n",
      "  warnings.warn(\n",
      "/Users/liantseng/Desktop/udemy/venv/lib/python3.13/site-packages/backtesting/backtesting.py:954: UserWarning: time=2141: Broker canceled the relative-sized order due to insufficient margin.\n",
      "  warnings.warn(\n",
      "/Users/liantseng/Desktop/udemy/venv/lib/python3.13/site-packages/backtesting/backtesting.py:954: UserWarning: time=2185: Broker canceled the relative-sized order due to insufficient margin.\n",
      "  warnings.warn(\n",
      "/Users/liantseng/Desktop/udemy/venv/lib/python3.13/site-packages/backtesting/backtesting.py:954: UserWarning: time=2219: Broker canceled the relative-sized order due to insufficient margin.\n",
      "  warnings.warn(\n",
      "/Users/liantseng/Desktop/udemy/venv/lib/python3.13/site-packages/backtesting/backtesting.py:954: UserWarning: time=2415: Broker canceled the relative-sized order due to insufficient margin.\n",
      "  warnings.warn(\n",
      "/Users/liantseng/Desktop/udemy/venv/lib/python3.13/site-packages/backtesting/backtesting.py:954: UserWarning: time=2511: Broker canceled the relative-sized order due to insufficient margin.\n",
      "  warnings.warn(\n",
      "/Users/liantseng/Desktop/udemy/venv/lib/python3.13/site-packages/backtesting/backtesting.py:954: UserWarning: time=2564: Broker canceled the relative-sized order due to insufficient margin.\n",
      "  warnings.warn(\n",
      "/Users/liantseng/Desktop/udemy/venv/lib/python3.13/site-packages/backtesting/backtesting.py:954: UserWarning: time=2582: Broker canceled the relative-sized order due to insufficient margin.\n",
      "  warnings.warn(\n",
      "/Users/liantseng/Desktop/udemy/venv/lib/python3.13/site-packages/backtesting/backtesting.py:954: UserWarning: time=2629: Broker canceled the relative-sized order due to insufficient margin.\n",
      "  warnings.warn(\n",
      "/Users/liantseng/Desktop/udemy/venv/lib/python3.13/site-packages/backtesting/backtesting.py:954: UserWarning: time=2713: Broker canceled the relative-sized order due to insufficient margin.\n",
      "  warnings.warn(\n",
      "/Users/liantseng/Desktop/udemy/venv/lib/python3.13/site-packages/backtesting/backtesting.py:954: UserWarning: time=2729: Broker canceled the relative-sized order due to insufficient margin.\n",
      "  warnings.warn(\n",
      "/Users/liantseng/Desktop/udemy/venv/lib/python3.13/site-packages/backtesting/backtesting.py:954: UserWarning: time=2741: Broker canceled the relative-sized order due to insufficient margin.\n",
      "  warnings.warn(\n",
      "/Users/liantseng/Desktop/udemy/venv/lib/python3.13/site-packages/backtesting/backtesting.py:954: UserWarning: time=2742: Broker canceled the relative-sized order due to insufficient margin.\n",
      "  warnings.warn(\n",
      "/Users/liantseng/Desktop/udemy/venv/lib/python3.13/site-packages/backtesting/backtesting.py:954: UserWarning: time=2775: Broker canceled the relative-sized order due to insufficient margin.\n",
      "  warnings.warn(\n",
      "/Users/liantseng/Desktop/udemy/venv/lib/python3.13/site-packages/backtesting/backtesting.py:954: UserWarning: time=2872: Broker canceled the relative-sized order due to insufficient margin.\n",
      "  warnings.warn(\n",
      "/Users/liantseng/Desktop/udemy/venv/lib/python3.13/site-packages/backtesting/backtesting.py:954: UserWarning: time=2904: Broker canceled the relative-sized order due to insufficient margin.\n",
      "  warnings.warn(\n",
      "/Users/liantseng/Desktop/udemy/venv/lib/python3.13/site-packages/backtesting/backtesting.py:954: UserWarning: time=2967: Broker canceled the relative-sized order due to insufficient margin.\n",
      "  warnings.warn(\n",
      "/Users/liantseng/Desktop/udemy/venv/lib/python3.13/site-packages/backtesting/backtesting.py:954: UserWarning: time=2981: Broker canceled the relative-sized order due to insufficient margin.\n",
      "  warnings.warn(\n",
      "/Users/liantseng/Desktop/udemy/venv/lib/python3.13/site-packages/backtesting/backtesting.py:954: UserWarning: time=3022: Broker canceled the relative-sized order due to insufficient margin.\n",
      "  warnings.warn(\n",
      "/Users/liantseng/Desktop/udemy/venv/lib/python3.13/site-packages/backtesting/backtesting.py:954: UserWarning: time=3031: Broker canceled the relative-sized order due to insufficient margin.\n",
      "  warnings.warn(\n",
      "/Users/liantseng/Desktop/udemy/venv/lib/python3.13/site-packages/backtesting/backtesting.py:954: UserWarning: time=3097: Broker canceled the relative-sized order due to insufficient margin.\n",
      "  warnings.warn(\n",
      "/Users/liantseng/Desktop/udemy/venv/lib/python3.13/site-packages/backtesting/backtesting.py:954: UserWarning: time=3156: Broker canceled the relative-sized order due to insufficient margin.\n",
      "  warnings.warn(\n",
      "/Users/liantseng/Desktop/udemy/venv/lib/python3.13/site-packages/backtesting/backtesting.py:954: UserWarning: time=3204: Broker canceled the relative-sized order due to insufficient margin.\n",
      "  warnings.warn(\n",
      "/Users/liantseng/Desktop/udemy/venv/lib/python3.13/site-packages/backtesting/backtesting.py:954: UserWarning: time=3243: Broker canceled the relative-sized order due to insufficient margin.\n",
      "  warnings.warn(\n",
      "/Users/liantseng/Desktop/udemy/venv/lib/python3.13/site-packages/backtesting/backtesting.py:954: UserWarning: time=3302: Broker canceled the relative-sized order due to insufficient margin.\n",
      "  warnings.warn(\n",
      "/Users/liantseng/Desktop/udemy/venv/lib/python3.13/site-packages/backtesting/backtesting.py:954: UserWarning: time=3417: Broker canceled the relative-sized order due to insufficient margin.\n",
      "  warnings.warn(\n",
      "/Users/liantseng/Desktop/udemy/venv/lib/python3.13/site-packages/backtesting/backtesting.py:954: UserWarning: time=3435: Broker canceled the relative-sized order due to insufficient margin.\n",
      "  warnings.warn(\n",
      "/Users/liantseng/Desktop/udemy/venv/lib/python3.13/site-packages/backtesting/backtesting.py:954: UserWarning: time=3503: Broker canceled the relative-sized order due to insufficient margin.\n",
      "  warnings.warn(\n",
      "/Users/liantseng/Desktop/udemy/venv/lib/python3.13/site-packages/backtesting/backtesting.py:954: UserWarning: time=3539: Broker canceled the relative-sized order due to insufficient margin.\n",
      "  warnings.warn(\n",
      "/Users/liantseng/Desktop/udemy/venv/lib/python3.13/site-packages/backtesting/backtesting.py:954: UserWarning: time=3570: Broker canceled the relative-sized order due to insufficient margin.\n",
      "  warnings.warn(\n",
      "/Users/liantseng/Desktop/udemy/venv/lib/python3.13/site-packages/backtesting/backtesting.py:954: UserWarning: time=3603: Broker canceled the relative-sized order due to insufficient margin.\n",
      "  warnings.warn(\n",
      "/Users/liantseng/Desktop/udemy/venv/lib/python3.13/site-packages/backtesting/backtesting.py:954: UserWarning: time=3620: Broker canceled the relative-sized order due to insufficient margin.\n",
      "  warnings.warn(\n",
      "/Users/liantseng/Desktop/udemy/venv/lib/python3.13/site-packages/backtesting/backtesting.py:954: UserWarning: time=3662: Broker canceled the relative-sized order due to insufficient margin.\n",
      "  warnings.warn(\n",
      "/Users/liantseng/Desktop/udemy/venv/lib/python3.13/site-packages/backtesting/backtesting.py:954: UserWarning: time=3764: Broker canceled the relative-sized order due to insufficient margin.\n",
      "  warnings.warn(\n",
      "/Users/liantseng/Desktop/udemy/venv/lib/python3.13/site-packages/backtesting/backtesting.py:954: UserWarning: time=3780: Broker canceled the relative-sized order due to insufficient margin.\n",
      "  warnings.warn(\n",
      "/Users/liantseng/Desktop/udemy/venv/lib/python3.13/site-packages/backtesting/backtesting.py:954: UserWarning: time=3806: Broker canceled the relative-sized order due to insufficient margin.\n",
      "  warnings.warn(\n",
      "/Users/liantseng/Desktop/udemy/venv/lib/python3.13/site-packages/backtesting/backtesting.py:954: UserWarning: time=3873: Broker canceled the relative-sized order due to insufficient margin.\n",
      "  warnings.warn(\n",
      "/Users/liantseng/Desktop/udemy/venv/lib/python3.13/site-packages/backtesting/_stats.py:155: RuntimeWarning: divide by zero encountered in log\n",
      "  equity_log_returns = np.log(equity[1:] / equity[:-1])\n",
      "/Users/liantseng/Desktop/udemy/venv/lib/python3.13/site-packages/backtesting/_stats.py:155: RuntimeWarning: divide by zero encountered in log\n",
      "  equity_log_returns = np.log(equity[1:] / equity[:-1])\n"
     ]
    },
    {
     "data": {
      "application/vnd.jupyter.widget-view+json": {
       "model_id": "85f517b77ccb4150b4792b63e15eeb42",
       "version_major": 2,
       "version_minor": 0
      },
      "text/plain": [
       "Backtest.run:   0%|          | 0/3858 [00:00<?, ?bar/s]"
      ]
     },
     "metadata": {},
     "output_type": "display_data"
    },
    {
     "data": {
      "application/vnd.jupyter.widget-view+json": {
       "model_id": "fcdbecf83c6f4819b7f05492020f42a7",
       "version_major": 2,
       "version_minor": 0
      },
      "text/plain": [
       "Backtest.run:   0%|          | 0/3878 [00:00<?, ?bar/s]"
      ]
     },
     "metadata": {},
     "output_type": "display_data"
    },
    {
     "data": {
      "application/vnd.jupyter.widget-view+json": {
       "model_id": "30e32d5127384ad69d2869025c5d96c4",
       "version_major": 2,
       "version_minor": 0
      },
      "text/plain": [
       "Backtest.run:   0%|          | 0/3883 [00:00<?, ?bar/s]"
      ]
     },
     "metadata": {},
     "output_type": "display_data"
    },
    {
     "data": {
      "application/vnd.jupyter.widget-view+json": {
       "model_id": "504b001f2c7c486e97b4f876489c4cbf",
       "version_major": 2,
       "version_minor": 0
      },
      "text/plain": [
       "Backtest.run:   0%|          | 0/3833 [00:00<?, ?bar/s]"
      ]
     },
     "metadata": {},
     "output_type": "display_data"
    },
    {
     "data": {
      "application/vnd.jupyter.widget-view+json": {
       "model_id": "386ad7ba5bb6418ea55ba402301a9b45",
       "version_major": 2,
       "version_minor": 0
      },
      "text/plain": [
       "Backtest.run:   0%|          | 0/3863 [00:00<?, ?bar/s]"
      ]
     },
     "metadata": {},
     "output_type": "display_data"
    },
    {
     "data": {
      "application/vnd.jupyter.widget-view+json": {
       "model_id": "09af3f3a03334416a2b8654ab8db3d18",
       "version_major": 2,
       "version_minor": 0
      },
      "text/plain": [
       "Backtest.run:   0%|          | 0/3838 [00:00<?, ?bar/s]"
      ]
     },
     "metadata": {},
     "output_type": "display_data"
    },
    {
     "data": {
      "application/vnd.jupyter.widget-view+json": {
       "model_id": "48b4db66852c42a583d5b0bda368818c",
       "version_major": 2,
       "version_minor": 0
      },
      "text/plain": [
       "Backtest.run:   0%|          | 0/3838 [00:00<?, ?bar/s]"
      ]
     },
     "metadata": {},
     "output_type": "display_data"
    },
    {
     "data": {
      "application/vnd.jupyter.widget-view+json": {
       "model_id": "a89b41b2d32d4e7b9cef41f789df1047",
       "version_major": 2,
       "version_minor": 0
      },
      "text/plain": [
       "Backtest.run:   0%|          | 0/3873 [00:00<?, ?bar/s]"
      ]
     },
     "metadata": {},
     "output_type": "display_data"
    },
    {
     "data": {
      "application/vnd.jupyter.widget-view+json": {
       "model_id": "af1a11ef215e461d97447a503f423d23",
       "version_major": 2,
       "version_minor": 0
      },
      "text/plain": [
       "Backtest.run:   0%|          | 0/3868 [00:00<?, ?bar/s]"
      ]
     },
     "metadata": {},
     "output_type": "display_data"
    },
    {
     "data": {
      "application/vnd.jupyter.widget-view+json": {
       "model_id": "24e31bb31097411c944322c189e9d8cd",
       "version_major": 2,
       "version_minor": 0
      },
      "text/plain": [
       "Backtest.run:   0%|          | 0/3828 [00:00<?, ?bar/s]"
      ]
     },
     "metadata": {},
     "output_type": "display_data"
    },
    {
     "name": "stderr",
     "output_type": "stream",
     "text": [
      "/Users/liantseng/Desktop/udemy/venv/lib/python3.13/site-packages/backtesting/backtesting.py:954: UserWarning: time=931: Broker canceled the relative-sized order due to insufficient margin.\n",
      "  warnings.warn(\n",
      "/Users/liantseng/Desktop/udemy/venv/lib/python3.13/site-packages/backtesting/backtesting.py:954: UserWarning: time=952: Broker canceled the relative-sized order due to insufficient margin.\n",
      "  warnings.warn(\n",
      "/Users/liantseng/Desktop/udemy/venv/lib/python3.13/site-packages/backtesting/backtesting.py:954: UserWarning: time=1034: Broker canceled the relative-sized order due to insufficient margin.\n",
      "  warnings.warn(\n",
      "/Users/liantseng/Desktop/udemy/venv/lib/python3.13/site-packages/backtesting/backtesting.py:954: UserWarning: time=1055: Broker canceled the relative-sized order due to insufficient margin.\n",
      "  warnings.warn(\n",
      "/Users/liantseng/Desktop/udemy/venv/lib/python3.13/site-packages/backtesting/backtesting.py:954: UserWarning: time=1110: Broker canceled the relative-sized order due to insufficient margin.\n",
      "  warnings.warn(\n",
      "/Users/liantseng/Desktop/udemy/venv/lib/python3.13/site-packages/backtesting/backtesting.py:954: UserWarning: time=1125: Broker canceled the relative-sized order due to insufficient margin.\n",
      "  warnings.warn(\n",
      "/Users/liantseng/Desktop/udemy/venv/lib/python3.13/site-packages/backtesting/backtesting.py:954: UserWarning: time=1221: Broker canceled the relative-sized order due to insufficient margin.\n",
      "  warnings.warn(\n",
      "/Users/liantseng/Desktop/udemy/venv/lib/python3.13/site-packages/backtesting/backtesting.py:954: UserWarning: time=1273: Broker canceled the relative-sized order due to insufficient margin.\n",
      "  warnings.warn(\n",
      "/Users/liantseng/Desktop/udemy/venv/lib/python3.13/site-packages/backtesting/backtesting.py:954: UserWarning: time=1289: Broker canceled the relative-sized order due to insufficient margin.\n",
      "  warnings.warn(\n",
      "/Users/liantseng/Desktop/udemy/venv/lib/python3.13/site-packages/backtesting/backtesting.py:954: UserWarning: time=1325: Broker canceled the relative-sized order due to insufficient margin.\n",
      "  warnings.warn(\n",
      "/Users/liantseng/Desktop/udemy/venv/lib/python3.13/site-packages/backtesting/backtesting.py:954: UserWarning: time=1354: Broker canceled the relative-sized order due to insufficient margin.\n",
      "  warnings.warn(\n",
      "/Users/liantseng/Desktop/udemy/venv/lib/python3.13/site-packages/backtesting/backtesting.py:954: UserWarning: time=1410: Broker canceled the relative-sized order due to insufficient margin.\n",
      "  warnings.warn(\n",
      "/Users/liantseng/Desktop/udemy/venv/lib/python3.13/site-packages/backtesting/backtesting.py:954: UserWarning: time=1439: Broker canceled the relative-sized order due to insufficient margin.\n",
      "  warnings.warn(\n",
      "/Users/liantseng/Desktop/udemy/venv/lib/python3.13/site-packages/backtesting/backtesting.py:954: UserWarning: time=1468: Broker canceled the relative-sized order due to insufficient margin.\n",
      "  warnings.warn(\n",
      "/Users/liantseng/Desktop/udemy/venv/lib/python3.13/site-packages/backtesting/backtesting.py:954: UserWarning: time=1477: Broker canceled the relative-sized order due to insufficient margin.\n",
      "  warnings.warn(\n",
      "/Users/liantseng/Desktop/udemy/venv/lib/python3.13/site-packages/backtesting/backtesting.py:954: UserWarning: time=1581: Broker canceled the relative-sized order due to insufficient margin.\n",
      "  warnings.warn(\n",
      "/Users/liantseng/Desktop/udemy/venv/lib/python3.13/site-packages/backtesting/backtesting.py:954: UserWarning: time=1599: Broker canceled the relative-sized order due to insufficient margin.\n",
      "  warnings.warn(\n",
      "/Users/liantseng/Desktop/udemy/venv/lib/python3.13/site-packages/backtesting/backtesting.py:954: UserWarning: time=1626: Broker canceled the relative-sized order due to insufficient margin.\n",
      "  warnings.warn(\n",
      "/Users/liantseng/Desktop/udemy/venv/lib/python3.13/site-packages/backtesting/backtesting.py:954: UserWarning: time=1786: Broker canceled the relative-sized order due to insufficient margin.\n",
      "  warnings.warn(\n",
      "/Users/liantseng/Desktop/udemy/venv/lib/python3.13/site-packages/backtesting/backtesting.py:954: UserWarning: time=1807: Broker canceled the relative-sized order due to insufficient margin.\n",
      "  warnings.warn(\n",
      "/Users/liantseng/Desktop/udemy/venv/lib/python3.13/site-packages/backtesting/backtesting.py:954: UserWarning: time=1818: Broker canceled the relative-sized order due to insufficient margin.\n",
      "  warnings.warn(\n",
      "/Users/liantseng/Desktop/udemy/venv/lib/python3.13/site-packages/backtesting/backtesting.py:954: UserWarning: time=1883: Broker canceled the relative-sized order due to insufficient margin.\n",
      "  warnings.warn(\n",
      "/Users/liantseng/Desktop/udemy/venv/lib/python3.13/site-packages/backtesting/backtesting.py:954: UserWarning: time=1901: Broker canceled the relative-sized order due to insufficient margin.\n",
      "  warnings.warn(\n",
      "/Users/liantseng/Desktop/udemy/venv/lib/python3.13/site-packages/backtesting/backtesting.py:954: UserWarning: time=1945: Broker canceled the relative-sized order due to insufficient margin.\n",
      "  warnings.warn(\n",
      "/Users/liantseng/Desktop/udemy/venv/lib/python3.13/site-packages/backtesting/backtesting.py:954: UserWarning: time=2004: Broker canceled the relative-sized order due to insufficient margin.\n",
      "  warnings.warn(\n",
      "/Users/liantseng/Desktop/udemy/venv/lib/python3.13/site-packages/backtesting/backtesting.py:954: UserWarning: time=2049: Broker canceled the relative-sized order due to insufficient margin.\n",
      "  warnings.warn(\n",
      "/Users/liantseng/Desktop/udemy/venv/lib/python3.13/site-packages/backtesting/backtesting.py:954: UserWarning: time=2119: Broker canceled the relative-sized order due to insufficient margin.\n",
      "  warnings.warn(\n",
      "/Users/liantseng/Desktop/udemy/venv/lib/python3.13/site-packages/backtesting/backtesting.py:954: UserWarning: time=2143: Broker canceled the relative-sized order due to insufficient margin.\n",
      "  warnings.warn(\n",
      "/Users/liantseng/Desktop/udemy/venv/lib/python3.13/site-packages/backtesting/backtesting.py:954: UserWarning: time=2191: Broker canceled the relative-sized order due to insufficient margin.\n",
      "  warnings.warn(\n",
      "/Users/liantseng/Desktop/udemy/venv/lib/python3.13/site-packages/backtesting/backtesting.py:954: UserWarning: time=2223: Broker canceled the relative-sized order due to insufficient margin.\n",
      "  warnings.warn(\n",
      "/Users/liantseng/Desktop/udemy/venv/lib/python3.13/site-packages/backtesting/backtesting.py:954: UserWarning: time=2421: Broker canceled the relative-sized order due to insufficient margin.\n",
      "  warnings.warn(\n",
      "/Users/liantseng/Desktop/udemy/venv/lib/python3.13/site-packages/backtesting/backtesting.py:954: UserWarning: time=2515: Broker canceled the relative-sized order due to insufficient margin.\n",
      "  warnings.warn(\n",
      "/Users/liantseng/Desktop/udemy/venv/lib/python3.13/site-packages/backtesting/backtesting.py:954: UserWarning: time=2569: Broker canceled the relative-sized order due to insufficient margin.\n",
      "  warnings.warn(\n",
      "/Users/liantseng/Desktop/udemy/venv/lib/python3.13/site-packages/backtesting/backtesting.py:954: UserWarning: time=2585: Broker canceled the relative-sized order due to insufficient margin.\n",
      "  warnings.warn(\n",
      "/Users/liantseng/Desktop/udemy/venv/lib/python3.13/site-packages/backtesting/backtesting.py:954: UserWarning: time=2634: Broker canceled the relative-sized order due to insufficient margin.\n",
      "  warnings.warn(\n",
      "/Users/liantseng/Desktop/udemy/venv/lib/python3.13/site-packages/backtesting/backtesting.py:954: UserWarning: time=2722: Broker canceled the relative-sized order due to insufficient margin.\n",
      "  warnings.warn(\n",
      "/Users/liantseng/Desktop/udemy/venv/lib/python3.13/site-packages/backtesting/backtesting.py:954: UserWarning: time=2739: Broker canceled the relative-sized order due to insufficient margin.\n",
      "  warnings.warn(\n",
      "/Users/liantseng/Desktop/udemy/venv/lib/python3.13/site-packages/backtesting/backtesting.py:954: UserWarning: time=2748: Broker canceled the relative-sized order due to insufficient margin.\n",
      "  warnings.warn(\n",
      "/Users/liantseng/Desktop/udemy/venv/lib/python3.13/site-packages/backtesting/backtesting.py:954: UserWarning: time=2782: Broker canceled the relative-sized order due to insufficient margin.\n",
      "  warnings.warn(\n",
      "/Users/liantseng/Desktop/udemy/venv/lib/python3.13/site-packages/backtesting/backtesting.py:954: UserWarning: time=2878: Broker canceled the relative-sized order due to insufficient margin.\n",
      "  warnings.warn(\n",
      "/Users/liantseng/Desktop/udemy/venv/lib/python3.13/site-packages/backtesting/backtesting.py:954: UserWarning: time=2909: Broker canceled the relative-sized order due to insufficient margin.\n",
      "  warnings.warn(\n",
      "/Users/liantseng/Desktop/udemy/venv/lib/python3.13/site-packages/backtesting/backtesting.py:954: UserWarning: time=2971: Broker canceled the relative-sized order due to insufficient margin.\n",
      "  warnings.warn(\n",
      "/Users/liantseng/Desktop/udemy/venv/lib/python3.13/site-packages/backtesting/backtesting.py:954: UserWarning: time=2982: Broker canceled the relative-sized order due to insufficient margin.\n",
      "  warnings.warn(\n",
      "/Users/liantseng/Desktop/udemy/venv/lib/python3.13/site-packages/backtesting/backtesting.py:954: UserWarning: time=3028: Broker canceled the relative-sized order due to insufficient margin.\n",
      "  warnings.warn(\n",
      "/Users/liantseng/Desktop/udemy/venv/lib/python3.13/site-packages/backtesting/backtesting.py:954: UserWarning: time=3163: Broker canceled the relative-sized order due to insufficient margin.\n",
      "  warnings.warn(\n",
      "/Users/liantseng/Desktop/udemy/venv/lib/python3.13/site-packages/backtesting/backtesting.py:954: UserWarning: time=3205: Broker canceled the relative-sized order due to insufficient margin.\n",
      "  warnings.warn(\n",
      "/Users/liantseng/Desktop/udemy/venv/lib/python3.13/site-packages/backtesting/backtesting.py:954: UserWarning: time=3249: Broker canceled the relative-sized order due to insufficient margin.\n",
      "  warnings.warn(\n",
      "/Users/liantseng/Desktop/udemy/venv/lib/python3.13/site-packages/backtesting/backtesting.py:954: UserWarning: time=3307: Broker canceled the relative-sized order due to insufficient margin.\n",
      "  warnings.warn(\n",
      "/Users/liantseng/Desktop/udemy/venv/lib/python3.13/site-packages/backtesting/backtesting.py:954: UserWarning: time=3420: Broker canceled the relative-sized order due to insufficient margin.\n",
      "  warnings.warn(\n",
      "/Users/liantseng/Desktop/udemy/venv/lib/python3.13/site-packages/backtesting/backtesting.py:954: UserWarning: time=3422: Broker canceled the relative-sized order due to insufficient margin.\n",
      "  warnings.warn(\n",
      "/Users/liantseng/Desktop/udemy/venv/lib/python3.13/site-packages/backtesting/backtesting.py:954: UserWarning: time=3425: Broker canceled the relative-sized order due to insufficient margin.\n",
      "  warnings.warn(\n",
      "/Users/liantseng/Desktop/udemy/venv/lib/python3.13/site-packages/backtesting/backtesting.py:954: UserWarning: time=3439: Broker canceled the relative-sized order due to insufficient margin.\n",
      "  warnings.warn(\n",
      "/Users/liantseng/Desktop/udemy/venv/lib/python3.13/site-packages/backtesting/backtesting.py:954: UserWarning: time=3509: Broker canceled the relative-sized order due to insufficient margin.\n",
      "  warnings.warn(\n",
      "/Users/liantseng/Desktop/udemy/venv/lib/python3.13/site-packages/backtesting/backtesting.py:954: UserWarning: time=3545: Broker canceled the relative-sized order due to insufficient margin.\n",
      "  warnings.warn(\n",
      "/Users/liantseng/Desktop/udemy/venv/lib/python3.13/site-packages/backtesting/backtesting.py:954: UserWarning: time=3575: Broker canceled the relative-sized order due to insufficient margin.\n",
      "  warnings.warn(\n",
      "/Users/liantseng/Desktop/udemy/venv/lib/python3.13/site-packages/backtesting/backtesting.py:954: UserWarning: time=3611: Broker canceled the relative-sized order due to insufficient margin.\n",
      "  warnings.warn(\n",
      "/Users/liantseng/Desktop/udemy/venv/lib/python3.13/site-packages/backtesting/backtesting.py:954: UserWarning: time=3628: Broker canceled the relative-sized order due to insufficient margin.\n",
      "  warnings.warn(\n",
      "/Users/liantseng/Desktop/udemy/venv/lib/python3.13/site-packages/backtesting/backtesting.py:954: UserWarning: time=3664: Broker canceled the relative-sized order due to insufficient margin.\n",
      "  warnings.warn(\n",
      "/Users/liantseng/Desktop/udemy/venv/lib/python3.13/site-packages/backtesting/backtesting.py:954: UserWarning: time=3771: Broker canceled the relative-sized order due to insufficient margin.\n",
      "  warnings.warn(\n",
      "/Users/liantseng/Desktop/udemy/venv/lib/python3.13/site-packages/backtesting/backtesting.py:954: UserWarning: time=3787: Broker canceled the relative-sized order due to insufficient margin.\n",
      "  warnings.warn(\n",
      "/Users/liantseng/Desktop/udemy/venv/lib/python3.13/site-packages/backtesting/backtesting.py:954: UserWarning: time=3813: Broker canceled the relative-sized order due to insufficient margin.\n",
      "  warnings.warn(\n",
      "/Users/liantseng/Desktop/udemy/venv/lib/python3.13/site-packages/backtesting/backtesting.py:954: UserWarning: time=3876: Broker canceled the relative-sized order due to insufficient margin.\n",
      "  warnings.warn(\n",
      "/Users/liantseng/Desktop/udemy/venv/lib/python3.13/site-packages/backtesting/backtesting.py:954: UserWarning: time=861: Broker canceled the relative-sized order due to insufficient margin.\n",
      "  warnings.warn(\n",
      "/Users/liantseng/Desktop/udemy/venv/lib/python3.13/site-packages/backtesting/backtesting.py:954: UserWarning: time=872: Broker canceled the relative-sized order due to insufficient margin.\n",
      "  warnings.warn(\n",
      "/Users/liantseng/Desktop/udemy/venv/lib/python3.13/site-packages/backtesting/backtesting.py:954: UserWarning: time=922: Broker canceled the relative-sized order due to insufficient margin.\n",
      "  warnings.warn(\n",
      "/Users/liantseng/Desktop/udemy/venv/lib/python3.13/site-packages/backtesting/backtesting.py:954: UserWarning: time=943: Broker canceled the relative-sized order due to insufficient margin.\n",
      "  warnings.warn(\n",
      "/Users/liantseng/Desktop/udemy/venv/lib/python3.13/site-packages/backtesting/backtesting.py:954: UserWarning: time=1029: Broker canceled the relative-sized order due to insufficient margin.\n",
      "  warnings.warn(\n",
      "/Users/liantseng/Desktop/udemy/venv/lib/python3.13/site-packages/backtesting/backtesting.py:954: UserWarning: time=1051: Broker canceled the relative-sized order due to insufficient margin.\n",
      "  warnings.warn(\n",
      "/Users/liantseng/Desktop/udemy/venv/lib/python3.13/site-packages/backtesting/backtesting.py:954: UserWarning: time=1101: Broker canceled the relative-sized order due to insufficient margin.\n",
      "  warnings.warn(\n",
      "/Users/liantseng/Desktop/udemy/venv/lib/python3.13/site-packages/backtesting/backtesting.py:954: UserWarning: time=1121: Broker canceled the relative-sized order due to insufficient margin.\n",
      "  warnings.warn(\n",
      "/Users/liantseng/Desktop/udemy/venv/lib/python3.13/site-packages/backtesting/backtesting.py:954: UserWarning: time=1214: Broker canceled the relative-sized order due to insufficient margin.\n",
      "  warnings.warn(\n",
      "/Users/liantseng/Desktop/udemy/venv/lib/python3.13/site-packages/backtesting/backtesting.py:954: UserWarning: time=1263: Broker canceled the relative-sized order due to insufficient margin.\n",
      "  warnings.warn(\n",
      "/Users/liantseng/Desktop/udemy/venv/lib/python3.13/site-packages/backtesting/backtesting.py:954: UserWarning: time=1282: Broker canceled the relative-sized order due to insufficient margin.\n",
      "  warnings.warn(\n",
      "/Users/liantseng/Desktop/udemy/venv/lib/python3.13/site-packages/backtesting/backtesting.py:954: UserWarning: time=1318: Broker canceled the relative-sized order due to insufficient margin.\n",
      "  warnings.warn(\n",
      "/Users/liantseng/Desktop/udemy/venv/lib/python3.13/site-packages/backtesting/backtesting.py:954: UserWarning: time=1346: Broker canceled the relative-sized order due to insufficient margin.\n",
      "  warnings.warn(\n",
      "/Users/liantseng/Desktop/udemy/venv/lib/python3.13/site-packages/backtesting/backtesting.py:954: UserWarning: time=1403: Broker canceled the relative-sized order due to insufficient margin.\n",
      "  warnings.warn(\n",
      "/Users/liantseng/Desktop/udemy/venv/lib/python3.13/site-packages/backtesting/backtesting.py:954: UserWarning: time=1430: Broker canceled the relative-sized order due to insufficient margin.\n",
      "  warnings.warn(\n",
      "/Users/liantseng/Desktop/udemy/venv/lib/python3.13/site-packages/backtesting/backtesting.py:954: UserWarning: time=1457: Broker canceled the relative-sized order due to insufficient margin.\n",
      "  warnings.warn(\n",
      "/Users/liantseng/Desktop/udemy/venv/lib/python3.13/site-packages/backtesting/backtesting.py:954: UserWarning: time=1467: Broker canceled the relative-sized order due to insufficient margin.\n",
      "  warnings.warn(\n",
      "/Users/liantseng/Desktop/udemy/venv/lib/python3.13/site-packages/backtesting/backtesting.py:954: UserWarning: time=1032: Broker canceled the relative-sized order due to insufficient margin.\n",
      "  warnings.warn(\n",
      "/Users/liantseng/Desktop/udemy/venv/lib/python3.13/site-packages/backtesting/backtesting.py:954: UserWarning: time=1054: Broker canceled the relative-sized order due to insufficient margin.\n",
      "  warnings.warn(\n",
      "/Users/liantseng/Desktop/udemy/venv/lib/python3.13/site-packages/backtesting/backtesting.py:954: UserWarning: time=1105: Broker canceled the relative-sized order due to insufficient margin.\n",
      "  warnings.warn(\n",
      "/Users/liantseng/Desktop/udemy/venv/lib/python3.13/site-packages/backtesting/backtesting.py:954: UserWarning: time=1123: Broker canceled the relative-sized order due to insufficient margin.\n",
      "  warnings.warn(\n",
      "/Users/liantseng/Desktop/udemy/venv/lib/python3.13/site-packages/backtesting/backtesting.py:954: UserWarning: time=1218: Broker canceled the relative-sized order due to insufficient margin.\n",
      "  warnings.warn(\n",
      "/Users/liantseng/Desktop/udemy/venv/lib/python3.13/site-packages/backtesting/backtesting.py:954: UserWarning: time=1267: Broker canceled the relative-sized order due to insufficient margin.\n",
      "  warnings.warn(\n",
      "/Users/liantseng/Desktop/udemy/venv/lib/python3.13/site-packages/backtesting/backtesting.py:954: UserWarning: time=1286: Broker canceled the relative-sized order due to insufficient margin.\n",
      "  warnings.warn(\n",
      "/Users/liantseng/Desktop/udemy/venv/lib/python3.13/site-packages/backtesting/backtesting.py:954: UserWarning: time=1322: Broker canceled the relative-sized order due to insufficient margin.\n",
      "  warnings.warn(\n",
      "/Users/liantseng/Desktop/udemy/venv/lib/python3.13/site-packages/backtesting/backtesting.py:954: UserWarning: time=1350: Broker canceled the relative-sized order due to insufficient margin.\n",
      "  warnings.warn(\n",
      "/Users/liantseng/Desktop/udemy/venv/lib/python3.13/site-packages/backtesting/backtesting.py:954: UserWarning: time=1406: Broker canceled the relative-sized order due to insufficient margin.\n",
      "  warnings.warn(\n",
      "/Users/liantseng/Desktop/udemy/venv/lib/python3.13/site-packages/backtesting/backtesting.py:954: UserWarning: time=1434: Broker canceled the relative-sized order due to insufficient margin.\n",
      "  warnings.warn(\n",
      "/Users/liantseng/Desktop/udemy/venv/lib/python3.13/site-packages/backtesting/backtesting.py:954: UserWarning: time=1463: Broker canceled the relative-sized order due to insufficient margin.\n",
      "  warnings.warn(\n",
      "/Users/liantseng/Desktop/udemy/venv/lib/python3.13/site-packages/backtesting/backtesting.py:954: UserWarning: time=1472: Broker canceled the relative-sized order due to insufficient margin.\n",
      "  warnings.warn(\n",
      "/Users/liantseng/Desktop/udemy/venv/lib/python3.13/site-packages/backtesting/backtesting.py:954: UserWarning: time=1499: Broker canceled the relative-sized order due to insufficient margin.\n",
      "  warnings.warn(\n",
      "/Users/liantseng/Desktop/udemy/venv/lib/python3.13/site-packages/backtesting/backtesting.py:954: UserWarning: time=1501: Broker canceled the relative-sized order due to insufficient margin.\n",
      "  warnings.warn(\n",
      "/Users/liantseng/Desktop/udemy/venv/lib/python3.13/site-packages/backtesting/backtesting.py:954: UserWarning: time=1576: Broker canceled the relative-sized order due to insufficient margin.\n",
      "  warnings.warn(\n",
      "/Users/liantseng/Desktop/udemy/venv/lib/python3.13/site-packages/backtesting/backtesting.py:954: UserWarning: time=1595: Broker canceled the relative-sized order due to insufficient margin.\n",
      "  warnings.warn(\n",
      "/Users/liantseng/Desktop/udemy/venv/lib/python3.13/site-packages/backtesting/backtesting.py:954: UserWarning: time=1623: Broker canceled the relative-sized order due to insufficient margin.\n",
      "  warnings.warn(\n",
      "/Users/liantseng/Desktop/udemy/venv/lib/python3.13/site-packages/backtesting/backtesting.py:954: UserWarning: time=1780: Broker canceled the relative-sized order due to insufficient margin.\n",
      "  warnings.warn(\n",
      "/Users/liantseng/Desktop/udemy/venv/lib/python3.13/site-packages/backtesting/backtesting.py:954: UserWarning: time=1801: Broker canceled the relative-sized order due to insufficient margin.\n",
      "  warnings.warn(\n",
      "/Users/liantseng/Desktop/udemy/venv/lib/python3.13/site-packages/backtesting/backtesting.py:954: UserWarning: time=1812: Broker canceled the relative-sized order due to insufficient margin.\n",
      "  warnings.warn(\n",
      "/Users/liantseng/Desktop/udemy/venv/lib/python3.13/site-packages/backtesting/backtesting.py:954: UserWarning: time=1878: Broker canceled the relative-sized order due to insufficient margin.\n",
      "  warnings.warn(\n",
      "/Users/liantseng/Desktop/udemy/venv/lib/python3.13/site-packages/backtesting/backtesting.py:954: UserWarning: time=1897: Broker canceled the relative-sized order due to insufficient margin.\n",
      "  warnings.warn(\n",
      "/Users/liantseng/Desktop/udemy/venv/lib/python3.13/site-packages/backtesting/backtesting.py:954: UserWarning: time=1942: Broker canceled the relative-sized order due to insufficient margin.\n",
      "  warnings.warn(\n",
      "/Users/liantseng/Desktop/udemy/venv/lib/python3.13/site-packages/backtesting/backtesting.py:954: UserWarning: time=2001: Broker canceled the relative-sized order due to insufficient margin.\n",
      "  warnings.warn(\n",
      "/Users/liantseng/Desktop/udemy/venv/lib/python3.13/site-packages/backtesting/backtesting.py:954: UserWarning: time=2044: Broker canceled the relative-sized order due to insufficient margin.\n",
      "  warnings.warn(\n",
      "/Users/liantseng/Desktop/udemy/venv/lib/python3.13/site-packages/backtesting/backtesting.py:954: UserWarning: time=2115: Broker canceled the relative-sized order due to insufficient margin.\n",
      "  warnings.warn(\n",
      "/Users/liantseng/Desktop/udemy/venv/lib/python3.13/site-packages/backtesting/backtesting.py:954: UserWarning: time=2142: Broker canceled the relative-sized order due to insufficient margin.\n",
      "  warnings.warn(\n",
      "/Users/liantseng/Desktop/udemy/venv/lib/python3.13/site-packages/backtesting/backtesting.py:954: UserWarning: time=2187: Broker canceled the relative-sized order due to insufficient margin.\n",
      "  warnings.warn(\n",
      "/Users/liantseng/Desktop/udemy/venv/lib/python3.13/site-packages/backtesting/backtesting.py:954: UserWarning: time=2221: Broker canceled the relative-sized order due to insufficient margin.\n",
      "  warnings.warn(\n",
      "/Users/liantseng/Desktop/udemy/venv/lib/python3.13/site-packages/backtesting/backtesting.py:954: UserWarning: time=2417: Broker canceled the relative-sized order due to insufficient margin.\n",
      "  warnings.warn(\n",
      "/Users/liantseng/Desktop/udemy/venv/lib/python3.13/site-packages/backtesting/backtesting.py:954: UserWarning: time=2512: Broker canceled the relative-sized order due to insufficient margin.\n",
      "  warnings.warn(\n",
      "/Users/liantseng/Desktop/udemy/venv/lib/python3.13/site-packages/backtesting/backtesting.py:954: UserWarning: time=2565: Broker canceled the relative-sized order due to insufficient margin.\n",
      "  warnings.warn(\n",
      "/Users/liantseng/Desktop/udemy/venv/lib/python3.13/site-packages/backtesting/backtesting.py:954: UserWarning: time=2584: Broker canceled the relative-sized order due to insufficient margin.\n",
      "  warnings.warn(\n",
      "/Users/liantseng/Desktop/udemy/venv/lib/python3.13/site-packages/backtesting/backtesting.py:954: UserWarning: time=2630: Broker canceled the relative-sized order due to insufficient margin.\n",
      "  warnings.warn(\n",
      "/Users/liantseng/Desktop/udemy/venv/lib/python3.13/site-packages/backtesting/backtesting.py:954: UserWarning: time=2716: Broker canceled the relative-sized order due to insufficient margin.\n",
      "  warnings.warn(\n",
      "/Users/liantseng/Desktop/udemy/venv/lib/python3.13/site-packages/backtesting/backtesting.py:954: UserWarning: time=2734: Broker canceled the relative-sized order due to insufficient margin.\n",
      "  warnings.warn(\n",
      "/Users/liantseng/Desktop/udemy/venv/lib/python3.13/site-packages/backtesting/backtesting.py:954: UserWarning: time=2751: Broker canceled the relative-sized order due to insufficient margin.\n",
      "  warnings.warn(\n",
      "/Users/liantseng/Desktop/udemy/venv/lib/python3.13/site-packages/backtesting/backtesting.py:954: UserWarning: time=2778: Broker canceled the relative-sized order due to insufficient margin.\n",
      "  warnings.warn(\n",
      "/Users/liantseng/Desktop/udemy/venv/lib/python3.13/site-packages/backtesting/backtesting.py:954: UserWarning: time=2873: Broker canceled the relative-sized order due to insufficient margin.\n",
      "  warnings.warn(\n",
      "/Users/liantseng/Desktop/udemy/venv/lib/python3.13/site-packages/backtesting/backtesting.py:954: UserWarning: time=1494: Broker canceled the relative-sized order due to insufficient margin.\n",
      "  warnings.warn(\n",
      "/Users/liantseng/Desktop/udemy/venv/lib/python3.13/site-packages/backtesting/backtesting.py:954: UserWarning: time=1497: Broker canceled the relative-sized order due to insufficient margin.\n",
      "  warnings.warn(\n",
      "/Users/liantseng/Desktop/udemy/venv/lib/python3.13/site-packages/backtesting/backtesting.py:954: UserWarning: time=1571: Broker canceled the relative-sized order due to insufficient margin.\n",
      "  warnings.warn(\n",
      "/Users/liantseng/Desktop/udemy/venv/lib/python3.13/site-packages/backtesting/backtesting.py:954: UserWarning: time=1592: Broker canceled the relative-sized order due to insufficient margin.\n",
      "  warnings.warn(\n",
      "/Users/liantseng/Desktop/udemy/venv/lib/python3.13/site-packages/backtesting/backtesting.py:954: UserWarning: time=1619: Broker canceled the relative-sized order due to insufficient margin.\n",
      "  warnings.warn(\n",
      "/Users/liantseng/Desktop/udemy/venv/lib/python3.13/site-packages/backtesting/backtesting.py:954: UserWarning: time=1776: Broker canceled the relative-sized order due to insufficient margin.\n",
      "  warnings.warn(\n",
      "/Users/liantseng/Desktop/udemy/venv/lib/python3.13/site-packages/backtesting/backtesting.py:954: UserWarning: time=1796: Broker canceled the relative-sized order due to insufficient margin.\n",
      "  warnings.warn(\n",
      "/Users/liantseng/Desktop/udemy/venv/lib/python3.13/site-packages/backtesting/backtesting.py:954: UserWarning: time=1808: Broker canceled the relative-sized order due to insufficient margin.\n",
      "  warnings.warn(\n",
      "/Users/liantseng/Desktop/udemy/venv/lib/python3.13/site-packages/backtesting/backtesting.py:954: UserWarning: time=1874: Broker canceled the relative-sized order due to insufficient margin.\n",
      "  warnings.warn(\n",
      "/Users/liantseng/Desktop/udemy/venv/lib/python3.13/site-packages/backtesting/backtesting.py:954: UserWarning: time=1895: Broker canceled the relative-sized order due to insufficient margin.\n",
      "  warnings.warn(\n",
      "/Users/liantseng/Desktop/udemy/venv/lib/python3.13/site-packages/backtesting/backtesting.py:954: UserWarning: time=1939: Broker canceled the relative-sized order due to insufficient margin.\n",
      "  warnings.warn(\n",
      "/Users/liantseng/Desktop/udemy/venv/lib/python3.13/site-packages/backtesting/backtesting.py:954: UserWarning: time=1997: Broker canceled the relative-sized order due to insufficient margin.\n",
      "  warnings.warn(\n",
      "/Users/liantseng/Desktop/udemy/venv/lib/python3.13/site-packages/backtesting/backtesting.py:954: UserWarning: time=2040: Broker canceled the relative-sized order due to insufficient margin.\n",
      "  warnings.warn(\n",
      "/Users/liantseng/Desktop/udemy/venv/lib/python3.13/site-packages/backtesting/backtesting.py:954: UserWarning: time=2111: Broker canceled the relative-sized order due to insufficient margin.\n",
      "  warnings.warn(\n",
      "/Users/liantseng/Desktop/udemy/venv/lib/python3.13/site-packages/backtesting/backtesting.py:954: UserWarning: time=2139: Broker canceled the relative-sized order due to insufficient margin.\n",
      "  warnings.warn(\n",
      "/Users/liantseng/Desktop/udemy/venv/lib/python3.13/site-packages/backtesting/backtesting.py:954: UserWarning: time=2183: Broker canceled the relative-sized order due to insufficient margin.\n",
      "  warnings.warn(\n",
      "/Users/liantseng/Desktop/udemy/venv/lib/python3.13/site-packages/backtesting/backtesting.py:954: UserWarning: time=2218: Broker canceled the relative-sized order due to insufficient margin.\n",
      "  warnings.warn(\n",
      "/Users/liantseng/Desktop/udemy/venv/lib/python3.13/site-packages/backtesting/backtesting.py:954: UserWarning: time=2414: Broker canceled the relative-sized order due to insufficient margin.\n",
      "  warnings.warn(\n",
      "/Users/liantseng/Desktop/udemy/venv/lib/python3.13/site-packages/backtesting/backtesting.py:954: UserWarning: time=2510: Broker canceled the relative-sized order due to insufficient margin.\n",
      "  warnings.warn(\n",
      "/Users/liantseng/Desktop/udemy/venv/lib/python3.13/site-packages/backtesting/backtesting.py:954: UserWarning: time=2562: Broker canceled the relative-sized order due to insufficient margin.\n",
      "  warnings.warn(\n",
      "/Users/liantseng/Desktop/udemy/venv/lib/python3.13/site-packages/backtesting/backtesting.py:954: UserWarning: time=2582: Broker canceled the relative-sized order due to insufficient margin.\n",
      "  warnings.warn(\n",
      "/Users/liantseng/Desktop/udemy/venv/lib/python3.13/site-packages/backtesting/backtesting.py:954: UserWarning: time=2628: Broker canceled the relative-sized order due to insufficient margin.\n",
      "  warnings.warn(\n",
      "/Users/liantseng/Desktop/udemy/venv/lib/python3.13/site-packages/backtesting/backtesting.py:954: UserWarning: time=2710: Broker canceled the relative-sized order due to insufficient margin.\n",
      "  warnings.warn(\n",
      "/Users/liantseng/Desktop/udemy/venv/lib/python3.13/site-packages/backtesting/backtesting.py:954: UserWarning: time=2729: Broker canceled the relative-sized order due to insufficient margin.\n",
      "  warnings.warn(\n",
      "/Users/liantseng/Desktop/udemy/venv/lib/python3.13/site-packages/backtesting/backtesting.py:954: UserWarning: time=2748: Broker canceled the relative-sized order due to insufficient margin.\n",
      "  warnings.warn(\n",
      "/Users/liantseng/Desktop/udemy/venv/lib/python3.13/site-packages/backtesting/backtesting.py:954: UserWarning: time=2774: Broker canceled the relative-sized order due to insufficient margin.\n",
      "  warnings.warn(\n",
      "/Users/liantseng/Desktop/udemy/venv/lib/python3.13/site-packages/backtesting/backtesting.py:954: UserWarning: time=2869: Broker canceled the relative-sized order due to insufficient margin.\n",
      "  warnings.warn(\n",
      "/Users/liantseng/Desktop/udemy/venv/lib/python3.13/site-packages/backtesting/backtesting.py:954: UserWarning: time=2903: Broker canceled the relative-sized order due to insufficient margin.\n",
      "  warnings.warn(\n",
      "/Users/liantseng/Desktop/udemy/venv/lib/python3.13/site-packages/backtesting/backtesting.py:954: UserWarning: time=2964: Broker canceled the relative-sized order due to insufficient margin.\n",
      "  warnings.warn(\n",
      "/Users/liantseng/Desktop/udemy/venv/lib/python3.13/site-packages/backtesting/backtesting.py:954: UserWarning: time=2981: Broker canceled the relative-sized order due to insufficient margin.\n",
      "  warnings.warn(\n",
      "/Users/liantseng/Desktop/udemy/venv/lib/python3.13/site-packages/backtesting/backtesting.py:954: UserWarning: time=3017: Broker canceled the relative-sized order due to insufficient margin.\n",
      "  warnings.warn(\n",
      "/Users/liantseng/Desktop/udemy/venv/lib/python3.13/site-packages/backtesting/backtesting.py:954: UserWarning: time=3031: Broker canceled the relative-sized order due to insufficient margin.\n",
      "  warnings.warn(\n",
      "/Users/liantseng/Desktop/udemy/venv/lib/python3.13/site-packages/backtesting/backtesting.py:954: UserWarning: time=3041: Broker canceled the relative-sized order due to insufficient margin.\n",
      "  warnings.warn(\n",
      "/Users/liantseng/Desktop/udemy/venv/lib/python3.13/site-packages/backtesting/backtesting.py:954: UserWarning: time=3097: Broker canceled the relative-sized order due to insufficient margin.\n",
      "  warnings.warn(\n",
      "/Users/liantseng/Desktop/udemy/venv/lib/python3.13/site-packages/backtesting/backtesting.py:954: UserWarning: time=3106: Broker canceled the relative-sized order due to insufficient margin.\n",
      "  warnings.warn(\n",
      "/Users/liantseng/Desktop/udemy/venv/lib/python3.13/site-packages/backtesting/backtesting.py:954: UserWarning: time=3156: Broker canceled the relative-sized order due to insufficient margin.\n",
      "  warnings.warn(\n",
      "/Users/liantseng/Desktop/udemy/venv/lib/python3.13/site-packages/backtesting/backtesting.py:954: UserWarning: time=3203: Broker canceled the relative-sized order due to insufficient margin.\n",
      "  warnings.warn(\n",
      "/Users/liantseng/Desktop/udemy/venv/lib/python3.13/site-packages/backtesting/backtesting.py:954: UserWarning: time=3240: Broker canceled the relative-sized order due to insufficient margin.\n",
      "  warnings.warn(\n",
      "/Users/liantseng/Desktop/udemy/venv/lib/python3.13/site-packages/backtesting/backtesting.py:954: UserWarning: time=2906: Broker canceled the relative-sized order due to insufficient margin.\n",
      "  warnings.warn(\n",
      "/Users/liantseng/Desktop/udemy/venv/lib/python3.13/site-packages/backtesting/backtesting.py:954: UserWarning: time=2967: Broker canceled the relative-sized order due to insufficient margin.\n",
      "  warnings.warn(\n",
      "/Users/liantseng/Desktop/udemy/venv/lib/python3.13/site-packages/backtesting/backtesting.py:954: UserWarning: time=3022: Broker canceled the relative-sized order due to insufficient margin.\n",
      "  warnings.warn(\n",
      "/Users/liantseng/Desktop/udemy/venv/lib/python3.13/site-packages/backtesting/backtesting.py:954: UserWarning: time=3036: Broker canceled the relative-sized order due to insufficient margin.\n",
      "  warnings.warn(\n",
      "/Users/liantseng/Desktop/udemy/venv/lib/python3.13/site-packages/backtesting/backtesting.py:954: UserWarning: time=3102: Broker canceled the relative-sized order due to insufficient margin.\n",
      "  warnings.warn(\n",
      "/Users/liantseng/Desktop/udemy/venv/lib/python3.13/site-packages/backtesting/backtesting.py:954: UserWarning: time=3105: Broker canceled the relative-sized order due to insufficient margin.\n",
      "  warnings.warn(\n",
      "/Users/liantseng/Desktop/udemy/venv/lib/python3.13/site-packages/backtesting/backtesting.py:954: UserWarning: time=3159: Broker canceled the relative-sized order due to insufficient margin.\n",
      "  warnings.warn(\n",
      "/Users/liantseng/Desktop/udemy/venv/lib/python3.13/site-packages/backtesting/backtesting.py:954: UserWarning: time=3204: Broker canceled the relative-sized order due to insufficient margin.\n",
      "  warnings.warn(\n",
      "/Users/liantseng/Desktop/udemy/venv/lib/python3.13/site-packages/backtesting/backtesting.py:954: UserWarning: time=3245: Broker canceled the relative-sized order due to insufficient margin.\n",
      "  warnings.warn(\n",
      "/Users/liantseng/Desktop/udemy/venv/lib/python3.13/site-packages/backtesting/backtesting.py:954: UserWarning: time=3303: Broker canceled the relative-sized order due to insufficient margin.\n",
      "  warnings.warn(\n",
      "/Users/liantseng/Desktop/udemy/venv/lib/python3.13/site-packages/backtesting/backtesting.py:954: UserWarning: time=3420: Broker canceled the relative-sized order due to insufficient margin.\n",
      "  warnings.warn(\n",
      "/Users/liantseng/Desktop/udemy/venv/lib/python3.13/site-packages/backtesting/backtesting.py:954: UserWarning: time=3438: Broker canceled the relative-sized order due to insufficient margin.\n",
      "  warnings.warn(\n",
      "/Users/liantseng/Desktop/udemy/venv/lib/python3.13/site-packages/backtesting/backtesting.py:954: UserWarning: time=3505: Broker canceled the relative-sized order due to insufficient margin.\n",
      "  warnings.warn(\n",
      "/Users/liantseng/Desktop/udemy/venv/lib/python3.13/site-packages/backtesting/backtesting.py:954: UserWarning: time=3541: Broker canceled the relative-sized order due to insufficient margin.\n",
      "  warnings.warn(\n",
      "/Users/liantseng/Desktop/udemy/venv/lib/python3.13/site-packages/backtesting/backtesting.py:954: UserWarning: time=3572: Broker canceled the relative-sized order due to insufficient margin.\n",
      "  warnings.warn(\n",
      "/Users/liantseng/Desktop/udemy/venv/lib/python3.13/site-packages/backtesting/backtesting.py:954: UserWarning: time=3605: Broker canceled the relative-sized order due to insufficient margin.\n",
      "  warnings.warn(\n",
      "/Users/liantseng/Desktop/udemy/venv/lib/python3.13/site-packages/backtesting/backtesting.py:954: UserWarning: time=3624: Broker canceled the relative-sized order due to insufficient margin.\n",
      "  warnings.warn(\n",
      "/Users/liantseng/Desktop/udemy/venv/lib/python3.13/site-packages/backtesting/backtesting.py:954: UserWarning: time=3665: Broker canceled the relative-sized order due to insufficient margin.\n",
      "  warnings.warn(\n",
      "/Users/liantseng/Desktop/udemy/venv/lib/python3.13/site-packages/backtesting/backtesting.py:954: UserWarning: time=3767: Broker canceled the relative-sized order due to insufficient margin.\n",
      "  warnings.warn(\n",
      "/Users/liantseng/Desktop/udemy/venv/lib/python3.13/site-packages/backtesting/backtesting.py:954: UserWarning: time=3783: Broker canceled the relative-sized order due to insufficient margin.\n",
      "  warnings.warn(\n",
      "/Users/liantseng/Desktop/udemy/venv/lib/python3.13/site-packages/backtesting/backtesting.py:954: UserWarning: time=3809: Broker canceled the relative-sized order due to insufficient margin.\n",
      "  warnings.warn(\n",
      "/Users/liantseng/Desktop/udemy/venv/lib/python3.13/site-packages/backtesting/backtesting.py:954: UserWarning: time=3874: Broker canceled the relative-sized order due to insufficient margin.\n",
      "  warnings.warn(\n",
      "/Users/liantseng/Desktop/udemy/venv/lib/python3.13/site-packages/backtesting/backtesting.py:954: UserWarning: time=3299: Broker canceled the relative-sized order due to insufficient margin.\n",
      "  warnings.warn(\n",
      "/Users/liantseng/Desktop/udemy/venv/lib/python3.13/site-packages/backtesting/backtesting.py:954: UserWarning: time=3418: Broker canceled the relative-sized order due to insufficient margin.\n",
      "  warnings.warn(\n",
      "/Users/liantseng/Desktop/udemy/venv/lib/python3.13/site-packages/backtesting/backtesting.py:954: UserWarning: time=3436: Broker canceled the relative-sized order due to insufficient margin.\n",
      "  warnings.warn(\n",
      "/Users/liantseng/Desktop/udemy/venv/lib/python3.13/site-packages/backtesting/backtesting.py:954: UserWarning: time=3501: Broker canceled the relative-sized order due to insufficient margin.\n",
      "  warnings.warn(\n",
      "/Users/liantseng/Desktop/udemy/venv/lib/python3.13/site-packages/backtesting/backtesting.py:954: UserWarning: time=3537: Broker canceled the relative-sized order due to insufficient margin.\n",
      "  warnings.warn(\n",
      "/Users/liantseng/Desktop/udemy/venv/lib/python3.13/site-packages/backtesting/backtesting.py:954: UserWarning: time=3569: Broker canceled the relative-sized order due to insufficient margin.\n",
      "  warnings.warn(\n",
      "/Users/liantseng/Desktop/udemy/venv/lib/python3.13/site-packages/backtesting/backtesting.py:954: UserWarning: time=3602: Broker canceled the relative-sized order due to insufficient margin.\n",
      "  warnings.warn(\n",
      "/Users/liantseng/Desktop/udemy/venv/lib/python3.13/site-packages/backtesting/backtesting.py:954: UserWarning: time=3620: Broker canceled the relative-sized order due to insufficient margin.\n",
      "  warnings.warn(\n",
      "/Users/liantseng/Desktop/udemy/venv/lib/python3.13/site-packages/backtesting/backtesting.py:954: UserWarning: time=3662: Broker canceled the relative-sized order due to insufficient margin.\n",
      "  warnings.warn(\n",
      "/Users/liantseng/Desktop/udemy/venv/lib/python3.13/site-packages/backtesting/backtesting.py:954: UserWarning: time=3762: Broker canceled the relative-sized order due to insufficient margin.\n",
      "  warnings.warn(\n",
      "/Users/liantseng/Desktop/udemy/venv/lib/python3.13/site-packages/backtesting/backtesting.py:954: UserWarning: time=3780: Broker canceled the relative-sized order due to insufficient margin.\n",
      "  warnings.warn(\n",
      "/Users/liantseng/Desktop/udemy/venv/lib/python3.13/site-packages/backtesting/backtesting.py:954: UserWarning: time=3804: Broker canceled the relative-sized order due to insufficient margin.\n",
      "  warnings.warn(\n",
      "/Users/liantseng/Desktop/udemy/venv/lib/python3.13/site-packages/backtesting/backtesting.py:954: UserWarning: time=3872: Broker canceled the relative-sized order due to insufficient margin.\n",
      "  warnings.warn(\n",
      "/Users/liantseng/Desktop/udemy/venv/lib/python3.13/site-packages/backtesting/_stats.py:155: RuntimeWarning: divide by zero encountered in log\n",
      "  equity_log_returns = np.log(equity[1:] / equity[:-1])\n",
      "/Users/liantseng/Desktop/udemy/venv/lib/python3.13/site-packages/backtesting/_stats.py:155: RuntimeWarning: divide by zero encountered in log\n",
      "  equity_log_returns = np.log(equity[1:] / equity[:-1])\n",
      "/Users/liantseng/Desktop/udemy/venv/lib/python3.13/site-packages/backtesting/_stats.py:155: RuntimeWarning: divide by zero encountered in log\n",
      "  equity_log_returns = np.log(equity[1:] / equity[:-1])\n"
     ]
    },
    {
     "data": {
      "application/vnd.jupyter.widget-view+json": {
       "model_id": "f4674c10dd9849f99f96802746968de9",
       "version_major": 2,
       "version_minor": 0
      },
      "text/plain": [
       "Backtest.run:   0%|          | 0/3873 [00:00<?, ?bar/s]"
      ]
     },
     "metadata": {},
     "output_type": "display_data"
    },
    {
     "data": {
      "application/vnd.jupyter.widget-view+json": {
       "model_id": "2b89314533cc4335b5dbe702cdb9365e",
       "version_major": 2,
       "version_minor": 0
      },
      "text/plain": [
       "Backtest.run:   0%|          | 0/3863 [00:00<?, ?bar/s]"
      ]
     },
     "metadata": {},
     "output_type": "display_data"
    },
    {
     "data": {
      "application/vnd.jupyter.widget-view+json": {
       "model_id": "a11cc93290b349f49f4f5945dd638f83",
       "version_major": 2,
       "version_minor": 0
      },
      "text/plain": [
       "Backtest.run:   0%|          | 0/3868 [00:00<?, ?bar/s]"
      ]
     },
     "metadata": {},
     "output_type": "display_data"
    },
    {
     "data": {
      "application/vnd.jupyter.widget-view+json": {
       "model_id": "d87399a24c0449eb90c4192d6a9b3888",
       "version_major": 2,
       "version_minor": 0
      },
      "text/plain": [
       "Backtest.run:   0%|          | 0/3883 [00:00<?, ?bar/s]"
      ]
     },
     "metadata": {},
     "output_type": "display_data"
    },
    {
     "data": {
      "application/vnd.jupyter.widget-view+json": {
       "model_id": "7a7d750075554dcda0bdb540ce41de01",
       "version_major": 2,
       "version_minor": 0
      },
      "text/plain": [
       "Backtest.run:   0%|          | 0/3828 [00:00<?, ?bar/s]"
      ]
     },
     "metadata": {},
     "output_type": "display_data"
    },
    {
     "data": {
      "application/vnd.jupyter.widget-view+json": {
       "model_id": "b3ac5b5b4e1b4c16a3ab492a6945479a",
       "version_major": 2,
       "version_minor": 0
      },
      "text/plain": [
       "Backtest.run:   0%|          | 0/3888 [00:00<?, ?bar/s]"
      ]
     },
     "metadata": {},
     "output_type": "display_data"
    },
    {
     "data": {
      "application/vnd.jupyter.widget-view+json": {
       "model_id": "a02ec0eadb77448ab292ede44d5d16d0",
       "version_major": 2,
       "version_minor": 0
      },
      "text/plain": [
       "Backtest.run:   0%|          | 0/3878 [00:00<?, ?bar/s]"
      ]
     },
     "metadata": {},
     "output_type": "display_data"
    },
    {
     "data": {
      "application/vnd.jupyter.widget-view+json": {
       "model_id": "6a5f190932864398a041f75da3b1cf34",
       "version_major": 2,
       "version_minor": 0
      },
      "text/plain": [
       "Backtest.run:   0%|          | 0/3833 [00:00<?, ?bar/s]"
      ]
     },
     "metadata": {},
     "output_type": "display_data"
    },
    {
     "data": {
      "application/vnd.jupyter.widget-view+json": {
       "model_id": "75407b35f2ed4d9c9f342ad89df03837",
       "version_major": 2,
       "version_minor": 0
      },
      "text/plain": [
       "Backtest.run:   0%|          | 0/3858 [00:00<?, ?bar/s]"
      ]
     },
     "metadata": {},
     "output_type": "display_data"
    },
    {
     "data": {
      "application/vnd.jupyter.widget-view+json": {
       "model_id": "a1286595de6246fcb22f9bfd030d1c22",
       "version_major": 2,
       "version_minor": 0
      },
      "text/plain": [
       "Backtest.run:   0%|          | 0/3833 [00:00<?, ?bar/s]"
      ]
     },
     "metadata": {},
     "output_type": "display_data"
    },
    {
     "name": "stderr",
     "output_type": "stream",
     "text": [
      "/Users/liantseng/Desktop/udemy/venv/lib/python3.13/site-packages/backtesting/backtesting.py:954: UserWarning: time=871: Broker canceled the relative-sized order due to insufficient margin.\n",
      "  warnings.warn(\n",
      "/Users/liantseng/Desktop/udemy/venv/lib/python3.13/site-packages/backtesting/backtesting.py:954: UserWarning: time=930: Broker canceled the relative-sized order due to insufficient margin.\n",
      "  warnings.warn(\n",
      "/Users/liantseng/Desktop/udemy/venv/lib/python3.13/site-packages/backtesting/backtesting.py:954: UserWarning: time=950: Broker canceled the relative-sized order due to insufficient margin.\n",
      "  warnings.warn(\n",
      "/Users/liantseng/Desktop/udemy/venv/lib/python3.13/site-packages/backtesting/backtesting.py:954: UserWarning: time=1032: Broker canceled the relative-sized order due to insufficient margin.\n",
      "  warnings.warn(\n",
      "/Users/liantseng/Desktop/udemy/venv/lib/python3.13/site-packages/backtesting/backtesting.py:954: UserWarning: time=1055: Broker canceled the relative-sized order due to insufficient margin.\n",
      "  warnings.warn(\n",
      "/Users/liantseng/Desktop/udemy/venv/lib/python3.13/site-packages/backtesting/backtesting.py:954: UserWarning: time=1108: Broker canceled the relative-sized order due to insufficient margin.\n",
      "  warnings.warn(\n",
      "/Users/liantseng/Desktop/udemy/venv/lib/python3.13/site-packages/backtesting/backtesting.py:954: UserWarning: time=1125: Broker canceled the relative-sized order due to insufficient margin.\n",
      "  warnings.warn(\n",
      "/Users/liantseng/Desktop/udemy/venv/lib/python3.13/site-packages/backtesting/backtesting.py:954: UserWarning: time=1219: Broker canceled the relative-sized order due to insufficient margin.\n",
      "  warnings.warn(\n",
      "/Users/liantseng/Desktop/udemy/venv/lib/python3.13/site-packages/backtesting/backtesting.py:954: UserWarning: time=1271: Broker canceled the relative-sized order due to insufficient margin.\n",
      "  warnings.warn(\n",
      "/Users/liantseng/Desktop/udemy/venv/lib/python3.13/site-packages/backtesting/backtesting.py:954: UserWarning: time=1288: Broker canceled the relative-sized order due to insufficient margin.\n",
      "  warnings.warn(\n",
      "/Users/liantseng/Desktop/udemy/venv/lib/python3.13/site-packages/backtesting/backtesting.py:954: UserWarning: time=1324: Broker canceled the relative-sized order due to insufficient margin.\n",
      "  warnings.warn(\n",
      "/Users/liantseng/Desktop/udemy/venv/lib/python3.13/site-packages/backtesting/backtesting.py:954: UserWarning: time=1352: Broker canceled the relative-sized order due to insufficient margin.\n",
      "  warnings.warn(\n",
      "/Users/liantseng/Desktop/udemy/venv/lib/python3.13/site-packages/backtesting/backtesting.py:954: UserWarning: time=1408: Broker canceled the relative-sized order due to insufficient margin.\n",
      "  warnings.warn(\n",
      "/Users/liantseng/Desktop/udemy/venv/lib/python3.13/site-packages/backtesting/backtesting.py:954: UserWarning: time=1438: Broker canceled the relative-sized order due to insufficient margin.\n",
      "  warnings.warn(\n",
      "/Users/liantseng/Desktop/udemy/venv/lib/python3.13/site-packages/backtesting/backtesting.py:954: UserWarning: time=1464: Broker canceled the relative-sized order due to insufficient margin.\n",
      "  warnings.warn(\n",
      "/Users/liantseng/Desktop/udemy/venv/lib/python3.13/site-packages/backtesting/backtesting.py:954: UserWarning: time=1476: Broker canceled the relative-sized order due to insufficient margin.\n",
      "  warnings.warn(\n",
      "/Users/liantseng/Desktop/udemy/venv/lib/python3.13/site-packages/backtesting/backtesting.py:954: UserWarning: time=1499: Broker canceled the relative-sized order due to insufficient margin.\n",
      "  warnings.warn(\n",
      "/Users/liantseng/Desktop/udemy/venv/lib/python3.13/site-packages/backtesting/backtesting.py:954: UserWarning: time=1504: Broker canceled the relative-sized order due to insufficient margin.\n",
      "  warnings.warn(\n",
      "/Users/liantseng/Desktop/udemy/venv/lib/python3.13/site-packages/backtesting/backtesting.py:954: UserWarning: time=1579: Broker canceled the relative-sized order due to insufficient margin.\n",
      "  warnings.warn(\n",
      "/Users/liantseng/Desktop/udemy/venv/lib/python3.13/site-packages/backtesting/backtesting.py:954: UserWarning: time=1597: Broker canceled the relative-sized order due to insufficient margin.\n",
      "  warnings.warn(\n",
      "/Users/liantseng/Desktop/udemy/venv/lib/python3.13/site-packages/backtesting/backtesting.py:954: UserWarning: time=1625: Broker canceled the relative-sized order due to insufficient margin.\n",
      "  warnings.warn(\n",
      "/Users/liantseng/Desktop/udemy/venv/lib/python3.13/site-packages/backtesting/backtesting.py:954: UserWarning: time=1782: Broker canceled the relative-sized order due to insufficient margin.\n",
      "  warnings.warn(\n",
      "/Users/liantseng/Desktop/udemy/venv/lib/python3.13/site-packages/backtesting/backtesting.py:954: UserWarning: time=1806: Broker canceled the relative-sized order due to insufficient margin.\n",
      "  warnings.warn(\n",
      "/Users/liantseng/Desktop/udemy/venv/lib/python3.13/site-packages/backtesting/backtesting.py:954: UserWarning: time=1817: Broker canceled the relative-sized order due to insufficient margin.\n",
      "  warnings.warn(\n",
      "/Users/liantseng/Desktop/udemy/venv/lib/python3.13/site-packages/backtesting/backtesting.py:954: UserWarning: time=1879: Broker canceled the relative-sized order due to insufficient margin.\n",
      "  warnings.warn(\n",
      "/Users/liantseng/Desktop/udemy/venv/lib/python3.13/site-packages/backtesting/backtesting.py:954: UserWarning: time=1900: Broker canceled the relative-sized order due to insufficient margin.\n",
      "  warnings.warn(\n",
      "/Users/liantseng/Desktop/udemy/venv/lib/python3.13/site-packages/backtesting/backtesting.py:954: UserWarning: time=1943: Broker canceled the relative-sized order due to insufficient margin.\n",
      "  warnings.warn(\n",
      "/Users/liantseng/Desktop/udemy/venv/lib/python3.13/site-packages/backtesting/backtesting.py:954: UserWarning: time=2003: Broker canceled the relative-sized order due to insufficient margin.\n",
      "  warnings.warn(\n",
      "/Users/liantseng/Desktop/udemy/venv/lib/python3.13/site-packages/backtesting/backtesting.py:954: UserWarning: time=2045: Broker canceled the relative-sized order due to insufficient margin.\n",
      "  warnings.warn(\n",
      "/Users/liantseng/Desktop/udemy/venv/lib/python3.13/site-packages/backtesting/backtesting.py:954: UserWarning: time=2118: Broker canceled the relative-sized order due to insufficient margin.\n",
      "  warnings.warn(\n",
      "/Users/liantseng/Desktop/udemy/venv/lib/python3.13/site-packages/backtesting/backtesting.py:954: UserWarning: time=2143: Broker canceled the relative-sized order due to insufficient margin.\n",
      "  warnings.warn(\n",
      "/Users/liantseng/Desktop/udemy/venv/lib/python3.13/site-packages/backtesting/backtesting.py:954: UserWarning: time=2188: Broker canceled the relative-sized order due to insufficient margin.\n",
      "  warnings.warn(\n",
      "/Users/liantseng/Desktop/udemy/venv/lib/python3.13/site-packages/backtesting/backtesting.py:954: UserWarning: time=2220: Broker canceled the relative-sized order due to insufficient margin.\n",
      "  warnings.warn(\n",
      "/Users/liantseng/Desktop/udemy/venv/lib/python3.13/site-packages/backtesting/backtesting.py:954: UserWarning: time=2422: Broker canceled the relative-sized order due to insufficient margin.\n",
      "  warnings.warn(\n",
      "/Users/liantseng/Desktop/udemy/venv/lib/python3.13/site-packages/backtesting/backtesting.py:954: UserWarning: time=2513: Broker canceled the relative-sized order due to insufficient margin.\n",
      "  warnings.warn(\n",
      "/Users/liantseng/Desktop/udemy/venv/lib/python3.13/site-packages/backtesting/backtesting.py:954: UserWarning: time=2567: Broker canceled the relative-sized order due to insufficient margin.\n",
      "  warnings.warn(\n",
      "/Users/liantseng/Desktop/udemy/venv/lib/python3.13/site-packages/backtesting/backtesting.py:954: UserWarning: time=2584: Broker canceled the relative-sized order due to insufficient margin.\n",
      "  warnings.warn(\n",
      "/Users/liantseng/Desktop/udemy/venv/lib/python3.13/site-packages/backtesting/backtesting.py:954: UserWarning: time=2631: Broker canceled the relative-sized order due to insufficient margin.\n",
      "  warnings.warn(\n",
      "/Users/liantseng/Desktop/udemy/venv/lib/python3.13/site-packages/backtesting/backtesting.py:954: UserWarning: time=2720: Broker canceled the relative-sized order due to insufficient margin.\n",
      "  warnings.warn(\n",
      "/Users/liantseng/Desktop/udemy/venv/lib/python3.13/site-packages/backtesting/backtesting.py:954: UserWarning: time=2737: Broker canceled the relative-sized order due to insufficient margin.\n",
      "  warnings.warn(\n",
      "/Users/liantseng/Desktop/udemy/venv/lib/python3.13/site-packages/backtesting/backtesting.py:954: UserWarning: time=866: Broker canceled the relative-sized order due to insufficient margin.\n",
      "  warnings.warn(\n",
      "/Users/liantseng/Desktop/udemy/venv/lib/python3.13/site-packages/backtesting/backtesting.py:954: UserWarning: time=876: Broker canceled the relative-sized order due to insufficient margin.\n",
      "  warnings.warn(\n",
      "/Users/liantseng/Desktop/udemy/venv/lib/python3.13/site-packages/backtesting/backtesting.py:954: UserWarning: time=925: Broker canceled the relative-sized order due to insufficient margin.\n",
      "  warnings.warn(\n",
      "/Users/liantseng/Desktop/udemy/venv/lib/python3.13/site-packages/backtesting/backtesting.py:954: UserWarning: time=946: Broker canceled the relative-sized order due to insufficient margin.\n",
      "  warnings.warn(\n",
      "/Users/liantseng/Desktop/udemy/venv/lib/python3.13/site-packages/backtesting/backtesting.py:954: UserWarning: time=1029: Broker canceled the relative-sized order due to insufficient margin.\n",
      "  warnings.warn(\n",
      "/Users/liantseng/Desktop/udemy/venv/lib/python3.13/site-packages/backtesting/backtesting.py:954: UserWarning: time=1054: Broker canceled the relative-sized order due to insufficient margin.\n",
      "  warnings.warn(\n",
      "/Users/liantseng/Desktop/udemy/venv/lib/python3.13/site-packages/backtesting/backtesting.py:954: UserWarning: time=1103: Broker canceled the relative-sized order due to insufficient margin.\n",
      "  warnings.warn(\n",
      "/Users/liantseng/Desktop/udemy/venv/lib/python3.13/site-packages/backtesting/backtesting.py:954: UserWarning: time=1122: Broker canceled the relative-sized order due to insufficient margin.\n",
      "  warnings.warn(\n",
      "/Users/liantseng/Desktop/udemy/venv/lib/python3.13/site-packages/backtesting/backtesting.py:954: UserWarning: time=1215: Broker canceled the relative-sized order due to insufficient margin.\n",
      "  warnings.warn(\n",
      "/Users/liantseng/Desktop/udemy/venv/lib/python3.13/site-packages/backtesting/backtesting.py:954: UserWarning: time=1266: Broker canceled the relative-sized order due to insufficient margin.\n",
      "  warnings.warn(\n",
      "/Users/liantseng/Desktop/udemy/venv/lib/python3.13/site-packages/backtesting/backtesting.py:954: UserWarning: time=1284: Broker canceled the relative-sized order due to insufficient margin.\n",
      "  warnings.warn(\n",
      "/Users/liantseng/Desktop/udemy/venv/lib/python3.13/site-packages/backtesting/backtesting.py:954: UserWarning: time=1320: Broker canceled the relative-sized order due to insufficient margin.\n",
      "  warnings.warn(\n",
      "/Users/liantseng/Desktop/udemy/venv/lib/python3.13/site-packages/backtesting/backtesting.py:954: UserWarning: time=1348: Broker canceled the relative-sized order due to insufficient margin.\n",
      "  warnings.warn(\n",
      "/Users/liantseng/Desktop/udemy/venv/lib/python3.13/site-packages/backtesting/backtesting.py:954: UserWarning: time=1405: Broker canceled the relative-sized order due to insufficient margin.\n",
      "  warnings.warn(\n",
      "/Users/liantseng/Desktop/udemy/venv/lib/python3.13/site-packages/backtesting/backtesting.py:954: UserWarning: time=1433: Broker canceled the relative-sized order due to insufficient margin.\n",
      "  warnings.warn(\n",
      "/Users/liantseng/Desktop/udemy/venv/lib/python3.13/site-packages/backtesting/backtesting.py:954: UserWarning: time=1459: Broker canceled the relative-sized order due to insufficient margin.\n",
      "  warnings.warn(\n",
      "/Users/liantseng/Desktop/udemy/venv/lib/python3.13/site-packages/backtesting/backtesting.py:954: UserWarning: time=1471: Broker canceled the relative-sized order due to insufficient margin.\n",
      "  warnings.warn(\n",
      "/Users/liantseng/Desktop/udemy/venv/lib/python3.13/site-packages/backtesting/backtesting.py:954: UserWarning: time=1493: Broker canceled the relative-sized order due to insufficient margin.\n",
      "  warnings.warn(\n",
      "/Users/liantseng/Desktop/udemy/venv/lib/python3.13/site-packages/backtesting/backtesting.py:954: UserWarning: time=1574: Broker canceled the relative-sized order due to insufficient margin.\n",
      "  warnings.warn(\n",
      "/Users/liantseng/Desktop/udemy/venv/lib/python3.13/site-packages/backtesting/backtesting.py:954: UserWarning: time=1594: Broker canceled the relative-sized order due to insufficient margin.\n",
      "  warnings.warn(\n",
      "/Users/liantseng/Desktop/udemy/venv/lib/python3.13/site-packages/backtesting/backtesting.py:954: UserWarning: time=1621: Broker canceled the relative-sized order due to insufficient margin.\n",
      "  warnings.warn(\n",
      "/Users/liantseng/Desktop/udemy/venv/lib/python3.13/site-packages/backtesting/backtesting.py:954: UserWarning: time=2750: Broker canceled the relative-sized order due to insufficient margin.\n",
      "  warnings.warn(\n",
      "/Users/liantseng/Desktop/udemy/venv/lib/python3.13/site-packages/backtesting/backtesting.py:954: UserWarning: time=2781: Broker canceled the relative-sized order due to insufficient margin.\n",
      "  warnings.warn(\n",
      "/Users/liantseng/Desktop/udemy/venv/lib/python3.13/site-packages/backtesting/backtesting.py:954: UserWarning: time=2875: Broker canceled the relative-sized order due to insufficient margin.\n",
      "  warnings.warn(\n",
      "/Users/liantseng/Desktop/udemy/venv/lib/python3.13/site-packages/backtesting/backtesting.py:954: UserWarning: time=2906: Broker canceled the relative-sized order due to insufficient margin.\n",
      "  warnings.warn(\n",
      "/Users/liantseng/Desktop/udemy/venv/lib/python3.13/site-packages/backtesting/backtesting.py:954: UserWarning: time=2967: Broker canceled the relative-sized order due to insufficient margin.\n",
      "  warnings.warn(\n",
      "/Users/liantseng/Desktop/udemy/venv/lib/python3.13/site-packages/backtesting/backtesting.py:954: UserWarning: time=2981: Broker canceled the relative-sized order due to insufficient margin.\n",
      "  warnings.warn(\n",
      "/Users/liantseng/Desktop/udemy/venv/lib/python3.13/site-packages/backtesting/backtesting.py:954: UserWarning: time=3023: Broker canceled the relative-sized order due to insufficient margin.\n",
      "  warnings.warn(\n",
      "/Users/liantseng/Desktop/udemy/venv/lib/python3.13/site-packages/backtesting/backtesting.py:954: UserWarning: time=3097: Broker canceled the relative-sized order due to insufficient margin.\n",
      "  warnings.warn(\n",
      "/Users/liantseng/Desktop/udemy/venv/lib/python3.13/site-packages/backtesting/backtesting.py:954: UserWarning: time=3100: Broker canceled the relative-sized order due to insufficient margin.\n",
      "  warnings.warn(\n",
      "/Users/liantseng/Desktop/udemy/venv/lib/python3.13/site-packages/backtesting/backtesting.py:954: UserWarning: time=3162: Broker canceled the relative-sized order due to insufficient margin.\n",
      "  warnings.warn(\n",
      "/Users/liantseng/Desktop/udemy/venv/lib/python3.13/site-packages/backtesting/backtesting.py:954: UserWarning: time=3204: Broker canceled the relative-sized order due to insufficient margin.\n",
      "  warnings.warn(\n",
      "/Users/liantseng/Desktop/udemy/venv/lib/python3.13/site-packages/backtesting/backtesting.py:954: UserWarning: time=3246: Broker canceled the relative-sized order due to insufficient margin.\n",
      "  warnings.warn(\n",
      "/Users/liantseng/Desktop/udemy/venv/lib/python3.13/site-packages/backtesting/backtesting.py:954: UserWarning: time=3305: Broker canceled the relative-sized order due to insufficient margin.\n",
      "  warnings.warn(\n",
      "/Users/liantseng/Desktop/udemy/venv/lib/python3.13/site-packages/backtesting/backtesting.py:954: UserWarning: time=3419: Broker canceled the relative-sized order due to insufficient margin.\n",
      "  warnings.warn(\n",
      "/Users/liantseng/Desktop/udemy/venv/lib/python3.13/site-packages/backtesting/backtesting.py:954: UserWarning: time=3420: Broker canceled the relative-sized order due to insufficient margin.\n",
      "  warnings.warn(\n",
      "/Users/liantseng/Desktop/udemy/venv/lib/python3.13/site-packages/backtesting/backtesting.py:954: UserWarning: time=3425: Broker canceled the relative-sized order due to insufficient margin.\n",
      "  warnings.warn(\n",
      "/Users/liantseng/Desktop/udemy/venv/lib/python3.13/site-packages/backtesting/backtesting.py:954: UserWarning: time=3439: Broker canceled the relative-sized order due to insufficient margin.\n",
      "  warnings.warn(\n",
      "/Users/liantseng/Desktop/udemy/venv/lib/python3.13/site-packages/backtesting/backtesting.py:954: UserWarning: time=3504: Broker canceled the relative-sized order due to insufficient margin.\n",
      "  warnings.warn(\n",
      "/Users/liantseng/Desktop/udemy/venv/lib/python3.13/site-packages/backtesting/backtesting.py:954: UserWarning: time=3544: Broker canceled the relative-sized order due to insufficient margin.\n",
      "  warnings.warn(\n",
      "/Users/liantseng/Desktop/udemy/venv/lib/python3.13/site-packages/backtesting/backtesting.py:954: UserWarning: time=3573: Broker canceled the relative-sized order due to insufficient margin.\n",
      "  warnings.warn(\n",
      "/Users/liantseng/Desktop/udemy/venv/lib/python3.13/site-packages/backtesting/backtesting.py:954: UserWarning: time=3609: Broker canceled the relative-sized order due to insufficient margin.\n",
      "  warnings.warn(\n",
      "/Users/liantseng/Desktop/udemy/venv/lib/python3.13/site-packages/backtesting/backtesting.py:954: UserWarning: time=3628: Broker canceled the relative-sized order due to insufficient margin.\n",
      "  warnings.warn(\n",
      "/Users/liantseng/Desktop/udemy/venv/lib/python3.13/site-packages/backtesting/backtesting.py:954: UserWarning: time=3656: Broker canceled the relative-sized order due to insufficient margin.\n",
      "  warnings.warn(\n",
      "/Users/liantseng/Desktop/udemy/venv/lib/python3.13/site-packages/backtesting/backtesting.py:954: UserWarning: time=3660: Broker canceled the relative-sized order due to insufficient margin.\n",
      "  warnings.warn(\n",
      "/Users/liantseng/Desktop/udemy/venv/lib/python3.13/site-packages/backtesting/backtesting.py:954: UserWarning: time=3667: Broker canceled the relative-sized order due to insufficient margin.\n",
      "  warnings.warn(\n",
      "/Users/liantseng/Desktop/udemy/venv/lib/python3.13/site-packages/backtesting/backtesting.py:954: UserWarning: time=3771: Broker canceled the relative-sized order due to insufficient margin.\n",
      "  warnings.warn(\n",
      "/Users/liantseng/Desktop/udemy/venv/lib/python3.13/site-packages/backtesting/backtesting.py:954: UserWarning: time=3787: Broker canceled the relative-sized order due to insufficient margin.\n",
      "  warnings.warn(\n",
      "/Users/liantseng/Desktop/udemy/venv/lib/python3.13/site-packages/backtesting/backtesting.py:954: UserWarning: time=3812: Broker canceled the relative-sized order due to insufficient margin.\n",
      "  warnings.warn(\n",
      "/Users/liantseng/Desktop/udemy/venv/lib/python3.13/site-packages/backtesting/backtesting.py:954: UserWarning: time=3873: Broker canceled the relative-sized order due to insufficient margin.\n",
      "  warnings.warn(\n",
      "/Users/liantseng/Desktop/udemy/venv/lib/python3.13/site-packages/backtesting/backtesting.py:954: UserWarning: time=1777: Broker canceled the relative-sized order due to insufficient margin.\n",
      "  warnings.warn(\n",
      "/Users/liantseng/Desktop/udemy/venv/lib/python3.13/site-packages/backtesting/backtesting.py:954: UserWarning: time=1800: Broker canceled the relative-sized order due to insufficient margin.\n",
      "  warnings.warn(\n",
      "/Users/liantseng/Desktop/udemy/venv/lib/python3.13/site-packages/backtesting/backtesting.py:954: UserWarning: time=1812: Broker canceled the relative-sized order due to insufficient margin.\n",
      "  warnings.warn(\n",
      "/Users/liantseng/Desktop/udemy/venv/lib/python3.13/site-packages/backtesting/backtesting.py:954: UserWarning: time=1875: Broker canceled the relative-sized order due to insufficient margin.\n",
      "  warnings.warn(\n",
      "/Users/liantseng/Desktop/udemy/venv/lib/python3.13/site-packages/backtesting/backtesting.py:954: UserWarning: time=1897: Broker canceled the relative-sized order due to insufficient margin.\n",
      "  warnings.warn(\n",
      "/Users/liantseng/Desktop/udemy/venv/lib/python3.13/site-packages/backtesting/backtesting.py:954: UserWarning: time=1942: Broker canceled the relative-sized order due to insufficient margin.\n",
      "  warnings.warn(\n",
      "/Users/liantseng/Desktop/udemy/venv/lib/python3.13/site-packages/backtesting/backtesting.py:954: UserWarning: time=2000: Broker canceled the relative-sized order due to insufficient margin.\n",
      "  warnings.warn(\n",
      "/Users/liantseng/Desktop/udemy/venv/lib/python3.13/site-packages/backtesting/backtesting.py:954: UserWarning: time=2040: Broker canceled the relative-sized order due to insufficient margin.\n",
      "  warnings.warn(\n",
      "/Users/liantseng/Desktop/udemy/venv/lib/python3.13/site-packages/backtesting/backtesting.py:954: UserWarning: time=2114: Broker canceled the relative-sized order due to insufficient margin.\n",
      "  warnings.warn(\n",
      "/Users/liantseng/Desktop/udemy/venv/lib/python3.13/site-packages/backtesting/backtesting.py:954: UserWarning: time=2141: Broker canceled the relative-sized order due to insufficient margin.\n",
      "  warnings.warn(\n",
      "/Users/liantseng/Desktop/udemy/venv/lib/python3.13/site-packages/backtesting/backtesting.py:954: UserWarning: time=2184: Broker canceled the relative-sized order due to insufficient margin.\n",
      "  warnings.warn(\n",
      "/Users/liantseng/Desktop/udemy/venv/lib/python3.13/site-packages/backtesting/backtesting.py:954: UserWarning: time=2218: Broker canceled the relative-sized order due to insufficient margin.\n",
      "  warnings.warn(\n",
      "/Users/liantseng/Desktop/udemy/venv/lib/python3.13/site-packages/backtesting/backtesting.py:954: UserWarning: time=2417: Broker canceled the relative-sized order due to insufficient margin.\n",
      "  warnings.warn(\n",
      "/Users/liantseng/Desktop/udemy/venv/lib/python3.13/site-packages/backtesting/backtesting.py:954: UserWarning: time=2510: Broker canceled the relative-sized order due to insufficient margin.\n",
      "  warnings.warn(\n",
      "/Users/liantseng/Desktop/udemy/venv/lib/python3.13/site-packages/backtesting/backtesting.py:954: UserWarning: time=2563: Broker canceled the relative-sized order due to insufficient margin.\n",
      "  warnings.warn(\n",
      "/Users/liantseng/Desktop/udemy/venv/lib/python3.13/site-packages/backtesting/backtesting.py:954: UserWarning: time=2583: Broker canceled the relative-sized order due to insufficient margin.\n",
      "  warnings.warn(\n",
      "/Users/liantseng/Desktop/udemy/venv/lib/python3.13/site-packages/backtesting/backtesting.py:954: UserWarning: time=2628: Broker canceled the relative-sized order due to insufficient margin.\n",
      "  warnings.warn(\n",
      "/Users/liantseng/Desktop/udemy/venv/lib/python3.13/site-packages/backtesting/backtesting.py:954: UserWarning: time=2714: Broker canceled the relative-sized order due to insufficient margin.\n",
      "  warnings.warn(\n",
      "/Users/liantseng/Desktop/udemy/venv/lib/python3.13/site-packages/backtesting/backtesting.py:954: UserWarning: time=2733: Broker canceled the relative-sized order due to insufficient margin.\n",
      "  warnings.warn(\n",
      "/Users/liantseng/Desktop/udemy/venv/lib/python3.13/site-packages/backtesting/backtesting.py:954: UserWarning: time=2746: Broker canceled the relative-sized order due to insufficient margin.\n",
      "  warnings.warn(\n",
      "/Users/liantseng/Desktop/udemy/venv/lib/python3.13/site-packages/backtesting/backtesting.py:954: UserWarning: time=2777: Broker canceled the relative-sized order due to insufficient margin.\n",
      "  warnings.warn(\n",
      "/Users/liantseng/Desktop/udemy/venv/lib/python3.13/site-packages/backtesting/backtesting.py:954: UserWarning: time=2870: Broker canceled the relative-sized order due to insufficient margin.\n",
      "  warnings.warn(\n",
      "/Users/liantseng/Desktop/udemy/venv/lib/python3.13/site-packages/backtesting/backtesting.py:954: UserWarning: time=2903: Broker canceled the relative-sized order due to insufficient margin.\n",
      "  warnings.warn(\n",
      "/Users/liantseng/Desktop/udemy/venv/lib/python3.13/site-packages/backtesting/backtesting.py:954: UserWarning: time=2963: Broker canceled the relative-sized order due to insufficient margin.\n",
      "  warnings.warn(\n",
      "/Users/liantseng/Desktop/udemy/venv/lib/python3.13/site-packages/backtesting/backtesting.py:954: UserWarning: time=3018: Broker canceled the relative-sized order due to insufficient margin.\n",
      "  warnings.warn(\n",
      "/Users/liantseng/Desktop/udemy/venv/lib/python3.13/site-packages/backtesting/backtesting.py:954: UserWarning: time=3034: Broker canceled the relative-sized order due to insufficient margin.\n",
      "  warnings.warn(\n",
      "/Users/liantseng/Desktop/udemy/venv/lib/python3.13/site-packages/backtesting/backtesting.py:954: UserWarning: time=3041: Broker canceled the relative-sized order due to insufficient margin.\n",
      "  warnings.warn(\n",
      "/Users/liantseng/Desktop/udemy/venv/lib/python3.13/site-packages/backtesting/backtesting.py:954: UserWarning: time=3103: Broker canceled the relative-sized order due to insufficient margin.\n",
      "  warnings.warn(\n",
      "/Users/liantseng/Desktop/udemy/venv/lib/python3.13/site-packages/backtesting/backtesting.py:954: UserWarning: time=3105: Broker canceled the relative-sized order due to insufficient margin.\n",
      "  warnings.warn(\n",
      "/Users/liantseng/Desktop/udemy/venv/lib/python3.13/site-packages/backtesting/backtesting.py:954: UserWarning: time=3158: Broker canceled the relative-sized order due to insufficient margin.\n",
      "  warnings.warn(\n",
      "/Users/liantseng/Desktop/udemy/venv/lib/python3.13/site-packages/backtesting/backtesting.py:954: UserWarning: time=3203: Broker canceled the relative-sized order due to insufficient margin.\n",
      "  warnings.warn(\n",
      "/Users/liantseng/Desktop/udemy/venv/lib/python3.13/site-packages/backtesting/backtesting.py:954: UserWarning: time=3241: Broker canceled the relative-sized order due to insufficient margin.\n",
      "  warnings.warn(\n",
      "/Users/liantseng/Desktop/udemy/venv/lib/python3.13/site-packages/backtesting/backtesting.py:954: UserWarning: time=3301: Broker canceled the relative-sized order due to insufficient margin.\n",
      "  warnings.warn(\n",
      "/Users/liantseng/Desktop/udemy/venv/lib/python3.13/site-packages/backtesting/backtesting.py:954: UserWarning: time=3438: Broker canceled the relative-sized order due to insufficient margin.\n",
      "  warnings.warn(\n",
      "/Users/liantseng/Desktop/udemy/venv/lib/python3.13/site-packages/backtesting/backtesting.py:954: UserWarning: time=3503: Broker canceled the relative-sized order due to insufficient margin.\n",
      "  warnings.warn(\n",
      "/Users/liantseng/Desktop/udemy/venv/lib/python3.13/site-packages/backtesting/backtesting.py:954: UserWarning: time=3539: Broker canceled the relative-sized order due to insufficient margin.\n",
      "  warnings.warn(\n",
      "/Users/liantseng/Desktop/udemy/venv/lib/python3.13/site-packages/backtesting/backtesting.py:954: UserWarning: time=3570: Broker canceled the relative-sized order due to insufficient margin.\n",
      "  warnings.warn(\n",
      "/Users/liantseng/Desktop/udemy/venv/lib/python3.13/site-packages/backtesting/backtesting.py:954: UserWarning: time=3604: Broker canceled the relative-sized order due to insufficient margin.\n",
      "  warnings.warn(\n",
      "/Users/liantseng/Desktop/udemy/venv/lib/python3.13/site-packages/backtesting/backtesting.py:954: UserWarning: time=3624: Broker canceled the relative-sized order due to insufficient margin.\n",
      "  warnings.warn(\n",
      "/Users/liantseng/Desktop/udemy/venv/lib/python3.13/site-packages/backtesting/backtesting.py:954: UserWarning: time=3665: Broker canceled the relative-sized order due to insufficient margin.\n",
      "  warnings.warn(\n",
      "/Users/liantseng/Desktop/udemy/venv/lib/python3.13/site-packages/backtesting/backtesting.py:954: UserWarning: time=3767: Broker canceled the relative-sized order due to insufficient margin.\n",
      "  warnings.warn(\n",
      "/Users/liantseng/Desktop/udemy/venv/lib/python3.13/site-packages/backtesting/backtesting.py:954: UserWarning: time=3783: Broker canceled the relative-sized order due to insufficient margin.\n",
      "  warnings.warn(\n",
      "/Users/liantseng/Desktop/udemy/venv/lib/python3.13/site-packages/backtesting/backtesting.py:954: UserWarning: time=3808: Broker canceled the relative-sized order due to insufficient margin.\n",
      "  warnings.warn(\n",
      "/Users/liantseng/Desktop/udemy/venv/lib/python3.13/site-packages/backtesting/backtesting.py:954: UserWarning: time=3874: Broker canceled the relative-sized order due to insufficient margin.\n",
      "  warnings.warn(\n",
      "/Users/liantseng/Desktop/udemy/venv/lib/python3.13/site-packages/backtesting/backtesting.py:954: UserWarning: time=1015: Broker canceled the relative-sized order due to insufficient margin.\n",
      "  warnings.warn(\n",
      "/Users/liantseng/Desktop/udemy/venv/lib/python3.13/site-packages/backtesting/backtesting.py:954: UserWarning: time=1047: Broker canceled the relative-sized order due to insufficient margin.\n",
      "  warnings.warn(\n",
      "/Users/liantseng/Desktop/udemy/venv/lib/python3.13/site-packages/backtesting/backtesting.py:954: UserWarning: time=1095: Broker canceled the relative-sized order due to insufficient margin.\n",
      "  warnings.warn(\n",
      "/Users/liantseng/Desktop/udemy/venv/lib/python3.13/site-packages/backtesting/backtesting.py:954: UserWarning: time=1114: Broker canceled the relative-sized order due to insufficient margin.\n",
      "  warnings.warn(\n",
      "/Users/liantseng/Desktop/udemy/venv/lib/python3.13/site-packages/backtesting/backtesting.py:954: UserWarning: time=1203: Broker canceled the relative-sized order due to insufficient margin.\n",
      "  warnings.warn(\n",
      "/Users/liantseng/Desktop/udemy/venv/lib/python3.13/site-packages/backtesting/backtesting.py:954: UserWarning: time=1256: Broker canceled the relative-sized order due to insufficient margin.\n",
      "  warnings.warn(\n",
      "/Users/liantseng/Desktop/udemy/venv/lib/python3.13/site-packages/backtesting/backtesting.py:954: UserWarning: time=1275: Broker canceled the relative-sized order due to insufficient margin.\n",
      "  warnings.warn(\n",
      "/Users/liantseng/Desktop/udemy/venv/lib/python3.13/site-packages/backtesting/backtesting.py:954: UserWarning: time=1313: Broker canceled the relative-sized order due to insufficient margin.\n",
      "  warnings.warn(\n",
      "/Users/liantseng/Desktop/udemy/venv/lib/python3.13/site-packages/backtesting/backtesting.py:954: UserWarning: time=1340: Broker canceled the relative-sized order due to insufficient margin.\n",
      "  warnings.warn(\n",
      "/Users/liantseng/Desktop/udemy/venv/lib/python3.13/site-packages/backtesting/backtesting.py:954: UserWarning: time=1394: Broker canceled the relative-sized order due to insufficient margin.\n",
      "  warnings.warn(\n",
      "/Users/liantseng/Desktop/udemy/venv/lib/python3.13/site-packages/backtesting/backtesting.py:954: UserWarning: time=1425: Broker canceled the relative-sized order due to insufficient margin.\n",
      "  warnings.warn(\n",
      "/Users/liantseng/Desktop/udemy/venv/lib/python3.13/site-packages/backtesting/backtesting.py:954: UserWarning: time=1445: Broker canceled the relative-sized order due to insufficient margin.\n",
      "  warnings.warn(\n",
      "/Users/liantseng/Desktop/udemy/venv/lib/python3.13/site-packages/backtesting/backtesting.py:954: UserWarning: time=1460: Broker canceled the relative-sized order due to insufficient margin.\n",
      "  warnings.warn(\n",
      "/Users/liantseng/Desktop/udemy/venv/lib/python3.13/site-packages/backtesting/backtesting.py:954: UserWarning: time=1477: Broker canceled the relative-sized order due to insufficient margin.\n",
      "  warnings.warn(\n",
      "/Users/liantseng/Desktop/udemy/venv/lib/python3.13/site-packages/backtesting/backtesting.py:954: UserWarning: time=1488: Broker canceled the relative-sized order due to insufficient margin.\n",
      "  warnings.warn(\n",
      "/Users/liantseng/Desktop/udemy/venv/lib/python3.13/site-packages/backtesting/backtesting.py:954: UserWarning: time=1564: Broker canceled the relative-sized order due to insufficient margin.\n",
      "  warnings.warn(\n",
      "/Users/liantseng/Desktop/udemy/venv/lib/python3.13/site-packages/backtesting/backtesting.py:954: UserWarning: time=1582: Broker canceled the relative-sized order due to insufficient margin.\n",
      "  warnings.warn(\n",
      "/Users/liantseng/Desktop/udemy/venv/lib/python3.13/site-packages/backtesting/backtesting.py:954: UserWarning: time=1614: Broker canceled the relative-sized order due to insufficient margin.\n",
      "  warnings.warn(\n",
      "/Users/liantseng/Desktop/udemy/venv/lib/python3.13/site-packages/backtesting/backtesting.py:954: UserWarning: time=1734: Broker canceled the relative-sized order due to insufficient margin.\n",
      "  warnings.warn(\n",
      "/Users/liantseng/Desktop/udemy/venv/lib/python3.13/site-packages/backtesting/backtesting.py:954: UserWarning: time=1737: Broker canceled the relative-sized order due to insufficient margin.\n",
      "  warnings.warn(\n",
      "/Users/liantseng/Desktop/udemy/venv/lib/python3.13/site-packages/backtesting/backtesting.py:954: UserWarning: time=1767: Broker canceled the relative-sized order due to insufficient margin.\n",
      "  warnings.warn(\n",
      "/Users/liantseng/Desktop/udemy/venv/lib/python3.13/site-packages/backtesting/backtesting.py:954: UserWarning: time=1788: Broker canceled the relative-sized order due to insufficient margin.\n",
      "  warnings.warn(\n",
      "/Users/liantseng/Desktop/udemy/venv/lib/python3.13/site-packages/backtesting/backtesting.py:954: UserWarning: time=1803: Broker canceled the relative-sized order due to insufficient margin.\n",
      "  warnings.warn(\n",
      "/Users/liantseng/Desktop/udemy/venv/lib/python3.13/site-packages/backtesting/backtesting.py:954: UserWarning: time=1823: Broker canceled the relative-sized order due to insufficient margin.\n",
      "  warnings.warn(\n",
      "/Users/liantseng/Desktop/udemy/venv/lib/python3.13/site-packages/backtesting/backtesting.py:954: UserWarning: time=1834: Broker canceled the relative-sized order due to insufficient margin.\n",
      "  warnings.warn(\n",
      "/Users/liantseng/Desktop/udemy/venv/lib/python3.13/site-packages/backtesting/backtesting.py:954: UserWarning: time=1868: Broker canceled the relative-sized order due to insufficient margin.\n",
      "  warnings.warn(\n",
      "/Users/liantseng/Desktop/udemy/venv/lib/python3.13/site-packages/backtesting/backtesting.py:954: UserWarning: time=1890: Broker canceled the relative-sized order due to insufficient margin.\n",
      "  warnings.warn(\n",
      "/Users/liantseng/Desktop/udemy/venv/lib/python3.13/site-packages/backtesting/backtesting.py:954: UserWarning: time=1933: Broker canceled the relative-sized order due to insufficient margin.\n",
      "  warnings.warn(\n",
      "/Users/liantseng/Desktop/udemy/venv/lib/python3.13/site-packages/backtesting/backtesting.py:954: UserWarning: time=1991: Broker canceled the relative-sized order due to insufficient margin.\n",
      "  warnings.warn(\n",
      "/Users/liantseng/Desktop/udemy/venv/lib/python3.13/site-packages/backtesting/backtesting.py:954: UserWarning: time=2028: Broker canceled the relative-sized order due to insufficient margin.\n",
      "  warnings.warn(\n",
      "/Users/liantseng/Desktop/udemy/venv/lib/python3.13/site-packages/backtesting/backtesting.py:954: UserWarning: time=2087: Broker canceled the relative-sized order due to insufficient margin.\n",
      "  warnings.warn(\n",
      "/Users/liantseng/Desktop/udemy/venv/lib/python3.13/site-packages/backtesting/backtesting.py:954: UserWarning: time=2089: Broker canceled the relative-sized order due to insufficient margin.\n",
      "  warnings.warn(\n",
      "/Users/liantseng/Desktop/udemy/venv/lib/python3.13/site-packages/backtesting/backtesting.py:954: UserWarning: time=2107: Broker canceled the relative-sized order due to insufficient margin.\n",
      "  warnings.warn(\n",
      "/Users/liantseng/Desktop/udemy/venv/lib/python3.13/site-packages/backtesting/backtesting.py:954: UserWarning: time=2134: Broker canceled the relative-sized order due to insufficient margin.\n",
      "  warnings.warn(\n",
      "/Users/liantseng/Desktop/udemy/venv/lib/python3.13/site-packages/backtesting/backtesting.py:954: UserWarning: time=2177: Broker canceled the relative-sized order due to insufficient margin.\n",
      "  warnings.warn(\n",
      "/Users/liantseng/Desktop/udemy/venv/lib/python3.13/site-packages/backtesting/backtesting.py:954: UserWarning: time=2204: Broker canceled the relative-sized order due to insufficient margin.\n",
      "  warnings.warn(\n",
      "/Users/liantseng/Desktop/udemy/venv/lib/python3.13/site-packages/backtesting/backtesting.py:954: UserWarning: time=2326: Broker canceled the relative-sized order due to insufficient margin.\n",
      "  warnings.warn(\n",
      "/Users/liantseng/Desktop/udemy/venv/lib/python3.13/site-packages/backtesting/backtesting.py:954: UserWarning: time=2337: Broker canceled the relative-sized order due to insufficient margin.\n",
      "  warnings.warn(\n",
      "/Users/liantseng/Desktop/udemy/venv/lib/python3.13/site-packages/backtesting/backtesting.py:954: UserWarning: time=2365: Broker canceled the relative-sized order due to insufficient margin.\n",
      "  warnings.warn(\n",
      "/Users/liantseng/Desktop/udemy/venv/lib/python3.13/site-packages/backtesting/backtesting.py:954: UserWarning: time=2369: Broker canceled the relative-sized order due to insufficient margin.\n",
      "  warnings.warn(\n",
      "/Users/liantseng/Desktop/udemy/venv/lib/python3.13/site-packages/backtesting/backtesting.py:954: UserWarning: time=2393: Broker canceled the relative-sized order due to insufficient margin.\n",
      "  warnings.warn(\n",
      "/Users/liantseng/Desktop/udemy/venv/lib/python3.13/site-packages/backtesting/backtesting.py:954: UserWarning: time=2396: Broker canceled the relative-sized order due to insufficient margin.\n",
      "  warnings.warn(\n",
      "/Users/liantseng/Desktop/udemy/venv/lib/python3.13/site-packages/backtesting/backtesting.py:954: UserWarning: time=2412: Broker canceled the relative-sized order due to insufficient margin.\n",
      "  warnings.warn(\n",
      "/Users/liantseng/Desktop/udemy/venv/lib/python3.13/site-packages/backtesting/backtesting.py:954: UserWarning: time=2432: Broker canceled the relative-sized order due to insufficient margin.\n",
      "  warnings.warn(\n",
      "/Users/liantseng/Desktop/udemy/venv/lib/python3.13/site-packages/backtesting/backtesting.py:954: UserWarning: time=2433: Broker canceled the relative-sized order due to insufficient margin.\n",
      "  warnings.warn(\n",
      "/Users/liantseng/Desktop/udemy/venv/lib/python3.13/site-packages/backtesting/backtesting.py:954: UserWarning: time=2508: Broker canceled the relative-sized order due to insufficient margin.\n",
      "  warnings.warn(\n",
      "/Users/liantseng/Desktop/udemy/venv/lib/python3.13/site-packages/backtesting/backtesting.py:954: UserWarning: time=2557: Broker canceled the relative-sized order due to insufficient margin.\n",
      "  warnings.warn(\n",
      "/Users/liantseng/Desktop/udemy/venv/lib/python3.13/site-packages/backtesting/backtesting.py:954: UserWarning: time=2578: Broker canceled the relative-sized order due to insufficient margin.\n",
      "  warnings.warn(\n",
      "/Users/liantseng/Desktop/udemy/venv/lib/python3.13/site-packages/backtesting/backtesting.py:954: UserWarning: time=2625: Broker canceled the relative-sized order due to insufficient margin.\n",
      "  warnings.warn(\n",
      "/Users/liantseng/Desktop/udemy/venv/lib/python3.13/site-packages/backtesting/backtesting.py:954: UserWarning: time=2666: Broker canceled the relative-sized order due to insufficient margin.\n",
      "  warnings.warn(\n",
      "/Users/liantseng/Desktop/udemy/venv/lib/python3.13/site-packages/backtesting/backtesting.py:954: UserWarning: time=2668: Broker canceled the relative-sized order due to insufficient margin.\n",
      "  warnings.warn(\n",
      "/Users/liantseng/Desktop/udemy/venv/lib/python3.13/site-packages/backtesting/backtesting.py:954: UserWarning: time=2704: Broker canceled the relative-sized order due to insufficient margin.\n",
      "  warnings.warn(\n",
      "/Users/liantseng/Desktop/udemy/venv/lib/python3.13/site-packages/backtesting/backtesting.py:954: UserWarning: time=2720: Broker canceled the relative-sized order due to insufficient margin.\n",
      "  warnings.warn(\n",
      "/Users/liantseng/Desktop/udemy/venv/lib/python3.13/site-packages/backtesting/backtesting.py:954: UserWarning: time=2736: Broker canceled the relative-sized order due to insufficient margin.\n",
      "  warnings.warn(\n",
      "/Users/liantseng/Desktop/udemy/venv/lib/python3.13/site-packages/backtesting/backtesting.py:954: UserWarning: time=2738: Broker canceled the relative-sized order due to insufficient margin.\n",
      "  warnings.warn(\n",
      "/Users/liantseng/Desktop/udemy/venv/lib/python3.13/site-packages/backtesting/backtesting.py:954: UserWarning: time=2742: Broker canceled the relative-sized order due to insufficient margin.\n",
      "  warnings.warn(\n",
      "/Users/liantseng/Desktop/udemy/venv/lib/python3.13/site-packages/backtesting/backtesting.py:954: UserWarning: time=2767: Broker canceled the relative-sized order due to insufficient margin.\n",
      "  warnings.warn(\n",
      "/Users/liantseng/Desktop/udemy/venv/lib/python3.13/site-packages/backtesting/backtesting.py:954: UserWarning: time=2821: Broker canceled the relative-sized order due to insufficient margin.\n",
      "  warnings.warn(\n",
      "/Users/liantseng/Desktop/udemy/venv/lib/python3.13/site-packages/backtesting/backtesting.py:954: UserWarning: time=2827: Broker canceled the relative-sized order due to insufficient margin.\n",
      "  warnings.warn(\n",
      "/Users/liantseng/Desktop/udemy/venv/lib/python3.13/site-packages/backtesting/backtesting.py:954: UserWarning: time=2860: Broker canceled the relative-sized order due to insufficient margin.\n",
      "  warnings.warn(\n",
      "/Users/liantseng/Desktop/udemy/venv/lib/python3.13/site-packages/backtesting/backtesting.py:954: UserWarning: time=2899: Broker canceled the relative-sized order due to insufficient margin.\n",
      "  warnings.warn(\n",
      "/Users/liantseng/Desktop/udemy/venv/lib/python3.13/site-packages/backtesting/backtesting.py:954: UserWarning: time=2928: Broker canceled the relative-sized order due to insufficient margin.\n",
      "  warnings.warn(\n",
      "/Users/liantseng/Desktop/udemy/venv/lib/python3.13/site-packages/backtesting/backtesting.py:954: UserWarning: time=2931: Broker canceled the relative-sized order due to insufficient margin.\n",
      "  warnings.warn(\n",
      "/Users/liantseng/Desktop/udemy/venv/lib/python3.13/site-packages/backtesting/backtesting.py:954: UserWarning: time=2948: Broker canceled the relative-sized order due to insufficient margin.\n",
      "  warnings.warn(\n",
      "/Users/liantseng/Desktop/udemy/venv/lib/python3.13/site-packages/backtesting/backtesting.py:954: UserWarning: time=2956: Broker canceled the relative-sized order due to insufficient margin.\n",
      "  warnings.warn(\n",
      "/Users/liantseng/Desktop/udemy/venv/lib/python3.13/site-packages/backtesting/backtesting.py:954: UserWarning: time=2964: Broker canceled the relative-sized order due to insufficient margin.\n",
      "  warnings.warn(\n",
      "/Users/liantseng/Desktop/udemy/venv/lib/python3.13/site-packages/backtesting/backtesting.py:954: UserWarning: time=2979: Broker canceled the relative-sized order due to insufficient margin.\n",
      "  warnings.warn(\n",
      "/Users/liantseng/Desktop/udemy/venv/lib/python3.13/site-packages/backtesting/backtesting.py:954: UserWarning: time=3004: Broker canceled the relative-sized order due to insufficient margin.\n",
      "  warnings.warn(\n",
      "/Users/liantseng/Desktop/udemy/venv/lib/python3.13/site-packages/backtesting/backtesting.py:954: UserWarning: time=3024: Broker canceled the relative-sized order due to insufficient margin.\n",
      "  warnings.warn(\n",
      "/Users/liantseng/Desktop/udemy/venv/lib/python3.13/site-packages/backtesting/backtesting.py:954: UserWarning: time=3040: Broker canceled the relative-sized order due to insufficient margin.\n",
      "  warnings.warn(\n",
      "/Users/liantseng/Desktop/udemy/venv/lib/python3.13/site-packages/backtesting/backtesting.py:954: UserWarning: time=3076: Broker canceled the relative-sized order due to insufficient margin.\n",
      "  warnings.warn(\n",
      "/Users/liantseng/Desktop/udemy/venv/lib/python3.13/site-packages/backtesting/backtesting.py:954: UserWarning: time=3080: Broker canceled the relative-sized order due to insufficient margin.\n",
      "  warnings.warn(\n",
      "/Users/liantseng/Desktop/udemy/venv/lib/python3.13/site-packages/backtesting/backtesting.py:954: UserWarning: time=3095: Broker canceled the relative-sized order due to insufficient margin.\n",
      "  warnings.warn(\n",
      "/Users/liantseng/Desktop/udemy/venv/lib/python3.13/site-packages/backtesting/backtesting.py:954: UserWarning: time=3107: Broker canceled the relative-sized order due to insufficient margin.\n",
      "  warnings.warn(\n",
      "/Users/liantseng/Desktop/udemy/venv/lib/python3.13/site-packages/backtesting/backtesting.py:954: UserWarning: time=3148: Broker canceled the relative-sized order due to insufficient margin.\n",
      "  warnings.warn(\n",
      "/Users/liantseng/Desktop/udemy/venv/lib/python3.13/site-packages/backtesting/backtesting.py:954: UserWarning: time=3187: Broker canceled the relative-sized order due to insufficient margin.\n",
      "  warnings.warn(\n",
      "/Users/liantseng/Desktop/udemy/venv/lib/python3.13/site-packages/backtesting/backtesting.py:954: UserWarning: time=3190: Broker canceled the relative-sized order due to insufficient margin.\n",
      "  warnings.warn(\n",
      "/Users/liantseng/Desktop/udemy/venv/lib/python3.13/site-packages/backtesting/backtesting.py:954: UserWarning: time=3202: Broker canceled the relative-sized order due to insufficient margin.\n",
      "  warnings.warn(\n",
      "/Users/liantseng/Desktop/udemy/venv/lib/python3.13/site-packages/backtesting/backtesting.py:954: UserWarning: time=3228: Broker canceled the relative-sized order due to insufficient margin.\n",
      "  warnings.warn(\n",
      "/Users/liantseng/Desktop/udemy/venv/lib/python3.13/site-packages/backtesting/backtesting.py:954: UserWarning: time=3291: Broker canceled the relative-sized order due to insufficient margin.\n",
      "  warnings.warn(\n",
      "/Users/liantseng/Desktop/udemy/venv/lib/python3.13/site-packages/backtesting/backtesting.py:954: UserWarning: time=3415: Broker canceled the relative-sized order due to insufficient margin.\n",
      "  warnings.warn(\n",
      "/Users/liantseng/Desktop/udemy/venv/lib/python3.13/site-packages/backtesting/backtesting.py:954: UserWarning: time=3432: Broker canceled the relative-sized order due to insufficient margin.\n",
      "  warnings.warn(\n",
      "/Users/liantseng/Desktop/udemy/venv/lib/python3.13/site-packages/backtesting/backtesting.py:954: UserWarning: time=3483: Broker canceled the relative-sized order due to insufficient margin.\n",
      "  warnings.warn(\n",
      "/Users/liantseng/Desktop/udemy/venv/lib/python3.13/site-packages/backtesting/backtesting.py:954: UserWarning: time=3490: Broker canceled the relative-sized order due to insufficient margin.\n",
      "  warnings.warn(\n",
      "/Users/liantseng/Desktop/udemy/venv/lib/python3.13/site-packages/backtesting/backtesting.py:954: UserWarning: time=3499: Broker canceled the relative-sized order due to insufficient margin.\n",
      "  warnings.warn(\n",
      "/Users/liantseng/Desktop/udemy/venv/lib/python3.13/site-packages/backtesting/backtesting.py:954: UserWarning: time=3533: Broker canceled the relative-sized order due to insufficient margin.\n",
      "  warnings.warn(\n",
      "/Users/liantseng/Desktop/udemy/venv/lib/python3.13/site-packages/backtesting/backtesting.py:954: UserWarning: time=3562: Broker canceled the relative-sized order due to insufficient margin.\n",
      "  warnings.warn(\n",
      "/Users/liantseng/Desktop/udemy/venv/lib/python3.13/site-packages/backtesting/backtesting.py:954: UserWarning: time=3596: Broker canceled the relative-sized order due to insufficient margin.\n",
      "  warnings.warn(\n",
      "/Users/liantseng/Desktop/udemy/venv/lib/python3.13/site-packages/backtesting/backtesting.py:954: UserWarning: time=3613: Broker canceled the relative-sized order due to insufficient margin.\n",
      "  warnings.warn(\n",
      "/Users/liantseng/Desktop/udemy/venv/lib/python3.13/site-packages/backtesting/backtesting.py:954: UserWarning: time=3634: Broker canceled the relative-sized order due to insufficient margin.\n",
      "  warnings.warn(\n",
      "/Users/liantseng/Desktop/udemy/venv/lib/python3.13/site-packages/backtesting/backtesting.py:954: UserWarning: time=3643: Broker canceled the relative-sized order due to insufficient margin.\n",
      "  warnings.warn(\n",
      "/Users/liantseng/Desktop/udemy/venv/lib/python3.13/site-packages/backtesting/backtesting.py:954: UserWarning: time=3659: Broker canceled the relative-sized order due to insufficient margin.\n",
      "  warnings.warn(\n",
      "/Users/liantseng/Desktop/udemy/venv/lib/python3.13/site-packages/backtesting/backtesting.py:954: UserWarning: time=3680: Broker canceled the relative-sized order due to insufficient margin.\n",
      "  warnings.warn(\n",
      "/Users/liantseng/Desktop/udemy/venv/lib/python3.13/site-packages/backtesting/backtesting.py:954: UserWarning: time=3685: Broker canceled the relative-sized order due to insufficient margin.\n",
      "  warnings.warn(\n",
      "/Users/liantseng/Desktop/udemy/venv/lib/python3.13/site-packages/backtesting/backtesting.py:954: UserWarning: time=3757: Broker canceled the relative-sized order due to insufficient margin.\n",
      "  warnings.warn(\n",
      "/Users/liantseng/Desktop/udemy/venv/lib/python3.13/site-packages/backtesting/backtesting.py:954: UserWarning: time=3775: Broker canceled the relative-sized order due to insufficient margin.\n",
      "  warnings.warn(\n",
      "/Users/liantseng/Desktop/udemy/venv/lib/python3.13/site-packages/backtesting/backtesting.py:954: UserWarning: time=3798: Broker canceled the relative-sized order due to insufficient margin.\n",
      "  warnings.warn(\n",
      "/Users/liantseng/Desktop/udemy/venv/lib/python3.13/site-packages/backtesting/backtesting.py:954: UserWarning: time=3850: Broker canceled the relative-sized order due to insufficient margin.\n",
      "  warnings.warn(\n",
      "/Users/liantseng/Desktop/udemy/venv/lib/python3.13/site-packages/backtesting/backtesting.py:954: UserWarning: time=3857: Broker canceled the relative-sized order due to insufficient margin.\n",
      "  warnings.warn(\n",
      "/Users/liantseng/Desktop/udemy/venv/lib/python3.13/site-packages/backtesting/backtesting.py:954: UserWarning: time=3871: Broker canceled the relative-sized order due to insufficient margin.\n",
      "  warnings.warn(\n",
      "/Users/liantseng/Desktop/udemy/venv/lib/python3.13/site-packages/backtesting/_stats.py:155: RuntimeWarning: divide by zero encountered in log\n",
      "  equity_log_returns = np.log(equity[1:] / equity[:-1])\n",
      "/Users/liantseng/Desktop/udemy/venv/lib/python3.13/site-packages/backtesting/_stats.py:155: RuntimeWarning: divide by zero encountered in log\n",
      "  equity_log_returns = np.log(equity[1:] / equity[:-1])\n",
      "/Users/liantseng/Desktop/udemy/venv/lib/python3.13/site-packages/backtesting/_stats.py:155: RuntimeWarning: divide by zero encountered in log\n",
      "  equity_log_returns = np.log(equity[1:] / equity[:-1])\n"
     ]
    },
    {
     "data": {
      "application/vnd.jupyter.widget-view+json": {
       "model_id": "67a25622ff6a42659e6b0ef90c858cc3",
       "version_major": 2,
       "version_minor": 0
      },
      "text/plain": [
       "Backtest.run:   0%|          | 0/3883 [00:00<?, ?bar/s]"
      ]
     },
     "metadata": {},
     "output_type": "display_data"
    },
    {
     "data": {
      "application/vnd.jupyter.widget-view+json": {
       "model_id": "4b5e0cd19d984f8dbd8fd5041b3bfa34",
       "version_major": 2,
       "version_minor": 0
      },
      "text/plain": [
       "Backtest.run:   0%|          | 0/3863 [00:00<?, ?bar/s]"
      ]
     },
     "metadata": {},
     "output_type": "display_data"
    },
    {
     "data": {
      "application/vnd.jupyter.widget-view+json": {
       "model_id": "13d2eab479e746a594a963e53450a55f",
       "version_major": 2,
       "version_minor": 0
      },
      "text/plain": [
       "Backtest.run:   0%|          | 0/3878 [00:00<?, ?bar/s]"
      ]
     },
     "metadata": {},
     "output_type": "display_data"
    },
    {
     "data": {
      "application/vnd.jupyter.widget-view+json": {
       "model_id": "3cb7ba8a04854f2caa01529081e7d192",
       "version_major": 2,
       "version_minor": 0
      },
      "text/plain": [
       "Backtest.run:   0%|          | 0/3888 [00:00<?, ?bar/s]"
      ]
     },
     "metadata": {},
     "output_type": "display_data"
    },
    {
     "data": {
      "application/vnd.jupyter.widget-view+json": {
       "model_id": "74e4c1ac3fae4d8ea5148e4c05de7e9d",
       "version_major": 2,
       "version_minor": 0
      },
      "text/plain": [
       "Backtest.run:   0%|          | 0/3828 [00:00<?, ?bar/s]"
      ]
     },
     "metadata": {},
     "output_type": "display_data"
    },
    {
     "data": {
      "application/vnd.jupyter.widget-view+json": {
       "model_id": "0f373229e7dc454ebdaa0bcf5b463a50",
       "version_major": 2,
       "version_minor": 0
      },
      "text/plain": [
       "Backtest.run:   0%|          | 0/3868 [00:00<?, ?bar/s]"
      ]
     },
     "metadata": {},
     "output_type": "display_data"
    },
    {
     "data": {
      "application/vnd.jupyter.widget-view+json": {
       "model_id": "15466f2f925849b384b251e8463dd7b4",
       "version_major": 2,
       "version_minor": 0
      },
      "text/plain": [
       "Backtest.run:   0%|          | 0/3873 [00:00<?, ?bar/s]"
      ]
     },
     "metadata": {},
     "output_type": "display_data"
    },
    {
     "data": {
      "application/vnd.jupyter.widget-view+json": {
       "model_id": "2666299c6c0a487084010ad01e6e0994",
       "version_major": 2,
       "version_minor": 0
      },
      "text/plain": [
       "Backtest.run:   0%|          | 0/3828 [00:00<?, ?bar/s]"
      ]
     },
     "metadata": {},
     "output_type": "display_data"
    },
    {
     "data": {
      "application/vnd.jupyter.widget-view+json": {
       "model_id": "b89924c432ce4ab7bd1939746ad2c206",
       "version_major": 2,
       "version_minor": 0
      },
      "text/plain": [
       "Backtest.run:   0%|          | 0/3893 [00:00<?, ?bar/s]"
      ]
     },
     "metadata": {},
     "output_type": "display_data"
    },
    {
     "data": {
      "application/vnd.jupyter.widget-view+json": {
       "model_id": "4c93c5a80beb4fdc85f7d90bae73aab5",
       "version_major": 2,
       "version_minor": 0
      },
      "text/plain": [
       "Backtest.run:   0%|          | 0/3858 [00:00<?, ?bar/s]"
      ]
     },
     "metadata": {},
     "output_type": "display_data"
    },
    {
     "name": "stderr",
     "output_type": "stream",
     "text": [
      "/Users/liantseng/Desktop/udemy/venv/lib/python3.13/site-packages/backtesting/backtesting.py:954: UserWarning: time=869: Broker canceled the relative-sized order due to insufficient margin.\n",
      "  warnings.warn(\n",
      "/Users/liantseng/Desktop/udemy/venv/lib/python3.13/site-packages/backtesting/backtesting.py:954: UserWarning: time=875: Broker canceled the relative-sized order due to insufficient margin.\n",
      "  warnings.warn(\n",
      "/Users/liantseng/Desktop/udemy/venv/lib/python3.13/site-packages/backtesting/backtesting.py:954: UserWarning: time=884: Broker canceled the relative-sized order due to insufficient margin.\n",
      "  warnings.warn(\n",
      "/Users/liantseng/Desktop/udemy/venv/lib/python3.13/site-packages/backtesting/backtesting.py:954: UserWarning: time=933: Broker canceled the relative-sized order due to insufficient margin.\n",
      "  warnings.warn(\n",
      "/Users/liantseng/Desktop/udemy/venv/lib/python3.13/site-packages/backtesting/backtesting.py:954: UserWarning: time=953: Broker canceled the relative-sized order due to insufficient margin.\n",
      "  warnings.warn(\n",
      "/Users/liantseng/Desktop/udemy/venv/lib/python3.13/site-packages/backtesting/backtesting.py:954: UserWarning: time=1034: Broker canceled the relative-sized order due to insufficient margin.\n",
      "  warnings.warn(\n",
      "/Users/liantseng/Desktop/udemy/venv/lib/python3.13/site-packages/backtesting/backtesting.py:954: UserWarning: time=1055: Broker canceled the relative-sized order due to insufficient margin.\n",
      "  warnings.warn(\n",
      "/Users/liantseng/Desktop/udemy/venv/lib/python3.13/site-packages/backtesting/backtesting.py:954: UserWarning: time=1109: Broker canceled the relative-sized order due to insufficient margin.\n",
      "  warnings.warn(\n",
      "/Users/liantseng/Desktop/udemy/venv/lib/python3.13/site-packages/backtesting/backtesting.py:954: UserWarning: time=1128: Broker canceled the relative-sized order due to insufficient margin.\n",
      "  warnings.warn(\n",
      "/Users/liantseng/Desktop/udemy/venv/lib/python3.13/site-packages/backtesting/backtesting.py:954: UserWarning: time=1222: Broker canceled the relative-sized order due to insufficient margin.\n",
      "  warnings.warn(\n",
      "/Users/liantseng/Desktop/udemy/venv/lib/python3.13/site-packages/backtesting/backtesting.py:954: UserWarning: time=1275: Broker canceled the relative-sized order due to insufficient margin.\n",
      "  warnings.warn(\n",
      "/Users/liantseng/Desktop/udemy/venv/lib/python3.13/site-packages/backtesting/backtesting.py:954: UserWarning: time=1289: Broker canceled the relative-sized order due to insufficient margin.\n",
      "  warnings.warn(\n",
      "/Users/liantseng/Desktop/udemy/venv/lib/python3.13/site-packages/backtesting/backtesting.py:954: UserWarning: time=1327: Broker canceled the relative-sized order due to insufficient margin.\n",
      "  warnings.warn(\n",
      "/Users/liantseng/Desktop/udemy/venv/lib/python3.13/site-packages/backtesting/backtesting.py:954: UserWarning: time=1354: Broker canceled the relative-sized order due to insufficient margin.\n",
      "  warnings.warn(\n",
      "/Users/liantseng/Desktop/udemy/venv/lib/python3.13/site-packages/backtesting/backtesting.py:954: UserWarning: time=1410: Broker canceled the relative-sized order due to insufficient margin.\n",
      "  warnings.warn(\n",
      "/Users/liantseng/Desktop/udemy/venv/lib/python3.13/site-packages/backtesting/backtesting.py:954: UserWarning: time=1442: Broker canceled the relative-sized order due to insufficient margin.\n",
      "  warnings.warn(\n",
      "/Users/liantseng/Desktop/udemy/venv/lib/python3.13/site-packages/backtesting/backtesting.py:954: UserWarning: time=1465: Broker canceled the relative-sized order due to insufficient margin.\n",
      "  warnings.warn(\n",
      "/Users/liantseng/Desktop/udemy/venv/lib/python3.13/site-packages/backtesting/backtesting.py:954: UserWarning: time=880: Broker canceled the relative-sized order due to insufficient margin.\n",
      "  warnings.warn(\n",
      "/Users/liantseng/Desktop/udemy/venv/lib/python3.13/site-packages/backtesting/backtesting.py:954: UserWarning: time=928: Broker canceled the relative-sized order due to insufficient margin.\n",
      "  warnings.warn(\n",
      "/Users/liantseng/Desktop/udemy/venv/lib/python3.13/site-packages/backtesting/backtesting.py:954: UserWarning: time=949: Broker canceled the relative-sized order due to insufficient margin.\n",
      "  warnings.warn(\n",
      "/Users/liantseng/Desktop/udemy/venv/lib/python3.13/site-packages/backtesting/backtesting.py:954: UserWarning: time=1029: Broker canceled the relative-sized order due to insufficient margin.\n",
      "  warnings.warn(\n",
      "/Users/liantseng/Desktop/udemy/venv/lib/python3.13/site-packages/backtesting/backtesting.py:954: UserWarning: time=1104: Broker canceled the relative-sized order due to insufficient margin.\n",
      "  warnings.warn(\n",
      "/Users/liantseng/Desktop/udemy/venv/lib/python3.13/site-packages/backtesting/backtesting.py:954: UserWarning: time=1125: Broker canceled the relative-sized order due to insufficient margin.\n",
      "  warnings.warn(\n",
      "/Users/liantseng/Desktop/udemy/venv/lib/python3.13/site-packages/backtesting/backtesting.py:954: UserWarning: time=1217: Broker canceled the relative-sized order due to insufficient margin.\n",
      "  warnings.warn(\n",
      "/Users/liantseng/Desktop/udemy/venv/lib/python3.13/site-packages/backtesting/backtesting.py:954: UserWarning: time=1269: Broker canceled the relative-sized order due to insufficient margin.\n",
      "  warnings.warn(\n",
      "/Users/liantseng/Desktop/udemy/venv/lib/python3.13/site-packages/backtesting/backtesting.py:954: UserWarning: time=1285: Broker canceled the relative-sized order due to insufficient margin.\n",
      "  warnings.warn(\n",
      "/Users/liantseng/Desktop/udemy/venv/lib/python3.13/site-packages/backtesting/backtesting.py:954: UserWarning: time=1323: Broker canceled the relative-sized order due to insufficient margin.\n",
      "  warnings.warn(\n",
      "/Users/liantseng/Desktop/udemy/venv/lib/python3.13/site-packages/backtesting/backtesting.py:954: UserWarning: time=1350: Broker canceled the relative-sized order due to insufficient margin.\n",
      "  warnings.warn(\n",
      "/Users/liantseng/Desktop/udemy/venv/lib/python3.13/site-packages/backtesting/backtesting.py:954: UserWarning: time=1406: Broker canceled the relative-sized order due to insufficient margin.\n",
      "  warnings.warn(\n",
      "/Users/liantseng/Desktop/udemy/venv/lib/python3.13/site-packages/backtesting/backtesting.py:954: UserWarning: time=1437: Broker canceled the relative-sized order due to insufficient margin.\n",
      "  warnings.warn(\n",
      "/Users/liantseng/Desktop/udemy/venv/lib/python3.13/site-packages/backtesting/backtesting.py:954: UserWarning: time=1460: Broker canceled the relative-sized order due to insufficient margin.\n",
      "  warnings.warn(\n",
      "/Users/liantseng/Desktop/udemy/venv/lib/python3.13/site-packages/backtesting/backtesting.py:954: UserWarning: time=1474: Broker canceled the relative-sized order due to insufficient margin.\n",
      "  warnings.warn(\n",
      "/Users/liantseng/Desktop/udemy/venv/lib/python3.13/site-packages/backtesting/backtesting.py:954: UserWarning: time=1493: Broker canceled the relative-sized order due to insufficient margin.\n",
      "  warnings.warn(\n",
      "/Users/liantseng/Desktop/udemy/venv/lib/python3.13/site-packages/backtesting/backtesting.py:954: UserWarning: time=1502: Broker canceled the relative-sized order due to insufficient margin.\n",
      "  warnings.warn(\n",
      "/Users/liantseng/Desktop/udemy/venv/lib/python3.13/site-packages/backtesting/backtesting.py:954: UserWarning: time=1579: Broker canceled the relative-sized order due to insufficient margin.\n",
      "  warnings.warn(\n",
      "/Users/liantseng/Desktop/udemy/venv/lib/python3.13/site-packages/backtesting/backtesting.py:954: UserWarning: time=1595: Broker canceled the relative-sized order due to insufficient margin.\n",
      "  warnings.warn(\n",
      "/Users/liantseng/Desktop/udemy/venv/lib/python3.13/site-packages/backtesting/backtesting.py:954: UserWarning: time=1621: Broker canceled the relative-sized order due to insufficient margin.\n",
      "  warnings.warn(\n",
      "/Users/liantseng/Desktop/udemy/venv/lib/python3.13/site-packages/backtesting/backtesting.py:954: UserWarning: time=1779: Broker canceled the relative-sized order due to insufficient margin.\n",
      "  warnings.warn(\n",
      "/Users/liantseng/Desktop/udemy/venv/lib/python3.13/site-packages/backtesting/backtesting.py:954: UserWarning: time=1803: Broker canceled the relative-sized order due to insufficient margin.\n",
      "  warnings.warn(\n",
      "/Users/liantseng/Desktop/udemy/venv/lib/python3.13/site-packages/backtesting/backtesting.py:954: UserWarning: time=1817: Broker canceled the relative-sized order due to insufficient margin.\n",
      "  warnings.warn(\n",
      "/Users/liantseng/Desktop/udemy/venv/lib/python3.13/site-packages/backtesting/backtesting.py:954: UserWarning: time=1876: Broker canceled the relative-sized order due to insufficient margin.\n",
      "  warnings.warn(\n",
      "/Users/liantseng/Desktop/udemy/venv/lib/python3.13/site-packages/backtesting/backtesting.py:954: UserWarning: time=1900: Broker canceled the relative-sized order due to insufficient margin.\n",
      "  warnings.warn(\n",
      "/Users/liantseng/Desktop/udemy/venv/lib/python3.13/site-packages/backtesting/backtesting.py:954: UserWarning: time=1944: Broker canceled the relative-sized order due to insufficient margin.\n",
      "  warnings.warn(\n",
      "/Users/liantseng/Desktop/udemy/venv/lib/python3.13/site-packages/backtesting/backtesting.py:954: UserWarning: time=2002: Broker canceled the relative-sized order due to insufficient margin.\n",
      "  warnings.warn(\n",
      "/Users/liantseng/Desktop/udemy/venv/lib/python3.13/site-packages/backtesting/backtesting.py:954: UserWarning: time=2042: Broker canceled the relative-sized order due to insufficient margin.\n",
      "  warnings.warn(\n",
      "/Users/liantseng/Desktop/udemy/venv/lib/python3.13/site-packages/backtesting/backtesting.py:954: UserWarning: time=2119: Broker canceled the relative-sized order due to insufficient margin.\n",
      "  warnings.warn(\n",
      "/Users/liantseng/Desktop/udemy/venv/lib/python3.13/site-packages/backtesting/backtesting.py:954: UserWarning: time=2142: Broker canceled the relative-sized order due to insufficient margin.\n",
      "  warnings.warn(\n",
      "/Users/liantseng/Desktop/udemy/venv/lib/python3.13/site-packages/backtesting/backtesting.py:954: UserWarning: time=2185: Broker canceled the relative-sized order due to insufficient margin.\n",
      "  warnings.warn(\n",
      "/Users/liantseng/Desktop/udemy/venv/lib/python3.13/site-packages/backtesting/backtesting.py:954: UserWarning: time=2218: Broker canceled the relative-sized order due to insufficient margin.\n",
      "  warnings.warn(\n",
      "/Users/liantseng/Desktop/udemy/venv/lib/python3.13/site-packages/backtesting/backtesting.py:954: UserWarning: time=2424: Broker canceled the relative-sized order due to insufficient margin.\n",
      "  warnings.warn(\n",
      "/Users/liantseng/Desktop/udemy/venv/lib/python3.13/site-packages/backtesting/backtesting.py:954: UserWarning: time=2510: Broker canceled the relative-sized order due to insufficient margin.\n",
      "  warnings.warn(\n",
      "/Users/liantseng/Desktop/udemy/venv/lib/python3.13/site-packages/backtesting/backtesting.py:954: UserWarning: time=2565: Broker canceled the relative-sized order due to insufficient margin.\n",
      "  warnings.warn(\n",
      "/Users/liantseng/Desktop/udemy/venv/lib/python3.13/site-packages/backtesting/backtesting.py:954: UserWarning: time=2584: Broker canceled the relative-sized order due to insufficient margin.\n",
      "  warnings.warn(\n",
      "/Users/liantseng/Desktop/udemy/venv/lib/python3.13/site-packages/backtesting/backtesting.py:954: UserWarning: time=1479: Broker canceled the relative-sized order due to insufficient margin.\n",
      "  warnings.warn(\n",
      "/Users/liantseng/Desktop/udemy/venv/lib/python3.13/site-packages/backtesting/backtesting.py:954: UserWarning: time=1498: Broker canceled the relative-sized order due to insufficient margin.\n",
      "  warnings.warn(\n",
      "/Users/liantseng/Desktop/udemy/venv/lib/python3.13/site-packages/backtesting/backtesting.py:954: UserWarning: time=1506: Broker canceled the relative-sized order due to insufficient margin.\n",
      "  warnings.warn(\n",
      "/Users/liantseng/Desktop/udemy/venv/lib/python3.13/site-packages/backtesting/backtesting.py:954: UserWarning: time=1584: Broker canceled the relative-sized order due to insufficient margin.\n",
      "  warnings.warn(\n",
      "/Users/liantseng/Desktop/udemy/venv/lib/python3.13/site-packages/backtesting/backtesting.py:954: UserWarning: time=1599: Broker canceled the relative-sized order due to insufficient margin.\n",
      "  warnings.warn(\n",
      "/Users/liantseng/Desktop/udemy/venv/lib/python3.13/site-packages/backtesting/backtesting.py:954: UserWarning: time=1626: Broker canceled the relative-sized order due to insufficient margin.\n",
      "  warnings.warn(\n",
      "/Users/liantseng/Desktop/udemy/venv/lib/python3.13/site-packages/backtesting/backtesting.py:954: UserWarning: time=1783: Broker canceled the relative-sized order due to insufficient margin.\n",
      "  warnings.warn(\n",
      "/Users/liantseng/Desktop/udemy/venv/lib/python3.13/site-packages/backtesting/backtesting.py:954: UserWarning: time=1808: Broker canceled the relative-sized order due to insufficient margin.\n",
      "  warnings.warn(\n",
      "/Users/liantseng/Desktop/udemy/venv/lib/python3.13/site-packages/backtesting/backtesting.py:954: UserWarning: time=1822: Broker canceled the relative-sized order due to insufficient margin.\n",
      "  warnings.warn(\n",
      "/Users/liantseng/Desktop/udemy/venv/lib/python3.13/site-packages/backtesting/backtesting.py:954: UserWarning: time=1880: Broker canceled the relative-sized order due to insufficient margin.\n",
      "  warnings.warn(\n",
      "/Users/liantseng/Desktop/udemy/venv/lib/python3.13/site-packages/backtesting/backtesting.py:954: UserWarning: time=1904: Broker canceled the relative-sized order due to insufficient margin.\n",
      "  warnings.warn(\n",
      "/Users/liantseng/Desktop/udemy/venv/lib/python3.13/site-packages/backtesting/backtesting.py:954: UserWarning: time=1946: Broker canceled the relative-sized order due to insufficient margin.\n",
      "  warnings.warn(\n",
      "/Users/liantseng/Desktop/udemy/venv/lib/python3.13/site-packages/backtesting/backtesting.py:954: UserWarning: time=2005: Broker canceled the relative-sized order due to insufficient margin.\n",
      "  warnings.warn(\n",
      "/Users/liantseng/Desktop/udemy/venv/lib/python3.13/site-packages/backtesting/backtesting.py:954: UserWarning: time=2047: Broker canceled the relative-sized order due to insufficient margin.\n",
      "  warnings.warn(\n",
      "/Users/liantseng/Desktop/udemy/venv/lib/python3.13/site-packages/backtesting/backtesting.py:954: UserWarning: time=2124: Broker canceled the relative-sized order due to insufficient margin.\n",
      "  warnings.warn(\n",
      "/Users/liantseng/Desktop/udemy/venv/lib/python3.13/site-packages/backtesting/backtesting.py:954: UserWarning: time=2144: Broker canceled the relative-sized order due to insufficient margin.\n",
      "  warnings.warn(\n",
      "/Users/liantseng/Desktop/udemy/venv/lib/python3.13/site-packages/backtesting/backtesting.py:954: UserWarning: time=2189: Broker canceled the relative-sized order due to insufficient margin.\n",
      "  warnings.warn(\n",
      "/Users/liantseng/Desktop/udemy/venv/lib/python3.13/site-packages/backtesting/backtesting.py:954: UserWarning: time=2222: Broker canceled the relative-sized order due to insufficient margin.\n",
      "  warnings.warn(\n",
      "/Users/liantseng/Desktop/udemy/venv/lib/python3.13/site-packages/backtesting/backtesting.py:954: UserWarning: time=2414: Broker canceled the relative-sized order due to insufficient margin.\n",
      "  warnings.warn(\n",
      "/Users/liantseng/Desktop/udemy/venv/lib/python3.13/site-packages/backtesting/backtesting.py:954: UserWarning: time=2417: Broker canceled the relative-sized order due to insufficient margin.\n",
      "  warnings.warn(\n",
      "/Users/liantseng/Desktop/udemy/venv/lib/python3.13/site-packages/backtesting/backtesting.py:954: UserWarning: time=2429: Broker canceled the relative-sized order due to insufficient margin.\n",
      "  warnings.warn(\n",
      "/Users/liantseng/Desktop/udemy/venv/lib/python3.13/site-packages/backtesting/backtesting.py:954: UserWarning: time=2514: Broker canceled the relative-sized order due to insufficient margin.\n",
      "  warnings.warn(\n",
      "/Users/liantseng/Desktop/udemy/venv/lib/python3.13/site-packages/backtesting/backtesting.py:954: UserWarning: time=2568: Broker canceled the relative-sized order due to insufficient margin.\n",
      "  warnings.warn(\n",
      "/Users/liantseng/Desktop/udemy/venv/lib/python3.13/site-packages/backtesting/backtesting.py:954: UserWarning: time=2586: Broker canceled the relative-sized order due to insufficient margin.\n",
      "  warnings.warn(\n",
      "/Users/liantseng/Desktop/udemy/venv/lib/python3.13/site-packages/backtesting/backtesting.py:954: UserWarning: time=2631: Broker canceled the relative-sized order due to insufficient margin.\n",
      "  warnings.warn(\n",
      "/Users/liantseng/Desktop/udemy/venv/lib/python3.13/site-packages/backtesting/backtesting.py:954: UserWarning: time=2724: Broker canceled the relative-sized order due to insufficient margin.\n",
      "  warnings.warn(\n",
      "/Users/liantseng/Desktop/udemy/venv/lib/python3.13/site-packages/backtesting/backtesting.py:954: UserWarning: time=2740: Broker canceled the relative-sized order due to insufficient margin.\n",
      "  warnings.warn(\n",
      "/Users/liantseng/Desktop/udemy/venv/lib/python3.13/site-packages/backtesting/backtesting.py:954: UserWarning: time=2752: Broker canceled the relative-sized order due to insufficient margin.\n",
      "  warnings.warn(\n",
      "/Users/liantseng/Desktop/udemy/venv/lib/python3.13/site-packages/backtesting/backtesting.py:954: UserWarning: time=2784: Broker canceled the relative-sized order due to insufficient margin.\n",
      "  warnings.warn(\n",
      "/Users/liantseng/Desktop/udemy/venv/lib/python3.13/site-packages/backtesting/backtesting.py:954: UserWarning: time=2875: Broker canceled the relative-sized order due to insufficient margin.\n",
      "  warnings.warn(\n",
      "/Users/liantseng/Desktop/udemy/venv/lib/python3.13/site-packages/backtesting/backtesting.py:954: UserWarning: time=2908: Broker canceled the relative-sized order due to insufficient margin.\n",
      "  warnings.warn(\n",
      "/Users/liantseng/Desktop/udemy/venv/lib/python3.13/site-packages/backtesting/backtesting.py:954: UserWarning: time=2968: Broker canceled the relative-sized order due to insufficient margin.\n",
      "  warnings.warn(\n",
      "/Users/liantseng/Desktop/udemy/venv/lib/python3.13/site-packages/backtesting/backtesting.py:954: UserWarning: time=2980: Broker canceled the relative-sized order due to insufficient margin.\n",
      "  warnings.warn(\n",
      "/Users/liantseng/Desktop/udemy/venv/lib/python3.13/site-packages/backtesting/backtesting.py:954: UserWarning: time=3024: Broker canceled the relative-sized order due to insufficient margin.\n",
      "  warnings.warn(\n",
      "/Users/liantseng/Desktop/udemy/venv/lib/python3.13/site-packages/backtesting/backtesting.py:954: UserWarning: time=2629: Broker canceled the relative-sized order due to insufficient margin.\n",
      "  warnings.warn(\n",
      "/Users/liantseng/Desktop/udemy/venv/lib/python3.13/site-packages/backtesting/backtesting.py:954: UserWarning: time=2719: Broker canceled the relative-sized order due to insufficient margin.\n",
      "  warnings.warn(\n",
      "/Users/liantseng/Desktop/udemy/venv/lib/python3.13/site-packages/backtesting/backtesting.py:954: UserWarning: time=2735: Broker canceled the relative-sized order due to insufficient margin.\n",
      "  warnings.warn(\n",
      "/Users/liantseng/Desktop/udemy/venv/lib/python3.13/site-packages/backtesting/backtesting.py:954: UserWarning: time=2748: Broker canceled the relative-sized order due to insufficient margin.\n",
      "  warnings.warn(\n",
      "/Users/liantseng/Desktop/udemy/venv/lib/python3.13/site-packages/backtesting/backtesting.py:954: UserWarning: time=2780: Broker canceled the relative-sized order due to insufficient margin.\n",
      "  warnings.warn(\n",
      "/Users/liantseng/Desktop/udemy/venv/lib/python3.13/site-packages/backtesting/backtesting.py:954: UserWarning: time=2871: Broker canceled the relative-sized order due to insufficient margin.\n",
      "  warnings.warn(\n",
      "/Users/liantseng/Desktop/udemy/venv/lib/python3.13/site-packages/backtesting/backtesting.py:954: UserWarning: time=2904: Broker canceled the relative-sized order due to insufficient margin.\n",
      "  warnings.warn(\n",
      "/Users/liantseng/Desktop/udemy/venv/lib/python3.13/site-packages/backtesting/backtesting.py:954: UserWarning: time=2963: Broker canceled the relative-sized order due to insufficient margin.\n",
      "  warnings.warn(\n",
      "/Users/liantseng/Desktop/udemy/venv/lib/python3.13/site-packages/backtesting/backtesting.py:954: UserWarning: time=2980: Broker canceled the relative-sized order due to insufficient margin.\n",
      "  warnings.warn(\n",
      "/Users/liantseng/Desktop/udemy/venv/lib/python3.13/site-packages/backtesting/backtesting.py:954: UserWarning: time=3019: Broker canceled the relative-sized order due to insufficient margin.\n",
      "  warnings.warn(\n",
      "/Users/liantseng/Desktop/udemy/venv/lib/python3.13/site-packages/backtesting/backtesting.py:954: UserWarning: time=3038: Broker canceled the relative-sized order due to insufficient margin.\n",
      "  warnings.warn(\n",
      "/Users/liantseng/Desktop/udemy/venv/lib/python3.13/site-packages/backtesting/backtesting.py:954: UserWarning: time=3043: Broker canceled the relative-sized order due to insufficient margin.\n",
      "  warnings.warn(\n",
      "/Users/liantseng/Desktop/udemy/venv/lib/python3.13/site-packages/backtesting/backtesting.py:954: UserWarning: time=3095: Broker canceled the relative-sized order due to insufficient margin.\n",
      "  warnings.warn(\n",
      "/Users/liantseng/Desktop/udemy/venv/lib/python3.13/site-packages/backtesting/backtesting.py:954: UserWarning: time=3100: Broker canceled the relative-sized order due to insufficient margin.\n",
      "  warnings.warn(\n",
      "/Users/liantseng/Desktop/udemy/venv/lib/python3.13/site-packages/backtesting/backtesting.py:954: UserWarning: time=3161: Broker canceled the relative-sized order due to insufficient margin.\n",
      "  warnings.warn(\n",
      "/Users/liantseng/Desktop/udemy/venv/lib/python3.13/site-packages/backtesting/backtesting.py:954: UserWarning: time=3202: Broker canceled the relative-sized order due to insufficient margin.\n",
      "  warnings.warn(\n",
      "/Users/liantseng/Desktop/udemy/venv/lib/python3.13/site-packages/backtesting/backtesting.py:954: UserWarning: time=3242: Broker canceled the relative-sized order due to insufficient margin.\n",
      "  warnings.warn(\n",
      "/Users/liantseng/Desktop/udemy/venv/lib/python3.13/site-packages/backtesting/backtesting.py:954: UserWarning: time=3302: Broker canceled the relative-sized order due to insufficient margin.\n",
      "  warnings.warn(\n",
      "/Users/liantseng/Desktop/udemy/venv/lib/python3.13/site-packages/backtesting/backtesting.py:954: UserWarning: time=3419: Broker canceled the relative-sized order due to insufficient margin.\n",
      "  warnings.warn(\n",
      "/Users/liantseng/Desktop/udemy/venv/lib/python3.13/site-packages/backtesting/backtesting.py:954: UserWarning: time=3421: Broker canceled the relative-sized order due to insufficient margin.\n",
      "  warnings.warn(\n",
      "/Users/liantseng/Desktop/udemy/venv/lib/python3.13/site-packages/backtesting/backtesting.py:954: UserWarning: time=3424: Broker canceled the relative-sized order due to insufficient margin.\n",
      "  warnings.warn(\n",
      "/Users/liantseng/Desktop/udemy/venv/lib/python3.13/site-packages/backtesting/backtesting.py:954: UserWarning: time=3440: Broker canceled the relative-sized order due to insufficient margin.\n",
      "  warnings.warn(\n",
      "/Users/liantseng/Desktop/udemy/venv/lib/python3.13/site-packages/backtesting/backtesting.py:954: UserWarning: time=3499: Broker canceled the relative-sized order due to insufficient margin.\n",
      "  warnings.warn(\n",
      "/Users/liantseng/Desktop/udemy/venv/lib/python3.13/site-packages/backtesting/backtesting.py:954: UserWarning: time=3541: Broker canceled the relative-sized order due to insufficient margin.\n",
      "  warnings.warn(\n",
      "/Users/liantseng/Desktop/udemy/venv/lib/python3.13/site-packages/backtesting/backtesting.py:954: UserWarning: time=3571: Broker canceled the relative-sized order due to insufficient margin.\n",
      "  warnings.warn(\n",
      "/Users/liantseng/Desktop/udemy/venv/lib/python3.13/site-packages/backtesting/backtesting.py:954: UserWarning: time=3607: Broker canceled the relative-sized order due to insufficient margin.\n",
      "  warnings.warn(\n",
      "/Users/liantseng/Desktop/udemy/venv/lib/python3.13/site-packages/backtesting/backtesting.py:954: UserWarning: time=3627: Broker canceled the relative-sized order due to insufficient margin.\n",
      "  warnings.warn(\n",
      "/Users/liantseng/Desktop/udemy/venv/lib/python3.13/site-packages/backtesting/backtesting.py:954: UserWarning: time=3652: Broker canceled the relative-sized order due to insufficient margin.\n",
      "  warnings.warn(\n",
      "/Users/liantseng/Desktop/udemy/venv/lib/python3.13/site-packages/backtesting/backtesting.py:954: UserWarning: time=3657: Broker canceled the relative-sized order due to insufficient margin.\n",
      "  warnings.warn(\n",
      "/Users/liantseng/Desktop/udemy/venv/lib/python3.13/site-packages/backtesting/backtesting.py:954: UserWarning: time=3670: Broker canceled the relative-sized order due to insufficient margin.\n",
      "  warnings.warn(\n",
      "/Users/liantseng/Desktop/udemy/venv/lib/python3.13/site-packages/backtesting/backtesting.py:954: UserWarning: time=3769: Broker canceled the relative-sized order due to insufficient margin.\n",
      "  warnings.warn(\n",
      "/Users/liantseng/Desktop/udemy/venv/lib/python3.13/site-packages/backtesting/backtesting.py:954: UserWarning: time=3786: Broker canceled the relative-sized order due to insufficient margin.\n",
      "  warnings.warn(\n",
      "/Users/liantseng/Desktop/udemy/venv/lib/python3.13/site-packages/backtesting/backtesting.py:954: UserWarning: time=3812: Broker canceled the relative-sized order due to insufficient margin.\n",
      "  warnings.warn(\n",
      "/Users/liantseng/Desktop/udemy/venv/lib/python3.13/site-packages/backtesting/backtesting.py:954: UserWarning: time=3869: Broker canceled the relative-sized order due to insufficient margin.\n",
      "  warnings.warn(\n",
      "/Users/liantseng/Desktop/udemy/venv/lib/python3.13/site-packages/backtesting/backtesting.py:954: UserWarning: time=3097: Broker canceled the relative-sized order due to insufficient margin.\n",
      "  warnings.warn(\n",
      "/Users/liantseng/Desktop/udemy/venv/lib/python3.13/site-packages/backtesting/backtesting.py:954: UserWarning: time=3104: Broker canceled the relative-sized order due to insufficient margin.\n",
      "  warnings.warn(\n",
      "/Users/liantseng/Desktop/udemy/venv/lib/python3.13/site-packages/backtesting/backtesting.py:954: UserWarning: time=3165: Broker canceled the relative-sized order due to insufficient margin.\n",
      "  warnings.warn(\n",
      "/Users/liantseng/Desktop/udemy/venv/lib/python3.13/site-packages/backtesting/backtesting.py:954: UserWarning: time=3205: Broker canceled the relative-sized order due to insufficient margin.\n",
      "  warnings.warn(\n",
      "/Users/liantseng/Desktop/udemy/venv/lib/python3.13/site-packages/backtesting/backtesting.py:954: UserWarning: time=3247: Broker canceled the relative-sized order due to insufficient margin.\n",
      "  warnings.warn(\n",
      "/Users/liantseng/Desktop/udemy/venv/lib/python3.13/site-packages/backtesting/backtesting.py:954: UserWarning: time=3306: Broker canceled the relative-sized order due to insufficient margin.\n",
      "  warnings.warn(\n",
      "/Users/liantseng/Desktop/udemy/venv/lib/python3.13/site-packages/backtesting/backtesting.py:954: UserWarning: time=3426: Broker canceled the relative-sized order due to insufficient margin.\n",
      "  warnings.warn(\n",
      "/Users/liantseng/Desktop/udemy/venv/lib/python3.13/site-packages/backtesting/backtesting.py:954: UserWarning: time=3429: Broker canceled the relative-sized order due to insufficient margin.\n",
      "  warnings.warn(\n",
      "/Users/liantseng/Desktop/udemy/venv/lib/python3.13/site-packages/backtesting/backtesting.py:954: UserWarning: time=3442: Broker canceled the relative-sized order due to insufficient margin.\n",
      "  warnings.warn(\n",
      "/Users/liantseng/Desktop/udemy/venv/lib/python3.13/site-packages/backtesting/backtesting.py:954: UserWarning: time=3503: Broker canceled the relative-sized order due to insufficient margin.\n",
      "  warnings.warn(\n",
      "/Users/liantseng/Desktop/udemy/venv/lib/python3.13/site-packages/backtesting/backtesting.py:954: UserWarning: time=3545: Broker canceled the relative-sized order due to insufficient margin.\n",
      "  warnings.warn(\n",
      "/Users/liantseng/Desktop/udemy/venv/lib/python3.13/site-packages/backtesting/backtesting.py:954: UserWarning: time=3575: Broker canceled the relative-sized order due to insufficient margin.\n",
      "  warnings.warn(\n",
      "/Users/liantseng/Desktop/udemy/venv/lib/python3.13/site-packages/backtesting/backtesting.py:954: UserWarning: time=3614: Broker canceled the relative-sized order due to insufficient margin.\n",
      "  warnings.warn(\n",
      "/Users/liantseng/Desktop/udemy/venv/lib/python3.13/site-packages/backtesting/backtesting.py:954: UserWarning: time=3632: Broker canceled the relative-sized order due to insufficient margin.\n",
      "  warnings.warn(\n",
      "/Users/liantseng/Desktop/udemy/venv/lib/python3.13/site-packages/backtesting/backtesting.py:954: UserWarning: time=3666: Broker canceled the relative-sized order due to insufficient margin.\n",
      "  warnings.warn(\n",
      "/Users/liantseng/Desktop/udemy/venv/lib/python3.13/site-packages/backtesting/backtesting.py:954: UserWarning: time=3673: Broker canceled the relative-sized order due to insufficient margin.\n",
      "  warnings.warn(\n",
      "/Users/liantseng/Desktop/udemy/venv/lib/python3.13/site-packages/backtesting/backtesting.py:954: UserWarning: time=3774: Broker canceled the relative-sized order due to insufficient margin.\n",
      "  warnings.warn(\n",
      "/Users/liantseng/Desktop/udemy/venv/lib/python3.13/site-packages/backtesting/backtesting.py:954: UserWarning: time=3791: Broker canceled the relative-sized order due to insufficient margin.\n",
      "  warnings.warn(\n",
      "/Users/liantseng/Desktop/udemy/venv/lib/python3.13/site-packages/backtesting/backtesting.py:954: UserWarning: time=3816: Broker canceled the relative-sized order due to insufficient margin.\n",
      "  warnings.warn(\n",
      "/Users/liantseng/Desktop/udemy/venv/lib/python3.13/site-packages/backtesting/backtesting.py:954: UserWarning: time=3872: Broker canceled the relative-sized order due to insufficient margin.\n",
      "  warnings.warn(\n",
      "/Users/liantseng/Desktop/udemy/venv/lib/python3.13/site-packages/backtesting/backtesting.py:954: UserWarning: time=938: Broker canceled the relative-sized order due to insufficient margin.\n",
      "  warnings.warn(\n",
      "/Users/liantseng/Desktop/udemy/venv/lib/python3.13/site-packages/backtesting/backtesting.py:954: UserWarning: time=957: Broker canceled the relative-sized order due to insufficient margin.\n",
      "  warnings.warn(\n",
      "/Users/liantseng/Desktop/udemy/venv/lib/python3.13/site-packages/backtesting/backtesting.py:954: UserWarning: time=1038: Broker canceled the relative-sized order due to insufficient margin.\n",
      "  warnings.warn(\n",
      "/Users/liantseng/Desktop/udemy/venv/lib/python3.13/site-packages/backtesting/backtesting.py:954: UserWarning: time=1056: Broker canceled the relative-sized order due to insufficient margin.\n",
      "  warnings.warn(\n",
      "/Users/liantseng/Desktop/udemy/venv/lib/python3.13/site-packages/backtesting/backtesting.py:954: UserWarning: time=1115: Broker canceled the relative-sized order due to insufficient margin.\n",
      "  warnings.warn(\n",
      "/Users/liantseng/Desktop/udemy/venv/lib/python3.13/site-packages/backtesting/backtesting.py:954: UserWarning: time=1131: Broker canceled the relative-sized order due to insufficient margin.\n",
      "  warnings.warn(\n",
      "/Users/liantseng/Desktop/udemy/venv/lib/python3.13/site-packages/backtesting/backtesting.py:954: UserWarning: time=1226: Broker canceled the relative-sized order due to insufficient margin.\n",
      "  warnings.warn(\n",
      "/Users/liantseng/Desktop/udemy/venv/lib/python3.13/site-packages/backtesting/backtesting.py:954: UserWarning: time=1281: Broker canceled the relative-sized order due to insufficient margin.\n",
      "  warnings.warn(\n",
      "/Users/liantseng/Desktop/udemy/venv/lib/python3.13/site-packages/backtesting/backtesting.py:954: UserWarning: time=1293: Broker canceled the relative-sized order due to insufficient margin.\n",
      "  warnings.warn(\n",
      "/Users/liantseng/Desktop/udemy/venv/lib/python3.13/site-packages/backtesting/backtesting.py:954: UserWarning: time=1331: Broker canceled the relative-sized order due to insufficient margin.\n",
      "  warnings.warn(\n",
      "/Users/liantseng/Desktop/udemy/venv/lib/python3.13/site-packages/backtesting/backtesting.py:954: UserWarning: time=1358: Broker canceled the relative-sized order due to insufficient margin.\n",
      "  warnings.warn(\n",
      "/Users/liantseng/Desktop/udemy/venv/lib/python3.13/site-packages/backtesting/backtesting.py:954: UserWarning: time=1414: Broker canceled the relative-sized order due to insufficient margin.\n",
      "  warnings.warn(\n",
      "/Users/liantseng/Desktop/udemy/venv/lib/python3.13/site-packages/backtesting/backtesting.py:954: UserWarning: time=1447: Broker canceled the relative-sized order due to insufficient margin.\n",
      "  warnings.warn(\n",
      "/Users/liantseng/Desktop/udemy/venv/lib/python3.13/site-packages/backtesting/backtesting.py:954: UserWarning: time=1470: Broker canceled the relative-sized order due to insufficient margin.\n",
      "  warnings.warn(\n",
      "/Users/liantseng/Desktop/udemy/venv/lib/python3.13/site-packages/backtesting/backtesting.py:954: UserWarning: time=1484: Broker canceled the relative-sized order due to insufficient margin.\n",
      "  warnings.warn(\n",
      "/Users/liantseng/Desktop/udemy/venv/lib/python3.13/site-packages/backtesting/backtesting.py:954: UserWarning: time=1503: Broker canceled the relative-sized order due to insufficient margin.\n",
      "  warnings.warn(\n",
      "/Users/liantseng/Desktop/udemy/venv/lib/python3.13/site-packages/backtesting/backtesting.py:954: UserWarning: time=1509: Broker canceled the relative-sized order due to insufficient margin.\n",
      "  warnings.warn(\n",
      "/Users/liantseng/Desktop/udemy/venv/lib/python3.13/site-packages/backtesting/backtesting.py:954: UserWarning: time=1589: Broker canceled the relative-sized order due to insufficient margin.\n",
      "  warnings.warn(\n",
      "/Users/liantseng/Desktop/udemy/venv/lib/python3.13/site-packages/backtesting/backtesting.py:954: UserWarning: time=1603: Broker canceled the relative-sized order due to insufficient margin.\n",
      "  warnings.warn(\n",
      "/Users/liantseng/Desktop/udemy/venv/lib/python3.13/site-packages/backtesting/backtesting.py:954: UserWarning: time=1630: Broker canceled the relative-sized order due to insufficient margin.\n",
      "  warnings.warn(\n",
      "/Users/liantseng/Desktop/udemy/venv/lib/python3.13/site-packages/backtesting/backtesting.py:954: UserWarning: time=1790: Broker canceled the relative-sized order due to insufficient margin.\n",
      "  warnings.warn(\n",
      "/Users/liantseng/Desktop/udemy/venv/lib/python3.13/site-packages/backtesting/backtesting.py:954: UserWarning: time=1814: Broker canceled the relative-sized order due to insufficient margin.\n",
      "  warnings.warn(\n",
      "/Users/liantseng/Desktop/udemy/venv/lib/python3.13/site-packages/backtesting/backtesting.py:954: UserWarning: time=1827: Broker canceled the relative-sized order due to insufficient margin.\n",
      "  warnings.warn(\n",
      "/Users/liantseng/Desktop/udemy/venv/lib/python3.13/site-packages/backtesting/backtesting.py:954: UserWarning: time=1885: Broker canceled the relative-sized order due to insufficient margin.\n",
      "  warnings.warn(\n",
      "/Users/liantseng/Desktop/udemy/venv/lib/python3.13/site-packages/backtesting/backtesting.py:954: UserWarning: time=1908: Broker canceled the relative-sized order due to insufficient margin.\n",
      "  warnings.warn(\n",
      "/Users/liantseng/Desktop/udemy/venv/lib/python3.13/site-packages/backtesting/backtesting.py:954: UserWarning: time=1945: Broker canceled the relative-sized order due to insufficient margin.\n",
      "  warnings.warn(\n",
      "/Users/liantseng/Desktop/udemy/venv/lib/python3.13/site-packages/backtesting/backtesting.py:954: UserWarning: time=2007: Broker canceled the relative-sized order due to insufficient margin.\n",
      "  warnings.warn(\n",
      "/Users/liantseng/Desktop/udemy/venv/lib/python3.13/site-packages/backtesting/backtesting.py:954: UserWarning: time=2051: Broker canceled the relative-sized order due to insufficient margin.\n",
      "  warnings.warn(\n",
      "/Users/liantseng/Desktop/udemy/venv/lib/python3.13/site-packages/backtesting/backtesting.py:954: UserWarning: time=2129: Broker canceled the relative-sized order due to insufficient margin.\n",
      "  warnings.warn(\n",
      "/Users/liantseng/Desktop/udemy/venv/lib/python3.13/site-packages/backtesting/backtesting.py:954: UserWarning: time=2145: Broker canceled the relative-sized order due to insufficient margin.\n",
      "  warnings.warn(\n",
      "/Users/liantseng/Desktop/udemy/venv/lib/python3.13/site-packages/backtesting/backtesting.py:954: UserWarning: time=2194: Broker canceled the relative-sized order due to insufficient margin.\n",
      "  warnings.warn(\n",
      "/Users/liantseng/Desktop/udemy/venv/lib/python3.13/site-packages/backtesting/backtesting.py:954: UserWarning: time=2226: Broker canceled the relative-sized order due to insufficient margin.\n",
      "  warnings.warn(\n",
      "/Users/liantseng/Desktop/udemy/venv/lib/python3.13/site-packages/backtesting/backtesting.py:954: UserWarning: time=2418: Broker canceled the relative-sized order due to insufficient margin.\n",
      "  warnings.warn(\n",
      "/Users/liantseng/Desktop/udemy/venv/lib/python3.13/site-packages/backtesting/backtesting.py:954: UserWarning: time=2422: Broker canceled the relative-sized order due to insufficient margin.\n",
      "  warnings.warn(\n",
      "/Users/liantseng/Desktop/udemy/venv/lib/python3.13/site-packages/backtesting/backtesting.py:954: UserWarning: time=2432: Broker canceled the relative-sized order due to insufficient margin.\n",
      "  warnings.warn(\n",
      "/Users/liantseng/Desktop/udemy/venv/lib/python3.13/site-packages/backtesting/backtesting.py:954: UserWarning: time=2517: Broker canceled the relative-sized order due to insufficient margin.\n",
      "  warnings.warn(\n",
      "/Users/liantseng/Desktop/udemy/venv/lib/python3.13/site-packages/backtesting/backtesting.py:954: UserWarning: time=2573: Broker canceled the relative-sized order due to insufficient margin.\n",
      "  warnings.warn(\n",
      "/Users/liantseng/Desktop/udemy/venv/lib/python3.13/site-packages/backtesting/backtesting.py:954: UserWarning: time=2588: Broker canceled the relative-sized order due to insufficient margin.\n",
      "  warnings.warn(\n",
      "/Users/liantseng/Desktop/udemy/venv/lib/python3.13/site-packages/backtesting/backtesting.py:954: UserWarning: time=2636: Broker canceled the relative-sized order due to insufficient margin.\n",
      "  warnings.warn(\n",
      "/Users/liantseng/Desktop/udemy/venv/lib/python3.13/site-packages/backtesting/backtesting.py:954: UserWarning: time=2729: Broker canceled the relative-sized order due to insufficient margin.\n",
      "  warnings.warn(\n",
      "/Users/liantseng/Desktop/udemy/venv/lib/python3.13/site-packages/backtesting/backtesting.py:954: UserWarning: time=2745: Broker canceled the relative-sized order due to insufficient margin.\n",
      "  warnings.warn(\n",
      "/Users/liantseng/Desktop/udemy/venv/lib/python3.13/site-packages/backtesting/backtesting.py:954: UserWarning: time=2756: Broker canceled the relative-sized order due to insufficient margin.\n",
      "  warnings.warn(\n",
      "/Users/liantseng/Desktop/udemy/venv/lib/python3.13/site-packages/backtesting/backtesting.py:954: UserWarning: time=2789: Broker canceled the relative-sized order due to insufficient margin.\n",
      "  warnings.warn(\n",
      "/Users/liantseng/Desktop/udemy/venv/lib/python3.13/site-packages/backtesting/backtesting.py:954: UserWarning: time=2880: Broker canceled the relative-sized order due to insufficient margin.\n",
      "  warnings.warn(\n",
      "/Users/liantseng/Desktop/udemy/venv/lib/python3.13/site-packages/backtesting/backtesting.py:954: UserWarning: time=2912: Broker canceled the relative-sized order due to insufficient margin.\n",
      "  warnings.warn(\n",
      "/Users/liantseng/Desktop/udemy/venv/lib/python3.13/site-packages/backtesting/backtesting.py:954: UserWarning: time=2972: Broker canceled the relative-sized order due to insufficient margin.\n",
      "  warnings.warn(\n",
      "/Users/liantseng/Desktop/udemy/venv/lib/python3.13/site-packages/backtesting/backtesting.py:954: UserWarning: time=2982: Broker canceled the relative-sized order due to insufficient margin.\n",
      "  warnings.warn(\n",
      "/Users/liantseng/Desktop/udemy/venv/lib/python3.13/site-packages/backtesting/backtesting.py:954: UserWarning: time=3029: Broker canceled the relative-sized order due to insufficient margin.\n",
      "  warnings.warn(\n",
      "/Users/liantseng/Desktop/udemy/venv/lib/python3.13/site-packages/backtesting/backtesting.py:954: UserWarning: time=3102: Broker canceled the relative-sized order due to insufficient margin.\n",
      "  warnings.warn(\n",
      "/Users/liantseng/Desktop/udemy/venv/lib/python3.13/site-packages/backtesting/backtesting.py:954: UserWarning: time=3105: Broker canceled the relative-sized order due to insufficient margin.\n",
      "  warnings.warn(\n",
      "/Users/liantseng/Desktop/udemy/venv/lib/python3.13/site-packages/backtesting/backtesting.py:954: UserWarning: time=3170: Broker canceled the relative-sized order due to insufficient margin.\n",
      "  warnings.warn(\n",
      "/Users/liantseng/Desktop/udemy/venv/lib/python3.13/site-packages/backtesting/backtesting.py:954: UserWarning: time=3208: Broker canceled the relative-sized order due to insufficient margin.\n",
      "  warnings.warn(\n",
      "/Users/liantseng/Desktop/udemy/venv/lib/python3.13/site-packages/backtesting/backtesting.py:954: UserWarning: time=3252: Broker canceled the relative-sized order due to insufficient margin.\n",
      "  warnings.warn(\n",
      "/Users/liantseng/Desktop/udemy/venv/lib/python3.13/site-packages/backtesting/backtesting.py:954: UserWarning: time=3310: Broker canceled the relative-sized order due to insufficient margin.\n",
      "  warnings.warn(\n",
      "/Users/liantseng/Desktop/udemy/venv/lib/python3.13/site-packages/backtesting/backtesting.py:954: UserWarning: time=3431: Broker canceled the relative-sized order due to insufficient margin.\n",
      "  warnings.warn(\n",
      "/Users/liantseng/Desktop/udemy/venv/lib/python3.13/site-packages/backtesting/backtesting.py:954: UserWarning: time=3507: Broker canceled the relative-sized order due to insufficient margin.\n",
      "  warnings.warn(\n",
      "/Users/liantseng/Desktop/udemy/venv/lib/python3.13/site-packages/backtesting/backtesting.py:954: UserWarning: time=3549: Broker canceled the relative-sized order due to insufficient margin.\n",
      "  warnings.warn(\n",
      "/Users/liantseng/Desktop/udemy/venv/lib/python3.13/site-packages/backtesting/backtesting.py:954: UserWarning: time=3579: Broker canceled the relative-sized order due to insufficient margin.\n",
      "  warnings.warn(\n",
      "/Users/liantseng/Desktop/udemy/venv/lib/python3.13/site-packages/backtesting/backtesting.py:954: UserWarning: time=3619: Broker canceled the relative-sized order due to insufficient margin.\n",
      "  warnings.warn(\n",
      "/Users/liantseng/Desktop/udemy/venv/lib/python3.13/site-packages/backtesting/backtesting.py:954: UserWarning: time=3637: Broker canceled the relative-sized order due to insufficient margin.\n",
      "  warnings.warn(\n",
      "/Users/liantseng/Desktop/udemy/venv/lib/python3.13/site-packages/backtesting/backtesting.py:954: UserWarning: time=3661: Broker canceled the relative-sized order due to insufficient margin.\n",
      "  warnings.warn(\n",
      "/Users/liantseng/Desktop/udemy/venv/lib/python3.13/site-packages/backtesting/backtesting.py:954: UserWarning: time=3672: Broker canceled the relative-sized order due to insufficient margin.\n",
      "  warnings.warn(\n",
      "/Users/liantseng/Desktop/udemy/venv/lib/python3.13/site-packages/backtesting/backtesting.py:954: UserWarning: time=3674: Broker canceled the relative-sized order due to insufficient margin.\n",
      "  warnings.warn(\n",
      "/Users/liantseng/Desktop/udemy/venv/lib/python3.13/site-packages/backtesting/backtesting.py:954: UserWarning: time=3676: Broker canceled the relative-sized order due to insufficient margin.\n",
      "  warnings.warn(\n",
      "/Users/liantseng/Desktop/udemy/venv/lib/python3.13/site-packages/backtesting/backtesting.py:954: UserWarning: time=3678: Broker canceled the relative-sized order due to insufficient margin.\n",
      "  warnings.warn(\n",
      "/Users/liantseng/Desktop/udemy/venv/lib/python3.13/site-packages/backtesting/backtesting.py:954: UserWarning: time=3781: Broker canceled the relative-sized order due to insufficient margin.\n",
      "  warnings.warn(\n",
      "/Users/liantseng/Desktop/udemy/venv/lib/python3.13/site-packages/backtesting/backtesting.py:954: UserWarning: time=3796: Broker canceled the relative-sized order due to insufficient margin.\n",
      "  warnings.warn(\n",
      "/Users/liantseng/Desktop/udemy/venv/lib/python3.13/site-packages/backtesting/backtesting.py:954: UserWarning: time=3818: Broker canceled the relative-sized order due to insufficient margin.\n",
      "  warnings.warn(\n",
      "/Users/liantseng/Desktop/udemy/venv/lib/python3.13/site-packages/backtesting/backtesting.py:954: UserWarning: time=3875: Broker canceled the relative-sized order due to insufficient margin.\n",
      "  warnings.warn(\n",
      "/Users/liantseng/Desktop/udemy/venv/lib/python3.13/site-packages/backtesting/backtesting.py:954: UserWarning: time=1025: Broker canceled the relative-sized order due to insufficient margin.\n",
      "  warnings.warn(\n",
      "/Users/liantseng/Desktop/udemy/venv/lib/python3.13/site-packages/backtesting/backtesting.py:954: UserWarning: time=1053: Broker canceled the relative-sized order due to insufficient margin.\n",
      "  warnings.warn(\n",
      "/Users/liantseng/Desktop/udemy/venv/lib/python3.13/site-packages/backtesting/backtesting.py:954: UserWarning: time=1101: Broker canceled the relative-sized order due to insufficient margin.\n",
      "  warnings.warn(\n",
      "/Users/liantseng/Desktop/udemy/venv/lib/python3.13/site-packages/backtesting/backtesting.py:954: UserWarning: time=1121: Broker canceled the relative-sized order due to insufficient margin.\n",
      "  warnings.warn(\n",
      "/Users/liantseng/Desktop/udemy/venv/lib/python3.13/site-packages/backtesting/backtesting.py:954: UserWarning: time=1213: Broker canceled the relative-sized order due to insufficient margin.\n",
      "  warnings.warn(\n",
      "/Users/liantseng/Desktop/udemy/venv/lib/python3.13/site-packages/backtesting/backtesting.py:954: UserWarning: time=1265: Broker canceled the relative-sized order due to insufficient margin.\n",
      "  warnings.warn(\n",
      "/Users/liantseng/Desktop/udemy/venv/lib/python3.13/site-packages/backtesting/backtesting.py:954: UserWarning: time=1320: Broker canceled the relative-sized order due to insufficient margin.\n",
      "  warnings.warn(\n",
      "/Users/liantseng/Desktop/udemy/venv/lib/python3.13/site-packages/backtesting/backtesting.py:954: UserWarning: time=1346: Broker canceled the relative-sized order due to insufficient margin.\n",
      "  warnings.warn(\n",
      "/Users/liantseng/Desktop/udemy/venv/lib/python3.13/site-packages/backtesting/backtesting.py:954: UserWarning: time=1403: Broker canceled the relative-sized order due to insufficient margin.\n",
      "  warnings.warn(\n",
      "/Users/liantseng/Desktop/udemy/venv/lib/python3.13/site-packages/backtesting/backtesting.py:954: UserWarning: time=1433: Broker canceled the relative-sized order due to insufficient margin.\n",
      "  warnings.warn(\n",
      "/Users/liantseng/Desktop/udemy/venv/lib/python3.13/site-packages/backtesting/backtesting.py:954: UserWarning: time=1455: Broker canceled the relative-sized order due to insufficient margin.\n",
      "  warnings.warn(\n",
      "/Users/liantseng/Desktop/udemy/venv/lib/python3.13/site-packages/backtesting/backtesting.py:954: UserWarning: time=1469: Broker canceled the relative-sized order due to insufficient margin.\n",
      "  warnings.warn(\n",
      "/Users/liantseng/Desktop/udemy/venv/lib/python3.13/site-packages/backtesting/backtesting.py:954: UserWarning: time=1487: Broker canceled the relative-sized order due to insufficient margin.\n",
      "  warnings.warn(\n",
      "/Users/liantseng/Desktop/udemy/venv/lib/python3.13/site-packages/backtesting/backtesting.py:954: UserWarning: time=1497: Broker canceled the relative-sized order due to insufficient margin.\n",
      "  warnings.warn(\n",
      "/Users/liantseng/Desktop/udemy/venv/lib/python3.13/site-packages/backtesting/backtesting.py:954: UserWarning: time=1574: Broker canceled the relative-sized order due to insufficient margin.\n",
      "  warnings.warn(\n",
      "/Users/liantseng/Desktop/udemy/venv/lib/python3.13/site-packages/backtesting/backtesting.py:954: UserWarning: time=1590: Broker canceled the relative-sized order due to insufficient margin.\n",
      "  warnings.warn(\n",
      "/Users/liantseng/Desktop/udemy/venv/lib/python3.13/site-packages/backtesting/backtesting.py:954: UserWarning: time=1620: Broker canceled the relative-sized order due to insufficient margin.\n",
      "  warnings.warn(\n",
      "/Users/liantseng/Desktop/udemy/venv/lib/python3.13/site-packages/backtesting/backtesting.py:954: UserWarning: time=1775: Broker canceled the relative-sized order due to insufficient margin.\n",
      "  warnings.warn(\n",
      "/Users/liantseng/Desktop/udemy/venv/lib/python3.13/site-packages/backtesting/backtesting.py:954: UserWarning: time=1797: Broker canceled the relative-sized order due to insufficient margin.\n",
      "  warnings.warn(\n",
      "/Users/liantseng/Desktop/udemy/venv/lib/python3.13/site-packages/backtesting/backtesting.py:954: UserWarning: time=1812: Broker canceled the relative-sized order due to insufficient margin.\n",
      "  warnings.warn(\n",
      "/Users/liantseng/Desktop/udemy/venv/lib/python3.13/site-packages/backtesting/backtesting.py:954: UserWarning: time=1872: Broker canceled the relative-sized order due to insufficient margin.\n",
      "  warnings.warn(\n",
      "/Users/liantseng/Desktop/udemy/venv/lib/python3.13/site-packages/backtesting/backtesting.py:954: UserWarning: time=1897: Broker canceled the relative-sized order due to insufficient margin.\n",
      "  warnings.warn(\n",
      "/Users/liantseng/Desktop/udemy/venv/lib/python3.13/site-packages/backtesting/backtesting.py:954: UserWarning: time=1941: Broker canceled the relative-sized order due to insufficient margin.\n",
      "  warnings.warn(\n",
      "/Users/liantseng/Desktop/udemy/venv/lib/python3.13/site-packages/backtesting/backtesting.py:954: UserWarning: time=1998: Broker canceled the relative-sized order due to insufficient margin.\n",
      "  warnings.warn(\n",
      "/Users/liantseng/Desktop/udemy/venv/lib/python3.13/site-packages/backtesting/backtesting.py:954: UserWarning: time=2037: Broker canceled the relative-sized order due to insufficient margin.\n",
      "  warnings.warn(\n",
      "/Users/liantseng/Desktop/udemy/venv/lib/python3.13/site-packages/backtesting/backtesting.py:954: UserWarning: time=2115: Broker canceled the relative-sized order due to insufficient margin.\n",
      "  warnings.warn(\n",
      "/Users/liantseng/Desktop/udemy/venv/lib/python3.13/site-packages/backtesting/backtesting.py:954: UserWarning: time=2141: Broker canceled the relative-sized order due to insufficient margin.\n",
      "  warnings.warn(\n",
      "/Users/liantseng/Desktop/udemy/venv/lib/python3.13/site-packages/backtesting/backtesting.py:954: UserWarning: time=2183: Broker canceled the relative-sized order due to insufficient margin.\n",
      "  warnings.warn(\n",
      "/Users/liantseng/Desktop/udemy/venv/lib/python3.13/site-packages/backtesting/backtesting.py:954: UserWarning: time=2214: Broker canceled the relative-sized order due to insufficient margin.\n",
      "  warnings.warn(\n",
      "/Users/liantseng/Desktop/udemy/venv/lib/python3.13/site-packages/backtesting/backtesting.py:954: UserWarning: time=2337: Broker canceled the relative-sized order due to insufficient margin.\n",
      "  warnings.warn(\n",
      "/Users/liantseng/Desktop/udemy/venv/lib/python3.13/site-packages/backtesting/backtesting.py:954: UserWarning: time=2341: Broker canceled the relative-sized order due to insufficient margin.\n",
      "  warnings.warn(\n",
      "/Users/liantseng/Desktop/udemy/venv/lib/python3.13/site-packages/backtesting/backtesting.py:954: UserWarning: time=2419: Broker canceled the relative-sized order due to insufficient margin.\n",
      "  warnings.warn(\n",
      "/Users/liantseng/Desktop/udemy/venv/lib/python3.13/site-packages/backtesting/backtesting.py:954: UserWarning: time=2509: Broker canceled the relative-sized order due to insufficient margin.\n",
      "  warnings.warn(\n",
      "/Users/liantseng/Desktop/udemy/venv/lib/python3.13/site-packages/backtesting/backtesting.py:954: UserWarning: time=2562: Broker canceled the relative-sized order due to insufficient margin.\n",
      "  warnings.warn(\n",
      "/Users/liantseng/Desktop/udemy/venv/lib/python3.13/site-packages/backtesting/backtesting.py:954: UserWarning: time=2583: Broker canceled the relative-sized order due to insufficient margin.\n",
      "  warnings.warn(\n",
      "/Users/liantseng/Desktop/udemy/venv/lib/python3.13/site-packages/backtesting/backtesting.py:954: UserWarning: time=2626: Broker canceled the relative-sized order due to insufficient margin.\n",
      "  warnings.warn(\n",
      "/Users/liantseng/Desktop/udemy/venv/lib/python3.13/site-packages/backtesting/backtesting.py:954: UserWarning: time=2713: Broker canceled the relative-sized order due to insufficient margin.\n",
      "  warnings.warn(\n",
      "/Users/liantseng/Desktop/udemy/venv/lib/python3.13/site-packages/backtesting/backtesting.py:954: UserWarning: time=2730: Broker canceled the relative-sized order due to insufficient margin.\n",
      "  warnings.warn(\n",
      "/Users/liantseng/Desktop/udemy/venv/lib/python3.13/site-packages/backtesting/backtesting.py:954: UserWarning: time=2776: Broker canceled the relative-sized order due to insufficient margin.\n",
      "  warnings.warn(\n",
      "/Users/liantseng/Desktop/udemy/venv/lib/python3.13/site-packages/backtesting/backtesting.py:954: UserWarning: time=2867: Broker canceled the relative-sized order due to insufficient margin.\n",
      "  warnings.warn(\n",
      "/Users/liantseng/Desktop/udemy/venv/lib/python3.13/site-packages/backtesting/backtesting.py:954: UserWarning: time=2901: Broker canceled the relative-sized order due to insufficient margin.\n",
      "  warnings.warn(\n",
      "/Users/liantseng/Desktop/udemy/venv/lib/python3.13/site-packages/backtesting/backtesting.py:954: UserWarning: time=2959: Broker canceled the relative-sized order due to insufficient margin.\n",
      "  warnings.warn(\n",
      "/Users/liantseng/Desktop/udemy/venv/lib/python3.13/site-packages/backtesting/backtesting.py:954: UserWarning: time=2983: Broker canceled the relative-sized order due to insufficient margin.\n",
      "  warnings.warn(\n",
      "/Users/liantseng/Desktop/udemy/venv/lib/python3.13/site-packages/backtesting/backtesting.py:954: UserWarning: time=3014: Broker canceled the relative-sized order due to insufficient margin.\n",
      "  warnings.warn(\n",
      "/Users/liantseng/Desktop/udemy/venv/lib/python3.13/site-packages/backtesting/backtesting.py:954: UserWarning: time=3032: Broker canceled the relative-sized order due to insufficient margin.\n",
      "  warnings.warn(\n",
      "/Users/liantseng/Desktop/udemy/venv/lib/python3.13/site-packages/backtesting/backtesting.py:954: UserWarning: time=3042: Broker canceled the relative-sized order due to insufficient margin.\n",
      "  warnings.warn(\n",
      "/Users/liantseng/Desktop/udemy/venv/lib/python3.13/site-packages/backtesting/backtesting.py:954: UserWarning: time=3157: Broker canceled the relative-sized order due to insufficient margin.\n",
      "  warnings.warn(\n",
      "/Users/liantseng/Desktop/udemy/venv/lib/python3.13/site-packages/backtesting/backtesting.py:954: UserWarning: time=3203: Broker canceled the relative-sized order due to insufficient margin.\n",
      "  warnings.warn(\n",
      "/Users/liantseng/Desktop/udemy/venv/lib/python3.13/site-packages/backtesting/backtesting.py:954: UserWarning: time=3237: Broker canceled the relative-sized order due to insufficient margin.\n",
      "  warnings.warn(\n",
      "/Users/liantseng/Desktop/udemy/venv/lib/python3.13/site-packages/backtesting/backtesting.py:954: UserWarning: time=3298: Broker canceled the relative-sized order due to insufficient margin.\n",
      "  warnings.warn(\n",
      "/Users/liantseng/Desktop/udemy/venv/lib/python3.13/site-packages/backtesting/backtesting.py:954: UserWarning: time=3438: Broker canceled the relative-sized order due to insufficient margin.\n",
      "  warnings.warn(\n",
      "/Users/liantseng/Desktop/udemy/venv/lib/python3.13/site-packages/backtesting/backtesting.py:954: UserWarning: time=3495: Broker canceled the relative-sized order due to insufficient margin.\n",
      "  warnings.warn(\n",
      "/Users/liantseng/Desktop/udemy/venv/lib/python3.13/site-packages/backtesting/backtesting.py:954: UserWarning: time=3497: Broker canceled the relative-sized order due to insufficient margin.\n",
      "  warnings.warn(\n",
      "/Users/liantseng/Desktop/udemy/venv/lib/python3.13/site-packages/backtesting/backtesting.py:954: UserWarning: time=3498: Broker canceled the relative-sized order due to insufficient margin.\n",
      "  warnings.warn(\n",
      "/Users/liantseng/Desktop/udemy/venv/lib/python3.13/site-packages/backtesting/backtesting.py:954: UserWarning: time=3501: Broker canceled the relative-sized order due to insufficient margin.\n",
      "  warnings.warn(\n",
      "/Users/liantseng/Desktop/udemy/venv/lib/python3.13/site-packages/backtesting/backtesting.py:954: UserWarning: time=3538: Broker canceled the relative-sized order due to insufficient margin.\n",
      "  warnings.warn(\n",
      "/Users/liantseng/Desktop/udemy/venv/lib/python3.13/site-packages/backtesting/backtesting.py:954: UserWarning: time=3567: Broker canceled the relative-sized order due to insufficient margin.\n",
      "  warnings.warn(\n",
      "/Users/liantseng/Desktop/udemy/venv/lib/python3.13/site-packages/backtesting/backtesting.py:954: UserWarning: time=3603: Broker canceled the relative-sized order due to insufficient margin.\n",
      "  warnings.warn(\n",
      "/Users/liantseng/Desktop/udemy/venv/lib/python3.13/site-packages/backtesting/backtesting.py:954: UserWarning: time=3622: Broker canceled the relative-sized order due to insufficient margin.\n",
      "  warnings.warn(\n",
      "/Users/liantseng/Desktop/udemy/venv/lib/python3.13/site-packages/backtesting/backtesting.py:954: UserWarning: time=3647: Broker canceled the relative-sized order due to insufficient margin.\n",
      "  warnings.warn(\n",
      "/Users/liantseng/Desktop/udemy/venv/lib/python3.13/site-packages/backtesting/backtesting.py:954: UserWarning: time=3651: Broker canceled the relative-sized order due to insufficient margin.\n",
      "  warnings.warn(\n",
      "/Users/liantseng/Desktop/udemy/venv/lib/python3.13/site-packages/backtesting/backtesting.py:954: UserWarning: time=3766: Broker canceled the relative-sized order due to insufficient margin.\n",
      "  warnings.warn(\n",
      "/Users/liantseng/Desktop/udemy/venv/lib/python3.13/site-packages/backtesting/backtesting.py:954: UserWarning: time=3782: Broker canceled the relative-sized order due to insufficient margin.\n",
      "  warnings.warn(\n",
      "/Users/liantseng/Desktop/udemy/venv/lib/python3.13/site-packages/backtesting/backtesting.py:954: UserWarning: time=3807: Broker canceled the relative-sized order due to insufficient margin.\n",
      "  warnings.warn(\n",
      "/Users/liantseng/Desktop/udemy/venv/lib/python3.13/site-packages/backtesting/backtesting.py:954: UserWarning: time=3865: Broker canceled the relative-sized order due to insufficient margin.\n",
      "  warnings.warn(\n",
      "/Users/liantseng/Desktop/udemy/venv/lib/python3.13/site-packages/backtesting/backtesting.py:954: UserWarning: time=3867: Broker canceled the relative-sized order due to insufficient margin.\n",
      "  warnings.warn(\n",
      "/Users/liantseng/Desktop/udemy/venv/lib/python3.13/site-packages/backtesting/backtesting.py:954: UserWarning: time=3874: Broker canceled the relative-sized order due to insufficient margin.\n",
      "  warnings.warn(\n",
      "/Users/liantseng/Desktop/udemy/venv/lib/python3.13/site-packages/backtesting/_stats.py:155: RuntimeWarning: divide by zero encountered in log\n",
      "  equity_log_returns = np.log(equity[1:] / equity[:-1])\n",
      "/Users/liantseng/Desktop/udemy/venv/lib/python3.13/site-packages/backtesting/_stats.py:155: RuntimeWarning: divide by zero encountered in log\n",
      "  equity_log_returns = np.log(equity[1:] / equity[:-1])\n",
      "/Users/liantseng/Desktop/udemy/venv/lib/python3.13/site-packages/backtesting/_stats.py:155: RuntimeWarning: divide by zero encountered in log\n",
      "  equity_log_returns = np.log(equity[1:] / equity[:-1])\n",
      "/Users/liantseng/Desktop/udemy/venv/lib/python3.13/site-packages/backtesting/_stats.py:155: RuntimeWarning: divide by zero encountered in log\n",
      "  equity_log_returns = np.log(equity[1:] / equity[:-1])\n"
     ]
    },
    {
     "data": {
      "application/vnd.jupyter.widget-view+json": {
       "model_id": "c36d872c3fc648b99610b7a71568acb8",
       "version_major": 2,
       "version_minor": 0
      },
      "text/plain": [
       "Backtest.run:   0%|          | 0/3888 [00:00<?, ?bar/s]"
      ]
     },
     "metadata": {},
     "output_type": "display_data"
    },
    {
     "data": {
      "application/vnd.jupyter.widget-view+json": {
       "model_id": "79b63674a5aa4870ae441b57bb28c284",
       "version_major": 2,
       "version_minor": 0
      },
      "text/plain": [
       "Backtest.run:   0%|          | 0/3898 [00:00<?, ?bar/s]"
      ]
     },
     "metadata": {},
     "output_type": "display_data"
    },
    {
     "data": {
      "application/vnd.jupyter.widget-view+json": {
       "model_id": "7581adcb755149119386026b33cae5fe",
       "version_major": 2,
       "version_minor": 0
      },
      "text/plain": [
       "Backtest.run:   0%|          | 0/3878 [00:00<?, ?bar/s]"
      ]
     },
     "metadata": {},
     "output_type": "display_data"
    },
    {
     "data": {
      "application/vnd.jupyter.widget-view+json": {
       "model_id": "1ac21ab96b134696ab63c4650c3b7b84",
       "version_major": 2,
       "version_minor": 0
      },
      "text/plain": [
       "Backtest.run:   0%|          | 0/3873 [00:00<?, ?bar/s]"
      ]
     },
     "metadata": {},
     "output_type": "display_data"
    },
    {
     "data": {
      "application/vnd.jupyter.widget-view+json": {
       "model_id": "10b72b1fd7f34e8bbda1cfa494a55b14",
       "version_major": 2,
       "version_minor": 0
      },
      "text/plain": [
       "Backtest.run:   0%|          | 0/3883 [00:00<?, ?bar/s]"
      ]
     },
     "metadata": {},
     "output_type": "display_data"
    },
    {
     "data": {
      "application/vnd.jupyter.widget-view+json": {
       "model_id": "c281195059a346fcab236d047378aa86",
       "version_major": 2,
       "version_minor": 0
      },
      "text/plain": [
       "Backtest.run:   0%|          | 0/3863 [00:00<?, ?bar/s]"
      ]
     },
     "metadata": {},
     "output_type": "display_data"
    },
    {
     "data": {
      "application/vnd.jupyter.widget-view+json": {
       "model_id": "729148e2b7fe43e9b123c363ea691589",
       "version_major": 2,
       "version_minor": 0
      },
      "text/plain": [
       "Backtest.run:   0%|          | 0/3868 [00:00<?, ?bar/s]"
      ]
     },
     "metadata": {},
     "output_type": "display_data"
    },
    {
     "data": {
      "application/vnd.jupyter.widget-view+json": {
       "model_id": "605e67dcea8b4d789c78cd9fba8cc658",
       "version_major": 2,
       "version_minor": 0
      },
      "text/plain": [
       "Backtest.run:   0%|          | 0/3858 [00:00<?, ?bar/s]"
      ]
     },
     "metadata": {},
     "output_type": "display_data"
    },
    {
     "data": {
      "application/vnd.jupyter.widget-view+json": {
       "model_id": "789a19e3d6cd48efa17cb33e04477b4e",
       "version_major": 2,
       "version_minor": 0
      },
      "text/plain": [
       "Backtest.run:   0%|          | 0/3893 [00:00<?, ?bar/s]"
      ]
     },
     "metadata": {},
     "output_type": "display_data"
    },
    {
     "data": {
      "application/vnd.jupyter.widget-view+json": {
       "model_id": "f0eb30dc6118419da2436852da56ad18",
       "version_major": 2,
       "version_minor": 0
      },
      "text/plain": [
       "Backtest.run:   0%|          | 0/3903 [00:00<?, ?bar/s]"
      ]
     },
     "metadata": {},
     "output_type": "display_data"
    },
    {
     "name": "stderr",
     "output_type": "stream",
     "text": [
      "/Users/liantseng/Desktop/udemy/venv/lib/python3.13/site-packages/backtesting/backtesting.py:954: UserWarning: time=1016: Broker canceled the relative-sized order due to insufficient margin.\n",
      "  warnings.warn(\n",
      "/Users/liantseng/Desktop/udemy/venv/lib/python3.13/site-packages/backtesting/backtesting.py:954: UserWarning: time=1024: Broker canceled the relative-sized order due to insufficient margin.\n",
      "  warnings.warn(\n",
      "/Users/liantseng/Desktop/udemy/venv/lib/python3.13/site-packages/backtesting/backtesting.py:954: UserWarning: time=1028: Broker canceled the relative-sized order due to insufficient margin.\n",
      "  warnings.warn(\n",
      "/Users/liantseng/Desktop/udemy/venv/lib/python3.13/site-packages/backtesting/backtesting.py:954: UserWarning: time=1049: Broker canceled the relative-sized order due to insufficient margin.\n",
      "  warnings.warn(\n",
      "/Users/liantseng/Desktop/udemy/venv/lib/python3.13/site-packages/backtesting/backtesting.py:954: UserWarning: time=1096: Broker canceled the relative-sized order due to insufficient margin.\n",
      "  warnings.warn(\n",
      "/Users/liantseng/Desktop/udemy/venv/lib/python3.13/site-packages/backtesting/backtesting.py:954: UserWarning: time=1114: Broker canceled the relative-sized order due to insufficient margin.\n",
      "  warnings.warn(\n",
      "/Users/liantseng/Desktop/udemy/venv/lib/python3.13/site-packages/backtesting/backtesting.py:954: UserWarning: time=1202: Broker canceled the relative-sized order due to insufficient margin.\n",
      "  warnings.warn(\n",
      "/Users/liantseng/Desktop/udemy/venv/lib/python3.13/site-packages/backtesting/backtesting.py:954: UserWarning: time=1215: Broker canceled the relative-sized order due to insufficient margin.\n",
      "  warnings.warn(\n",
      "/Users/liantseng/Desktop/udemy/venv/lib/python3.13/site-packages/backtesting/backtesting.py:954: UserWarning: time=1218: Broker canceled the relative-sized order due to insufficient margin.\n",
      "  warnings.warn(\n",
      "/Users/liantseng/Desktop/udemy/venv/lib/python3.13/site-packages/backtesting/backtesting.py:954: UserWarning: time=1223: Broker canceled the relative-sized order due to insufficient margin.\n",
      "  warnings.warn(\n",
      "/Users/liantseng/Desktop/udemy/venv/lib/python3.13/site-packages/backtesting/backtesting.py:954: UserWarning: time=1224: Broker canceled the relative-sized order due to insufficient margin.\n",
      "  warnings.warn(\n",
      "/Users/liantseng/Desktop/udemy/venv/lib/python3.13/site-packages/backtesting/backtesting.py:954: UserWarning: time=1257: Broker canceled the relative-sized order due to insufficient margin.\n",
      "  warnings.warn(\n",
      "/Users/liantseng/Desktop/udemy/venv/lib/python3.13/site-packages/backtesting/backtesting.py:954: UserWarning: time=1272: Broker canceled the relative-sized order due to insufficient margin.\n",
      "  warnings.warn(\n",
      "/Users/liantseng/Desktop/udemy/venv/lib/python3.13/site-packages/backtesting/backtesting.py:954: UserWarning: time=1312: Broker canceled the relative-sized order due to insufficient margin.\n",
      "  warnings.warn(\n",
      "/Users/liantseng/Desktop/udemy/venv/lib/python3.13/site-packages/backtesting/backtesting.py:954: UserWarning: time=1339: Broker canceled the relative-sized order due to insufficient margin.\n",
      "  warnings.warn(\n",
      "/Users/liantseng/Desktop/udemy/venv/lib/python3.13/site-packages/backtesting/backtesting.py:954: UserWarning: time=1397: Broker canceled the relative-sized order due to insufficient margin.\n",
      "  warnings.warn(\n",
      "/Users/liantseng/Desktop/udemy/venv/lib/python3.13/site-packages/backtesting/backtesting.py:954: UserWarning: time=1426: Broker canceled the relative-sized order due to insufficient margin.\n",
      "  warnings.warn(\n",
      "/Users/liantseng/Desktop/udemy/venv/lib/python3.13/site-packages/backtesting/backtesting.py:954: UserWarning: time=1444: Broker canceled the relative-sized order due to insufficient margin.\n",
      "  warnings.warn(\n",
      "/Users/liantseng/Desktop/udemy/venv/lib/python3.13/site-packages/backtesting/backtesting.py:954: UserWarning: time=1462: Broker canceled the relative-sized order due to insufficient margin.\n",
      "  warnings.warn(\n",
      "/Users/liantseng/Desktop/udemy/venv/lib/python3.13/site-packages/backtesting/backtesting.py:954: UserWarning: time=1474: Broker canceled the relative-sized order due to insufficient margin.\n",
      "  warnings.warn(\n",
      "/Users/liantseng/Desktop/udemy/venv/lib/python3.13/site-packages/backtesting/backtesting.py:954: UserWarning: time=1488: Broker canceled the relative-sized order due to insufficient margin.\n",
      "  warnings.warn(\n",
      "/Users/liantseng/Desktop/udemy/venv/lib/python3.13/site-packages/backtesting/backtesting.py:954: UserWarning: time=1508: Broker canceled the relative-sized order due to insufficient margin.\n",
      "  warnings.warn(\n",
      "/Users/liantseng/Desktop/udemy/venv/lib/python3.13/site-packages/backtesting/backtesting.py:954: UserWarning: time=1512: Broker canceled the relative-sized order due to insufficient margin.\n",
      "  warnings.warn(\n",
      "/Users/liantseng/Desktop/udemy/venv/lib/python3.13/site-packages/backtesting/backtesting.py:954: UserWarning: time=1564: Broker canceled the relative-sized order due to insufficient margin.\n",
      "  warnings.warn(\n",
      "/Users/liantseng/Desktop/udemy/venv/lib/python3.13/site-packages/backtesting/backtesting.py:954: UserWarning: time=1578: Broker canceled the relative-sized order due to insufficient margin.\n",
      "  warnings.warn(\n",
      "/Users/liantseng/Desktop/udemy/venv/lib/python3.13/site-packages/backtesting/backtesting.py:954: UserWarning: time=1616: Broker canceled the relative-sized order due to insufficient margin.\n",
      "  warnings.warn(\n",
      "/Users/liantseng/Desktop/udemy/venv/lib/python3.13/site-packages/backtesting/backtesting.py:954: UserWarning: time=1640: Broker canceled the relative-sized order due to insufficient margin.\n",
      "  warnings.warn(\n",
      "/Users/liantseng/Desktop/udemy/venv/lib/python3.13/site-packages/backtesting/backtesting.py:954: UserWarning: time=1645: Broker canceled the relative-sized order due to insufficient margin.\n",
      "  warnings.warn(\n",
      "/Users/liantseng/Desktop/udemy/venv/lib/python3.13/site-packages/backtesting/backtesting.py:954: UserWarning: time=1735: Broker canceled the relative-sized order due to insufficient margin.\n",
      "  warnings.warn(\n",
      "/Users/liantseng/Desktop/udemy/venv/lib/python3.13/site-packages/backtesting/backtesting.py:954: UserWarning: time=1740: Broker canceled the relative-sized order due to insufficient margin.\n",
      "  warnings.warn(\n",
      "/Users/liantseng/Desktop/udemy/venv/lib/python3.13/site-packages/backtesting/backtesting.py:954: UserWarning: time=1764: Broker canceled the relative-sized order due to insufficient margin.\n",
      "  warnings.warn(\n",
      "/Users/liantseng/Desktop/udemy/venv/lib/python3.13/site-packages/backtesting/backtesting.py:954: UserWarning: time=1786: Broker canceled the relative-sized order due to insufficient margin.\n",
      "  warnings.warn(\n",
      "/Users/liantseng/Desktop/udemy/venv/lib/python3.13/site-packages/backtesting/backtesting.py:954: UserWarning: time=1804: Broker canceled the relative-sized order due to insufficient margin.\n",
      "  warnings.warn(\n",
      "/Users/liantseng/Desktop/udemy/venv/lib/python3.13/site-packages/backtesting/backtesting.py:954: UserWarning: time=1824: Broker canceled the relative-sized order due to insufficient margin.\n",
      "  warnings.warn(\n",
      "/Users/liantseng/Desktop/udemy/venv/lib/python3.13/site-packages/backtesting/backtesting.py:954: UserWarning: time=1825: Broker canceled the relative-sized order due to insufficient margin.\n",
      "  warnings.warn(\n",
      "/Users/liantseng/Desktop/udemy/venv/lib/python3.13/site-packages/backtesting/backtesting.py:954: UserWarning: time=1827: Broker canceled the relative-sized order due to insufficient margin.\n",
      "  warnings.warn(\n",
      "/Users/liantseng/Desktop/udemy/venv/lib/python3.13/site-packages/backtesting/backtesting.py:954: UserWarning: time=1834: Broker canceled the relative-sized order due to insufficient margin.\n",
      "  warnings.warn(\n",
      "/Users/liantseng/Desktop/udemy/venv/lib/python3.13/site-packages/backtesting/backtesting.py:954: UserWarning: time=1859: Broker canceled the relative-sized order due to insufficient margin.\n",
      "  warnings.warn(\n",
      "/Users/liantseng/Desktop/udemy/venv/lib/python3.13/site-packages/backtesting/backtesting.py:954: UserWarning: time=1861: Broker canceled the relative-sized order due to insufficient margin.\n",
      "  warnings.warn(\n",
      "/Users/liantseng/Desktop/udemy/venv/lib/python3.13/site-packages/backtesting/backtesting.py:954: UserWarning: time=1866: Broker canceled the relative-sized order due to insufficient margin.\n",
      "  warnings.warn(\n",
      "/Users/liantseng/Desktop/udemy/venv/lib/python3.13/site-packages/backtesting/backtesting.py:954: UserWarning: time=1889: Broker canceled the relative-sized order due to insufficient margin.\n",
      "  warnings.warn(\n",
      "/Users/liantseng/Desktop/udemy/venv/lib/python3.13/site-packages/backtesting/backtesting.py:954: UserWarning: time=1916: Broker canceled the relative-sized order due to insufficient margin.\n",
      "  warnings.warn(\n",
      "/Users/liantseng/Desktop/udemy/venv/lib/python3.13/site-packages/backtesting/backtesting.py:954: UserWarning: time=1920: Broker canceled the relative-sized order due to insufficient margin.\n",
      "  warnings.warn(\n",
      "/Users/liantseng/Desktop/udemy/venv/lib/python3.13/site-packages/backtesting/backtesting.py:954: UserWarning: time=1936: Broker canceled the relative-sized order due to insufficient margin.\n",
      "  warnings.warn(\n",
      "/Users/liantseng/Desktop/udemy/venv/lib/python3.13/site-packages/backtesting/backtesting.py:954: UserWarning: time=1992: Broker canceled the relative-sized order due to insufficient margin.\n",
      "  warnings.warn(\n",
      "/Users/liantseng/Desktop/udemy/venv/lib/python3.13/site-packages/backtesting/backtesting.py:954: UserWarning: time=2027: Broker canceled the relative-sized order due to insufficient margin.\n",
      "  warnings.warn(\n",
      "/Users/liantseng/Desktop/udemy/venv/lib/python3.13/site-packages/backtesting/backtesting.py:954: UserWarning: time=2081: Broker canceled the relative-sized order due to insufficient margin.\n",
      "  warnings.warn(\n",
      "/Users/liantseng/Desktop/udemy/venv/lib/python3.13/site-packages/backtesting/backtesting.py:954: UserWarning: time=2085: Broker canceled the relative-sized order due to insufficient margin.\n",
      "  warnings.warn(\n",
      "/Users/liantseng/Desktop/udemy/venv/lib/python3.13/site-packages/backtesting/backtesting.py:954: UserWarning: time=2090: Broker canceled the relative-sized order due to insufficient margin.\n",
      "  warnings.warn(\n",
      "/Users/liantseng/Desktop/udemy/venv/lib/python3.13/site-packages/backtesting/backtesting.py:954: UserWarning: time=2095: Broker canceled the relative-sized order due to insufficient margin.\n",
      "  warnings.warn(\n",
      "/Users/liantseng/Desktop/udemy/venv/lib/python3.13/site-packages/backtesting/backtesting.py:954: UserWarning: time=2105: Broker canceled the relative-sized order due to insufficient margin.\n",
      "  warnings.warn(\n",
      "/Users/liantseng/Desktop/udemy/venv/lib/python3.13/site-packages/backtesting/backtesting.py:954: UserWarning: time=2132: Broker canceled the relative-sized order due to insufficient margin.\n",
      "  warnings.warn(\n",
      "/Users/liantseng/Desktop/udemy/venv/lib/python3.13/site-packages/backtesting/backtesting.py:954: UserWarning: time=2174: Broker canceled the relative-sized order due to insufficient margin.\n",
      "  warnings.warn(\n",
      "/Users/liantseng/Desktop/udemy/venv/lib/python3.13/site-packages/backtesting/backtesting.py:954: UserWarning: time=2176: Broker canceled the relative-sized order due to insufficient margin.\n",
      "  warnings.warn(\n",
      "/Users/liantseng/Desktop/udemy/venv/lib/python3.13/site-packages/backtesting/backtesting.py:954: UserWarning: time=2179: Broker canceled the relative-sized order due to insufficient margin.\n",
      "  warnings.warn(\n",
      "/Users/liantseng/Desktop/udemy/venv/lib/python3.13/site-packages/backtesting/backtesting.py:954: UserWarning: time=2202: Broker canceled the relative-sized order due to insufficient margin.\n",
      "  warnings.warn(\n",
      "/Users/liantseng/Desktop/udemy/venv/lib/python3.13/site-packages/backtesting/backtesting.py:954: UserWarning: time=2213: Broker canceled the relative-sized order due to insufficient margin.\n",
      "  warnings.warn(\n",
      "/Users/liantseng/Desktop/udemy/venv/lib/python3.13/site-packages/backtesting/backtesting.py:954: UserWarning: time=2218: Broker canceled the relative-sized order due to insufficient margin.\n",
      "  warnings.warn(\n",
      "/Users/liantseng/Desktop/udemy/venv/lib/python3.13/site-packages/backtesting/backtesting.py:954: UserWarning: time=2326: Broker canceled the relative-sized order due to insufficient margin.\n",
      "  warnings.warn(\n",
      "/Users/liantseng/Desktop/udemy/venv/lib/python3.13/site-packages/backtesting/backtesting.py:954: UserWarning: time=2339: Broker canceled the relative-sized order due to insufficient margin.\n",
      "  warnings.warn(\n",
      "/Users/liantseng/Desktop/udemy/venv/lib/python3.13/site-packages/backtesting/backtesting.py:954: UserWarning: time=2368: Broker canceled the relative-sized order due to insufficient margin.\n",
      "  warnings.warn(\n",
      "/Users/liantseng/Desktop/udemy/venv/lib/python3.13/site-packages/backtesting/backtesting.py:954: UserWarning: time=2374: Broker canceled the relative-sized order due to insufficient margin.\n",
      "  warnings.warn(\n",
      "/Users/liantseng/Desktop/udemy/venv/lib/python3.13/site-packages/backtesting/backtesting.py:954: UserWarning: time=2390: Broker canceled the relative-sized order due to insufficient margin.\n",
      "  warnings.warn(\n",
      "/Users/liantseng/Desktop/udemy/venv/lib/python3.13/site-packages/backtesting/backtesting.py:954: UserWarning: time=2399: Broker canceled the relative-sized order due to insufficient margin.\n",
      "  warnings.warn(\n",
      "/Users/liantseng/Desktop/udemy/venv/lib/python3.13/site-packages/backtesting/backtesting.py:954: UserWarning: time=2410: Broker canceled the relative-sized order due to insufficient margin.\n",
      "  warnings.warn(\n",
      "/Users/liantseng/Desktop/udemy/venv/lib/python3.13/site-packages/backtesting/backtesting.py:954: UserWarning: time=2430: Broker canceled the relative-sized order due to insufficient margin.\n",
      "  warnings.warn(\n",
      "/Users/liantseng/Desktop/udemy/venv/lib/python3.13/site-packages/backtesting/backtesting.py:954: UserWarning: time=2437: Broker canceled the relative-sized order due to insufficient margin.\n",
      "  warnings.warn(\n",
      "/Users/liantseng/Desktop/udemy/venv/lib/python3.13/site-packages/backtesting/backtesting.py:954: UserWarning: time=2468: Broker canceled the relative-sized order due to insufficient margin.\n",
      "  warnings.warn(\n",
      "/Users/liantseng/Desktop/udemy/venv/lib/python3.13/site-packages/backtesting/backtesting.py:954: UserWarning: time=2472: Broker canceled the relative-sized order due to insufficient margin.\n",
      "  warnings.warn(\n",
      "/Users/liantseng/Desktop/udemy/venv/lib/python3.13/site-packages/backtesting/backtesting.py:954: UserWarning: time=2477: Broker canceled the relative-sized order due to insufficient margin.\n",
      "  warnings.warn(\n",
      "/Users/liantseng/Desktop/udemy/venv/lib/python3.13/site-packages/backtesting/backtesting.py:954: UserWarning: time=2480: Broker canceled the relative-sized order due to insufficient margin.\n",
      "  warnings.warn(\n",
      "/Users/liantseng/Desktop/udemy/venv/lib/python3.13/site-packages/backtesting/backtesting.py:954: UserWarning: time=2492: Broker canceled the relative-sized order due to insufficient margin.\n",
      "  warnings.warn(\n",
      "/Users/liantseng/Desktop/udemy/venv/lib/python3.13/site-packages/backtesting/backtesting.py:954: UserWarning: time=2497: Broker canceled the relative-sized order due to insufficient margin.\n",
      "  warnings.warn(\n",
      "/Users/liantseng/Desktop/udemy/venv/lib/python3.13/site-packages/backtesting/backtesting.py:954: UserWarning: time=2508: Broker canceled the relative-sized order due to insufficient margin.\n",
      "  warnings.warn(\n",
      "/Users/liantseng/Desktop/udemy/venv/lib/python3.13/site-packages/backtesting/backtesting.py:954: UserWarning: time=2553: Broker canceled the relative-sized order due to insufficient margin.\n",
      "  warnings.warn(\n",
      "/Users/liantseng/Desktop/udemy/venv/lib/python3.13/site-packages/backtesting/backtesting.py:954: UserWarning: time=2581: Broker canceled the relative-sized order due to insufficient margin.\n",
      "  warnings.warn(\n",
      "/Users/liantseng/Desktop/udemy/venv/lib/python3.13/site-packages/backtesting/backtesting.py:954: UserWarning: time=2611: Broker canceled the relative-sized order due to insufficient margin.\n",
      "  warnings.warn(\n",
      "/Users/liantseng/Desktop/udemy/venv/lib/python3.13/site-packages/backtesting/backtesting.py:954: UserWarning: time=2615: Broker canceled the relative-sized order due to insufficient margin.\n",
      "  warnings.warn(\n",
      "/Users/liantseng/Desktop/udemy/venv/lib/python3.13/site-packages/backtesting/backtesting.py:954: UserWarning: time=2625: Broker canceled the relative-sized order due to insufficient margin.\n",
      "  warnings.warn(\n",
      "/Users/liantseng/Desktop/udemy/venv/lib/python3.13/site-packages/backtesting/backtesting.py:954: UserWarning: time=2666: Broker canceled the relative-sized order due to insufficient margin.\n",
      "  warnings.warn(\n",
      "/Users/liantseng/Desktop/udemy/venv/lib/python3.13/site-packages/backtesting/backtesting.py:954: UserWarning: time=2667: Broker canceled the relative-sized order due to insufficient margin.\n",
      "  warnings.warn(\n",
      "/Users/liantseng/Desktop/udemy/venv/lib/python3.13/site-packages/backtesting/backtesting.py:954: UserWarning: time=2669: Broker canceled the relative-sized order due to insufficient margin.\n",
      "  warnings.warn(\n",
      "/Users/liantseng/Desktop/udemy/venv/lib/python3.13/site-packages/backtesting/backtesting.py:954: UserWarning: time=2671: Broker canceled the relative-sized order due to insufficient margin.\n",
      "  warnings.warn(\n",
      "/Users/liantseng/Desktop/udemy/venv/lib/python3.13/site-packages/backtesting/backtesting.py:954: UserWarning: time=2672: Broker canceled the relative-sized order due to insufficient margin.\n",
      "  warnings.warn(\n",
      "/Users/liantseng/Desktop/udemy/venv/lib/python3.13/site-packages/backtesting/backtesting.py:954: UserWarning: time=2673: Broker canceled the relative-sized order due to insufficient margin.\n",
      "  warnings.warn(\n",
      "/Users/liantseng/Desktop/udemy/venv/lib/python3.13/site-packages/backtesting/backtesting.py:954: UserWarning: time=2705: Broker canceled the relative-sized order due to insufficient margin.\n",
      "  warnings.warn(\n",
      "/Users/liantseng/Desktop/udemy/venv/lib/python3.13/site-packages/backtesting/backtesting.py:954: UserWarning: time=2721: Broker canceled the relative-sized order due to insufficient margin.\n",
      "  warnings.warn(\n",
      "/Users/liantseng/Desktop/udemy/venv/lib/python3.13/site-packages/backtesting/backtesting.py:954: UserWarning: time=2735: Broker canceled the relative-sized order due to insufficient margin.\n",
      "  warnings.warn(\n",
      "/Users/liantseng/Desktop/udemy/venv/lib/python3.13/site-packages/backtesting/backtesting.py:954: UserWarning: time=2743: Broker canceled the relative-sized order due to insufficient margin.\n",
      "  warnings.warn(\n",
      "/Users/liantseng/Desktop/udemy/venv/lib/python3.13/site-packages/backtesting/backtesting.py:954: UserWarning: time=2748: Broker canceled the relative-sized order due to insufficient margin.\n",
      "  warnings.warn(\n",
      "/Users/liantseng/Desktop/udemy/venv/lib/python3.13/site-packages/backtesting/backtesting.py:954: UserWarning: time=2769: Broker canceled the relative-sized order due to insufficient margin.\n",
      "  warnings.warn(\n",
      "/Users/liantseng/Desktop/udemy/venv/lib/python3.13/site-packages/backtesting/backtesting.py:954: UserWarning: time=2816: Broker canceled the relative-sized order due to insufficient margin.\n",
      "  warnings.warn(\n",
      "/Users/liantseng/Desktop/udemy/venv/lib/python3.13/site-packages/backtesting/backtesting.py:954: UserWarning: time=2819: Broker canceled the relative-sized order due to insufficient margin.\n",
      "  warnings.warn(\n",
      "/Users/liantseng/Desktop/udemy/venv/lib/python3.13/site-packages/backtesting/backtesting.py:954: UserWarning: time=2823: Broker canceled the relative-sized order due to insufficient margin.\n",
      "  warnings.warn(\n",
      "/Users/liantseng/Desktop/udemy/venv/lib/python3.13/site-packages/backtesting/backtesting.py:954: UserWarning: time=2827: Broker canceled the relative-sized order due to insufficient margin.\n",
      "  warnings.warn(\n",
      "/Users/liantseng/Desktop/udemy/venv/lib/python3.13/site-packages/backtesting/backtesting.py:954: UserWarning: time=2854: Broker canceled the relative-sized order due to insufficient margin.\n",
      "  warnings.warn(\n",
      "/Users/liantseng/Desktop/udemy/venv/lib/python3.13/site-packages/backtesting/backtesting.py:954: UserWarning: time=2857: Broker canceled the relative-sized order due to insufficient margin.\n",
      "  warnings.warn(\n",
      "/Users/liantseng/Desktop/udemy/venv/lib/python3.13/site-packages/backtesting/backtesting.py:954: UserWarning: time=2864: Broker canceled the relative-sized order due to insufficient margin.\n",
      "  warnings.warn(\n",
      "/Users/liantseng/Desktop/udemy/venv/lib/python3.13/site-packages/backtesting/backtesting.py:954: UserWarning: time=2895: Broker canceled the relative-sized order due to insufficient margin.\n",
      "  warnings.warn(\n",
      "/Users/liantseng/Desktop/udemy/venv/lib/python3.13/site-packages/backtesting/backtesting.py:954: UserWarning: time=2925: Broker canceled the relative-sized order due to insufficient margin.\n",
      "  warnings.warn(\n",
      "/Users/liantseng/Desktop/udemy/venv/lib/python3.13/site-packages/backtesting/backtesting.py:954: UserWarning: time=2928: Broker canceled the relative-sized order due to insufficient margin.\n",
      "  warnings.warn(\n",
      "/Users/liantseng/Desktop/udemy/venv/lib/python3.13/site-packages/backtesting/backtesting.py:954: UserWarning: time=2929: Broker canceled the relative-sized order due to insufficient margin.\n",
      "  warnings.warn(\n",
      "/Users/liantseng/Desktop/udemy/venv/lib/python3.13/site-packages/backtesting/backtesting.py:954: UserWarning: time=2930: Broker canceled the relative-sized order due to insufficient margin.\n",
      "  warnings.warn(\n",
      "/Users/liantseng/Desktop/udemy/venv/lib/python3.13/site-packages/backtesting/backtesting.py:954: UserWarning: time=2932: Broker canceled the relative-sized order due to insufficient margin.\n",
      "  warnings.warn(\n",
      "/Users/liantseng/Desktop/udemy/venv/lib/python3.13/site-packages/backtesting/backtesting.py:954: UserWarning: time=2936: Broker canceled the relative-sized order due to insufficient margin.\n",
      "  warnings.warn(\n",
      "/Users/liantseng/Desktop/udemy/venv/lib/python3.13/site-packages/backtesting/backtesting.py:954: UserWarning: time=2947: Broker canceled the relative-sized order due to insufficient margin.\n",
      "  warnings.warn(\n",
      "/Users/liantseng/Desktop/udemy/venv/lib/python3.13/site-packages/backtesting/backtesting.py:954: UserWarning: time=2960: Broker canceled the relative-sized order due to insufficient margin.\n",
      "  warnings.warn(\n",
      "/Users/liantseng/Desktop/udemy/venv/lib/python3.13/site-packages/backtesting/backtesting.py:954: UserWarning: time=2966: Broker canceled the relative-sized order due to insufficient margin.\n",
      "  warnings.warn(\n",
      "/Users/liantseng/Desktop/udemy/venv/lib/python3.13/site-packages/backtesting/backtesting.py:954: UserWarning: time=2981: Broker canceled the relative-sized order due to insufficient margin.\n",
      "  warnings.warn(\n",
      "/Users/liantseng/Desktop/udemy/venv/lib/python3.13/site-packages/backtesting/backtesting.py:954: UserWarning: time=3004: Broker canceled the relative-sized order due to insufficient margin.\n",
      "  warnings.warn(\n",
      "/Users/liantseng/Desktop/udemy/venv/lib/python3.13/site-packages/backtesting/backtesting.py:954: UserWarning: time=3005: Broker canceled the relative-sized order due to insufficient margin.\n",
      "  warnings.warn(\n",
      "/Users/liantseng/Desktop/udemy/venv/lib/python3.13/site-packages/backtesting/backtesting.py:954: UserWarning: time=3007: Broker canceled the relative-sized order due to insufficient margin.\n",
      "  warnings.warn(\n",
      "/Users/liantseng/Desktop/udemy/venv/lib/python3.13/site-packages/backtesting/backtesting.py:954: UserWarning: time=3021: Broker canceled the relative-sized order due to insufficient margin.\n",
      "  warnings.warn(\n",
      "/Users/liantseng/Desktop/udemy/venv/lib/python3.13/site-packages/backtesting/backtesting.py:954: UserWarning: time=3022: Broker canceled the relative-sized order due to insufficient margin.\n",
      "  warnings.warn(\n",
      "/Users/liantseng/Desktop/udemy/venv/lib/python3.13/site-packages/backtesting/backtesting.py:954: UserWarning: time=3023: Broker canceled the relative-sized order due to insufficient margin.\n",
      "  warnings.warn(\n",
      "/Users/liantseng/Desktop/udemy/venv/lib/python3.13/site-packages/backtesting/backtesting.py:954: UserWarning: time=3024: Broker canceled the relative-sized order due to insufficient margin.\n",
      "  warnings.warn(\n",
      "/Users/liantseng/Desktop/udemy/venv/lib/python3.13/site-packages/backtesting/backtesting.py:954: UserWarning: time=3025: Broker canceled the relative-sized order due to insufficient margin.\n",
      "  warnings.warn(\n",
      "/Users/liantseng/Desktop/udemy/venv/lib/python3.13/site-packages/backtesting/backtesting.py:954: UserWarning: time=3037: Broker canceled the relative-sized order due to insufficient margin.\n",
      "  warnings.warn(\n",
      "/Users/liantseng/Desktop/udemy/venv/lib/python3.13/site-packages/backtesting/backtesting.py:954: UserWarning: time=3073: Broker canceled the relative-sized order due to insufficient margin.\n",
      "  warnings.warn(\n",
      "/Users/liantseng/Desktop/udemy/venv/lib/python3.13/site-packages/backtesting/backtesting.py:954: UserWarning: time=3085: Broker canceled the relative-sized order due to insufficient margin.\n",
      "  warnings.warn(\n",
      "/Users/liantseng/Desktop/udemy/venv/lib/python3.13/site-packages/backtesting/backtesting.py:954: UserWarning: time=3096: Broker canceled the relative-sized order due to insufficient margin.\n",
      "  warnings.warn(\n",
      "/Users/liantseng/Desktop/udemy/venv/lib/python3.13/site-packages/backtesting/backtesting.py:954: UserWarning: time=3107: Broker canceled the relative-sized order due to insufficient margin.\n",
      "  warnings.warn(\n",
      "/Users/liantseng/Desktop/udemy/venv/lib/python3.13/site-packages/backtesting/backtesting.py:954: UserWarning: time=3150: Broker canceled the relative-sized order due to insufficient margin.\n",
      "  warnings.warn(\n",
      "/Users/liantseng/Desktop/udemy/venv/lib/python3.13/site-packages/backtesting/backtesting.py:954: UserWarning: time=3161: Broker canceled the relative-sized order due to insufficient margin.\n",
      "  warnings.warn(\n",
      "/Users/liantseng/Desktop/udemy/venv/lib/python3.13/site-packages/backtesting/backtesting.py:954: UserWarning: time=3165: Broker canceled the relative-sized order due to insufficient margin.\n",
      "  warnings.warn(\n",
      "/Users/liantseng/Desktop/udemy/venv/lib/python3.13/site-packages/backtesting/backtesting.py:954: UserWarning: time=3182: Broker canceled the relative-sized order due to insufficient margin.\n",
      "  warnings.warn(\n",
      "/Users/liantseng/Desktop/udemy/venv/lib/python3.13/site-packages/backtesting/backtesting.py:954: UserWarning: time=3185: Broker canceled the relative-sized order due to insufficient margin.\n",
      "  warnings.warn(\n",
      "/Users/liantseng/Desktop/udemy/venv/lib/python3.13/site-packages/backtesting/backtesting.py:954: UserWarning: time=3203: Broker canceled the relative-sized order due to insufficient margin.\n",
      "  warnings.warn(\n",
      "/Users/liantseng/Desktop/udemy/venv/lib/python3.13/site-packages/backtesting/backtesting.py:954: UserWarning: time=3226: Broker canceled the relative-sized order due to insufficient margin.\n",
      "  warnings.warn(\n",
      "/Users/liantseng/Desktop/udemy/venv/lib/python3.13/site-packages/backtesting/backtesting.py:954: UserWarning: time=3227: Broker canceled the relative-sized order due to insufficient margin.\n",
      "  warnings.warn(\n",
      "/Users/liantseng/Desktop/udemy/venv/lib/python3.13/site-packages/backtesting/backtesting.py:954: UserWarning: time=3229: Broker canceled the relative-sized order due to insufficient margin.\n",
      "  warnings.warn(\n",
      "/Users/liantseng/Desktop/udemy/venv/lib/python3.13/site-packages/backtesting/backtesting.py:954: UserWarning: time=3288: Broker canceled the relative-sized order due to insufficient margin.\n",
      "  warnings.warn(\n",
      "/Users/liantseng/Desktop/udemy/venv/lib/python3.13/site-packages/backtesting/backtesting.py:954: UserWarning: time=3289: Broker canceled the relative-sized order due to insufficient margin.\n",
      "  warnings.warn(\n",
      "/Users/liantseng/Desktop/udemy/venv/lib/python3.13/site-packages/backtesting/backtesting.py:954: UserWarning: time=3294: Broker canceled the relative-sized order due to insufficient margin.\n",
      "  warnings.warn(\n",
      "/Users/liantseng/Desktop/udemy/venv/lib/python3.13/site-packages/backtesting/backtesting.py:954: UserWarning: time=3390: Broker canceled the relative-sized order due to insufficient margin.\n",
      "  warnings.warn(\n",
      "/Users/liantseng/Desktop/udemy/venv/lib/python3.13/site-packages/backtesting/backtesting.py:954: UserWarning: time=3394: Broker canceled the relative-sized order due to insufficient margin.\n",
      "  warnings.warn(\n",
      "/Users/liantseng/Desktop/udemy/venv/lib/python3.13/site-packages/backtesting/backtesting.py:954: UserWarning: time=3416: Broker canceled the relative-sized order due to insufficient margin.\n",
      "  warnings.warn(\n",
      "/Users/liantseng/Desktop/udemy/venv/lib/python3.13/site-packages/backtesting/backtesting.py:954: UserWarning: time=3433: Broker canceled the relative-sized order due to insufficient margin.\n",
      "  warnings.warn(\n",
      "/Users/liantseng/Desktop/udemy/venv/lib/python3.13/site-packages/backtesting/backtesting.py:954: UserWarning: time=3484: Broker canceled the relative-sized order due to insufficient margin.\n",
      "  warnings.warn(\n",
      "/Users/liantseng/Desktop/udemy/venv/lib/python3.13/site-packages/backtesting/backtesting.py:954: UserWarning: time=3492: Broker canceled the relative-sized order due to insufficient margin.\n",
      "  warnings.warn(\n",
      "/Users/liantseng/Desktop/udemy/venv/lib/python3.13/site-packages/backtesting/backtesting.py:954: UserWarning: time=3500: Broker canceled the relative-sized order due to insufficient margin.\n",
      "  warnings.warn(\n",
      "/Users/liantseng/Desktop/udemy/venv/lib/python3.13/site-packages/backtesting/backtesting.py:954: UserWarning: time=3523: Broker canceled the relative-sized order due to insufficient margin.\n",
      "  warnings.warn(\n",
      "/Users/liantseng/Desktop/udemy/venv/lib/python3.13/site-packages/backtesting/backtesting.py:954: UserWarning: time=3524: Broker canceled the relative-sized order due to insufficient margin.\n",
      "  warnings.warn(\n",
      "/Users/liantseng/Desktop/udemy/venv/lib/python3.13/site-packages/backtesting/backtesting.py:954: UserWarning: time=3534: Broker canceled the relative-sized order due to insufficient margin.\n",
      "  warnings.warn(\n",
      "/Users/liantseng/Desktop/udemy/venv/lib/python3.13/site-packages/backtesting/backtesting.py:954: UserWarning: time=3557: Broker canceled the relative-sized order due to insufficient margin.\n",
      "  warnings.warn(\n",
      "/Users/liantseng/Desktop/udemy/venv/lib/python3.13/site-packages/backtesting/backtesting.py:954: UserWarning: time=872: Broker canceled the relative-sized order due to insufficient margin.\n",
      "  warnings.warn(\n",
      "/Users/liantseng/Desktop/udemy/venv/lib/python3.13/site-packages/backtesting/backtesting.py:954: UserWarning: time=884: Broker canceled the relative-sized order due to insufficient margin.\n",
      "  warnings.warn(\n",
      "/Users/liantseng/Desktop/udemy/venv/lib/python3.13/site-packages/backtesting/backtesting.py:954: UserWarning: time=931: Broker canceled the relative-sized order due to insufficient margin.\n",
      "  warnings.warn(\n",
      "/Users/liantseng/Desktop/udemy/venv/lib/python3.13/site-packages/backtesting/backtesting.py:954: UserWarning: time=953: Broker canceled the relative-sized order due to insufficient margin.\n",
      "  warnings.warn(\n",
      "/Users/liantseng/Desktop/udemy/venv/lib/python3.13/site-packages/backtesting/backtesting.py:954: UserWarning: time=1032: Broker canceled the relative-sized order due to insufficient margin.\n",
      "  warnings.warn(\n",
      "/Users/liantseng/Desktop/udemy/venv/lib/python3.13/site-packages/backtesting/backtesting.py:954: UserWarning: time=1054: Broker canceled the relative-sized order due to insufficient margin.\n",
      "  warnings.warn(\n",
      "/Users/liantseng/Desktop/udemy/venv/lib/python3.13/site-packages/backtesting/backtesting.py:954: UserWarning: time=1105: Broker canceled the relative-sized order due to insufficient margin.\n",
      "  warnings.warn(\n",
      "/Users/liantseng/Desktop/udemy/venv/lib/python3.13/site-packages/backtesting/backtesting.py:954: UserWarning: time=1127: Broker canceled the relative-sized order due to insufficient margin.\n",
      "  warnings.warn(\n",
      "/Users/liantseng/Desktop/udemy/venv/lib/python3.13/site-packages/backtesting/backtesting.py:954: UserWarning: time=1219: Broker canceled the relative-sized order due to insufficient margin.\n",
      "  warnings.warn(\n",
      "/Users/liantseng/Desktop/udemy/venv/lib/python3.13/site-packages/backtesting/backtesting.py:954: UserWarning: time=1273: Broker canceled the relative-sized order due to insufficient margin.\n",
      "  warnings.warn(\n",
      "/Users/liantseng/Desktop/udemy/venv/lib/python3.13/site-packages/backtesting/backtesting.py:954: UserWarning: time=1287: Broker canceled the relative-sized order due to insufficient margin.\n",
      "  warnings.warn(\n",
      "/Users/liantseng/Desktop/udemy/venv/lib/python3.13/site-packages/backtesting/backtesting.py:954: UserWarning: time=1327: Broker canceled the relative-sized order due to insufficient margin.\n",
      "  warnings.warn(\n",
      "/Users/liantseng/Desktop/udemy/venv/lib/python3.13/site-packages/backtesting/backtesting.py:954: UserWarning: time=1352: Broker canceled the relative-sized order due to insufficient margin.\n",
      "  warnings.warn(\n",
      "/Users/liantseng/Desktop/udemy/venv/lib/python3.13/site-packages/backtesting/backtesting.py:954: UserWarning: time=1407: Broker canceled the relative-sized order due to insufficient margin.\n",
      "  warnings.warn(\n",
      "/Users/liantseng/Desktop/udemy/venv/lib/python3.13/site-packages/backtesting/backtesting.py:954: UserWarning: time=1441: Broker canceled the relative-sized order due to insufficient margin.\n",
      "  warnings.warn(\n",
      "/Users/liantseng/Desktop/udemy/venv/lib/python3.13/site-packages/backtesting/backtesting.py:954: UserWarning: time=1478: Broker canceled the relative-sized order due to insufficient margin.\n",
      "  warnings.warn(\n",
      "/Users/liantseng/Desktop/udemy/venv/lib/python3.13/site-packages/backtesting/backtesting.py:954: UserWarning: time=1493: Broker canceled the relative-sized order due to insufficient margin.\n",
      "  warnings.warn(\n",
      "/Users/liantseng/Desktop/udemy/venv/lib/python3.13/site-packages/backtesting/backtesting.py:954: UserWarning: time=1503: Broker canceled the relative-sized order due to insufficient margin.\n",
      "  warnings.warn(\n",
      "/Users/liantseng/Desktop/udemy/venv/lib/python3.13/site-packages/backtesting/backtesting.py:954: UserWarning: time=1581: Broker canceled the relative-sized order due to insufficient margin.\n",
      "  warnings.warn(\n",
      "/Users/liantseng/Desktop/udemy/venv/lib/python3.13/site-packages/backtesting/backtesting.py:954: UserWarning: time=1595: Broker canceled the relative-sized order due to insufficient margin.\n",
      "  warnings.warn(\n",
      "/Users/liantseng/Desktop/udemy/venv/lib/python3.13/site-packages/backtesting/backtesting.py:954: UserWarning: time=1623: Broker canceled the relative-sized order due to insufficient margin.\n",
      "  warnings.warn(\n",
      "/Users/liantseng/Desktop/udemy/venv/lib/python3.13/site-packages/backtesting/backtesting.py:954: UserWarning: time=878: Broker canceled the relative-sized order due to insufficient margin.\n",
      "  warnings.warn(\n",
      "/Users/liantseng/Desktop/udemy/venv/lib/python3.13/site-packages/backtesting/backtesting.py:954: UserWarning: time=888: Broker canceled the relative-sized order due to insufficient margin.\n",
      "  warnings.warn(\n",
      "/Users/liantseng/Desktop/udemy/venv/lib/python3.13/site-packages/backtesting/backtesting.py:954: UserWarning: time=936: Broker canceled the relative-sized order due to insufficient margin.\n",
      "  warnings.warn(\n",
      "/Users/liantseng/Desktop/udemy/venv/lib/python3.13/site-packages/backtesting/backtesting.py:954: UserWarning: time=956: Broker canceled the relative-sized order due to insufficient margin.\n",
      "  warnings.warn(\n",
      "/Users/liantseng/Desktop/udemy/venv/lib/python3.13/site-packages/backtesting/backtesting.py:954: UserWarning: time=1036: Broker canceled the relative-sized order due to insufficient margin.\n",
      "  warnings.warn(\n",
      "/Users/liantseng/Desktop/udemy/venv/lib/python3.13/site-packages/backtesting/backtesting.py:954: UserWarning: time=1057: Broker canceled the relative-sized order due to insufficient margin.\n",
      "  warnings.warn(\n",
      "/Users/liantseng/Desktop/udemy/venv/lib/python3.13/site-packages/backtesting/backtesting.py:954: UserWarning: time=1110: Broker canceled the relative-sized order due to insufficient margin.\n",
      "  warnings.warn(\n",
      "/Users/liantseng/Desktop/udemy/venv/lib/python3.13/site-packages/backtesting/backtesting.py:954: UserWarning: time=1130: Broker canceled the relative-sized order due to insufficient margin.\n",
      "  warnings.warn(\n",
      "/Users/liantseng/Desktop/udemy/venv/lib/python3.13/site-packages/backtesting/backtesting.py:954: UserWarning: time=1279: Broker canceled the relative-sized order due to insufficient margin.\n",
      "  warnings.warn(\n",
      "/Users/liantseng/Desktop/udemy/venv/lib/python3.13/site-packages/backtesting/backtesting.py:954: UserWarning: time=1291: Broker canceled the relative-sized order due to insufficient margin.\n",
      "  warnings.warn(\n",
      "/Users/liantseng/Desktop/udemy/venv/lib/python3.13/site-packages/backtesting/backtesting.py:954: UserWarning: time=1331: Broker canceled the relative-sized order due to insufficient margin.\n",
      "  warnings.warn(\n",
      "/Users/liantseng/Desktop/udemy/venv/lib/python3.13/site-packages/backtesting/backtesting.py:954: UserWarning: time=1356: Broker canceled the relative-sized order due to insufficient margin.\n",
      "  warnings.warn(\n",
      "/Users/liantseng/Desktop/udemy/venv/lib/python3.13/site-packages/backtesting/backtesting.py:954: UserWarning: time=1411: Broker canceled the relative-sized order due to insufficient margin.\n",
      "  warnings.warn(\n",
      "/Users/liantseng/Desktop/udemy/venv/lib/python3.13/site-packages/backtesting/backtesting.py:954: UserWarning: time=1446: Broker canceled the relative-sized order due to insufficient margin.\n",
      "  warnings.warn(\n",
      "/Users/liantseng/Desktop/udemy/venv/lib/python3.13/site-packages/backtesting/backtesting.py:954: UserWarning: time=1467: Broker canceled the relative-sized order due to insufficient margin.\n",
      "  warnings.warn(\n",
      "/Users/liantseng/Desktop/udemy/venv/lib/python3.13/site-packages/backtesting/backtesting.py:954: UserWarning: time=1482: Broker canceled the relative-sized order due to insufficient margin.\n",
      "  warnings.warn(\n",
      "/Users/liantseng/Desktop/udemy/venv/lib/python3.13/site-packages/backtesting/backtesting.py:954: UserWarning: time=1498: Broker canceled the relative-sized order due to insufficient margin.\n",
      "  warnings.warn(\n",
      "/Users/liantseng/Desktop/udemy/venv/lib/python3.13/site-packages/backtesting/backtesting.py:954: UserWarning: time=1507: Broker canceled the relative-sized order due to insufficient margin.\n",
      "  warnings.warn(\n",
      "/Users/liantseng/Desktop/udemy/venv/lib/python3.13/site-packages/backtesting/backtesting.py:954: UserWarning: time=1587: Broker canceled the relative-sized order due to insufficient margin.\n",
      "  warnings.warn(\n",
      "/Users/liantseng/Desktop/udemy/venv/lib/python3.13/site-packages/backtesting/backtesting.py:954: UserWarning: time=1600: Broker canceled the relative-sized order due to insufficient margin.\n",
      "  warnings.warn(\n",
      "/Users/liantseng/Desktop/udemy/venv/lib/python3.13/site-packages/backtesting/backtesting.py:954: UserWarning: time=1626: Broker canceled the relative-sized order due to insufficient margin.\n",
      "  warnings.warn(\n",
      "/Users/liantseng/Desktop/udemy/venv/lib/python3.13/site-packages/backtesting/backtesting.py:954: UserWarning: time=1041: Broker canceled the relative-sized order due to insufficient margin.\n",
      "  warnings.warn(\n",
      "/Users/liantseng/Desktop/udemy/venv/lib/python3.13/site-packages/backtesting/backtesting.py:954: UserWarning: time=1059: Broker canceled the relative-sized order due to insufficient margin.\n",
      "  warnings.warn(\n",
      "/Users/liantseng/Desktop/udemy/venv/lib/python3.13/site-packages/backtesting/backtesting.py:954: UserWarning: time=1116: Broker canceled the relative-sized order due to insufficient margin.\n",
      "  warnings.warn(\n",
      "/Users/liantseng/Desktop/udemy/venv/lib/python3.13/site-packages/backtesting/backtesting.py:954: UserWarning: time=1121: Broker canceled the relative-sized order due to insufficient margin.\n",
      "  warnings.warn(\n",
      "/Users/liantseng/Desktop/udemy/venv/lib/python3.13/site-packages/backtesting/backtesting.py:954: UserWarning: time=1123: Broker canceled the relative-sized order due to insufficient margin.\n",
      "  warnings.warn(\n",
      "/Users/liantseng/Desktop/udemy/venv/lib/python3.13/site-packages/backtesting/backtesting.py:954: UserWarning: time=1133: Broker canceled the relative-sized order due to insufficient margin.\n",
      "  warnings.warn(\n",
      "/Users/liantseng/Desktop/udemy/venv/lib/python3.13/site-packages/backtesting/backtesting.py:954: UserWarning: time=1228: Broker canceled the relative-sized order due to insufficient margin.\n",
      "  warnings.warn(\n",
      "/Users/liantseng/Desktop/udemy/venv/lib/python3.13/site-packages/backtesting/backtesting.py:954: UserWarning: time=1284: Broker canceled the relative-sized order due to insufficient margin.\n",
      "  warnings.warn(\n",
      "/Users/liantseng/Desktop/udemy/venv/lib/python3.13/site-packages/backtesting/backtesting.py:954: UserWarning: time=1296: Broker canceled the relative-sized order due to insufficient margin.\n",
      "  warnings.warn(\n",
      "/Users/liantseng/Desktop/udemy/venv/lib/python3.13/site-packages/backtesting/backtesting.py:954: UserWarning: time=1336: Broker canceled the relative-sized order due to insufficient margin.\n",
      "  warnings.warn(\n",
      "/Users/liantseng/Desktop/udemy/venv/lib/python3.13/site-packages/backtesting/backtesting.py:954: UserWarning: time=1361: Broker canceled the relative-sized order due to insufficient margin.\n",
      "  warnings.warn(\n",
      "/Users/liantseng/Desktop/udemy/venv/lib/python3.13/site-packages/backtesting/backtesting.py:954: UserWarning: time=1415: Broker canceled the relative-sized order due to insufficient margin.\n",
      "  warnings.warn(\n",
      "/Users/liantseng/Desktop/udemy/venv/lib/python3.13/site-packages/backtesting/backtesting.py:954: UserWarning: time=1451: Broker canceled the relative-sized order due to insufficient margin.\n",
      "  warnings.warn(\n",
      "/Users/liantseng/Desktop/udemy/venv/lib/python3.13/site-packages/backtesting/backtesting.py:954: UserWarning: time=1472: Broker canceled the relative-sized order due to insufficient margin.\n",
      "  warnings.warn(\n",
      "/Users/liantseng/Desktop/udemy/venv/lib/python3.13/site-packages/backtesting/backtesting.py:954: UserWarning: time=1487: Broker canceled the relative-sized order due to insufficient margin.\n",
      "  warnings.warn(\n",
      "/Users/liantseng/Desktop/udemy/venv/lib/python3.13/site-packages/backtesting/backtesting.py:954: UserWarning: time=1592: Broker canceled the relative-sized order due to insufficient margin.\n",
      "  warnings.warn(\n",
      "/Users/liantseng/Desktop/udemy/venv/lib/python3.13/site-packages/backtesting/backtesting.py:954: UserWarning: time=1605: Broker canceled the relative-sized order due to insufficient margin.\n",
      "  warnings.warn(\n",
      "/Users/liantseng/Desktop/udemy/venv/lib/python3.13/site-packages/backtesting/backtesting.py:954: UserWarning: time=1631: Broker canceled the relative-sized order due to insufficient margin.\n",
      "  warnings.warn(\n",
      "/Users/liantseng/Desktop/udemy/venv/lib/python3.13/site-packages/backtesting/backtesting.py:954: UserWarning: time=1781: Broker canceled the relative-sized order due to insufficient margin.\n",
      "  warnings.warn(\n",
      "/Users/liantseng/Desktop/udemy/venv/lib/python3.13/site-packages/backtesting/backtesting.py:954: UserWarning: time=1805: Broker canceled the relative-sized order due to insufficient margin.\n",
      "  warnings.warn(\n",
      "/Users/liantseng/Desktop/udemy/venv/lib/python3.13/site-packages/backtesting/backtesting.py:954: UserWarning: time=1821: Broker canceled the relative-sized order due to insufficient margin.\n",
      "  warnings.warn(\n",
      "/Users/liantseng/Desktop/udemy/venv/lib/python3.13/site-packages/backtesting/backtesting.py:954: UserWarning: time=1877: Broker canceled the relative-sized order due to insufficient margin.\n",
      "  warnings.warn(\n",
      "/Users/liantseng/Desktop/udemy/venv/lib/python3.13/site-packages/backtesting/backtesting.py:954: UserWarning: time=1903: Broker canceled the relative-sized order due to insufficient margin.\n",
      "  warnings.warn(\n",
      "/Users/liantseng/Desktop/udemy/venv/lib/python3.13/site-packages/backtesting/backtesting.py:954: UserWarning: time=1946: Broker canceled the relative-sized order due to insufficient margin.\n",
      "  warnings.warn(\n",
      "/Users/liantseng/Desktop/udemy/venv/lib/python3.13/site-packages/backtesting/backtesting.py:954: UserWarning: time=2003: Broker canceled the relative-sized order due to insufficient margin.\n",
      "  warnings.warn(\n",
      "/Users/liantseng/Desktop/udemy/venv/lib/python3.13/site-packages/backtesting/backtesting.py:954: UserWarning: time=2044: Broker canceled the relative-sized order due to insufficient margin.\n",
      "  warnings.warn(\n",
      "/Users/liantseng/Desktop/udemy/venv/lib/python3.13/site-packages/backtesting/backtesting.py:954: UserWarning: time=2122: Broker canceled the relative-sized order due to insufficient margin.\n",
      "  warnings.warn(\n",
      "/Users/liantseng/Desktop/udemy/venv/lib/python3.13/site-packages/backtesting/backtesting.py:954: UserWarning: time=2144: Broker canceled the relative-sized order due to insufficient margin.\n",
      "  warnings.warn(\n",
      "/Users/liantseng/Desktop/udemy/venv/lib/python3.13/site-packages/backtesting/backtesting.py:954: UserWarning: time=2187: Broker canceled the relative-sized order due to insufficient margin.\n",
      "  warnings.warn(\n",
      "/Users/liantseng/Desktop/udemy/venv/lib/python3.13/site-packages/backtesting/backtesting.py:954: UserWarning: time=2220: Broker canceled the relative-sized order due to insufficient margin.\n",
      "  warnings.warn(\n",
      "/Users/liantseng/Desktop/udemy/venv/lib/python3.13/site-packages/backtesting/backtesting.py:954: UserWarning: time=2411: Broker canceled the relative-sized order due to insufficient margin.\n",
      "  warnings.warn(\n",
      "/Users/liantseng/Desktop/udemy/venv/lib/python3.13/site-packages/backtesting/backtesting.py:954: UserWarning: time=2416: Broker canceled the relative-sized order due to insufficient margin.\n",
      "  warnings.warn(\n",
      "/Users/liantseng/Desktop/udemy/venv/lib/python3.13/site-packages/backtesting/backtesting.py:954: UserWarning: time=2426: Broker canceled the relative-sized order due to insufficient margin.\n",
      "  warnings.warn(\n",
      "/Users/liantseng/Desktop/udemy/venv/lib/python3.13/site-packages/backtesting/backtesting.py:954: UserWarning: time=2510: Broker canceled the relative-sized order due to insufficient margin.\n",
      "  warnings.warn(\n",
      "/Users/liantseng/Desktop/udemy/venv/lib/python3.13/site-packages/backtesting/backtesting.py:954: UserWarning: time=2567: Broker canceled the relative-sized order due to insufficient margin.\n",
      "  warnings.warn(\n",
      "/Users/liantseng/Desktop/udemy/venv/lib/python3.13/site-packages/backtesting/backtesting.py:954: UserWarning: time=2587: Broker canceled the relative-sized order due to insufficient margin.\n",
      "  warnings.warn(\n",
      "/Users/liantseng/Desktop/udemy/venv/lib/python3.13/site-packages/backtesting/backtesting.py:954: UserWarning: time=2628: Broker canceled the relative-sized order due to insufficient margin.\n",
      "  warnings.warn(\n",
      "/Users/liantseng/Desktop/udemy/venv/lib/python3.13/site-packages/backtesting/backtesting.py:954: UserWarning: time=2722: Broker canceled the relative-sized order due to insufficient margin.\n",
      "  warnings.warn(\n",
      "/Users/liantseng/Desktop/udemy/venv/lib/python3.13/site-packages/backtesting/backtesting.py:954: UserWarning: time=2738: Broker canceled the relative-sized order due to insufficient margin.\n",
      "  warnings.warn(\n",
      "/Users/liantseng/Desktop/udemy/venv/lib/python3.13/site-packages/backtesting/backtesting.py:954: UserWarning: time=2751: Broker canceled the relative-sized order due to insufficient margin.\n",
      "  warnings.warn(\n",
      "/Users/liantseng/Desktop/udemy/venv/lib/python3.13/site-packages/backtesting/backtesting.py:954: UserWarning: time=2783: Broker canceled the relative-sized order due to insufficient margin.\n",
      "  warnings.warn(\n",
      "/Users/liantseng/Desktop/udemy/venv/lib/python3.13/site-packages/backtesting/backtesting.py:954: UserWarning: time=2871: Broker canceled the relative-sized order due to insufficient margin.\n",
      "  warnings.warn(\n",
      "/Users/liantseng/Desktop/udemy/venv/lib/python3.13/site-packages/backtesting/backtesting.py:954: UserWarning: time=2906: Broker canceled the relative-sized order due to insufficient margin.\n",
      "  warnings.warn(\n",
      "/Users/liantseng/Desktop/udemy/venv/lib/python3.13/site-packages/backtesting/backtesting.py:954: UserWarning: time=2949: Broker canceled the relative-sized order due to insufficient margin.\n",
      "  warnings.warn(\n",
      "/Users/liantseng/Desktop/udemy/venv/lib/python3.13/site-packages/backtesting/backtesting.py:954: UserWarning: time=2950: Broker canceled the relative-sized order due to insufficient margin.\n",
      "  warnings.warn(\n",
      "/Users/liantseng/Desktop/udemy/venv/lib/python3.13/site-packages/backtesting/backtesting.py:954: UserWarning: time=2965: Broker canceled the relative-sized order due to insufficient margin.\n",
      "  warnings.warn(\n",
      "/Users/liantseng/Desktop/udemy/venv/lib/python3.13/site-packages/backtesting/backtesting.py:954: UserWarning: time=2978: Broker canceled the relative-sized order due to insufficient margin.\n",
      "  warnings.warn(\n",
      "/Users/liantseng/Desktop/udemy/venv/lib/python3.13/site-packages/backtesting/backtesting.py:954: UserWarning: time=3020: Broker canceled the relative-sized order due to insufficient margin.\n",
      "  warnings.warn(\n",
      "/Users/liantseng/Desktop/udemy/venv/lib/python3.13/site-packages/backtesting/backtesting.py:954: UserWarning: time=3095: Broker canceled the relative-sized order due to insufficient margin.\n",
      "  warnings.warn(\n",
      "/Users/liantseng/Desktop/udemy/venv/lib/python3.13/site-packages/backtesting/backtesting.py:954: UserWarning: time=3104: Broker canceled the relative-sized order due to insufficient margin.\n",
      "  warnings.warn(\n",
      "/Users/liantseng/Desktop/udemy/venv/lib/python3.13/site-packages/backtesting/backtesting.py:954: UserWarning: time=3243: Broker canceled the relative-sized order due to insufficient margin.\n",
      "  warnings.warn(\n",
      "/Users/liantseng/Desktop/udemy/venv/lib/python3.13/site-packages/backtesting/backtesting.py:954: UserWarning: time=3301: Broker canceled the relative-sized order due to insufficient margin.\n",
      "  warnings.warn(\n",
      "/Users/liantseng/Desktop/udemy/venv/lib/python3.13/site-packages/backtesting/backtesting.py:954: UserWarning: time=3421: Broker canceled the relative-sized order due to insufficient margin.\n",
      "  warnings.warn(\n",
      "/Users/liantseng/Desktop/udemy/venv/lib/python3.13/site-packages/backtesting/backtesting.py:954: UserWarning: time=3443: Broker canceled the relative-sized order due to insufficient margin.\n",
      "  warnings.warn(\n",
      "/Users/liantseng/Desktop/udemy/venv/lib/python3.13/site-packages/backtesting/backtesting.py:954: UserWarning: time=3501: Broker canceled the relative-sized order due to insufficient margin.\n",
      "  warnings.warn(\n",
      "/Users/liantseng/Desktop/udemy/venv/lib/python3.13/site-packages/backtesting/backtesting.py:954: UserWarning: time=3511: Broker canceled the relative-sized order due to insufficient margin.\n",
      "  warnings.warn(\n",
      "/Users/liantseng/Desktop/udemy/venv/lib/python3.13/site-packages/backtesting/backtesting.py:954: UserWarning: time=3514: Broker canceled the relative-sized order due to insufficient margin.\n",
      "  warnings.warn(\n",
      "/Users/liantseng/Desktop/udemy/venv/lib/python3.13/site-packages/backtesting/backtesting.py:954: UserWarning: time=1811: Broker canceled the relative-sized order due to insufficient margin.\n",
      "  warnings.warn(\n",
      "/Users/liantseng/Desktop/udemy/venv/lib/python3.13/site-packages/backtesting/backtesting.py:954: UserWarning: time=1826: Broker canceled the relative-sized order due to insufficient margin.\n",
      "  warnings.warn(\n",
      "/Users/liantseng/Desktop/udemy/venv/lib/python3.13/site-packages/backtesting/backtesting.py:954: UserWarning: time=1882: Broker canceled the relative-sized order due to insufficient margin.\n",
      "  warnings.warn(\n",
      "/Users/liantseng/Desktop/udemy/venv/lib/python3.13/site-packages/backtesting/backtesting.py:954: UserWarning: time=1908: Broker canceled the relative-sized order due to insufficient margin.\n",
      "  warnings.warn(\n",
      "/Users/liantseng/Desktop/udemy/venv/lib/python3.13/site-packages/backtesting/backtesting.py:954: UserWarning: time=1944: Broker canceled the relative-sized order due to insufficient margin.\n",
      "  warnings.warn(\n",
      "/Users/liantseng/Desktop/udemy/venv/lib/python3.13/site-packages/backtesting/backtesting.py:954: UserWarning: time=2006: Broker canceled the relative-sized order due to insufficient margin.\n",
      "  warnings.warn(\n",
      "/Users/liantseng/Desktop/udemy/venv/lib/python3.13/site-packages/backtesting/backtesting.py:954: UserWarning: time=2048: Broker canceled the relative-sized order due to insufficient margin.\n",
      "  warnings.warn(\n",
      "/Users/liantseng/Desktop/udemy/venv/lib/python3.13/site-packages/backtesting/backtesting.py:954: UserWarning: time=2114: Broker canceled the relative-sized order due to insufficient margin.\n",
      "  warnings.warn(\n",
      "/Users/liantseng/Desktop/udemy/venv/lib/python3.13/site-packages/backtesting/backtesting.py:954: UserWarning: time=2117: Broker canceled the relative-sized order due to insufficient margin.\n",
      "  warnings.warn(\n",
      "/Users/liantseng/Desktop/udemy/venv/lib/python3.13/site-packages/backtesting/backtesting.py:954: UserWarning: time=2127: Broker canceled the relative-sized order due to insufficient margin.\n",
      "  warnings.warn(\n",
      "/Users/liantseng/Desktop/udemy/venv/lib/python3.13/site-packages/backtesting/backtesting.py:954: UserWarning: time=2191: Broker canceled the relative-sized order due to insufficient margin.\n",
      "  warnings.warn(\n",
      "/Users/liantseng/Desktop/udemy/venv/lib/python3.13/site-packages/backtesting/backtesting.py:954: UserWarning: time=2225: Broker canceled the relative-sized order due to insufficient margin.\n",
      "  warnings.warn(\n",
      "/Users/liantseng/Desktop/udemy/venv/lib/python3.13/site-packages/backtesting/backtesting.py:954: UserWarning: time=2415: Broker canceled the relative-sized order due to insufficient margin.\n",
      "  warnings.warn(\n",
      "/Users/liantseng/Desktop/udemy/venv/lib/python3.13/site-packages/backtesting/backtesting.py:954: UserWarning: time=2421: Broker canceled the relative-sized order due to insufficient margin.\n",
      "  warnings.warn(\n",
      "/Users/liantseng/Desktop/udemy/venv/lib/python3.13/site-packages/backtesting/backtesting.py:954: UserWarning: time=2431: Broker canceled the relative-sized order due to insufficient margin.\n",
      "  warnings.warn(\n",
      "/Users/liantseng/Desktop/udemy/venv/lib/python3.13/site-packages/backtesting/backtesting.py:954: UserWarning: time=2514: Broker canceled the relative-sized order due to insufficient margin.\n",
      "  warnings.warn(\n",
      "/Users/liantseng/Desktop/udemy/venv/lib/python3.13/site-packages/backtesting/backtesting.py:954: UserWarning: time=2571: Broker canceled the relative-sized order due to insufficient margin.\n",
      "  warnings.warn(\n",
      "/Users/liantseng/Desktop/udemy/venv/lib/python3.13/site-packages/backtesting/backtesting.py:954: UserWarning: time=2589: Broker canceled the relative-sized order due to insufficient margin.\n",
      "  warnings.warn(\n",
      "/Users/liantseng/Desktop/udemy/venv/lib/python3.13/site-packages/backtesting/backtesting.py:954: UserWarning: time=2632: Broker canceled the relative-sized order due to insufficient margin.\n",
      "  warnings.warn(\n",
      "/Users/liantseng/Desktop/udemy/venv/lib/python3.13/site-packages/backtesting/backtesting.py:954: UserWarning: time=2727: Broker canceled the relative-sized order due to insufficient margin.\n",
      "  warnings.warn(\n",
      "/Users/liantseng/Desktop/udemy/venv/lib/python3.13/site-packages/backtesting/backtesting.py:954: UserWarning: time=2755: Broker canceled the relative-sized order due to insufficient margin.\n",
      "  warnings.warn(\n",
      "/Users/liantseng/Desktop/udemy/venv/lib/python3.13/site-packages/backtesting/backtesting.py:954: UserWarning: time=2787: Broker canceled the relative-sized order due to insufficient margin.\n",
      "  warnings.warn(\n",
      "/Users/liantseng/Desktop/udemy/venv/lib/python3.13/site-packages/backtesting/backtesting.py:954: UserWarning: time=2876: Broker canceled the relative-sized order due to insufficient margin.\n",
      "  warnings.warn(\n",
      "/Users/liantseng/Desktop/udemy/venv/lib/python3.13/site-packages/backtesting/backtesting.py:954: UserWarning: time=2909: Broker canceled the relative-sized order due to insufficient margin.\n",
      "  warnings.warn(\n",
      "/Users/liantseng/Desktop/udemy/venv/lib/python3.13/site-packages/backtesting/backtesting.py:954: UserWarning: time=2969: Broker canceled the relative-sized order due to insufficient margin.\n",
      "  warnings.warn(\n",
      "/Users/liantseng/Desktop/udemy/venv/lib/python3.13/site-packages/backtesting/backtesting.py:954: UserWarning: time=3098: Broker canceled the relative-sized order due to insufficient margin.\n",
      "  warnings.warn(\n",
      "/Users/liantseng/Desktop/udemy/venv/lib/python3.13/site-packages/backtesting/backtesting.py:954: UserWarning: time=3106: Broker canceled the relative-sized order due to insufficient margin.\n",
      "  warnings.warn(\n",
      "/Users/liantseng/Desktop/udemy/venv/lib/python3.13/site-packages/backtesting/backtesting.py:954: UserWarning: time=3169: Broker canceled the relative-sized order due to insufficient margin.\n",
      "  warnings.warn(\n",
      "/Users/liantseng/Desktop/udemy/venv/lib/python3.13/site-packages/backtesting/backtesting.py:954: UserWarning: time=3205: Broker canceled the relative-sized order due to insufficient margin.\n",
      "  warnings.warn(\n",
      "/Users/liantseng/Desktop/udemy/venv/lib/python3.13/site-packages/backtesting/backtesting.py:954: UserWarning: time=3248: Broker canceled the relative-sized order due to insufficient margin.\n",
      "  warnings.warn(\n",
      "/Users/liantseng/Desktop/udemy/venv/lib/python3.13/site-packages/backtesting/backtesting.py:954: UserWarning: time=3305: Broker canceled the relative-sized order due to insufficient margin.\n",
      "  warnings.warn(\n",
      "/Users/liantseng/Desktop/udemy/venv/lib/python3.13/site-packages/backtesting/backtesting.py:954: UserWarning: time=3417: Broker canceled the relative-sized order due to insufficient margin.\n",
      "  warnings.warn(\n",
      "/Users/liantseng/Desktop/udemy/venv/lib/python3.13/site-packages/backtesting/backtesting.py:954: UserWarning: time=3427: Broker canceled the relative-sized order due to insufficient margin.\n",
      "  warnings.warn(\n",
      "/Users/liantseng/Desktop/udemy/venv/lib/python3.13/site-packages/backtesting/backtesting.py:954: UserWarning: time=3445: Broker canceled the relative-sized order due to insufficient margin.\n",
      "  warnings.warn(\n",
      "/Users/liantseng/Desktop/udemy/venv/lib/python3.13/site-packages/backtesting/backtesting.py:954: UserWarning: time=3505: Broker canceled the relative-sized order due to insufficient margin.\n",
      "  warnings.warn(\n",
      "/Users/liantseng/Desktop/udemy/venv/lib/python3.13/site-packages/backtesting/backtesting.py:954: UserWarning: time=3517: Broker canceled the relative-sized order due to insufficient margin.\n",
      "  warnings.warn(\n",
      "/Users/liantseng/Desktop/udemy/venv/lib/python3.13/site-packages/backtesting/backtesting.py:954: UserWarning: time=3518: Broker canceled the relative-sized order due to insufficient margin.\n",
      "  warnings.warn(\n",
      "/Users/liantseng/Desktop/udemy/venv/lib/python3.13/site-packages/backtesting/backtesting.py:954: UserWarning: time=1791: Broker canceled the relative-sized order due to insufficient margin.\n",
      "  warnings.warn(\n",
      "/Users/liantseng/Desktop/udemy/venv/lib/python3.13/site-packages/backtesting/backtesting.py:954: UserWarning: time=1816: Broker canceled the relative-sized order due to insufficient margin.\n",
      "  warnings.warn(\n",
      "/Users/liantseng/Desktop/udemy/venv/lib/python3.13/site-packages/backtesting/backtesting.py:954: UserWarning: time=1830: Broker canceled the relative-sized order due to insufficient margin.\n",
      "  warnings.warn(\n",
      "/Users/liantseng/Desktop/udemy/venv/lib/python3.13/site-packages/backtesting/backtesting.py:954: UserWarning: time=1887: Broker canceled the relative-sized order due to insufficient margin.\n",
      "  warnings.warn(\n",
      "/Users/liantseng/Desktop/udemy/venv/lib/python3.13/site-packages/backtesting/backtesting.py:954: UserWarning: time=1912: Broker canceled the relative-sized order due to insufficient margin.\n",
      "  warnings.warn(\n",
      "/Users/liantseng/Desktop/udemy/venv/lib/python3.13/site-packages/backtesting/backtesting.py:954: UserWarning: time=2008: Broker canceled the relative-sized order due to insufficient margin.\n",
      "  warnings.warn(\n",
      "/Users/liantseng/Desktop/udemy/venv/lib/python3.13/site-packages/backtesting/backtesting.py:954: UserWarning: time=2053: Broker canceled the relative-sized order due to insufficient margin.\n",
      "  warnings.warn(\n",
      "/Users/liantseng/Desktop/udemy/venv/lib/python3.13/site-packages/backtesting/backtesting.py:954: UserWarning: time=2119: Broker canceled the relative-sized order due to insufficient margin.\n",
      "  warnings.warn(\n",
      "/Users/liantseng/Desktop/udemy/venv/lib/python3.13/site-packages/backtesting/backtesting.py:954: UserWarning: time=2147: Broker canceled the relative-sized order due to insufficient margin.\n",
      "  warnings.warn(\n",
      "/Users/liantseng/Desktop/udemy/venv/lib/python3.13/site-packages/backtesting/backtesting.py:954: UserWarning: time=2196: Broker canceled the relative-sized order due to insufficient margin.\n",
      "  warnings.warn(\n",
      "/Users/liantseng/Desktop/udemy/venv/lib/python3.13/site-packages/backtesting/backtesting.py:954: UserWarning: time=2229: Broker canceled the relative-sized order due to insufficient margin.\n",
      "  warnings.warn(\n",
      "/Users/liantseng/Desktop/udemy/venv/lib/python3.13/site-packages/backtesting/backtesting.py:954: UserWarning: time=2419: Broker canceled the relative-sized order due to insufficient margin.\n",
      "  warnings.warn(\n",
      "/Users/liantseng/Desktop/udemy/venv/lib/python3.13/site-packages/backtesting/backtesting.py:954: UserWarning: time=2435: Broker canceled the relative-sized order due to insufficient margin.\n",
      "  warnings.warn(\n",
      "/Users/liantseng/Desktop/udemy/venv/lib/python3.13/site-packages/backtesting/backtesting.py:954: UserWarning: time=2519: Broker canceled the relative-sized order due to insufficient margin.\n",
      "  warnings.warn(\n",
      "/Users/liantseng/Desktop/udemy/venv/lib/python3.13/site-packages/backtesting/backtesting.py:954: UserWarning: time=2577: Broker canceled the relative-sized order due to insufficient margin.\n",
      "  warnings.warn(\n",
      "/Users/liantseng/Desktop/udemy/venv/lib/python3.13/site-packages/backtesting/backtesting.py:954: UserWarning: time=2586: Broker canceled the relative-sized order due to insufficient margin.\n",
      "  warnings.warn(\n",
      "/Users/liantseng/Desktop/udemy/venv/lib/python3.13/site-packages/backtesting/backtesting.py:954: UserWarning: time=2636: Broker canceled the relative-sized order due to insufficient margin.\n",
      "  warnings.warn(\n",
      "/Users/liantseng/Desktop/udemy/venv/lib/python3.13/site-packages/backtesting/backtesting.py:954: UserWarning: time=2732: Broker canceled the relative-sized order due to insufficient margin.\n",
      "  warnings.warn(\n",
      "/Users/liantseng/Desktop/udemy/venv/lib/python3.13/site-packages/backtesting/backtesting.py:954: UserWarning: time=2759: Broker canceled the relative-sized order due to insufficient margin.\n",
      "  warnings.warn(\n",
      "/Users/liantseng/Desktop/udemy/venv/lib/python3.13/site-packages/backtesting/backtesting.py:954: UserWarning: time=2791: Broker canceled the relative-sized order due to insufficient margin.\n",
      "  warnings.warn(\n",
      "/Users/liantseng/Desktop/udemy/venv/lib/python3.13/site-packages/backtesting/backtesting.py:954: UserWarning: time=2881: Broker canceled the relative-sized order due to insufficient margin.\n",
      "  warnings.warn(\n",
      "/Users/liantseng/Desktop/udemy/venv/lib/python3.13/site-packages/backtesting/backtesting.py:954: UserWarning: time=2913: Broker canceled the relative-sized order due to insufficient margin.\n",
      "  warnings.warn(\n",
      "/Users/liantseng/Desktop/udemy/venv/lib/python3.13/site-packages/backtesting/backtesting.py:954: UserWarning: time=2973: Broker canceled the relative-sized order due to insufficient margin.\n",
      "  warnings.warn(\n",
      "/Users/liantseng/Desktop/udemy/venv/lib/python3.13/site-packages/backtesting/backtesting.py:954: UserWarning: time=2984: Broker canceled the relative-sized order due to insufficient margin.\n",
      "  warnings.warn(\n",
      "/Users/liantseng/Desktop/udemy/venv/lib/python3.13/site-packages/backtesting/backtesting.py:954: UserWarning: time=3030: Broker canceled the relative-sized order due to insufficient margin.\n",
      "  warnings.warn(\n",
      "/Users/liantseng/Desktop/udemy/venv/lib/python3.13/site-packages/backtesting/backtesting.py:954: UserWarning: time=3031: Broker canceled the relative-sized order due to insufficient margin.\n",
      "  warnings.warn(\n",
      "/Users/liantseng/Desktop/udemy/venv/lib/python3.13/site-packages/backtesting/backtesting.py:954: UserWarning: time=3032: Broker canceled the relative-sized order due to insufficient margin.\n",
      "  warnings.warn(\n",
      "/Users/liantseng/Desktop/udemy/venv/lib/python3.13/site-packages/backtesting/backtesting.py:954: UserWarning: time=3173: Broker canceled the relative-sized order due to insufficient margin.\n",
      "  warnings.warn(\n",
      "/Users/liantseng/Desktop/udemy/venv/lib/python3.13/site-packages/backtesting/backtesting.py:954: UserWarning: time=3209: Broker canceled the relative-sized order due to insufficient margin.\n",
      "  warnings.warn(\n",
      "/Users/liantseng/Desktop/udemy/venv/lib/python3.13/site-packages/backtesting/backtesting.py:954: UserWarning: time=3253: Broker canceled the relative-sized order due to insufficient margin.\n",
      "  warnings.warn(\n",
      "/Users/liantseng/Desktop/udemy/venv/lib/python3.13/site-packages/backtesting/backtesting.py:954: UserWarning: time=3310: Broker canceled the relative-sized order due to insufficient margin.\n",
      "  warnings.warn(\n",
      "/Users/liantseng/Desktop/udemy/venv/lib/python3.13/site-packages/backtesting/backtesting.py:954: UserWarning: time=3420: Broker canceled the relative-sized order due to insufficient margin.\n",
      "  warnings.warn(\n",
      "/Users/liantseng/Desktop/udemy/venv/lib/python3.13/site-packages/backtesting/backtesting.py:954: UserWarning: time=3423: Broker canceled the relative-sized order due to insufficient margin.\n",
      "  warnings.warn(\n",
      "/Users/liantseng/Desktop/udemy/venv/lib/python3.13/site-packages/backtesting/backtesting.py:954: UserWarning: time=3432: Broker canceled the relative-sized order due to insufficient margin.\n",
      "  warnings.warn(\n",
      "/Users/liantseng/Desktop/udemy/venv/lib/python3.13/site-packages/backtesting/backtesting.py:954: UserWarning: time=3435: Broker canceled the relative-sized order due to insufficient margin.\n",
      "  warnings.warn(\n",
      "/Users/liantseng/Desktop/udemy/venv/lib/python3.13/site-packages/backtesting/backtesting.py:954: UserWarning: time=3510: Broker canceled the relative-sized order due to insufficient margin.\n",
      "  warnings.warn(\n",
      "/Users/liantseng/Desktop/udemy/venv/lib/python3.13/site-packages/backtesting/backtesting.py:954: UserWarning: time=3549: Broker canceled the relative-sized order due to insufficient margin.\n",
      "  warnings.warn(\n",
      "/Users/liantseng/Desktop/udemy/venv/lib/python3.13/site-packages/backtesting/backtesting.py:954: UserWarning: time=3580: Broker canceled the relative-sized order due to insufficient margin.\n",
      "  warnings.warn(\n",
      "/Users/liantseng/Desktop/udemy/venv/lib/python3.13/site-packages/backtesting/backtesting.py:954: UserWarning: time=3623: Broker canceled the relative-sized order due to insufficient margin.\n",
      "  warnings.warn(\n",
      "/Users/liantseng/Desktop/udemy/venv/lib/python3.13/site-packages/backtesting/backtesting.py:954: UserWarning: time=3639: Broker canceled the relative-sized order due to insufficient margin.\n",
      "  warnings.warn(\n",
      "/Users/liantseng/Desktop/udemy/venv/lib/python3.13/site-packages/backtesting/backtesting.py:954: UserWarning: time=3661: Broker canceled the relative-sized order due to insufficient margin.\n",
      "  warnings.warn(\n",
      "/Users/liantseng/Desktop/udemy/venv/lib/python3.13/site-packages/backtesting/backtesting.py:954: UserWarning: time=3676: Broker canceled the relative-sized order due to insufficient margin.\n",
      "  warnings.warn(\n",
      "/Users/liantseng/Desktop/udemy/venv/lib/python3.13/site-packages/backtesting/backtesting.py:954: UserWarning: time=3683: Broker canceled the relative-sized order due to insufficient margin.\n",
      "  warnings.warn(\n",
      "/Users/liantseng/Desktop/udemy/venv/lib/python3.13/site-packages/backtesting/backtesting.py:954: UserWarning: time=3786: Broker canceled the relative-sized order due to insufficient margin.\n",
      "  warnings.warn(\n",
      "/Users/liantseng/Desktop/udemy/venv/lib/python3.13/site-packages/backtesting/backtesting.py:954: UserWarning: time=3799: Broker canceled the relative-sized order due to insufficient margin.\n",
      "  warnings.warn(\n",
      "/Users/liantseng/Desktop/udemy/venv/lib/python3.13/site-packages/backtesting/backtesting.py:954: UserWarning: time=3822: Broker canceled the relative-sized order due to insufficient margin.\n",
      "  warnings.warn(\n",
      "/Users/liantseng/Desktop/udemy/venv/lib/python3.13/site-packages/backtesting/backtesting.py:954: UserWarning: time=3876: Broker canceled the relative-sized order due to insufficient margin.\n",
      "  warnings.warn(\n",
      "/Users/liantseng/Desktop/udemy/venv/lib/python3.13/site-packages/backtesting/backtesting.py:954: UserWarning: time=3544: Broker canceled the relative-sized order due to insufficient margin.\n",
      "  warnings.warn(\n",
      "/Users/liantseng/Desktop/udemy/venv/lib/python3.13/site-packages/backtesting/backtesting.py:954: UserWarning: time=3576: Broker canceled the relative-sized order due to insufficient margin.\n",
      "  warnings.warn(\n",
      "/Users/liantseng/Desktop/udemy/venv/lib/python3.13/site-packages/backtesting/backtesting.py:954: UserWarning: time=3615: Broker canceled the relative-sized order due to insufficient margin.\n",
      "  warnings.warn(\n",
      "/Users/liantseng/Desktop/udemy/venv/lib/python3.13/site-packages/backtesting/backtesting.py:954: UserWarning: time=3635: Broker canceled the relative-sized order due to insufficient margin.\n",
      "  warnings.warn(\n",
      "/Users/liantseng/Desktop/udemy/venv/lib/python3.13/site-packages/backtesting/backtesting.py:954: UserWarning: time=3657: Broker canceled the relative-sized order due to insufficient margin.\n",
      "  warnings.warn(\n",
      "/Users/liantseng/Desktop/udemy/venv/lib/python3.13/site-packages/backtesting/backtesting.py:954: UserWarning: time=3671: Broker canceled the relative-sized order due to insufficient margin.\n",
      "  warnings.warn(\n",
      "/Users/liantseng/Desktop/udemy/venv/lib/python3.13/site-packages/backtesting/backtesting.py:954: UserWarning: time=3679: Broker canceled the relative-sized order due to insufficient margin.\n",
      "  warnings.warn(\n",
      "/Users/liantseng/Desktop/udemy/venv/lib/python3.13/site-packages/backtesting/backtesting.py:954: UserWarning: time=3776: Broker canceled the relative-sized order due to insufficient margin.\n",
      "  warnings.warn(\n",
      "/Users/liantseng/Desktop/udemy/venv/lib/python3.13/site-packages/backtesting/backtesting.py:954: UserWarning: time=3777: Broker canceled the relative-sized order due to insufficient margin.\n",
      "  warnings.warn(\n",
      "/Users/liantseng/Desktop/udemy/venv/lib/python3.13/site-packages/backtesting/backtesting.py:954: UserWarning: time=3779: Broker canceled the relative-sized order due to insufficient margin.\n",
      "  warnings.warn(\n",
      "/Users/liantseng/Desktop/udemy/venv/lib/python3.13/site-packages/backtesting/backtesting.py:954: UserWarning: time=3794: Broker canceled the relative-sized order due to insufficient margin.\n",
      "  warnings.warn(\n",
      "/Users/liantseng/Desktop/udemy/venv/lib/python3.13/site-packages/backtesting/backtesting.py:954: UserWarning: time=3818: Broker canceled the relative-sized order due to insufficient margin.\n",
      "  warnings.warn(\n",
      "/Users/liantseng/Desktop/udemy/venv/lib/python3.13/site-packages/backtesting/backtesting.py:954: UserWarning: time=3873: Broker canceled the relative-sized order due to insufficient margin.\n",
      "  warnings.warn(\n",
      "/Users/liantseng/Desktop/udemy/venv/lib/python3.13/site-packages/backtesting/backtesting.py:954: UserWarning: time=3540: Broker canceled the relative-sized order due to insufficient margin.\n",
      "  warnings.warn(\n",
      "/Users/liantseng/Desktop/udemy/venv/lib/python3.13/site-packages/backtesting/backtesting.py:954: UserWarning: time=3572: Broker canceled the relative-sized order due to insufficient margin.\n",
      "  warnings.warn(\n",
      "/Users/liantseng/Desktop/udemy/venv/lib/python3.13/site-packages/backtesting/backtesting.py:954: UserWarning: time=3608: Broker canceled the relative-sized order due to insufficient margin.\n",
      "  warnings.warn(\n",
      "/Users/liantseng/Desktop/udemy/venv/lib/python3.13/site-packages/backtesting/backtesting.py:954: UserWarning: time=3630: Broker canceled the relative-sized order due to insufficient margin.\n",
      "  warnings.warn(\n",
      "/Users/liantseng/Desktop/udemy/venv/lib/python3.13/site-packages/backtesting/backtesting.py:954: UserWarning: time=3652: Broker canceled the relative-sized order due to insufficient margin.\n",
      "  warnings.warn(\n",
      "/Users/liantseng/Desktop/udemy/venv/lib/python3.13/site-packages/backtesting/backtesting.py:954: UserWarning: time=3658: Broker canceled the relative-sized order due to insufficient margin.\n",
      "  warnings.warn(\n",
      "/Users/liantseng/Desktop/udemy/venv/lib/python3.13/site-packages/backtesting/backtesting.py:954: UserWarning: time=3659: Broker canceled the relative-sized order due to insufficient margin.\n",
      "  warnings.warn(\n",
      "/Users/liantseng/Desktop/udemy/venv/lib/python3.13/site-packages/backtesting/backtesting.py:954: UserWarning: time=3665: Broker canceled the relative-sized order due to insufficient margin.\n",
      "  warnings.warn(\n",
      "/Users/liantseng/Desktop/udemy/venv/lib/python3.13/site-packages/backtesting/backtesting.py:954: UserWarning: time=3674: Broker canceled the relative-sized order due to insufficient margin.\n",
      "  warnings.warn(\n",
      "/Users/liantseng/Desktop/udemy/venv/lib/python3.13/site-packages/backtesting/backtesting.py:954: UserWarning: time=3771: Broker canceled the relative-sized order due to insufficient margin.\n",
      "  warnings.warn(\n",
      "/Users/liantseng/Desktop/udemy/venv/lib/python3.13/site-packages/backtesting/backtesting.py:954: UserWarning: time=3789: Broker canceled the relative-sized order due to insufficient margin.\n",
      "  warnings.warn(\n",
      "/Users/liantseng/Desktop/udemy/venv/lib/python3.13/site-packages/backtesting/backtesting.py:954: UserWarning: time=3814: Broker canceled the relative-sized order due to insufficient margin.\n",
      "  warnings.warn(\n",
      "/Users/liantseng/Desktop/udemy/venv/lib/python3.13/site-packages/backtesting/backtesting.py:954: UserWarning: time=3869: Broker canceled the relative-sized order due to insufficient margin.\n",
      "  warnings.warn(\n",
      "/Users/liantseng/Desktop/udemy/venv/lib/python3.13/site-packages/backtesting/backtesting.py:954: UserWarning: time=3599: Broker canceled the relative-sized order due to insufficient margin.\n",
      "  warnings.warn(\n",
      "/Users/liantseng/Desktop/udemy/venv/lib/python3.13/site-packages/backtesting/backtesting.py:954: UserWarning: time=3614: Broker canceled the relative-sized order due to insufficient margin.\n",
      "  warnings.warn(\n",
      "/Users/liantseng/Desktop/udemy/venv/lib/python3.13/site-packages/backtesting/backtesting.py:954: UserWarning: time=3631: Broker canceled the relative-sized order due to insufficient margin.\n",
      "  warnings.warn(\n",
      "/Users/liantseng/Desktop/udemy/venv/lib/python3.13/site-packages/backtesting/backtesting.py:954: UserWarning: time=3638: Broker canceled the relative-sized order due to insufficient margin.\n",
      "  warnings.warn(\n",
      "/Users/liantseng/Desktop/udemy/venv/lib/python3.13/site-packages/backtesting/backtesting.py:954: UserWarning: time=3640: Broker canceled the relative-sized order due to insufficient margin.\n",
      "  warnings.warn(\n",
      "/Users/liantseng/Desktop/udemy/venv/lib/python3.13/site-packages/backtesting/backtesting.py:954: UserWarning: time=3646: Broker canceled the relative-sized order due to insufficient margin.\n",
      "  warnings.warn(\n",
      "/Users/liantseng/Desktop/udemy/venv/lib/python3.13/site-packages/backtesting/backtesting.py:954: UserWarning: time=3659: Broker canceled the relative-sized order due to insufficient margin.\n",
      "  warnings.warn(\n",
      "/Users/liantseng/Desktop/udemy/venv/lib/python3.13/site-packages/backtesting/backtesting.py:954: UserWarning: time=3679: Broker canceled the relative-sized order due to insufficient margin.\n",
      "  warnings.warn(\n",
      "/Users/liantseng/Desktop/udemy/venv/lib/python3.13/site-packages/backtesting/backtesting.py:954: UserWarning: time=3689: Broker canceled the relative-sized order due to insufficient margin.\n",
      "  warnings.warn(\n",
      "/Users/liantseng/Desktop/udemy/venv/lib/python3.13/site-packages/backtesting/backtesting.py:954: UserWarning: time=3756: Broker canceled the relative-sized order due to insufficient margin.\n",
      "  warnings.warn(\n",
      "/Users/liantseng/Desktop/udemy/venv/lib/python3.13/site-packages/backtesting/backtesting.py:954: UserWarning: time=3777: Broker canceled the relative-sized order due to insufficient margin.\n",
      "  warnings.warn(\n",
      "/Users/liantseng/Desktop/udemy/venv/lib/python3.13/site-packages/backtesting/backtesting.py:954: UserWarning: time=3798: Broker canceled the relative-sized order due to insufficient margin.\n",
      "  warnings.warn(\n",
      "/Users/liantseng/Desktop/udemy/venv/lib/python3.13/site-packages/backtesting/backtesting.py:954: UserWarning: time=3848: Broker canceled the relative-sized order due to insufficient margin.\n",
      "  warnings.warn(\n",
      "/Users/liantseng/Desktop/udemy/venv/lib/python3.13/site-packages/backtesting/backtesting.py:954: UserWarning: time=3857: Broker canceled the relative-sized order due to insufficient margin.\n",
      "  warnings.warn(\n",
      "/Users/liantseng/Desktop/udemy/venv/lib/python3.13/site-packages/backtesting/backtesting.py:954: UserWarning: time=3871: Broker canceled the relative-sized order due to insufficient margin.\n",
      "  warnings.warn(\n",
      "/Users/liantseng/Desktop/udemy/venv/lib/python3.13/site-packages/backtesting/_stats.py:155: RuntimeWarning: divide by zero encountered in log\n",
      "  equity_log_returns = np.log(equity[1:] / equity[:-1])\n",
      "/Users/liantseng/Desktop/udemy/venv/lib/python3.13/site-packages/backtesting/_stats.py:155: RuntimeWarning: divide by zero encountered in log\n",
      "  equity_log_returns = np.log(equity[1:] / equity[:-1])\n",
      "/Users/liantseng/Desktop/udemy/venv/lib/python3.13/site-packages/backtesting/_stats.py:155: RuntimeWarning: divide by zero encountered in log\n",
      "  equity_log_returns = np.log(equity[1:] / equity[:-1])\n",
      "/Users/liantseng/Desktop/udemy/venv/lib/python3.13/site-packages/backtesting/_stats.py:155: RuntimeWarning: divide by zero encountered in log\n",
      "  equity_log_returns = np.log(equity[1:] / equity[:-1])\n",
      "/Users/liantseng/Desktop/udemy/venv/lib/python3.13/site-packages/backtesting/_stats.py:155: RuntimeWarning: divide by zero encountered in log\n",
      "  equity_log_returns = np.log(equity[1:] / equity[:-1])\n"
     ]
    },
    {
     "data": {
      "application/vnd.jupyter.widget-view+json": {
       "model_id": "b6125edd140d4365914a7c24fcdfa10c",
       "version_major": 2,
       "version_minor": 0
      },
      "text/plain": [
       "Backtest.run:   0%|          | 0/3868 [00:00<?, ?bar/s]"
      ]
     },
     "metadata": {},
     "output_type": "display_data"
    },
    {
     "data": {
      "application/vnd.jupyter.widget-view+json": {
       "model_id": "7dd55f247ca24722a3ad06880eb4aed5",
       "version_major": 2,
       "version_minor": 0
      },
      "text/plain": [
       "Backtest.run:   0%|          | 0/3873 [00:00<?, ?bar/s]"
      ]
     },
     "metadata": {},
     "output_type": "display_data"
    },
    {
     "data": {
      "application/vnd.jupyter.widget-view+json": {
       "model_id": "4c535927305f4cc89406be0d35c578ec",
       "version_major": 2,
       "version_minor": 0
      },
      "text/plain": [
       "Backtest.run:   0%|          | 0/3893 [00:00<?, ?bar/s]"
      ]
     },
     "metadata": {},
     "output_type": "display_data"
    },
    {
     "data": {
      "application/vnd.jupyter.widget-view+json": {
       "model_id": "50f982d7e39740019ffe6d16feff1497",
       "version_major": 2,
       "version_minor": 0
      },
      "text/plain": [
       "Backtest.run:   0%|          | 0/3863 [00:00<?, ?bar/s]"
      ]
     },
     "metadata": {},
     "output_type": "display_data"
    },
    {
     "data": {
      "application/vnd.jupyter.widget-view+json": {
       "model_id": "b1b8c4d59f654af097511fdcb9f0034e",
       "version_major": 2,
       "version_minor": 0
      },
      "text/plain": [
       "Backtest.run:   0%|          | 0/3878 [00:00<?, ?bar/s]"
      ]
     },
     "metadata": {},
     "output_type": "display_data"
    },
    {
     "data": {
      "application/vnd.jupyter.widget-view+json": {
       "model_id": "58998e723e5647d4a80f86a625075f54",
       "version_major": 2,
       "version_minor": 0
      },
      "text/plain": [
       "Backtest.run:   0%|          | 0/3858 [00:00<?, ?bar/s]"
      ]
     },
     "metadata": {},
     "output_type": "display_data"
    },
    {
     "data": {
      "application/vnd.jupyter.widget-view+json": {
       "model_id": "9bc86c4d55b44f47b86691dcfb02b69b",
       "version_major": 2,
       "version_minor": 0
      },
      "text/plain": [
       "Backtest.run:   0%|          | 0/3888 [00:00<?, ?bar/s]"
      ]
     },
     "metadata": {},
     "output_type": "display_data"
    },
    {
     "data": {
      "application/vnd.jupyter.widget-view+json": {
       "model_id": "c5ed80edd18b48dfbea098cc342d6ad0",
       "version_major": 2,
       "version_minor": 0
      },
      "text/plain": [
       "Backtest.run:   0%|          | 0/3898 [00:00<?, ?bar/s]"
      ]
     },
     "metadata": {},
     "output_type": "display_data"
    },
    {
     "name": "stderr",
     "output_type": "stream",
     "text": [
      "/Users/liantseng/Desktop/udemy/venv/lib/python3.13/site-packages/backtesting/backtesting.py:954: UserWarning: time=678: Broker canceled the relative-sized order due to insufficient margin.\n",
      "  warnings.warn(\n",
      "/Users/liantseng/Desktop/udemy/venv/lib/python3.13/site-packages/backtesting/backtesting.py:954: UserWarning: time=688: Broker canceled the relative-sized order due to insufficient margin.\n",
      "  warnings.warn(\n",
      "/Users/liantseng/Desktop/udemy/venv/lib/python3.13/site-packages/backtesting/backtesting.py:954: UserWarning: time=691: Broker canceled the relative-sized order due to insufficient margin.\n",
      "  warnings.warn(\n",
      "/Users/liantseng/Desktop/udemy/venv/lib/python3.13/site-packages/backtesting/backtesting.py:954: UserWarning: time=728: Broker canceled the relative-sized order due to insufficient margin.\n",
      "  warnings.warn(\n",
      "/Users/liantseng/Desktop/udemy/venv/lib/python3.13/site-packages/backtesting/backtesting.py:954: UserWarning: time=764: Broker canceled the relative-sized order due to insufficient margin.\n",
      "  warnings.warn(\n",
      "/Users/liantseng/Desktop/udemy/venv/lib/python3.13/site-packages/backtesting/backtesting.py:954: UserWarning: time=767: Broker canceled the relative-sized order due to insufficient margin.\n",
      "  warnings.warn(\n",
      "/Users/liantseng/Desktop/udemy/venv/lib/python3.13/site-packages/backtesting/backtesting.py:954: UserWarning: time=875: Broker canceled the relative-sized order due to insufficient margin.\n",
      "  warnings.warn(\n",
      "/Users/liantseng/Desktop/udemy/venv/lib/python3.13/site-packages/backtesting/backtesting.py:954: UserWarning: time=886: Broker canceled the relative-sized order due to insufficient margin.\n",
      "  warnings.warn(\n",
      "/Users/liantseng/Desktop/udemy/venv/lib/python3.13/site-packages/backtesting/backtesting.py:954: UserWarning: time=933: Broker canceled the relative-sized order due to insufficient margin.\n",
      "  warnings.warn(\n",
      "/Users/liantseng/Desktop/udemy/venv/lib/python3.13/site-packages/backtesting/backtesting.py:954: UserWarning: time=955: Broker canceled the relative-sized order due to insufficient margin.\n",
      "  warnings.warn(\n",
      "/Users/liantseng/Desktop/udemy/venv/lib/python3.13/site-packages/backtesting/backtesting.py:954: UserWarning: time=1034: Broker canceled the relative-sized order due to insufficient margin.\n",
      "  warnings.warn(\n",
      "/Users/liantseng/Desktop/udemy/venv/lib/python3.13/site-packages/backtesting/backtesting.py:954: UserWarning: time=1056: Broker canceled the relative-sized order due to insufficient margin.\n",
      "  warnings.warn(\n",
      "/Users/liantseng/Desktop/udemy/venv/lib/python3.13/site-packages/backtesting/backtesting.py:954: UserWarning: time=1105: Broker canceled the relative-sized order due to insufficient margin.\n",
      "  warnings.warn(\n",
      "/Users/liantseng/Desktop/udemy/venv/lib/python3.13/site-packages/backtesting/backtesting.py:954: UserWarning: time=1111: Broker canceled the relative-sized order due to insufficient margin.\n",
      "  warnings.warn(\n",
      "/Users/liantseng/Desktop/udemy/venv/lib/python3.13/site-packages/backtesting/backtesting.py:954: UserWarning: time=1114: Broker canceled the relative-sized order due to insufficient margin.\n",
      "  warnings.warn(\n",
      "/Users/liantseng/Desktop/udemy/venv/lib/python3.13/site-packages/backtesting/backtesting.py:954: UserWarning: time=1129: Broker canceled the relative-sized order due to insufficient margin.\n",
      "  warnings.warn(\n",
      "/Users/liantseng/Desktop/udemy/venv/lib/python3.13/site-packages/backtesting/backtesting.py:954: UserWarning: time=1221: Broker canceled the relative-sized order due to insufficient margin.\n",
      "  warnings.warn(\n",
      "/Users/liantseng/Desktop/udemy/venv/lib/python3.13/site-packages/backtesting/backtesting.py:954: UserWarning: time=1276: Broker canceled the relative-sized order due to insufficient margin.\n",
      "  warnings.warn(\n",
      "/Users/liantseng/Desktop/udemy/venv/lib/python3.13/site-packages/backtesting/backtesting.py:954: UserWarning: time=1290: Broker canceled the relative-sized order due to insufficient margin.\n",
      "  warnings.warn(\n",
      "/Users/liantseng/Desktop/udemy/venv/lib/python3.13/site-packages/backtesting/backtesting.py:954: UserWarning: time=1330: Broker canceled the relative-sized order due to insufficient margin.\n",
      "  warnings.warn(\n",
      "/Users/liantseng/Desktop/udemy/venv/lib/python3.13/site-packages/backtesting/backtesting.py:954: UserWarning: time=1354: Broker canceled the relative-sized order due to insufficient margin.\n",
      "  warnings.warn(\n",
      "/Users/liantseng/Desktop/udemy/venv/lib/python3.13/site-packages/backtesting/backtesting.py:954: UserWarning: time=1407: Broker canceled the relative-sized order due to insufficient margin.\n",
      "  warnings.warn(\n",
      "/Users/liantseng/Desktop/udemy/venv/lib/python3.13/site-packages/backtesting/backtesting.py:954: UserWarning: time=1442: Broker canceled the relative-sized order due to insufficient margin.\n",
      "  warnings.warn(\n",
      "/Users/liantseng/Desktop/udemy/venv/lib/python3.13/site-packages/backtesting/backtesting.py:954: UserWarning: time=1464: Broker canceled the relative-sized order due to insufficient margin.\n",
      "  warnings.warn(\n",
      "/Users/liantseng/Desktop/udemy/venv/lib/python3.13/site-packages/backtesting/backtesting.py:954: UserWarning: time=1481: Broker canceled the relative-sized order due to insufficient margin.\n",
      "  warnings.warn(\n",
      "/Users/liantseng/Desktop/udemy/venv/lib/python3.13/site-packages/backtesting/backtesting.py:954: UserWarning: time=1494: Broker canceled the relative-sized order due to insufficient margin.\n",
      "  warnings.warn(\n",
      "/Users/liantseng/Desktop/udemy/venv/lib/python3.13/site-packages/backtesting/backtesting.py:954: UserWarning: time=1507: Broker canceled the relative-sized order due to insufficient margin.\n",
      "  warnings.warn(\n",
      "/Users/liantseng/Desktop/udemy/venv/lib/python3.13/site-packages/backtesting/backtesting.py:954: UserWarning: time=1583: Broker canceled the relative-sized order due to insufficient margin.\n",
      "  warnings.warn(\n",
      "/Users/liantseng/Desktop/udemy/venv/lib/python3.13/site-packages/backtesting/backtesting.py:954: UserWarning: time=1597: Broker canceled the relative-sized order due to insufficient margin.\n",
      "  warnings.warn(\n",
      "/Users/liantseng/Desktop/udemy/venv/lib/python3.13/site-packages/backtesting/backtesting.py:954: UserWarning: time=1623: Broker canceled the relative-sized order due to insufficient margin.\n",
      "  warnings.warn(\n",
      "/Users/liantseng/Desktop/udemy/venv/lib/python3.13/site-packages/backtesting/backtesting.py:954: UserWarning: time=1625: Broker canceled the relative-sized order due to insufficient margin.\n",
      "  warnings.warn(\n",
      "/Users/liantseng/Desktop/udemy/venv/lib/python3.13/site-packages/backtesting/backtesting.py:954: UserWarning: time=1627: Broker canceled the relative-sized order due to insufficient margin.\n",
      "  warnings.warn(\n",
      "/Users/liantseng/Desktop/udemy/venv/lib/python3.13/site-packages/backtesting/backtesting.py:954: UserWarning: time=1783: Broker canceled the relative-sized order due to insufficient margin.\n",
      "  warnings.warn(\n",
      "/Users/liantseng/Desktop/udemy/venv/lib/python3.13/site-packages/backtesting/backtesting.py:954: UserWarning: time=1805: Broker canceled the relative-sized order due to insufficient margin.\n",
      "  warnings.warn(\n",
      "/Users/liantseng/Desktop/udemy/venv/lib/python3.13/site-packages/backtesting/backtesting.py:954: UserWarning: time=1810: Broker canceled the relative-sized order due to insufficient margin.\n",
      "  warnings.warn(\n",
      "/Users/liantseng/Desktop/udemy/venv/lib/python3.13/site-packages/backtesting/backtesting.py:954: UserWarning: time=1811: Broker canceled the relative-sized order due to insufficient margin.\n",
      "  warnings.warn(\n",
      "/Users/liantseng/Desktop/udemy/venv/lib/python3.13/site-packages/backtesting/backtesting.py:954: UserWarning: time=1823: Broker canceled the relative-sized order due to insufficient margin.\n",
      "  warnings.warn(\n",
      "/Users/liantseng/Desktop/udemy/venv/lib/python3.13/site-packages/backtesting/backtesting.py:954: UserWarning: time=1878: Broker canceled the relative-sized order due to insufficient margin.\n",
      "  warnings.warn(\n",
      "/Users/liantseng/Desktop/udemy/venv/lib/python3.13/site-packages/backtesting/backtesting.py:954: UserWarning: time=1907: Broker canceled the relative-sized order due to insufficient margin.\n",
      "  warnings.warn(\n",
      "/Users/liantseng/Desktop/udemy/venv/lib/python3.13/site-packages/backtesting/backtesting.py:954: UserWarning: time=1936: Broker canceled the relative-sized order due to insufficient margin.\n",
      "  warnings.warn(\n",
      "/Users/liantseng/Desktop/udemy/venv/lib/python3.13/site-packages/backtesting/backtesting.py:954: UserWarning: time=1940: Broker canceled the relative-sized order due to insufficient margin.\n",
      "  warnings.warn(\n"
     ]
    },
    {
     "data": {
      "application/vnd.jupyter.widget-view+json": {
       "model_id": "41f7b018e9ae4724917d251fdf4aa28f",
       "version_major": 2,
       "version_minor": 0
      },
      "text/plain": [
       "Backtest.run:   0%|          | 0/3883 [00:00<?, ?bar/s]"
      ]
     },
     "metadata": {},
     "output_type": "display_data"
    },
    {
     "name": "stderr",
     "output_type": "stream",
     "text": [
      "/Users/liantseng/Desktop/udemy/venv/lib/python3.13/site-packages/backtesting/backtesting.py:954: UserWarning: time=1945: Broker canceled the relative-sized order due to insufficient margin.\n",
      "  warnings.warn(\n",
      "/Users/liantseng/Desktop/udemy/venv/lib/python3.13/site-packages/backtesting/backtesting.py:954: UserWarning: time=2004: Broker canceled the relative-sized order due to insufficient margin.\n",
      "  warnings.warn(\n",
      "/Users/liantseng/Desktop/udemy/venv/lib/python3.13/site-packages/backtesting/backtesting.py:954: UserWarning: time=2046: Broker canceled the relative-sized order due to insufficient margin.\n",
      "  warnings.warn(\n",
      "/Users/liantseng/Desktop/udemy/venv/lib/python3.13/site-packages/backtesting/backtesting.py:954: UserWarning: time=2102: Broker canceled the relative-sized order due to insufficient margin.\n",
      "  warnings.warn(\n",
      "/Users/liantseng/Desktop/udemy/venv/lib/python3.13/site-packages/backtesting/backtesting.py:954: UserWarning: time=2104: Broker canceled the relative-sized order due to insufficient margin.\n",
      "  warnings.warn(\n",
      "/Users/liantseng/Desktop/udemy/venv/lib/python3.13/site-packages/backtesting/backtesting.py:954: UserWarning: time=2110: Broker canceled the relative-sized order due to insufficient margin.\n",
      "  warnings.warn(\n",
      "/Users/liantseng/Desktop/udemy/venv/lib/python3.13/site-packages/backtesting/backtesting.py:954: UserWarning: time=2116: Broker canceled the relative-sized order due to insufficient margin.\n",
      "  warnings.warn(\n",
      "/Users/liantseng/Desktop/udemy/venv/lib/python3.13/site-packages/backtesting/backtesting.py:954: UserWarning: time=2124: Broker canceled the relative-sized order due to insufficient margin.\n",
      "  warnings.warn(\n",
      "/Users/liantseng/Desktop/udemy/venv/lib/python3.13/site-packages/backtesting/backtesting.py:954: UserWarning: time=2144: Broker canceled the relative-sized order due to insufficient margin.\n",
      "  warnings.warn(\n",
      "/Users/liantseng/Desktop/udemy/venv/lib/python3.13/site-packages/backtesting/backtesting.py:954: UserWarning: time=2190: Broker canceled the relative-sized order due to insufficient margin.\n",
      "  warnings.warn(\n",
      "/Users/liantseng/Desktop/udemy/venv/lib/python3.13/site-packages/backtesting/backtesting.py:954: UserWarning: time=881: Broker canceled the relative-sized order due to insufficient margin.\n",
      "  warnings.warn(\n",
      "/Users/liantseng/Desktop/udemy/venv/lib/python3.13/site-packages/backtesting/backtesting.py:954: UserWarning: time=891: Broker canceled the relative-sized order due to insufficient margin.\n",
      "  warnings.warn(\n",
      "/Users/liantseng/Desktop/udemy/venv/lib/python3.13/site-packages/backtesting/backtesting.py:954: UserWarning: time=938: Broker canceled the relative-sized order due to insufficient margin.\n",
      "  warnings.warn(\n",
      "/Users/liantseng/Desktop/udemy/venv/lib/python3.13/site-packages/backtesting/backtesting.py:954: UserWarning: time=959: Broker canceled the relative-sized order due to insufficient margin.\n",
      "  warnings.warn(\n",
      "/Users/liantseng/Desktop/udemy/venv/lib/python3.13/site-packages/backtesting/backtesting.py:954: UserWarning: time=1039: Broker canceled the relative-sized order due to insufficient margin.\n",
      "  warnings.warn(\n",
      "/Users/liantseng/Desktop/udemy/venv/lib/python3.13/site-packages/backtesting/backtesting.py:954: UserWarning: time=1051: Broker canceled the relative-sized order due to insufficient margin.\n",
      "  warnings.warn(\n",
      "/Users/liantseng/Desktop/udemy/venv/lib/python3.13/site-packages/backtesting/backtesting.py:954: UserWarning: time=1053: Broker canceled the relative-sized order due to insufficient margin.\n",
      "  warnings.warn(\n",
      "/Users/liantseng/Desktop/udemy/venv/lib/python3.13/site-packages/backtesting/backtesting.py:954: UserWarning: time=1059: Broker canceled the relative-sized order due to insufficient margin.\n",
      "  warnings.warn(\n",
      "/Users/liantseng/Desktop/udemy/venv/lib/python3.13/site-packages/backtesting/backtesting.py:954: UserWarning: time=1110: Broker canceled the relative-sized order due to insufficient margin.\n",
      "  warnings.warn(\n",
      "/Users/liantseng/Desktop/udemy/venv/lib/python3.13/site-packages/backtesting/backtesting.py:954: UserWarning: time=1115: Broker canceled the relative-sized order due to insufficient margin.\n",
      "  warnings.warn(\n",
      "/Users/liantseng/Desktop/udemy/venv/lib/python3.13/site-packages/backtesting/backtesting.py:954: UserWarning: time=1120: Broker canceled the relative-sized order due to insufficient margin.\n",
      "  warnings.warn(\n",
      "/Users/liantseng/Desktop/udemy/venv/lib/python3.13/site-packages/backtesting/backtesting.py:954: UserWarning: time=1131: Broker canceled the relative-sized order due to insufficient margin.\n",
      "  warnings.warn(\n",
      "/Users/liantseng/Desktop/udemy/venv/lib/python3.13/site-packages/backtesting/backtesting.py:954: UserWarning: time=1225: Broker canceled the relative-sized order due to insufficient margin.\n",
      "  warnings.warn(\n",
      "/Users/liantseng/Desktop/udemy/venv/lib/python3.13/site-packages/backtesting/backtesting.py:954: UserWarning: time=1281: Broker canceled the relative-sized order due to insufficient margin.\n",
      "  warnings.warn(\n",
      "/Users/liantseng/Desktop/udemy/venv/lib/python3.13/site-packages/backtesting/backtesting.py:954: UserWarning: time=1294: Broker canceled the relative-sized order due to insufficient margin.\n",
      "  warnings.warn(\n",
      "/Users/liantseng/Desktop/udemy/venv/lib/python3.13/site-packages/backtesting/backtesting.py:954: UserWarning: time=2222: Broker canceled the relative-sized order due to insufficient margin.\n",
      "  warnings.warn(\n",
      "/Users/liantseng/Desktop/udemy/venv/lib/python3.13/site-packages/backtesting/backtesting.py:954: UserWarning: time=2390: Broker canceled the relative-sized order due to insufficient margin.\n",
      "  warnings.warn(\n",
      "/Users/liantseng/Desktop/udemy/venv/lib/python3.13/site-packages/backtesting/backtesting.py:954: UserWarning: time=2393: Broker canceled the relative-sized order due to insufficient margin.\n",
      "  warnings.warn(\n",
      "/Users/liantseng/Desktop/udemy/venv/lib/python3.13/site-packages/backtesting/backtesting.py:954: UserWarning: time=2411: Broker canceled the relative-sized order due to insufficient margin.\n",
      "  warnings.warn(\n",
      "/Users/liantseng/Desktop/udemy/venv/lib/python3.13/site-packages/backtesting/backtesting.py:954: UserWarning: time=2420: Broker canceled the relative-sized order due to insufficient margin.\n",
      "  warnings.warn(\n",
      "/Users/liantseng/Desktop/udemy/venv/lib/python3.13/site-packages/backtesting/backtesting.py:954: UserWarning: time=2428: Broker canceled the relative-sized order due to insufficient margin.\n",
      "  warnings.warn(\n",
      "/Users/liantseng/Desktop/udemy/venv/lib/python3.13/site-packages/backtesting/backtesting.py:954: UserWarning: time=2511: Broker canceled the relative-sized order due to insufficient margin.\n",
      "  warnings.warn(\n",
      "/Users/liantseng/Desktop/udemy/venv/lib/python3.13/site-packages/backtesting/backtesting.py:954: UserWarning: time=2571: Broker canceled the relative-sized order due to insufficient margin.\n",
      "  warnings.warn(\n",
      "/Users/liantseng/Desktop/udemy/venv/lib/python3.13/site-packages/backtesting/backtesting.py:954: UserWarning: time=1334: Broker canceled the relative-sized order due to insufficient margin.\n",
      "  warnings.warn(\n",
      "/Users/liantseng/Desktop/udemy/venv/lib/python3.13/site-packages/backtesting/backtesting.py:954: UserWarning: time=1359: Broker canceled the relative-sized order due to insufficient margin.\n",
      "  warnings.warn(\n",
      "/Users/liantseng/Desktop/udemy/venv/lib/python3.13/site-packages/backtesting/backtesting.py:954: UserWarning: time=1412: Broker canceled the relative-sized order due to insufficient margin.\n",
      "  warnings.warn(\n",
      "/Users/liantseng/Desktop/udemy/venv/lib/python3.13/site-packages/backtesting/backtesting.py:954: UserWarning: time=1447: Broker canceled the relative-sized order due to insufficient margin.\n",
      "  warnings.warn(\n",
      "/Users/liantseng/Desktop/udemy/venv/lib/python3.13/site-packages/backtesting/backtesting.py:954: UserWarning: time=1469: Broker canceled the relative-sized order due to insufficient margin.\n",
      "  warnings.warn(\n",
      "/Users/liantseng/Desktop/udemy/venv/lib/python3.13/site-packages/backtesting/backtesting.py:954: UserWarning: time=1486: Broker canceled the relative-sized order due to insufficient margin.\n",
      "  warnings.warn(\n",
      "/Users/liantseng/Desktop/udemy/venv/lib/python3.13/site-packages/backtesting/backtesting.py:954: UserWarning: time=1499: Broker canceled the relative-sized order due to insufficient margin.\n",
      "  warnings.warn(\n",
      "/Users/liantseng/Desktop/udemy/venv/lib/python3.13/site-packages/backtesting/backtesting.py:954: UserWarning: time=1512: Broker canceled the relative-sized order due to insufficient margin.\n",
      "  warnings.warn(\n",
      "/Users/liantseng/Desktop/udemy/venv/lib/python3.13/site-packages/backtesting/backtesting.py:954: UserWarning: time=1588: Broker canceled the relative-sized order due to insufficient margin.\n",
      "  warnings.warn(\n",
      "/Users/liantseng/Desktop/udemy/venv/lib/python3.13/site-packages/backtesting/backtesting.py:954: UserWarning: time=1602: Broker canceled the relative-sized order due to insufficient margin.\n",
      "  warnings.warn(\n",
      "/Users/liantseng/Desktop/udemy/venv/lib/python3.13/site-packages/backtesting/backtesting.py:954: UserWarning: time=1626: Broker canceled the relative-sized order due to insufficient margin.\n",
      "  warnings.warn(\n",
      "/Users/liantseng/Desktop/udemy/venv/lib/python3.13/site-packages/backtesting/backtesting.py:954: UserWarning: time=2590: Broker canceled the relative-sized order due to insufficient margin.\n",
      "  warnings.warn(\n",
      "/Users/liantseng/Desktop/udemy/venv/lib/python3.13/site-packages/backtesting/backtesting.py:954: UserWarning: time=2630: Broker canceled the relative-sized order due to insufficient margin.\n",
      "  warnings.warn(\n",
      "/Users/liantseng/Desktop/udemy/venv/lib/python3.13/site-packages/backtesting/backtesting.py:954: UserWarning: time=2725: Broker canceled the relative-sized order due to insufficient margin.\n",
      "  warnings.warn(\n",
      "/Users/liantseng/Desktop/udemy/venv/lib/python3.13/site-packages/backtesting/backtesting.py:954: UserWarning: time=2741: Broker canceled the relative-sized order due to insufficient margin.\n",
      "  warnings.warn(\n",
      "/Users/liantseng/Desktop/udemy/venv/lib/python3.13/site-packages/backtesting/backtesting.py:954: UserWarning: time=2754: Broker canceled the relative-sized order due to insufficient margin.\n",
      "  warnings.warn(\n",
      "/Users/liantseng/Desktop/udemy/venv/lib/python3.13/site-packages/backtesting/backtesting.py:954: UserWarning: time=2766: Broker canceled the relative-sized order due to insufficient margin.\n",
      "  warnings.warn(\n",
      "/Users/liantseng/Desktop/udemy/venv/lib/python3.13/site-packages/backtesting/backtesting.py:954: UserWarning: time=2767: Broker canceled the relative-sized order due to insufficient margin.\n",
      "  warnings.warn(\n",
      "/Users/liantseng/Desktop/udemy/venv/lib/python3.13/site-packages/backtesting/backtesting.py:954: UserWarning: time=2786: Broker canceled the relative-sized order due to insufficient margin.\n",
      "  warnings.warn(\n",
      "/Users/liantseng/Desktop/udemy/venv/lib/python3.13/site-packages/backtesting/backtesting.py:954: UserWarning: time=2872: Broker canceled the relative-sized order due to insufficient margin.\n",
      "  warnings.warn(\n",
      "/Users/liantseng/Desktop/udemy/venv/lib/python3.13/site-packages/backtesting/backtesting.py:954: UserWarning: time=2905: Broker canceled the relative-sized order due to insufficient margin.\n",
      "  warnings.warn(\n",
      "/Users/liantseng/Desktop/udemy/venv/lib/python3.13/site-packages/backtesting/backtesting.py:954: UserWarning: time=2910: Broker canceled the relative-sized order due to insufficient margin.\n",
      "  warnings.warn(\n",
      "/Users/liantseng/Desktop/udemy/venv/lib/python3.13/site-packages/backtesting/backtesting.py:954: UserWarning: time=2912: Broker canceled the relative-sized order due to insufficient margin.\n",
      "  warnings.warn(\n",
      "/Users/liantseng/Desktop/udemy/venv/lib/python3.13/site-packages/backtesting/backtesting.py:954: UserWarning: time=2953: Broker canceled the relative-sized order due to insufficient margin.\n",
      "  warnings.warn(\n",
      "/Users/liantseng/Desktop/udemy/venv/lib/python3.13/site-packages/backtesting/backtesting.py:954: UserWarning: time=2955: Broker canceled the relative-sized order due to insufficient margin.\n",
      "  warnings.warn(\n",
      "/Users/liantseng/Desktop/udemy/venv/lib/python3.13/site-packages/backtesting/backtesting.py:954: UserWarning: time=2967: Broker canceled the relative-sized order due to insufficient margin.\n",
      "  warnings.warn(\n",
      "/Users/liantseng/Desktop/udemy/venv/lib/python3.13/site-packages/backtesting/backtesting.py:954: UserWarning: time=1789: Broker canceled the relative-sized order due to insufficient margin.\n",
      "  warnings.warn(\n",
      "/Users/liantseng/Desktop/udemy/venv/lib/python3.13/site-packages/backtesting/backtesting.py:954: UserWarning: time=1814: Broker canceled the relative-sized order due to insufficient margin.\n",
      "  warnings.warn(\n",
      "/Users/liantseng/Desktop/udemy/venv/lib/python3.13/site-packages/backtesting/backtesting.py:954: UserWarning: time=1816: Broker canceled the relative-sized order due to insufficient margin.\n",
      "  warnings.warn(\n",
      "/Users/liantseng/Desktop/udemy/venv/lib/python3.13/site-packages/backtesting/backtesting.py:954: UserWarning: time=1828: Broker canceled the relative-sized order due to insufficient margin.\n",
      "  warnings.warn(\n",
      "/Users/liantseng/Desktop/udemy/venv/lib/python3.13/site-packages/backtesting/backtesting.py:954: UserWarning: time=1883: Broker canceled the relative-sized order due to insufficient margin.\n",
      "  warnings.warn(\n",
      "/Users/liantseng/Desktop/udemy/venv/lib/python3.13/site-packages/backtesting/backtesting.py:954: UserWarning: time=2980: Broker canceled the relative-sized order due to insufficient margin.\n",
      "  warnings.warn(\n",
      "/Users/liantseng/Desktop/udemy/venv/lib/python3.13/site-packages/backtesting/backtesting.py:954: UserWarning: time=3020: Broker canceled the relative-sized order due to insufficient margin.\n",
      "  warnings.warn(\n",
      "/Users/liantseng/Desktop/udemy/venv/lib/python3.13/site-packages/backtesting/backtesting.py:954: UserWarning: time=3021: Broker canceled the relative-sized order due to insufficient margin.\n",
      "  warnings.warn(\n",
      "/Users/liantseng/Desktop/udemy/venv/lib/python3.13/site-packages/backtesting/backtesting.py:954: UserWarning: time=3022: Broker canceled the relative-sized order due to insufficient margin.\n",
      "  warnings.warn(\n",
      "/Users/liantseng/Desktop/udemy/venv/lib/python3.13/site-packages/backtesting/backtesting.py:954: UserWarning: time=3097: Broker canceled the relative-sized order due to insufficient margin.\n",
      "  warnings.warn(\n",
      "/Users/liantseng/Desktop/udemy/venv/lib/python3.13/site-packages/backtesting/backtesting.py:954: UserWarning: time=3105: Broker canceled the relative-sized order due to insufficient margin.\n",
      "  warnings.warn(\n",
      "/Users/liantseng/Desktop/udemy/venv/lib/python3.13/site-packages/backtesting/backtesting.py:954: UserWarning: time=3169: Broker canceled the relative-sized order due to insufficient margin.\n",
      "  warnings.warn(\n",
      "/Users/liantseng/Desktop/udemy/venv/lib/python3.13/site-packages/backtesting/backtesting.py:954: UserWarning: time=3182: Broker canceled the relative-sized order due to insufficient margin.\n",
      "  warnings.warn(\n",
      "/Users/liantseng/Desktop/udemy/venv/lib/python3.13/site-packages/backtesting/backtesting.py:954: UserWarning: time=3183: Broker canceled the relative-sized order due to insufficient margin.\n",
      "  warnings.warn(\n",
      "/Users/liantseng/Desktop/udemy/venv/lib/python3.13/site-packages/backtesting/backtesting.py:954: UserWarning: time=3203: Broker canceled the relative-sized order due to insufficient margin.\n",
      "  warnings.warn(\n",
      "/Users/liantseng/Desktop/udemy/venv/lib/python3.13/site-packages/backtesting/backtesting.py:954: UserWarning: time=3244: Broker canceled the relative-sized order due to insufficient margin.\n",
      "  warnings.warn(\n",
      "/Users/liantseng/Desktop/udemy/venv/lib/python3.13/site-packages/backtesting/backtesting.py:954: UserWarning: time=3301: Broker canceled the relative-sized order due to insufficient margin.\n",
      "  warnings.warn(\n",
      "/Users/liantseng/Desktop/udemy/venv/lib/python3.13/site-packages/backtesting/backtesting.py:954: UserWarning: time=3310: Broker canceled the relative-sized order due to insufficient margin.\n",
      "  warnings.warn(\n",
      "/Users/liantseng/Desktop/udemy/venv/lib/python3.13/site-packages/backtesting/backtesting.py:954: UserWarning: time=3311: Broker canceled the relative-sized order due to insufficient margin.\n",
      "  warnings.warn(\n",
      "/Users/liantseng/Desktop/udemy/venv/lib/python3.13/site-packages/backtesting/backtesting.py:954: UserWarning: time=3410: Broker canceled the relative-sized order due to insufficient margin.\n",
      "  warnings.warn(\n",
      "/Users/liantseng/Desktop/udemy/venv/lib/python3.13/site-packages/backtesting/backtesting.py:954: UserWarning: time=3414: Broker canceled the relative-sized order due to insufficient margin.\n",
      "  warnings.warn(\n",
      "/Users/liantseng/Desktop/udemy/venv/lib/python3.13/site-packages/backtesting/backtesting.py:954: UserWarning: time=3424: Broker canceled the relative-sized order due to insufficient margin.\n",
      "  warnings.warn(\n",
      "/Users/liantseng/Desktop/udemy/venv/lib/python3.13/site-packages/backtesting/backtesting.py:954: UserWarning: time=3431: Broker canceled the relative-sized order due to insufficient margin.\n",
      "  warnings.warn(\n",
      "/Users/liantseng/Desktop/udemy/venv/lib/python3.13/site-packages/backtesting/backtesting.py:954: UserWarning: time=3437: Broker canceled the relative-sized order due to insufficient margin.\n",
      "  warnings.warn(\n",
      "/Users/liantseng/Desktop/udemy/venv/lib/python3.13/site-packages/backtesting/backtesting.py:954: UserWarning: time=3440: Broker canceled the relative-sized order due to insufficient margin.\n",
      "  warnings.warn(\n",
      "/Users/liantseng/Desktop/udemy/venv/lib/python3.13/site-packages/backtesting/backtesting.py:954: UserWarning: time=3441: Broker canceled the relative-sized order due to insufficient margin.\n",
      "  warnings.warn(\n",
      "/Users/liantseng/Desktop/udemy/venv/lib/python3.13/site-packages/backtesting/backtesting.py:954: UserWarning: time=3446: Broker canceled the relative-sized order due to insufficient margin.\n",
      "  warnings.warn(\n",
      "/Users/liantseng/Desktop/udemy/venv/lib/python3.13/site-packages/backtesting/backtesting.py:954: UserWarning: time=3503: Broker canceled the relative-sized order due to insufficient margin.\n",
      "  warnings.warn(\n",
      "/Users/liantseng/Desktop/udemy/venv/lib/python3.13/site-packages/backtesting/backtesting.py:954: UserWarning: time=3512: Broker canceled the relative-sized order due to insufficient margin.\n",
      "  warnings.warn(\n",
      "/Users/liantseng/Desktop/udemy/venv/lib/python3.13/site-packages/backtesting/backtesting.py:954: UserWarning: time=3518: Broker canceled the relative-sized order due to insufficient margin.\n",
      "  warnings.warn(\n",
      "/Users/liantseng/Desktop/udemy/venv/lib/python3.13/site-packages/backtesting/backtesting.py:954: UserWarning: time=3541: Broker canceled the relative-sized order due to insufficient margin.\n",
      "  warnings.warn(\n",
      "/Users/liantseng/Desktop/udemy/venv/lib/python3.13/site-packages/backtesting/backtesting.py:954: UserWarning: time=3547: Broker canceled the relative-sized order due to insufficient margin.\n",
      "  warnings.warn(\n",
      "/Users/liantseng/Desktop/udemy/venv/lib/python3.13/site-packages/backtesting/backtesting.py:954: UserWarning: time=3550: Broker canceled the relative-sized order due to insufficient margin.\n",
      "  warnings.warn(\n",
      "/Users/liantseng/Desktop/udemy/venv/lib/python3.13/site-packages/backtesting/backtesting.py:954: UserWarning: time=3574: Broker canceled the relative-sized order due to insufficient margin.\n",
      "  warnings.warn(\n",
      "/Users/liantseng/Desktop/udemy/venv/lib/python3.13/site-packages/backtesting/backtesting.py:954: UserWarning: time=3611: Broker canceled the relative-sized order due to insufficient margin.\n",
      "  warnings.warn(\n",
      "/Users/liantseng/Desktop/udemy/venv/lib/python3.13/site-packages/backtesting/backtesting.py:954: UserWarning: time=3632: Broker canceled the relative-sized order due to insufficient margin.\n",
      "  warnings.warn(\n",
      "/Users/liantseng/Desktop/udemy/venv/lib/python3.13/site-packages/backtesting/backtesting.py:954: UserWarning: time=3652: Broker canceled the relative-sized order due to insufficient margin.\n",
      "  warnings.warn(\n",
      "/Users/liantseng/Desktop/udemy/venv/lib/python3.13/site-packages/backtesting/backtesting.py:954: UserWarning: time=3657: Broker canceled the relative-sized order due to insufficient margin.\n",
      "  warnings.warn(\n",
      "/Users/liantseng/Desktop/udemy/venv/lib/python3.13/site-packages/backtesting/backtesting.py:954: UserWarning: time=3661: Broker canceled the relative-sized order due to insufficient margin.\n",
      "  warnings.warn(\n",
      "/Users/liantseng/Desktop/udemy/venv/lib/python3.13/site-packages/backtesting/backtesting.py:954: UserWarning: time=3669: Broker canceled the relative-sized order due to insufficient margin.\n",
      "  warnings.warn(\n",
      "/Users/liantseng/Desktop/udemy/venv/lib/python3.13/site-packages/backtesting/backtesting.py:954: UserWarning: time=3676: Broker canceled the relative-sized order due to insufficient margin.\n",
      "  warnings.warn(\n",
      "/Users/liantseng/Desktop/udemy/venv/lib/python3.13/site-packages/backtesting/backtesting.py:954: UserWarning: time=3775: Broker canceled the relative-sized order due to insufficient margin.\n",
      "  warnings.warn(\n",
      "/Users/liantseng/Desktop/udemy/venv/lib/python3.13/site-packages/backtesting/backtesting.py:954: UserWarning: time=3790: Broker canceled the relative-sized order due to insufficient margin.\n",
      "  warnings.warn(\n",
      "/Users/liantseng/Desktop/udemy/venv/lib/python3.13/site-packages/backtesting/backtesting.py:954: UserWarning: time=3816: Broker canceled the relative-sized order due to insufficient margin.\n",
      "  warnings.warn(\n",
      "/Users/liantseng/Desktop/udemy/venv/lib/python3.13/site-packages/backtesting/backtesting.py:954: UserWarning: time=3869: Broker canceled the relative-sized order due to insufficient margin.\n",
      "  warnings.warn(\n",
      "/Users/liantseng/Desktop/udemy/venv/lib/python3.13/site-packages/backtesting/backtesting.py:954: UserWarning: time=1044: Broker canceled the relative-sized order due to insufficient margin.\n",
      "  warnings.warn(\n",
      "/Users/liantseng/Desktop/udemy/venv/lib/python3.13/site-packages/backtesting/backtesting.py:954: UserWarning: time=1054: Broker canceled the relative-sized order due to insufficient margin.\n",
      "  warnings.warn(\n",
      "/Users/liantseng/Desktop/udemy/venv/lib/python3.13/site-packages/backtesting/backtesting.py:954: UserWarning: time=1115: Broker canceled the relative-sized order due to insufficient margin.\n",
      "  warnings.warn(\n",
      "/Users/liantseng/Desktop/udemy/venv/lib/python3.13/site-packages/backtesting/backtesting.py:954: UserWarning: time=1120: Broker canceled the relative-sized order due to insufficient margin.\n",
      "  warnings.warn(\n",
      "/Users/liantseng/Desktop/udemy/venv/lib/python3.13/site-packages/backtesting/backtesting.py:954: UserWarning: time=1128: Broker canceled the relative-sized order due to insufficient margin.\n",
      "  warnings.warn(\n",
      "/Users/liantseng/Desktop/udemy/venv/lib/python3.13/site-packages/backtesting/backtesting.py:954: UserWarning: time=1135: Broker canceled the relative-sized order due to insufficient margin.\n",
      "  warnings.warn(\n",
      "/Users/liantseng/Desktop/udemy/venv/lib/python3.13/site-packages/backtesting/backtesting.py:954: UserWarning: time=1230: Broker canceled the relative-sized order due to insufficient margin.\n",
      "  warnings.warn(\n",
      "/Users/liantseng/Desktop/udemy/venv/lib/python3.13/site-packages/backtesting/backtesting.py:954: UserWarning: time=1287: Broker canceled the relative-sized order due to insufficient margin.\n",
      "  warnings.warn(\n",
      "/Users/liantseng/Desktop/udemy/venv/lib/python3.13/site-packages/backtesting/backtesting.py:954: UserWarning: time=1299: Broker canceled the relative-sized order due to insufficient margin.\n",
      "  warnings.warn(\n",
      "/Users/liantseng/Desktop/udemy/venv/lib/python3.13/site-packages/backtesting/backtesting.py:954: UserWarning: time=1329: Broker canceled the relative-sized order due to insufficient margin.\n",
      "  warnings.warn(\n",
      "/Users/liantseng/Desktop/udemy/venv/lib/python3.13/site-packages/backtesting/backtesting.py:954: UserWarning: time=1331: Broker canceled the relative-sized order due to insufficient margin.\n",
      "  warnings.warn(\n",
      "/Users/liantseng/Desktop/udemy/venv/lib/python3.13/site-packages/backtesting/backtesting.py:954: UserWarning: time=1339: Broker canceled the relative-sized order due to insufficient margin.\n",
      "  warnings.warn(\n",
      "/Users/liantseng/Desktop/udemy/venv/lib/python3.13/site-packages/backtesting/backtesting.py:954: UserWarning: time=1363: Broker canceled the relative-sized order due to insufficient margin.\n",
      "  warnings.warn(\n",
      "/Users/liantseng/Desktop/udemy/venv/lib/python3.13/site-packages/backtesting/backtesting.py:954: UserWarning: time=1416: Broker canceled the relative-sized order due to insufficient margin.\n",
      "  warnings.warn(\n",
      "/Users/liantseng/Desktop/udemy/venv/lib/python3.13/site-packages/backtesting/backtesting.py:954: UserWarning: time=1452: Broker canceled the relative-sized order due to insufficient margin.\n",
      "  warnings.warn(\n",
      "/Users/liantseng/Desktop/udemy/venv/lib/python3.13/site-packages/backtesting/backtesting.py:954: UserWarning: time=1474: Broker canceled the relative-sized order due to insufficient margin.\n",
      "  warnings.warn(\n",
      "/Users/liantseng/Desktop/udemy/venv/lib/python3.13/site-packages/backtesting/backtesting.py:954: UserWarning: time=1490: Broker canceled the relative-sized order due to insufficient margin.\n",
      "  warnings.warn(\n",
      "/Users/liantseng/Desktop/udemy/venv/lib/python3.13/site-packages/backtesting/backtesting.py:954: UserWarning: time=1504: Broker canceled the relative-sized order due to insufficient margin.\n",
      "  warnings.warn(\n",
      "/Users/liantseng/Desktop/udemy/venv/lib/python3.13/site-packages/backtesting/backtesting.py:954: UserWarning: time=1517: Broker canceled the relative-sized order due to insufficient margin.\n",
      "  warnings.warn(\n",
      "/Users/liantseng/Desktop/udemy/venv/lib/python3.13/site-packages/backtesting/backtesting.py:954: UserWarning: time=1593: Broker canceled the relative-sized order due to insufficient margin.\n",
      "  warnings.warn(\n",
      "/Users/liantseng/Desktop/udemy/venv/lib/python3.13/site-packages/backtesting/backtesting.py:954: UserWarning: time=1607: Broker canceled the relative-sized order due to insufficient margin.\n",
      "  warnings.warn(\n",
      "/Users/liantseng/Desktop/udemy/venv/lib/python3.13/site-packages/backtesting/backtesting.py:954: UserWarning: time=1631: Broker canceled the relative-sized order due to insufficient margin.\n",
      "  warnings.warn(\n",
      "/Users/liantseng/Desktop/udemy/venv/lib/python3.13/site-packages/backtesting/backtesting.py:954: UserWarning: time=1794: Broker canceled the relative-sized order due to insufficient margin.\n",
      "  warnings.warn(\n",
      "/Users/liantseng/Desktop/udemy/venv/lib/python3.13/site-packages/backtesting/backtesting.py:954: UserWarning: time=1815: Broker canceled the relative-sized order due to insufficient margin.\n",
      "  warnings.warn(\n",
      "/Users/liantseng/Desktop/udemy/venv/lib/python3.13/site-packages/backtesting/backtesting.py:954: UserWarning: time=1819: Broker canceled the relative-sized order due to insufficient margin.\n",
      "  warnings.warn(\n",
      "/Users/liantseng/Desktop/udemy/venv/lib/python3.13/site-packages/backtesting/backtesting.py:954: UserWarning: time=1821: Broker canceled the relative-sized order due to insufficient margin.\n",
      "  warnings.warn(\n",
      "/Users/liantseng/Desktop/udemy/venv/lib/python3.13/site-packages/backtesting/backtesting.py:954: UserWarning: time=1833: Broker canceled the relative-sized order due to insufficient margin.\n",
      "  warnings.warn(\n",
      "/Users/liantseng/Desktop/udemy/venv/lib/python3.13/site-packages/backtesting/backtesting.py:954: UserWarning: time=1888: Broker canceled the relative-sized order due to insufficient margin.\n",
      "  warnings.warn(\n",
      "/Users/liantseng/Desktop/udemy/venv/lib/python3.13/site-packages/backtesting/backtesting.py:954: UserWarning: time=1902: Broker canceled the relative-sized order due to insufficient margin.\n",
      "  warnings.warn(\n",
      "/Users/liantseng/Desktop/udemy/venv/lib/python3.13/site-packages/backtesting/backtesting.py:954: UserWarning: time=1905: Broker canceled the relative-sized order due to insufficient margin.\n",
      "  warnings.warn(\n",
      "/Users/liantseng/Desktop/udemy/venv/lib/python3.13/site-packages/backtesting/backtesting.py:954: UserWarning: time=1916: Broker canceled the relative-sized order due to insufficient margin.\n",
      "  warnings.warn(\n",
      "/Users/liantseng/Desktop/udemy/venv/lib/python3.13/site-packages/backtesting/backtesting.py:954: UserWarning: time=1946: Broker canceled the relative-sized order due to insufficient margin.\n",
      "  warnings.warn(\n",
      "/Users/liantseng/Desktop/udemy/venv/lib/python3.13/site-packages/backtesting/backtesting.py:954: UserWarning: time=2011: Broker canceled the relative-sized order due to insufficient margin.\n",
      "  warnings.warn(\n",
      "/Users/liantseng/Desktop/udemy/venv/lib/python3.13/site-packages/backtesting/backtesting.py:954: UserWarning: time=2055: Broker canceled the relative-sized order due to insufficient margin.\n",
      "  warnings.warn(\n",
      "/Users/liantseng/Desktop/udemy/venv/lib/python3.13/site-packages/backtesting/backtesting.py:954: UserWarning: time=2112: Broker canceled the relative-sized order due to insufficient margin.\n",
      "  warnings.warn(\n",
      "/Users/liantseng/Desktop/udemy/venv/lib/python3.13/site-packages/backtesting/backtesting.py:954: UserWarning: time=2114: Broker canceled the relative-sized order due to insufficient margin.\n",
      "  warnings.warn(\n",
      "/Users/liantseng/Desktop/udemy/venv/lib/python3.13/site-packages/backtesting/backtesting.py:954: UserWarning: time=2120: Broker canceled the relative-sized order due to insufficient margin.\n",
      "  warnings.warn(\n",
      "/Users/liantseng/Desktop/udemy/venv/lib/python3.13/site-packages/backtesting/backtesting.py:954: UserWarning: time=2126: Broker canceled the relative-sized order due to insufficient margin.\n",
      "  warnings.warn(\n",
      "/Users/liantseng/Desktop/udemy/venv/lib/python3.13/site-packages/backtesting/backtesting.py:954: UserWarning: time=2134: Broker canceled the relative-sized order due to insufficient margin.\n",
      "  warnings.warn(\n",
      "/Users/liantseng/Desktop/udemy/venv/lib/python3.13/site-packages/backtesting/backtesting.py:954: UserWarning: time=2148: Broker canceled the relative-sized order due to insufficient margin.\n",
      "  warnings.warn(\n",
      "/Users/liantseng/Desktop/udemy/venv/lib/python3.13/site-packages/backtesting/backtesting.py:954: UserWarning: time=2197: Broker canceled the relative-sized order due to insufficient margin.\n",
      "  warnings.warn(\n",
      "/Users/liantseng/Desktop/udemy/venv/lib/python3.13/site-packages/backtesting/backtesting.py:954: UserWarning: time=2231: Broker canceled the relative-sized order due to insufficient margin.\n",
      "  warnings.warn(\n",
      "/Users/liantseng/Desktop/udemy/venv/lib/python3.13/site-packages/backtesting/backtesting.py:954: UserWarning: time=2420: Broker canceled the relative-sized order due to insufficient margin.\n",
      "  warnings.warn(\n",
      "/Users/liantseng/Desktop/udemy/venv/lib/python3.13/site-packages/backtesting/backtesting.py:954: UserWarning: time=2430: Broker canceled the relative-sized order due to insufficient margin.\n",
      "  warnings.warn(\n",
      "/Users/liantseng/Desktop/udemy/venv/lib/python3.13/site-packages/backtesting/backtesting.py:954: UserWarning: time=2437: Broker canceled the relative-sized order due to insufficient margin.\n",
      "  warnings.warn(\n",
      "/Users/liantseng/Desktop/udemy/venv/lib/python3.13/site-packages/backtesting/backtesting.py:954: UserWarning: time=1912: Broker canceled the relative-sized order due to insufficient margin.\n",
      "  warnings.warn(\n",
      "/Users/liantseng/Desktop/udemy/venv/lib/python3.13/site-packages/backtesting/backtesting.py:954: UserWarning: time=1941: Broker canceled the relative-sized order due to insufficient margin.\n",
      "  warnings.warn(\n",
      "/Users/liantseng/Desktop/udemy/venv/lib/python3.13/site-packages/backtesting/backtesting.py:954: UserWarning: time=1948: Broker canceled the relative-sized order due to insufficient margin.\n",
      "  warnings.warn(\n",
      "/Users/liantseng/Desktop/udemy/venv/lib/python3.13/site-packages/backtesting/backtesting.py:954: UserWarning: time=2007: Broker canceled the relative-sized order due to insufficient margin.\n",
      "  warnings.warn(\n",
      "/Users/liantseng/Desktop/udemy/venv/lib/python3.13/site-packages/backtesting/backtesting.py:954: UserWarning: time=2051: Broker canceled the relative-sized order due to insufficient margin.\n",
      "  warnings.warn(\n",
      "/Users/liantseng/Desktop/udemy/venv/lib/python3.13/site-packages/backtesting/backtesting.py:954: UserWarning: time=2107: Broker canceled the relative-sized order due to insufficient margin.\n",
      "  warnings.warn(\n",
      "/Users/liantseng/Desktop/udemy/venv/lib/python3.13/site-packages/backtesting/backtesting.py:954: UserWarning: time=2109: Broker canceled the relative-sized order due to insufficient margin.\n",
      "  warnings.warn(\n",
      "/Users/liantseng/Desktop/udemy/venv/lib/python3.13/site-packages/backtesting/backtesting.py:954: UserWarning: time=2115: Broker canceled the relative-sized order due to insufficient margin.\n",
      "  warnings.warn(\n",
      "/Users/liantseng/Desktop/udemy/venv/lib/python3.13/site-packages/backtesting/backtesting.py:954: UserWarning: time=2121: Broker canceled the relative-sized order due to insufficient margin.\n",
      "  warnings.warn(\n",
      "/Users/liantseng/Desktop/udemy/venv/lib/python3.13/site-packages/backtesting/backtesting.py:954: UserWarning: time=2129: Broker canceled the relative-sized order due to insufficient margin.\n",
      "  warnings.warn(\n",
      "/Users/liantseng/Desktop/udemy/venv/lib/python3.13/site-packages/backtesting/backtesting.py:954: UserWarning: time=2144: Broker canceled the relative-sized order due to insufficient margin.\n",
      "  warnings.warn(\n",
      "/Users/liantseng/Desktop/udemy/venv/lib/python3.13/site-packages/backtesting/backtesting.py:954: UserWarning: time=2193: Broker canceled the relative-sized order due to insufficient margin.\n",
      "  warnings.warn(\n",
      "/Users/liantseng/Desktop/udemy/venv/lib/python3.13/site-packages/backtesting/backtesting.py:954: UserWarning: time=2227: Broker canceled the relative-sized order due to insufficient margin.\n",
      "  warnings.warn(\n",
      "/Users/liantseng/Desktop/udemy/venv/lib/python3.13/site-packages/backtesting/backtesting.py:954: UserWarning: time=2395: Broker canceled the relative-sized order due to insufficient margin.\n",
      "  warnings.warn(\n",
      "/Users/liantseng/Desktop/udemy/venv/lib/python3.13/site-packages/backtesting/backtesting.py:954: UserWarning: time=2397: Broker canceled the relative-sized order due to insufficient margin.\n",
      "  warnings.warn(\n",
      "/Users/liantseng/Desktop/udemy/venv/lib/python3.13/site-packages/backtesting/backtesting.py:954: UserWarning: time=2415: Broker canceled the relative-sized order due to insufficient margin.\n",
      "  warnings.warn(\n",
      "/Users/liantseng/Desktop/udemy/venv/lib/python3.13/site-packages/backtesting/backtesting.py:954: UserWarning: time=2425: Broker canceled the relative-sized order due to insufficient margin.\n",
      "  warnings.warn(\n",
      "/Users/liantseng/Desktop/udemy/venv/lib/python3.13/site-packages/backtesting/backtesting.py:954: UserWarning: time=2432: Broker canceled the relative-sized order due to insufficient margin.\n",
      "  warnings.warn(\n",
      "/Users/liantseng/Desktop/udemy/venv/lib/python3.13/site-packages/backtesting/backtesting.py:954: UserWarning: time=2516: Broker canceled the relative-sized order due to insufficient margin.\n",
      "  warnings.warn(\n",
      "/Users/liantseng/Desktop/udemy/venv/lib/python3.13/site-packages/backtesting/backtesting.py:954: UserWarning: time=2576: Broker canceled the relative-sized order due to insufficient margin.\n",
      "  warnings.warn(\n",
      "/Users/liantseng/Desktop/udemy/venv/lib/python3.13/site-packages/backtesting/backtesting.py:954: UserWarning: time=2585: Broker canceled the relative-sized order due to insufficient margin.\n",
      "  warnings.warn(\n",
      "/Users/liantseng/Desktop/udemy/venv/lib/python3.13/site-packages/backtesting/backtesting.py:954: UserWarning: time=2592: Broker canceled the relative-sized order due to insufficient margin.\n",
      "  warnings.warn(\n",
      "/Users/liantseng/Desktop/udemy/venv/lib/python3.13/site-packages/backtesting/backtesting.py:954: UserWarning: time=2593: Broker canceled the relative-sized order due to insufficient margin.\n",
      "  warnings.warn(\n",
      "/Users/liantseng/Desktop/udemy/venv/lib/python3.13/site-packages/backtesting/backtesting.py:954: UserWarning: time=2520: Broker canceled the relative-sized order due to insufficient margin.\n",
      "  warnings.warn(\n",
      "/Users/liantseng/Desktop/udemy/venv/lib/python3.13/site-packages/backtesting/backtesting.py:954: UserWarning: time=2582: Broker canceled the relative-sized order due to insufficient margin.\n",
      "  warnings.warn(\n",
      "/Users/liantseng/Desktop/udemy/venv/lib/python3.13/site-packages/backtesting/backtesting.py:954: UserWarning: time=2586: Broker canceled the relative-sized order due to insufficient margin.\n",
      "  warnings.warn(\n",
      "/Users/liantseng/Desktop/udemy/venv/lib/python3.13/site-packages/backtesting/backtesting.py:954: UserWarning: time=2639: Broker canceled the relative-sized order due to insufficient margin.\n",
      "  warnings.warn(\n",
      "/Users/liantseng/Desktop/udemy/venv/lib/python3.13/site-packages/backtesting/backtesting.py:954: UserWarning: time=2735: Broker canceled the relative-sized order due to insufficient margin.\n",
      "  warnings.warn(\n",
      "/Users/liantseng/Desktop/udemy/venv/lib/python3.13/site-packages/backtesting/backtesting.py:954: UserWarning: time=2752: Broker canceled the relative-sized order due to insufficient margin.\n",
      "  warnings.warn(\n",
      "/Users/liantseng/Desktop/udemy/venv/lib/python3.13/site-packages/backtesting/backtesting.py:954: UserWarning: time=2635: Broker canceled the relative-sized order due to insufficient margin.\n",
      "  warnings.warn(\n",
      "/Users/liantseng/Desktop/udemy/venv/lib/python3.13/site-packages/backtesting/backtesting.py:954: UserWarning: time=2730: Broker canceled the relative-sized order due to insufficient margin.\n",
      "  warnings.warn(\n",
      "/Users/liantseng/Desktop/udemy/venv/lib/python3.13/site-packages/backtesting/backtesting.py:954: UserWarning: time=2746: Broker canceled the relative-sized order due to insufficient margin.\n",
      "  warnings.warn(\n",
      "/Users/liantseng/Desktop/udemy/venv/lib/python3.13/site-packages/backtesting/backtesting.py:954: UserWarning: time=2759: Broker canceled the relative-sized order due to insufficient margin.\n",
      "  warnings.warn(\n",
      "/Users/liantseng/Desktop/udemy/venv/lib/python3.13/site-packages/backtesting/backtesting.py:954: UserWarning: time=2770: Broker canceled the relative-sized order due to insufficient margin.\n",
      "  warnings.warn(\n",
      "/Users/liantseng/Desktop/udemy/venv/lib/python3.13/site-packages/backtesting/backtesting.py:954: UserWarning: time=2772: Broker canceled the relative-sized order due to insufficient margin.\n",
      "  warnings.warn(\n",
      "/Users/liantseng/Desktop/udemy/venv/lib/python3.13/site-packages/backtesting/backtesting.py:954: UserWarning: time=2790: Broker canceled the relative-sized order due to insufficient margin.\n",
      "  warnings.warn(\n",
      "/Users/liantseng/Desktop/udemy/venv/lib/python3.13/site-packages/backtesting/backtesting.py:954: UserWarning: time=2877: Broker canceled the relative-sized order due to insufficient margin.\n",
      "  warnings.warn(\n",
      "/Users/liantseng/Desktop/udemy/venv/lib/python3.13/site-packages/backtesting/backtesting.py:954: UserWarning: time=2910: Broker canceled the relative-sized order due to insufficient margin.\n",
      "  warnings.warn(\n",
      "/Users/liantseng/Desktop/udemy/venv/lib/python3.13/site-packages/backtesting/backtesting.py:954: UserWarning: time=2958: Broker canceled the relative-sized order due to insufficient margin.\n",
      "  warnings.warn(\n",
      "/Users/liantseng/Desktop/udemy/venv/lib/python3.13/site-packages/backtesting/backtesting.py:954: UserWarning: time=2960: Broker canceled the relative-sized order due to insufficient margin.\n",
      "  warnings.warn(\n",
      "/Users/liantseng/Desktop/udemy/venv/lib/python3.13/site-packages/backtesting/backtesting.py:954: UserWarning: time=2971: Broker canceled the relative-sized order due to insufficient margin.\n",
      "  warnings.warn(\n",
      "/Users/liantseng/Desktop/udemy/venv/lib/python3.13/site-packages/backtesting/backtesting.py:954: UserWarning: time=2982: Broker canceled the relative-sized order due to insufficient margin.\n",
      "  warnings.warn(\n",
      "/Users/liantseng/Desktop/udemy/venv/lib/python3.13/site-packages/backtesting/backtesting.py:954: UserWarning: time=3025: Broker canceled the relative-sized order due to insufficient margin.\n",
      "  warnings.warn(\n",
      "/Users/liantseng/Desktop/udemy/venv/lib/python3.13/site-packages/backtesting/backtesting.py:954: UserWarning: time=2763: Broker canceled the relative-sized order due to insufficient margin.\n",
      "  warnings.warn(\n",
      "/Users/liantseng/Desktop/udemy/venv/lib/python3.13/site-packages/backtesting/backtesting.py:954: UserWarning: time=2775: Broker canceled the relative-sized order due to insufficient margin.\n",
      "  warnings.warn(\n",
      "/Users/liantseng/Desktop/udemy/venv/lib/python3.13/site-packages/backtesting/backtesting.py:954: UserWarning: time=2777: Broker canceled the relative-sized order due to insufficient margin.\n",
      "  warnings.warn(\n",
      "/Users/liantseng/Desktop/udemy/venv/lib/python3.13/site-packages/backtesting/backtesting.py:954: UserWarning: time=2792: Broker canceled the relative-sized order due to insufficient margin.\n",
      "  warnings.warn(\n",
      "/Users/liantseng/Desktop/udemy/venv/lib/python3.13/site-packages/backtesting/backtesting.py:954: UserWarning: time=2882: Broker canceled the relative-sized order due to insufficient margin.\n",
      "  warnings.warn(\n",
      "/Users/liantseng/Desktop/udemy/venv/lib/python3.13/site-packages/backtesting/backtesting.py:954: UserWarning: time=2914: Broker canceled the relative-sized order due to insufficient margin.\n",
      "  warnings.warn(\n",
      "/Users/liantseng/Desktop/udemy/venv/lib/python3.13/site-packages/backtesting/backtesting.py:954: UserWarning: time=2963: Broker canceled the relative-sized order due to insufficient margin.\n",
      "  warnings.warn(\n",
      "/Users/liantseng/Desktop/udemy/venv/lib/python3.13/site-packages/backtesting/backtesting.py:954: UserWarning: time=2965: Broker canceled the relative-sized order due to insufficient margin.\n",
      "  warnings.warn(\n",
      "/Users/liantseng/Desktop/udemy/venv/lib/python3.13/site-packages/backtesting/backtesting.py:954: UserWarning: time=2976: Broker canceled the relative-sized order due to insufficient margin.\n",
      "  warnings.warn(\n",
      "/Users/liantseng/Desktop/udemy/venv/lib/python3.13/site-packages/backtesting/backtesting.py:954: UserWarning: time=2985: Broker canceled the relative-sized order due to insufficient margin.\n",
      "  warnings.warn(\n",
      "/Users/liantseng/Desktop/udemy/venv/lib/python3.13/site-packages/backtesting/backtesting.py:954: UserWarning: time=3030: Broker canceled the relative-sized order due to insufficient margin.\n",
      "  warnings.warn(\n",
      "/Users/liantseng/Desktop/udemy/venv/lib/python3.13/site-packages/backtesting/backtesting.py:954: UserWarning: time=3031: Broker canceled the relative-sized order due to insufficient margin.\n",
      "  warnings.warn(\n",
      "/Users/liantseng/Desktop/udemy/venv/lib/python3.13/site-packages/backtesting/backtesting.py:954: UserWarning: time=3032: Broker canceled the relative-sized order due to insufficient margin.\n",
      "  warnings.warn(\n",
      "/Users/liantseng/Desktop/udemy/venv/lib/python3.13/site-packages/backtesting/backtesting.py:954: UserWarning: time=3178: Broker canceled the relative-sized order due to insufficient margin.\n",
      "  warnings.warn(\n",
      "/Users/liantseng/Desktop/udemy/venv/lib/python3.13/site-packages/backtesting/backtesting.py:954: UserWarning: time=3210: Broker canceled the relative-sized order due to insufficient margin.\n",
      "  warnings.warn(\n",
      "/Users/liantseng/Desktop/udemy/venv/lib/python3.13/site-packages/backtesting/backtesting.py:954: UserWarning: time=3254: Broker canceled the relative-sized order due to insufficient margin.\n",
      "  warnings.warn(\n",
      "/Users/liantseng/Desktop/udemy/venv/lib/python3.13/site-packages/backtesting/backtesting.py:954: UserWarning: time=3311: Broker canceled the relative-sized order due to insufficient margin.\n",
      "  warnings.warn(\n",
      "/Users/liantseng/Desktop/udemy/venv/lib/python3.13/site-packages/backtesting/backtesting.py:954: UserWarning: time=3026: Broker canceled the relative-sized order due to insufficient margin.\n",
      "  warnings.warn(\n",
      "/Users/liantseng/Desktop/udemy/venv/lib/python3.13/site-packages/backtesting/backtesting.py:954: UserWarning: time=3027: Broker canceled the relative-sized order due to insufficient margin.\n",
      "  warnings.warn(\n",
      "/Users/liantseng/Desktop/udemy/venv/lib/python3.13/site-packages/backtesting/backtesting.py:954: UserWarning: time=3102: Broker canceled the relative-sized order due to insufficient margin.\n",
      "  warnings.warn(\n",
      "/Users/liantseng/Desktop/udemy/venv/lib/python3.13/site-packages/backtesting/backtesting.py:954: UserWarning: time=3107: Broker canceled the relative-sized order due to insufficient margin.\n",
      "  warnings.warn(\n",
      "/Users/liantseng/Desktop/udemy/venv/lib/python3.13/site-packages/backtesting/backtesting.py:954: UserWarning: time=3173: Broker canceled the relative-sized order due to insufficient margin.\n",
      "  warnings.warn(\n",
      "/Users/liantseng/Desktop/udemy/venv/lib/python3.13/site-packages/backtesting/backtesting.py:954: UserWarning: time=3206: Broker canceled the relative-sized order due to insufficient margin.\n",
      "  warnings.warn(\n",
      "/Users/liantseng/Desktop/udemy/venv/lib/python3.13/site-packages/backtesting/backtesting.py:954: UserWarning: time=3249: Broker canceled the relative-sized order due to insufficient margin.\n",
      "  warnings.warn(\n",
      "/Users/liantseng/Desktop/udemy/venv/lib/python3.13/site-packages/backtesting/backtesting.py:954: UserWarning: time=3306: Broker canceled the relative-sized order due to insufficient margin.\n",
      "  warnings.warn(\n",
      "/Users/liantseng/Desktop/udemy/venv/lib/python3.13/site-packages/backtesting/backtesting.py:954: UserWarning: time=3415: Broker canceled the relative-sized order due to insufficient margin.\n",
      "  warnings.warn(\n",
      "/Users/liantseng/Desktop/udemy/venv/lib/python3.13/site-packages/backtesting/backtesting.py:954: UserWarning: time=3419: Broker canceled the relative-sized order due to insufficient margin.\n",
      "  warnings.warn(\n",
      "/Users/liantseng/Desktop/udemy/venv/lib/python3.13/site-packages/backtesting/backtesting.py:954: UserWarning: time=3429: Broker canceled the relative-sized order due to insufficient margin.\n",
      "  warnings.warn(\n",
      "/Users/liantseng/Desktop/udemy/venv/lib/python3.13/site-packages/backtesting/backtesting.py:954: UserWarning: time=3435: Broker canceled the relative-sized order due to insufficient margin.\n",
      "  warnings.warn(\n",
      "/Users/liantseng/Desktop/udemy/venv/lib/python3.13/site-packages/backtesting/backtesting.py:954: UserWarning: time=3448: Broker canceled the relative-sized order due to insufficient margin.\n",
      "  warnings.warn(\n",
      "/Users/liantseng/Desktop/udemy/venv/lib/python3.13/site-packages/backtesting/backtesting.py:954: UserWarning: time=3451: Broker canceled the relative-sized order due to insufficient margin.\n",
      "  warnings.warn(\n",
      "/Users/liantseng/Desktop/udemy/venv/lib/python3.13/site-packages/backtesting/backtesting.py:954: UserWarning: time=3508: Broker canceled the relative-sized order due to insufficient margin.\n",
      "  warnings.warn(\n",
      "/Users/liantseng/Desktop/udemy/venv/lib/python3.13/site-packages/backtesting/backtesting.py:954: UserWarning: time=3520: Broker canceled the relative-sized order due to insufficient margin.\n",
      "  warnings.warn(\n",
      "/Users/liantseng/Desktop/udemy/venv/lib/python3.13/site-packages/backtesting/backtesting.py:954: UserWarning: time=3523: Broker canceled the relative-sized order due to insufficient margin.\n",
      "  warnings.warn(\n",
      "/Users/liantseng/Desktop/udemy/venv/lib/python3.13/site-packages/backtesting/backtesting.py:954: UserWarning: time=3545: Broker canceled the relative-sized order due to insufficient margin.\n",
      "  warnings.warn(\n",
      "/Users/liantseng/Desktop/udemy/venv/lib/python3.13/site-packages/backtesting/backtesting.py:954: UserWarning: time=3579: Broker canceled the relative-sized order due to insufficient margin.\n",
      "  warnings.warn(\n",
      "/Users/liantseng/Desktop/udemy/venv/lib/python3.13/site-packages/backtesting/backtesting.py:954: UserWarning: time=3617: Broker canceled the relative-sized order due to insufficient margin.\n",
      "  warnings.warn(\n",
      "/Users/liantseng/Desktop/udemy/venv/lib/python3.13/site-packages/backtesting/backtesting.py:954: UserWarning: time=3621: Broker canceled the relative-sized order due to insufficient margin.\n",
      "  warnings.warn(\n",
      "/Users/liantseng/Desktop/udemy/venv/lib/python3.13/site-packages/backtesting/backtesting.py:954: UserWarning: time=3624: Broker canceled the relative-sized order due to insufficient margin.\n",
      "  warnings.warn(\n",
      "/Users/liantseng/Desktop/udemy/venv/lib/python3.13/site-packages/backtesting/backtesting.py:954: UserWarning: time=3637: Broker canceled the relative-sized order due to insufficient margin.\n",
      "  warnings.warn(\n",
      "/Users/liantseng/Desktop/udemy/venv/lib/python3.13/site-packages/backtesting/backtesting.py:954: UserWarning: time=3657: Broker canceled the relative-sized order due to insufficient margin.\n",
      "  warnings.warn(\n",
      "/Users/liantseng/Desktop/udemy/venv/lib/python3.13/site-packages/backtesting/backtesting.py:954: UserWarning: time=3420: Broker canceled the relative-sized order due to insufficient margin.\n",
      "  warnings.warn(\n",
      "/Users/liantseng/Desktop/udemy/venv/lib/python3.13/site-packages/backtesting/backtesting.py:954: UserWarning: time=3424: Broker canceled the relative-sized order due to insufficient margin.\n",
      "  warnings.warn(\n",
      "/Users/liantseng/Desktop/udemy/venv/lib/python3.13/site-packages/backtesting/backtesting.py:954: UserWarning: time=3434: Broker canceled the relative-sized order due to insufficient margin.\n",
      "  warnings.warn(\n",
      "/Users/liantseng/Desktop/udemy/venv/lib/python3.13/site-packages/backtesting/backtesting.py:954: UserWarning: time=3438: Broker canceled the relative-sized order due to insufficient margin.\n",
      "  warnings.warn(\n",
      "/Users/liantseng/Desktop/udemy/venv/lib/python3.13/site-packages/backtesting/backtesting.py:954: UserWarning: time=3513: Broker canceled the relative-sized order due to insufficient margin.\n",
      "  warnings.warn(\n",
      "/Users/liantseng/Desktop/udemy/venv/lib/python3.13/site-packages/backtesting/backtesting.py:954: UserWarning: time=3525: Broker canceled the relative-sized order due to insufficient margin.\n",
      "  warnings.warn(\n",
      "/Users/liantseng/Desktop/udemy/venv/lib/python3.13/site-packages/backtesting/backtesting.py:954: UserWarning: time=3527: Broker canceled the relative-sized order due to insufficient margin.\n",
      "  warnings.warn(\n",
      "/Users/liantseng/Desktop/udemy/venv/lib/python3.13/site-packages/backtesting/backtesting.py:954: UserWarning: time=3550: Broker canceled the relative-sized order due to insufficient margin.\n",
      "  warnings.warn(\n",
      "/Users/liantseng/Desktop/udemy/venv/lib/python3.13/site-packages/backtesting/backtesting.py:954: UserWarning: time=3583: Broker canceled the relative-sized order due to insufficient margin.\n",
      "  warnings.warn(\n",
      "/Users/liantseng/Desktop/udemy/venv/lib/python3.13/site-packages/backtesting/backtesting.py:954: UserWarning: time=3622: Broker canceled the relative-sized order due to insufficient margin.\n",
      "  warnings.warn(\n",
      "/Users/liantseng/Desktop/udemy/venv/lib/python3.13/site-packages/backtesting/backtesting.py:954: UserWarning: time=3626: Broker canceled the relative-sized order due to insufficient margin.\n",
      "  warnings.warn(\n",
      "/Users/liantseng/Desktop/udemy/venv/lib/python3.13/site-packages/backtesting/backtesting.py:954: UserWarning: time=3629: Broker canceled the relative-sized order due to insufficient margin.\n",
      "  warnings.warn(\n",
      "/Users/liantseng/Desktop/udemy/venv/lib/python3.13/site-packages/backtesting/backtesting.py:954: UserWarning: time=3642: Broker canceled the relative-sized order due to insufficient margin.\n",
      "  warnings.warn(\n",
      "/Users/liantseng/Desktop/udemy/venv/lib/python3.13/site-packages/backtesting/backtesting.py:954: UserWarning: time=3662: Broker canceled the relative-sized order due to insufficient margin.\n",
      "  warnings.warn(\n",
      "/Users/liantseng/Desktop/udemy/venv/lib/python3.13/site-packages/backtesting/backtesting.py:954: UserWarning: time=3679: Broker canceled the relative-sized order due to insufficient margin.\n",
      "  warnings.warn(\n",
      "/Users/liantseng/Desktop/udemy/venv/lib/python3.13/site-packages/backtesting/backtesting.py:954: UserWarning: time=3685: Broker canceled the relative-sized order due to insufficient margin.\n",
      "  warnings.warn(\n",
      "/Users/liantseng/Desktop/udemy/venv/lib/python3.13/site-packages/backtesting/backtesting.py:954: UserWarning: time=3663: Broker canceled the relative-sized order due to insufficient margin.\n",
      "  warnings.warn(\n",
      "/Users/liantseng/Desktop/udemy/venv/lib/python3.13/site-packages/backtesting/backtesting.py:954: UserWarning: time=3665: Broker canceled the relative-sized order due to insufficient margin.\n",
      "  warnings.warn(\n",
      "/Users/liantseng/Desktop/udemy/venv/lib/python3.13/site-packages/backtesting/backtesting.py:954: UserWarning: time=3674: Broker canceled the relative-sized order due to insufficient margin.\n",
      "  warnings.warn(\n",
      "/Users/liantseng/Desktop/udemy/venv/lib/python3.13/site-packages/backtesting/backtesting.py:954: UserWarning: time=3681: Broker canceled the relative-sized order due to insufficient margin.\n",
      "  warnings.warn(\n",
      "/Users/liantseng/Desktop/udemy/venv/lib/python3.13/site-packages/backtesting/backtesting.py:954: UserWarning: time=3781: Broker canceled the relative-sized order due to insufficient margin.\n",
      "  warnings.warn(\n",
      "/Users/liantseng/Desktop/udemy/venv/lib/python3.13/site-packages/backtesting/backtesting.py:954: UserWarning: time=3795: Broker canceled the relative-sized order due to insufficient margin.\n",
      "  warnings.warn(\n",
      "/Users/liantseng/Desktop/udemy/venv/lib/python3.13/site-packages/backtesting/backtesting.py:954: UserWarning: time=3821: Broker canceled the relative-sized order due to insufficient margin.\n",
      "  warnings.warn(\n",
      "/Users/liantseng/Desktop/udemy/venv/lib/python3.13/site-packages/backtesting/backtesting.py:954: UserWarning: time=3772: Broker canceled the relative-sized order due to insufficient margin.\n",
      "  warnings.warn(\n",
      "/Users/liantseng/Desktop/udemy/venv/lib/python3.13/site-packages/backtesting/backtesting.py:954: UserWarning: time=3773: Broker canceled the relative-sized order due to insufficient margin.\n",
      "  warnings.warn(\n",
      "/Users/liantseng/Desktop/udemy/venv/lib/python3.13/site-packages/backtesting/backtesting.py:954: UserWarning: time=3786: Broker canceled the relative-sized order due to insufficient margin.\n",
      "  warnings.warn(\n",
      "/Users/liantseng/Desktop/udemy/venv/lib/python3.13/site-packages/backtesting/backtesting.py:954: UserWarning: time=3787: Broker canceled the relative-sized order due to insufficient margin.\n",
      "  warnings.warn(\n",
      "/Users/liantseng/Desktop/udemy/venv/lib/python3.13/site-packages/backtesting/backtesting.py:954: UserWarning: time=3789: Broker canceled the relative-sized order due to insufficient margin.\n",
      "  warnings.warn(\n",
      "/Users/liantseng/Desktop/udemy/venv/lib/python3.13/site-packages/backtesting/backtesting.py:954: UserWarning: time=3800: Broker canceled the relative-sized order due to insufficient margin.\n",
      "  warnings.warn(\n",
      "/Users/liantseng/Desktop/udemy/venv/lib/python3.13/site-packages/backtesting/backtesting.py:954: UserWarning: time=3815: Broker canceled the relative-sized order due to insufficient margin.\n",
      "  warnings.warn(\n",
      "/Users/liantseng/Desktop/udemy/venv/lib/python3.13/site-packages/backtesting/backtesting.py:954: UserWarning: time=3818: Broker canceled the relative-sized order due to insufficient margin.\n",
      "  warnings.warn(\n",
      "/Users/liantseng/Desktop/udemy/venv/lib/python3.13/site-packages/backtesting/backtesting.py:954: UserWarning: time=3825: Broker canceled the relative-sized order due to insufficient margin.\n",
      "  warnings.warn(\n",
      "/Users/liantseng/Desktop/udemy/venv/lib/python3.13/site-packages/backtesting/backtesting.py:954: UserWarning: time=3878: Broker canceled the relative-sized order due to insufficient margin.\n",
      "  warnings.warn(\n",
      "/Users/liantseng/Desktop/udemy/venv/lib/python3.13/site-packages/backtesting/backtesting.py:954: UserWarning: time=3873: Broker canceled the relative-sized order due to insufficient margin.\n",
      "  warnings.warn(\n",
      "/Users/liantseng/Desktop/udemy/venv/lib/python3.13/site-packages/backtesting/_stats.py:155: RuntimeWarning: divide by zero encountered in log\n",
      "  equity_log_returns = np.log(equity[1:] / equity[:-1])\n",
      "/Users/liantseng/Desktop/udemy/venv/lib/python3.13/site-packages/backtesting/_stats.py:155: RuntimeWarning: divide by zero encountered in log\n",
      "  equity_log_returns = np.log(equity[1:] / equity[:-1])\n"
     ]
    },
    {
     "data": {
      "application/vnd.jupyter.widget-view+json": {
       "model_id": "b98a7099df8844e796b0438a7dfb0603",
       "version_major": 2,
       "version_minor": 0
      },
      "text/plain": [
       "Backtest.run:   0%|          | 0/3853 [00:00<?, ?bar/s]"
      ]
     },
     "metadata": {},
     "output_type": "display_data"
    },
    {
     "name": "stderr",
     "output_type": "stream",
     "text": [
      "/Users/liantseng/Desktop/udemy/venv/lib/python3.13/site-packages/backtesting/backtesting.py:954: UserWarning: time=2235: Broker canceled the relative-sized order due to insufficient margin.\n",
      "  warnings.warn(\n",
      "/Users/liantseng/Desktop/udemy/venv/lib/python3.13/site-packages/backtesting/backtesting.py:954: UserWarning: time=2425: Broker canceled the relative-sized order due to insufficient margin.\n",
      "  warnings.warn(\n",
      "/Users/liantseng/Desktop/udemy/venv/lib/python3.13/site-packages/backtesting/backtesting.py:954: UserWarning: time=2436: Broker canceled the relative-sized order due to insufficient margin.\n",
      "  warnings.warn(\n",
      "/Users/liantseng/Desktop/udemy/venv/lib/python3.13/site-packages/backtesting/backtesting.py:954: UserWarning: time=2441: Broker canceled the relative-sized order due to insufficient margin.\n",
      "  warnings.warn(\n",
      "/Users/liantseng/Desktop/udemy/venv/lib/python3.13/site-packages/backtesting/backtesting.py:954: UserWarning: time=2512: Broker canceled the relative-sized order due to insufficient margin.\n",
      "  warnings.warn(\n",
      "/Users/liantseng/Desktop/udemy/venv/lib/python3.13/site-packages/backtesting/backtesting.py:954: UserWarning: time=2514: Broker canceled the relative-sized order due to insufficient margin.\n",
      "  warnings.warn(\n",
      "/Users/liantseng/Desktop/udemy/venv/lib/python3.13/site-packages/backtesting/backtesting.py:954: UserWarning: time=2525: Broker canceled the relative-sized order due to insufficient margin.\n",
      "  warnings.warn(\n",
      "/Users/liantseng/Desktop/udemy/venv/lib/python3.13/site-packages/backtesting/backtesting.py:954: UserWarning: time=2643: Broker canceled the relative-sized order due to insufficient margin.\n",
      "  warnings.warn(\n",
      "/Users/liantseng/Desktop/udemy/venv/lib/python3.13/site-packages/backtesting/backtesting.py:954: UserWarning: time=2740: Broker canceled the relative-sized order due to insufficient margin.\n",
      "  warnings.warn(\n",
      "/Users/liantseng/Desktop/udemy/venv/lib/python3.13/site-packages/backtesting/backtesting.py:954: UserWarning: time=2757: Broker canceled the relative-sized order due to insufficient margin.\n",
      "  warnings.warn(\n",
      "/Users/liantseng/Desktop/udemy/venv/lib/python3.13/site-packages/backtesting/backtesting.py:954: UserWarning: time=2769: Broker canceled the relative-sized order due to insufficient margin.\n",
      "  warnings.warn(\n",
      "/Users/liantseng/Desktop/udemy/venv/lib/python3.13/site-packages/backtesting/backtesting.py:954: UserWarning: time=2780: Broker canceled the relative-sized order due to insufficient margin.\n",
      "  warnings.warn(\n",
      "/Users/liantseng/Desktop/udemy/venv/lib/python3.13/site-packages/backtesting/backtesting.py:954: UserWarning: time=2783: Broker canceled the relative-sized order due to insufficient margin.\n",
      "  warnings.warn(\n",
      "/Users/liantseng/Desktop/udemy/venv/lib/python3.13/site-packages/backtesting/backtesting.py:954: UserWarning: time=2796: Broker canceled the relative-sized order due to insufficient margin.\n",
      "  warnings.warn(\n",
      "/Users/liantseng/Desktop/udemy/venv/lib/python3.13/site-packages/backtesting/backtesting.py:954: UserWarning: time=2886: Broker canceled the relative-sized order due to insufficient margin.\n",
      "  warnings.warn(\n",
      "/Users/liantseng/Desktop/udemy/venv/lib/python3.13/site-packages/backtesting/backtesting.py:954: UserWarning: time=2919: Broker canceled the relative-sized order due to insufficient margin.\n",
      "  warnings.warn(\n",
      "/Users/liantseng/Desktop/udemy/venv/lib/python3.13/site-packages/backtesting/backtesting.py:954: UserWarning: time=2967: Broker canceled the relative-sized order due to insufficient margin.\n",
      "  warnings.warn(\n",
      "/Users/liantseng/Desktop/udemy/venv/lib/python3.13/site-packages/backtesting/backtesting.py:954: UserWarning: time=2971: Broker canceled the relative-sized order due to insufficient margin.\n",
      "  warnings.warn(\n",
      "/Users/liantseng/Desktop/udemy/venv/lib/python3.13/site-packages/backtesting/backtesting.py:954: UserWarning: time=2982: Broker canceled the relative-sized order due to insufficient margin.\n",
      "  warnings.warn(\n",
      "/Users/liantseng/Desktop/udemy/venv/lib/python3.13/site-packages/backtesting/backtesting.py:954: UserWarning: time=2987: Broker canceled the relative-sized order due to insufficient margin.\n",
      "  warnings.warn(\n",
      "/Users/liantseng/Desktop/udemy/venv/lib/python3.13/site-packages/backtesting/backtesting.py:954: UserWarning: time=3035: Broker canceled the relative-sized order due to insufficient margin.\n",
      "  warnings.warn(\n",
      "/Users/liantseng/Desktop/udemy/venv/lib/python3.13/site-packages/backtesting/backtesting.py:954: UserWarning: time=3036: Broker canceled the relative-sized order due to insufficient margin.\n",
      "  warnings.warn(\n",
      "/Users/liantseng/Desktop/udemy/venv/lib/python3.13/site-packages/backtesting/backtesting.py:954: UserWarning: time=3037: Broker canceled the relative-sized order due to insufficient margin.\n",
      "  warnings.warn(\n",
      "/Users/liantseng/Desktop/udemy/venv/lib/python3.13/site-packages/backtesting/backtesting.py:954: UserWarning: time=3175: Broker canceled the relative-sized order due to insufficient margin.\n",
      "  warnings.warn(\n",
      "/Users/liantseng/Desktop/udemy/venv/lib/python3.13/site-packages/backtesting/backtesting.py:954: UserWarning: time=3176: Broker canceled the relative-sized order due to insufficient margin.\n",
      "  warnings.warn(\n",
      "/Users/liantseng/Desktop/udemy/venv/lib/python3.13/site-packages/backtesting/backtesting.py:954: UserWarning: time=3177: Broker canceled the relative-sized order due to insufficient margin.\n",
      "  warnings.warn(\n",
      "/Users/liantseng/Desktop/udemy/venv/lib/python3.13/site-packages/backtesting/backtesting.py:954: UserWarning: time=3178: Broker canceled the relative-sized order due to insufficient margin.\n",
      "  warnings.warn(\n",
      "/Users/liantseng/Desktop/udemy/venv/lib/python3.13/site-packages/backtesting/backtesting.py:954: UserWarning: time=3183: Broker canceled the relative-sized order due to insufficient margin.\n",
      "  warnings.warn(\n",
      "/Users/liantseng/Desktop/udemy/venv/lib/python3.13/site-packages/backtesting/backtesting.py:954: UserWarning: time=3214: Broker canceled the relative-sized order due to insufficient margin.\n",
      "  warnings.warn(\n",
      "/Users/liantseng/Desktop/udemy/venv/lib/python3.13/site-packages/backtesting/backtesting.py:954: UserWarning: time=3258: Broker canceled the relative-sized order due to insufficient margin.\n",
      "  warnings.warn(\n",
      "/Users/liantseng/Desktop/udemy/venv/lib/python3.13/site-packages/backtesting/backtesting.py:954: UserWarning: time=3316: Broker canceled the relative-sized order due to insufficient margin.\n",
      "  warnings.warn(\n",
      "/Users/liantseng/Desktop/udemy/venv/lib/python3.13/site-packages/backtesting/backtesting.py:954: UserWarning: time=3425: Broker canceled the relative-sized order due to insufficient margin.\n",
      "  warnings.warn(\n",
      "/Users/liantseng/Desktop/udemy/venv/lib/python3.13/site-packages/backtesting/backtesting.py:954: UserWarning: time=3429: Broker canceled the relative-sized order due to insufficient margin.\n",
      "  warnings.warn(\n",
      "/Users/liantseng/Desktop/udemy/venv/lib/python3.13/site-packages/backtesting/backtesting.py:954: UserWarning: time=3517: Broker canceled the relative-sized order due to insufficient margin.\n",
      "  warnings.warn(\n",
      "/Users/liantseng/Desktop/udemy/venv/lib/python3.13/site-packages/backtesting/backtesting.py:954: UserWarning: time=3530: Broker canceled the relative-sized order due to insufficient margin.\n",
      "  warnings.warn(\n",
      "/Users/liantseng/Desktop/udemy/venv/lib/python3.13/site-packages/backtesting/backtesting.py:954: UserWarning: time=3532: Broker canceled the relative-sized order due to insufficient margin.\n",
      "  warnings.warn(\n",
      "/Users/liantseng/Desktop/udemy/venv/lib/python3.13/site-packages/backtesting/backtesting.py:954: UserWarning: time=3555: Broker canceled the relative-sized order due to insufficient margin.\n",
      "  warnings.warn(\n",
      "/Users/liantseng/Desktop/udemy/venv/lib/python3.13/site-packages/backtesting/backtesting.py:954: UserWarning: time=3587: Broker canceled the relative-sized order due to insufficient margin.\n",
      "  warnings.warn(\n",
      "/Users/liantseng/Desktop/udemy/venv/lib/python3.13/site-packages/backtesting/backtesting.py:954: UserWarning: time=3628: Broker canceled the relative-sized order due to insufficient margin.\n",
      "  warnings.warn(\n",
      "/Users/liantseng/Desktop/udemy/venv/lib/python3.13/site-packages/backtesting/backtesting.py:954: UserWarning: time=3631: Broker canceled the relative-sized order due to insufficient margin.\n",
      "  warnings.warn(\n",
      "/Users/liantseng/Desktop/udemy/venv/lib/python3.13/site-packages/backtesting/backtesting.py:954: UserWarning: time=3634: Broker canceled the relative-sized order due to insufficient margin.\n",
      "  warnings.warn(\n",
      "/Users/liantseng/Desktop/udemy/venv/lib/python3.13/site-packages/backtesting/backtesting.py:954: UserWarning: time=3646: Broker canceled the relative-sized order due to insufficient margin.\n",
      "  warnings.warn(\n",
      "/Users/liantseng/Desktop/udemy/venv/lib/python3.13/site-packages/backtesting/backtesting.py:954: UserWarning: time=3666: Broker canceled the relative-sized order due to insufficient margin.\n",
      "  warnings.warn(\n",
      "/Users/liantseng/Desktop/udemy/venv/lib/python3.13/site-packages/backtesting/backtesting.py:954: UserWarning: time=3685: Broker canceled the relative-sized order due to insufficient margin.\n",
      "  warnings.warn(\n",
      "/Users/liantseng/Desktop/udemy/venv/lib/python3.13/site-packages/backtesting/backtesting.py:954: UserWarning: time=3690: Broker canceled the relative-sized order due to insufficient margin.\n",
      "  warnings.warn(\n",
      "/Users/liantseng/Desktop/udemy/venv/lib/python3.13/site-packages/backtesting/backtesting.py:954: UserWarning: time=3791: Broker canceled the relative-sized order due to insufficient margin.\n",
      "  warnings.warn(\n",
      "/Users/liantseng/Desktop/udemy/venv/lib/python3.13/site-packages/backtesting/backtesting.py:954: UserWarning: time=3792: Broker canceled the relative-sized order due to insufficient margin.\n",
      "  warnings.warn(\n",
      "/Users/liantseng/Desktop/udemy/venv/lib/python3.13/site-packages/backtesting/backtesting.py:954: UserWarning: time=3795: Broker canceled the relative-sized order due to insufficient margin.\n",
      "  warnings.warn(\n",
      "/Users/liantseng/Desktop/udemy/venv/lib/python3.13/site-packages/backtesting/backtesting.py:954: UserWarning: time=3805: Broker canceled the relative-sized order due to insufficient margin.\n",
      "  warnings.warn(\n",
      "/Users/liantseng/Desktop/udemy/venv/lib/python3.13/site-packages/backtesting/backtesting.py:954: UserWarning: time=3820: Broker canceled the relative-sized order due to insufficient margin.\n",
      "  warnings.warn(\n",
      "/Users/liantseng/Desktop/udemy/venv/lib/python3.13/site-packages/backtesting/backtesting.py:954: UserWarning: time=3823: Broker canceled the relative-sized order due to insufficient margin.\n",
      "  warnings.warn(\n",
      "/Users/liantseng/Desktop/udemy/venv/lib/python3.13/site-packages/backtesting/backtesting.py:954: UserWarning: time=3829: Broker canceled the relative-sized order due to insufficient margin.\n",
      "  warnings.warn(\n",
      "/Users/liantseng/Desktop/udemy/venv/lib/python3.13/site-packages/backtesting/backtesting.py:954: UserWarning: time=3883: Broker canceled the relative-sized order due to insufficient margin.\n",
      "  warnings.warn(\n"
     ]
    },
    {
     "data": {
      "application/vnd.jupyter.widget-view+json": {
       "model_id": "882bba54c1e045d19ff937cd3d564da6",
       "version_major": 2,
       "version_minor": 0
      },
      "text/plain": [
       "Backtest.run:   0%|          | 0/3878 [00:00<?, ?bar/s]"
      ]
     },
     "metadata": {},
     "output_type": "display_data"
    },
    {
     "data": {
      "application/vnd.jupyter.widget-view+json": {
       "model_id": "92cd2db45fa94c819569e3bfa99daeed",
       "version_major": 2,
       "version_minor": 0
      },
      "text/plain": [
       "Backtest.run:   0%|          | 0/3858 [00:00<?, ?bar/s]"
      ]
     },
     "metadata": {},
     "output_type": "display_data"
    },
    {
     "data": {
      "application/vnd.jupyter.widget-view+json": {
       "model_id": "54a9512a2ed140f2a6b25b0cdf6d3d90",
       "version_major": 2,
       "version_minor": 0
      },
      "text/plain": [
       "Backtest.run:   0%|          | 0/3863 [00:00<?, ?bar/s]"
      ]
     },
     "metadata": {},
     "output_type": "display_data"
    },
    {
     "data": {
      "application/vnd.jupyter.widget-view+json": {
       "model_id": "66c41221fff6436aa757155228b3e4b5",
       "version_major": 2,
       "version_minor": 0
      },
      "text/plain": [
       "Backtest.run:   0%|          | 0/3873 [00:00<?, ?bar/s]"
      ]
     },
     "metadata": {},
     "output_type": "display_data"
    },
    {
     "data": {
      "application/vnd.jupyter.widget-view+json": {
       "model_id": "f7181f5d685a44ffa6187a8d51fb323f",
       "version_major": 2,
       "version_minor": 0
      },
      "text/plain": [
       "Backtest.run:   0%|          | 0/3868 [00:00<?, ?bar/s]"
      ]
     },
     "metadata": {},
     "output_type": "display_data"
    },
    {
     "data": {
      "application/vnd.jupyter.widget-view+json": {
       "model_id": "3ec163ba49ac4135b694bf8e6a52b2c2",
       "version_major": 2,
       "version_minor": 0
      },
      "text/plain": [
       "Backtest.run:   0%|          | 0/3848 [00:00<?, ?bar/s]"
      ]
     },
     "metadata": {},
     "output_type": "display_data"
    },
    {
     "data": {
      "application/vnd.jupyter.widget-view+json": {
       "model_id": "5c4adc31b847452082ed8cb707728e5d",
       "version_major": 2,
       "version_minor": 0
      },
      "text/plain": [
       "Backtest.run:   0%|          | 0/3843 [00:00<?, ?bar/s]"
      ]
     },
     "metadata": {},
     "output_type": "display_data"
    },
    {
     "data": {
      "application/vnd.jupyter.widget-view+json": {
       "model_id": "9742a990dac24219a19136bdda6a23c6",
       "version_major": 2,
       "version_minor": 0
      },
      "text/plain": [
       "Backtest.run:   0%|          | 0/3838 [00:00<?, ?bar/s]"
      ]
     },
     "metadata": {},
     "output_type": "display_data"
    },
    {
     "data": {
      "application/vnd.jupyter.widget-view+json": {
       "model_id": "95cdd0c9c1f147f59d2f8b9048bda06f",
       "version_major": 2,
       "version_minor": 0
      },
      "text/plain": [
       "Backtest.run:   0%|          | 0/3833 [00:00<?, ?bar/s]"
      ]
     },
     "metadata": {},
     "output_type": "display_data"
    },
    {
     "data": {
      "application/vnd.jupyter.widget-view+json": {
       "model_id": "be2f43f0a4654b28b3b3aefe0ebd617d",
       "version_major": 2,
       "version_minor": 0
      },
      "text/plain": [
       "Backtest.run:   0%|          | 0/3828 [00:00<?, ?bar/s]"
      ]
     },
     "metadata": {},
     "output_type": "display_data"
    },
    {
     "data": {
      "application/vnd.jupyter.widget-view+json": {
       "model_id": "d02522125cdb4909965522be20f7bf07",
       "version_major": 2,
       "version_minor": 0
      },
      "text/plain": [
       "Backtest.run:   0%|          | 0/3878 [00:00<?, ?bar/s]"
      ]
     },
     "metadata": {},
     "output_type": "display_data"
    },
    {
     "name": "stdout",
     "output_type": "stream",
     "text": [
      "Best result:  33057.37990493774\n",
      "Parameters for best result:  SmaCross(n1=10,n2=35)\n"
     ]
    }
   ],
   "source": [
    "# Define a range of values to test for each parameter\n",
    "param_grid = {'n1': range(5, 60, 5), 'n2': range(10, 90, 5)}\n",
    "# Run the optimization\n",
    "res = bt.optimize(**param_grid)\n",
    "\n",
    "# Print the best results and the parameters that lead to these results\n",
    "print(\"Best result: \", res['Return [%]'])\n",
    "print(\"Parameters for best result: \", res['_strategy'])"
   ]
  },
  {
   "cell_type": "code",
   "execution_count": 6,
   "metadata": {},
   "outputs": [
    {
     "data": {
      "text/plain": [
       "Start                     2014-09-17 00:00:00\n",
       "End                       2025-06-03 00:00:00\n",
       "Duration                   3912 days 00:00:00\n",
       "Exposure Time [%]                    97.87887\n",
       "Equity Final [$]                3315737.99049\n",
       "Equity Peak [$]                 3493824.27174\n",
       "Return [%]                         33057.3799\n",
       "Buy & Hold Return [%]             27308.90377\n",
       "Return (Ann.) [%]                    71.83702\n",
       "Volatility (Ann.) [%]               115.84871\n",
       "CAGR [%]                              71.8608\n",
       "Sharpe Ratio                          0.62009\n",
       "Sortino Ratio                         1.78817\n",
       "Calmar Ratio                          1.31877\n",
       "Alpha [%]                         30033.88916\n",
       "Beta                                  0.11071\n",
       "Max. Drawdown [%]                   -54.47261\n",
       "Avg. Drawdown [%]                   -10.57834\n",
       "Max. Drawdown Duration      962 days 00:00:00\n",
       "Avg. Drawdown Duration       46 days 00:00:00\n",
       "# Trades                                  115\n",
       "Win Rate [%]                         45.21739\n",
       "Best Trade [%]                      226.71894\n",
       "Worst Trade [%]                     -24.92163\n",
       "Avg. Trade [%]                        5.10502\n",
       "Max. Trade Duration         131 days 00:00:00\n",
       "Avg. Trade Duration          34 days 00:00:00\n",
       "Profit Factor                         2.95066\n",
       "Expectancy [%]                        8.76384\n",
       "SQN                                   1.21876\n",
       "Kelly Criterion                       0.17392\n",
       "_strategy                 SmaCross(n1=10,n...\n",
       "_equity_curve                             ...\n",
       "_trades                        Size  Entry...\n",
       "dtype: object"
      ]
     },
     "execution_count": 6,
     "metadata": {},
     "output_type": "execute_result"
    }
   ],
   "source": [
    "res"
   ]
  },
  {
   "cell_type": "code",
   "execution_count": 7,
   "metadata": {},
   "outputs": [
    {
     "data": {
      "text/html": [
       "<div>\n",
       "<style scoped>\n",
       "    .dataframe tbody tr th:only-of-type {\n",
       "        vertical-align: middle;\n",
       "    }\n",
       "\n",
       "    .dataframe tbody tr th {\n",
       "        vertical-align: top;\n",
       "    }\n",
       "\n",
       "    .dataframe thead th {\n",
       "        text-align: right;\n",
       "    }\n",
       "</style>\n",
       "<table border=\"1\" class=\"dataframe\">\n",
       "  <thead>\n",
       "    <tr style=\"text-align: right;\">\n",
       "      <th></th>\n",
       "      <th>Equity</th>\n",
       "      <th>DrawdownPct</th>\n",
       "      <th>DrawdownDuration</th>\n",
       "    </tr>\n",
       "  </thead>\n",
       "  <tbody>\n",
       "    <tr>\n",
       "      <th>2014-09-17</th>\n",
       "      <td>1.000000e+04</td>\n",
       "      <td>0.000000</td>\n",
       "      <td>NaT</td>\n",
       "    </tr>\n",
       "    <tr>\n",
       "      <th>2014-09-18</th>\n",
       "      <td>1.000000e+04</td>\n",
       "      <td>0.000000</td>\n",
       "      <td>NaT</td>\n",
       "    </tr>\n",
       "    <tr>\n",
       "      <th>2014-09-19</th>\n",
       "      <td>1.000000e+04</td>\n",
       "      <td>0.000000</td>\n",
       "      <td>NaT</td>\n",
       "    </tr>\n",
       "    <tr>\n",
       "      <th>2014-09-20</th>\n",
       "      <td>1.000000e+04</td>\n",
       "      <td>0.000000</td>\n",
       "      <td>NaT</td>\n",
       "    </tr>\n",
       "    <tr>\n",
       "      <th>2014-09-21</th>\n",
       "      <td>1.000000e+04</td>\n",
       "      <td>0.000000</td>\n",
       "      <td>NaT</td>\n",
       "    </tr>\n",
       "    <tr>\n",
       "      <th>...</th>\n",
       "      <td>...</td>\n",
       "      <td>...</td>\n",
       "      <td>...</td>\n",
       "    </tr>\n",
       "    <tr>\n",
       "      <th>2025-05-30</th>\n",
       "      <td>3.255908e+06</td>\n",
       "      <td>0.068096</td>\n",
       "      <td>NaT</td>\n",
       "    </tr>\n",
       "    <tr>\n",
       "      <th>2025-05-31</th>\n",
       "      <td>3.275733e+06</td>\n",
       "      <td>0.062422</td>\n",
       "      <td>NaT</td>\n",
       "    </tr>\n",
       "    <tr>\n",
       "      <th>2025-06-01</th>\n",
       "      <td>3.307168e+06</td>\n",
       "      <td>0.053425</td>\n",
       "      <td>NaT</td>\n",
       "    </tr>\n",
       "    <tr>\n",
       "      <th>2025-06-02</th>\n",
       "      <td>3.314280e+06</td>\n",
       "      <td>0.051389</td>\n",
       "      <td>NaT</td>\n",
       "    </tr>\n",
       "    <tr>\n",
       "      <th>2025-06-03</th>\n",
       "      <td>3.315738e+06</td>\n",
       "      <td>0.050972</td>\n",
       "      <td>12 days</td>\n",
       "    </tr>\n",
       "  </tbody>\n",
       "</table>\n",
       "<p>3913 rows × 3 columns</p>\n",
       "</div>"
      ],
      "text/plain": [
       "                  Equity  DrawdownPct DrawdownDuration\n",
       "2014-09-17  1.000000e+04     0.000000              NaT\n",
       "2014-09-18  1.000000e+04     0.000000              NaT\n",
       "2014-09-19  1.000000e+04     0.000000              NaT\n",
       "2014-09-20  1.000000e+04     0.000000              NaT\n",
       "2014-09-21  1.000000e+04     0.000000              NaT\n",
       "...                  ...          ...              ...\n",
       "2025-05-30  3.255908e+06     0.068096              NaT\n",
       "2025-05-31  3.275733e+06     0.062422              NaT\n",
       "2025-06-01  3.307168e+06     0.053425              NaT\n",
       "2025-06-02  3.314280e+06     0.051389              NaT\n",
       "2025-06-03  3.315738e+06     0.050972          12 days\n",
       "\n",
       "[3913 rows x 3 columns]"
      ]
     },
     "execution_count": 7,
     "metadata": {},
     "output_type": "execute_result"
    }
   ],
   "source": [
    "res['_equity_curve']"
   ]
  },
  {
   "cell_type": "code",
   "execution_count": null,
   "metadata": {},
   "outputs": [],
   "source": []
  }
 ],
 "metadata": {
  "kernelspec": {
   "display_name": "venv",
   "language": "python",
   "name": "python3"
  },
  "language_info": {
   "codemirror_mode": {
    "name": "ipython",
    "version": 3
   },
   "file_extension": ".py",
   "mimetype": "text/x-python",
   "name": "python",
   "nbconvert_exporter": "python",
   "pygments_lexer": "ipython3",
   "version": "3.13.3"
  }
 },
 "nbformat": 4,
 "nbformat_minor": 2
}
